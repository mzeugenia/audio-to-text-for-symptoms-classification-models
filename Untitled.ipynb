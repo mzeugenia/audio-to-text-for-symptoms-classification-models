{
 "cells": [
  {
   "cell_type": "code",
   "execution_count": 2,
   "id": "0a69af63",
   "metadata": {},
   "outputs": [
    {
     "name": "stderr",
     "output_type": "stream",
     "text": [
      "Processing:   1%|▏                          | 38/5895 [00:39<1:26:19,  1.13it/s]"
     ]
    },
    {
     "name": "stdout",
     "output_type": "stream",
     "text": [
      "Error processing audio file: 1249120_43825820_74870170.wav - recognition request failed: Bad Request\n"
     ]
    },
    {
     "name": "stderr",
     "output_type": "stream",
     "text": [
      "Processing:   2%|▍                         | 113/5895 [01:47<1:18:24,  1.23it/s]"
     ]
    },
    {
     "name": "stdout",
     "output_type": "stream",
     "text": [
      "Error processing audio file: 1249120_27392644_61488621.wav - recognition request failed: Bad Request\n"
     ]
    },
    {
     "name": "stderr",
     "output_type": "stream",
     "text": [
      "Processing:   3%|▋                         | 163/5895 [02:42<1:07:18,  1.42it/s]"
     ]
    },
    {
     "name": "stdout",
     "output_type": "stream",
     "text": [
      "Error processing audio file: 1249120_43825820_27367589.wav - recognition request failed: Bad Request\n"
     ]
    },
    {
     "name": "stderr",
     "output_type": "stream",
     "text": [
      "Processing:   3%|▊                         | 186/5895 [03:01<1:13:59,  1.29it/s]"
     ]
    },
    {
     "name": "stdout",
     "output_type": "stream",
     "text": [
      "Error processing audio file: 1249120_43825820_36711619.wav - recognition request failed: Bad Request\n"
     ]
    },
    {
     "name": "stderr",
     "output_type": "stream",
     "text": [
      "Processing:   4%|▉                         | 212/5895 [03:31<1:25:17,  1.11it/s]"
     ]
    },
    {
     "name": "stdout",
     "output_type": "stream",
     "text": [
      "Error processing audio file: 1249120_27392644_22855056.wav - recognition request failed: Bad Request\n"
     ]
    },
    {
     "name": "stderr",
     "output_type": "stream",
     "text": [
      "Processing:   4%|▉                         | 219/5895 [03:39<1:15:54,  1.25it/s]"
     ]
    },
    {
     "name": "stdout",
     "output_type": "stream",
     "text": [
      "Error processing audio file: 1249120_15965551_85311616.wav - recognition request failed: Bad Request\n"
     ]
    },
    {
     "name": "stderr",
     "output_type": "stream",
     "text": [
      "Processing:   4%|█▏                        | 258/5895 [04:14<1:06:08,  1.42it/s]"
     ]
    },
    {
     "name": "stdout",
     "output_type": "stream",
     "text": [
      "Error processing audio file: 1249120_43825820_101160618.wav - recognition request failed: Bad Request\n"
     ]
    },
    {
     "name": "stderr",
     "output_type": "stream",
     "text": [
      "Processing:   4%|█▏                        | 264/5895 [04:19<1:07:42,  1.39it/s]"
     ]
    },
    {
     "name": "stdout",
     "output_type": "stream",
     "text": [
      "Error processing audio file: 1249120_27392644_51466522.wav - recognition request failed: Bad Request\n"
     ]
    },
    {
     "name": "stderr",
     "output_type": "stream",
     "text": [
      "Processing:   5%|█▎                        | 292/5895 [04:47<1:22:47,  1.13it/s]"
     ]
    },
    {
     "name": "stdout",
     "output_type": "stream",
     "text": [
      "Error processing audio file: 1249120_27392644_71841210.wav - recognition request failed: Bad Request\n"
     ]
    },
    {
     "name": "stderr",
     "output_type": "stream",
     "text": [
      "Processing:   6%|█▍                        | 340/5895 [05:33<1:13:39,  1.26it/s]"
     ]
    },
    {
     "name": "stdout",
     "output_type": "stream",
     "text": [
      "Error processing audio file: 1249120_27392644_90121653.wav - recognition request failed: Bad Request\n"
     ]
    },
    {
     "name": "stderr",
     "output_type": "stream",
     "text": [
      "Processing:   7%|█▊                        | 419/5895 [06:50<1:11:10,  1.28it/s]"
     ]
    },
    {
     "name": "stdout",
     "output_type": "stream",
     "text": [
      "Error processing audio file: 1249120_27392644_108937880.wav - recognition request failed: Bad Request\n"
     ]
    },
    {
     "name": "stderr",
     "output_type": "stream",
     "text": [
      "Processing:   8%|██▏                         | 451/5895 [07:17<58:21,  1.55it/s]"
     ]
    },
    {
     "name": "stdout",
     "output_type": "stream",
     "text": [
      "Error processing audio file: 1249120_43825820_17053909.wav - recognition request failed: Bad Request\n"
     ]
    },
    {
     "name": "stderr",
     "output_type": "stream",
     "text": [
      "Processing:   8%|██                        | 456/5895 [07:21<1:00:27,  1.50it/s]"
     ]
    },
    {
     "name": "stdout",
     "output_type": "stream",
     "text": [
      "Error processing audio file: 1249120_43825820_100017156.wav - recognition request failed: Bad Request\n"
     ]
    },
    {
     "name": "stderr",
     "output_type": "stream",
     "text": [
      "Processing:   8%|██▏                       | 494/5895 [08:02<1:04:27,  1.40it/s]"
     ]
    },
    {
     "name": "stdout",
     "output_type": "stream",
     "text": [
      "Error processing audio file: 1249120_27392644_24485200.wav - recognition request failed: Bad Request\n"
     ]
    },
    {
     "name": "stderr",
     "output_type": "stream",
     "text": [
      "Processing:   9%|██▎                       | 530/5895 [08:35<1:26:15,  1.04it/s]"
     ]
    },
    {
     "name": "stdout",
     "output_type": "stream",
     "text": [
      "Error processing audio file: 1249120_43825820_14018337.wav - recognition request failed: Bad Request\n"
     ]
    },
    {
     "name": "stderr",
     "output_type": "stream",
     "text": [
      "Processing:   9%|██▍                       | 553/5895 [08:56<1:06:29,  1.34it/s]"
     ]
    },
    {
     "name": "stdout",
     "output_type": "stream",
     "text": [
      "Error processing audio file: 1249120_27392644_90841863.wav - recognition request failed: Bad Request\n"
     ]
    },
    {
     "name": "stderr",
     "output_type": "stream",
     "text": [
      "Processing:   9%|██▋                         | 555/5895 [08:57<49:35,  1.79it/s]"
     ]
    },
    {
     "name": "stdout",
     "output_type": "stream",
     "text": [
      "Error processing audio file: 1249120_43825820_91878667.wav - recognition request failed: Bad Request\n"
     ]
    },
    {
     "name": "stderr",
     "output_type": "stream",
     "text": [
      "Processing:  10%|██▋                         | 573/5895 [09:14<58:58,  1.50it/s]"
     ]
    },
    {
     "name": "stdout",
     "output_type": "stream",
     "text": [
      "Error processing audio file: 1249120_43825820_54489855.wav - recognition request failed: Bad Request\n"
     ]
    },
    {
     "name": "stderr",
     "output_type": "stream",
     "text": [
      "Processing:  10%|██▌                       | 591/5895 [09:31<1:06:35,  1.33it/s]"
     ]
    },
    {
     "name": "stdout",
     "output_type": "stream",
     "text": [
      "Error processing audio file: 1249120_27392644_108841687.wav - recognition request failed: Bad Request\n"
     ]
    },
    {
     "name": "stderr",
     "output_type": "stream",
     "text": [
      "Processing:  10%|██▊                         | 595/5895 [09:33<49:02,  1.80it/s]"
     ]
    },
    {
     "name": "stdout",
     "output_type": "stream",
     "text": [
      "Error processing audio file: 1249120_27392644_40583011.wav - recognition request failed: Bad Request\n"
     ]
    },
    {
     "name": "stderr",
     "output_type": "stream",
     "text": [
      "Processing:  11%|███                         | 647/5895 [10:24<44:36,  1.96it/s]"
     ]
    },
    {
     "name": "stdout",
     "output_type": "stream",
     "text": [
      "Error processing audio file: 1249120_15965551_99791985.wav - recognition request failed: Bad Request\n"
     ]
    },
    {
     "name": "stderr",
     "output_type": "stream",
     "text": [
      "Processing:  12%|███                       | 704/5895 [11:26<1:02:15,  1.39it/s]"
     ]
    },
    {
     "name": "stdout",
     "output_type": "stream",
     "text": [
      "Error processing audio file: 1249120_43825820_24821264.wav - recognition request failed: Bad Request\n"
     ]
    },
    {
     "name": "stderr",
     "output_type": "stream",
     "text": [
      "Processing:  12%|███▍                        | 719/5895 [11:37<45:27,  1.90it/s]"
     ]
    },
    {
     "name": "stdout",
     "output_type": "stream",
     "text": [
      "Error processing audio file: 1249120_43825820_16563281.wav - recognition request failed: Bad Request\n"
     ]
    },
    {
     "name": "stderr",
     "output_type": "stream",
     "text": [
      "Processing:  12%|███▏                      | 726/5895 [11:45<2:08:35,  1.49s/it]"
     ]
    },
    {
     "name": "stdout",
     "output_type": "stream",
     "text": [
      "Error processing audio file: 1249120_43825820_92062316.wav - recognition request failed: Bad Request\n"
     ]
    },
    {
     "name": "stderr",
     "output_type": "stream",
     "text": [
      "Processing:  14%|███▌                      | 803/5895 [13:01<1:29:28,  1.05s/it]"
     ]
    },
    {
     "name": "stdout",
     "output_type": "stream",
     "text": [
      "Error processing audio file: 1249120_43825820_71284789.wav - recognition request failed: Bad Request\n"
     ]
    },
    {
     "name": "stderr",
     "output_type": "stream",
     "text": [
      "Processing:  14%|███▋                      | 846/5895 [13:41<1:01:30,  1.37it/s]"
     ]
    },
    {
     "name": "stdout",
     "output_type": "stream",
     "text": [
      "Error processing audio file: 1249120_43825820_17520297.wav - recognition request failed: Bad Request\n"
     ]
    },
    {
     "name": "stderr",
     "output_type": "stream",
     "text": [
      "Processing:  15%|████                        | 857/5895 [13:49<49:18,  1.70it/s]"
     ]
    },
    {
     "name": "stdout",
     "output_type": "stream",
     "text": [
      "Error processing audio file: 1249120_27392644_46688935.wav - recognition request failed: Bad Request\n"
     ]
    },
    {
     "name": "stderr",
     "output_type": "stream",
     "text": [
      "Processing:  15%|███▊                      | 864/5895 [13:55<1:13:50,  1.14it/s]"
     ]
    },
    {
     "name": "stdout",
     "output_type": "stream",
     "text": [
      "Error processing audio file: 1249120_27392644_67274549.wav - recognition request failed: Bad Request\n"
     ]
    },
    {
     "name": "stderr",
     "output_type": "stream",
     "text": [
      "Processing:  15%|████                      | 910/5895 [14:38<1:06:51,  1.24it/s]"
     ]
    },
    {
     "name": "stdout",
     "output_type": "stream",
     "text": [
      "Error processing audio file: 1249120_43825820_32759420.wav - recognition request failed: Bad Request\n"
     ]
    },
    {
     "name": "stderr",
     "output_type": "stream",
     "text": [
      "Processing:  16%|████▍                       | 946/5895 [15:12<54:55,  1.50it/s]"
     ]
    },
    {
     "name": "stdout",
     "output_type": "stream",
     "text": [
      "Error processing audio file: 1249120_27392644_93850585.wav - recognition request failed: Bad Request\n"
     ]
    },
    {
     "name": "stderr",
     "output_type": "stream",
     "text": [
      "Processing:  16%|████▌                       | 952/5895 [15:17<55:50,  1.48it/s]"
     ]
    },
    {
     "name": "stdout",
     "output_type": "stream",
     "text": [
      "Error processing audio file: 1249120_43825820_39428853.wav - recognition request failed: Bad Request\n"
     ]
    },
    {
     "name": "stderr",
     "output_type": "stream",
     "text": [
      "Processing:  17%|████▎                    | 1019/5895 [16:27<1:18:36,  1.03it/s]"
     ]
    },
    {
     "name": "stdout",
     "output_type": "stream",
     "text": [
      "Error processing audio file: 1249120_43825820_108025675.wav - recognition request failed: Bad Request\n"
     ]
    },
    {
     "name": "stderr",
     "output_type": "stream",
     "text": [
      "Processing:  18%|████▍                    | 1036/5895 [16:47<1:15:00,  1.08it/s]"
     ]
    },
    {
     "name": "stdout",
     "output_type": "stream",
     "text": [
      "Error processing audio file: 1249120_43825820_46159261.wav - recognition request failed: Bad Request\n"
     ]
    },
    {
     "name": "stderr",
     "output_type": "stream",
     "text": [
      "Processing:  18%|████▌                    | 1064/5895 [17:14<1:09:44,  1.15it/s]"
     ]
    },
    {
     "name": "stdout",
     "output_type": "stream",
     "text": [
      "Error processing audio file: 1249120_43825820_81980611.wav - recognition request failed: Bad Request\n"
     ]
    },
    {
     "name": "stderr",
     "output_type": "stream",
     "text": [
      "Processing:  18%|████▉                      | 1080/5895 [17:28<50:44,  1.58it/s]"
     ]
    },
    {
     "name": "stdout",
     "output_type": "stream",
     "text": [
      "Error processing audio file: 1249120_27392644_50730593.wav - recognition request failed: Bad Request\n"
     ]
    },
    {
     "name": "stderr",
     "output_type": "stream",
     "text": [
      "Processing:  19%|█████▏                     | 1145/5895 [19:12<59:22,  1.33it/s]"
     ]
    },
    {
     "name": "stdout",
     "output_type": "stream",
     "text": [
      "Error processing audio file: 1249120_15965551_30586097.wav - recognition request failed: Bad Request\n"
     ]
    },
    {
     "name": "stderr",
     "output_type": "stream",
     "text": [
      "Processing:  20%|█████▍                     | 1178/5895 [19:41<41:22,  1.90it/s]"
     ]
    },
    {
     "name": "stdout",
     "output_type": "stream",
     "text": [
      "Error processing audio file: 1249120_43825820_77844964.wav - recognition request failed: Bad Request\n"
     ]
    },
    {
     "name": "stderr",
     "output_type": "stream",
     "text": [
      "Processing:  20%|█████▍                     | 1197/5895 [19:57<47:55,  1.63it/s]"
     ]
    },
    {
     "name": "stdout",
     "output_type": "stream",
     "text": [
      "Error processing audio file: 1249120_43825820_31649758.wav - recognition request failed: Bad Request\n"
     ]
    },
    {
     "name": "stderr",
     "output_type": "stream",
     "text": [
      "Processing:  22%|█████▉                     | 1302/5895 [21:36<52:25,  1.46it/s]"
     ]
    },
    {
     "name": "stdout",
     "output_type": "stream",
     "text": [
      "Error processing audio file: 1249120_27392644_57021502.wav - recognition request failed: Bad Request\n"
     ]
    },
    {
     "name": "stderr",
     "output_type": "stream",
     "text": [
      "Processing:  23%|██████▏                    | 1350/5895 [22:19<39:28,  1.92it/s]"
     ]
    },
    {
     "name": "stdout",
     "output_type": "stream",
     "text": [
      "Error processing audio file: 1249120_43825820_20029602.wav - recognition request failed: Bad Request\n"
     ]
    },
    {
     "name": "stderr",
     "output_type": "stream",
     "text": [
      "Processing:  23%|██████▎                    | 1384/5895 [22:50<48:08,  1.56it/s]"
     ]
    },
    {
     "name": "stdout",
     "output_type": "stream",
     "text": [
      "Error processing audio file: 1249120_43825820_92518529.wav - recognition request failed: Bad Request\n"
     ]
    },
    {
     "name": "stderr",
     "output_type": "stream",
     "text": [
      "Processing:  25%|██████▋                    | 1454/5895 [23:52<49:31,  1.49it/s]"
     ]
    },
    {
     "name": "stdout",
     "output_type": "stream",
     "text": [
      "Error processing audio file: 1249120_27392644_67906647.wav - recognition request failed: Bad Request\n"
     ]
    },
    {
     "name": "stderr",
     "output_type": "stream",
     "text": [
      "Processing:  27%|███████▎                   | 1593/5895 [26:13<56:54,  1.26it/s]"
     ]
    },
    {
     "name": "stdout",
     "output_type": "stream",
     "text": [
      "Error processing audio file: 1249120_15965551_25492795.wav - recognition request failed: Bad Request\n"
     ]
    },
    {
     "name": "stderr",
     "output_type": "stream",
     "text": [
      "Processing:  27%|██████▊                  | 1601/5895 [26:23<1:02:15,  1.15it/s]"
     ]
    },
    {
     "name": "stdout",
     "output_type": "stream",
     "text": [
      "Error processing audio file: 1249120_27392644_36725519.wav - recognition request failed: Bad Request\n"
     ]
    },
    {
     "name": "stderr",
     "output_type": "stream",
     "text": [
      "Processing:  28%|███████▍                   | 1626/5895 [26:47<39:16,  1.81it/s]"
     ]
    },
    {
     "name": "stdout",
     "output_type": "stream",
     "text": [
      "Error processing audio file: 1249120_27392644_12852027.wav - recognition request failed: Bad Request\n"
     ]
    },
    {
     "name": "stderr",
     "output_type": "stream",
     "text": [
      "Processing:  28%|███████▌                   | 1661/5895 [27:29<43:15,  1.63it/s]"
     ]
    },
    {
     "name": "stdout",
     "output_type": "stream",
     "text": [
      "Error processing audio file: 1249120_43825820_71609763.wav - recognition request failed: Bad Request\n"
     ]
    },
    {
     "name": "stderr",
     "output_type": "stream",
     "text": [
      "Processing:  28%|███████                  | 1664/5895 [55:11<2:20:18,  1.99s/it]\n"
     ]
    },
    {
     "ename": "KeyboardInterrupt",
     "evalue": "",
     "output_type": "error",
     "traceback": [
      "\u001b[0;31m---------------------------------------------------------------------------\u001b[0m",
      "\u001b[0;31mKeyboardInterrupt\u001b[0m                         Traceback (most recent call last)",
      "\u001b[0;32m/var/folders/gk/mp0xvl413dq_cb2pj579h7h00000gn/T/ipykernel_7184/1316732987.py\u001b[0m in \u001b[0;36m<module>\u001b[0;34m\u001b[0m\n\u001b[1;32m     25\u001b[0m \u001b[0;34m\u001b[0m\u001b[0m\n\u001b[1;32m     26\u001b[0m         \u001b[0;31m# Convert speech to text\u001b[0m\u001b[0;34m\u001b[0m\u001b[0;34m\u001b[0m\u001b[0m\n\u001b[0;32m---> 27\u001b[0;31m         \u001b[0mtext\u001b[0m \u001b[0;34m=\u001b[0m \u001b[0mr\u001b[0m\u001b[0;34m.\u001b[0m\u001b[0mrecognize_google\u001b[0m\u001b[0;34m(\u001b[0m\u001b[0maudio_data\u001b[0m\u001b[0;34m,\u001b[0m \u001b[0mshow_all\u001b[0m\u001b[0;34m=\u001b[0m\u001b[0;32mTrue\u001b[0m\u001b[0;34m)\u001b[0m\u001b[0;34m\u001b[0m\u001b[0;34m\u001b[0m\u001b[0m\n\u001b[0m\u001b[1;32m     28\u001b[0m \u001b[0;34m\u001b[0m\u001b[0m\n\u001b[1;32m     29\u001b[0m         \u001b[0;31m# Append text and filename to lists\u001b[0m\u001b[0;34m\u001b[0m\u001b[0;34m\u001b[0m\u001b[0m\n",
      "\u001b[0;32m~/opt/anaconda3/lib/python3.9/site-packages/speech_recognition/__init__.py\u001b[0m in \u001b[0;36mrecognize_google\u001b[0;34m(self, audio_data, key, language, pfilter, show_all, with_confidence)\u001b[0m\n\u001b[1;32m    706\u001b[0m         \u001b[0;31m# obtain audio transcription results\u001b[0m\u001b[0;34m\u001b[0m\u001b[0;34m\u001b[0m\u001b[0m\n\u001b[1;32m    707\u001b[0m         \u001b[0;32mtry\u001b[0m\u001b[0;34m:\u001b[0m\u001b[0;34m\u001b[0m\u001b[0;34m\u001b[0m\u001b[0m\n\u001b[0;32m--> 708\u001b[0;31m             \u001b[0mresponse\u001b[0m \u001b[0;34m=\u001b[0m \u001b[0murlopen\u001b[0m\u001b[0;34m(\u001b[0m\u001b[0mrequest\u001b[0m\u001b[0;34m,\u001b[0m \u001b[0mtimeout\u001b[0m\u001b[0;34m=\u001b[0m\u001b[0mself\u001b[0m\u001b[0;34m.\u001b[0m\u001b[0moperation_timeout\u001b[0m\u001b[0;34m)\u001b[0m\u001b[0;34m\u001b[0m\u001b[0;34m\u001b[0m\u001b[0m\n\u001b[0m\u001b[1;32m    709\u001b[0m         \u001b[0;32mexcept\u001b[0m \u001b[0mHTTPError\u001b[0m \u001b[0;32mas\u001b[0m \u001b[0me\u001b[0m\u001b[0;34m:\u001b[0m\u001b[0;34m\u001b[0m\u001b[0;34m\u001b[0m\u001b[0m\n\u001b[1;32m    710\u001b[0m             \u001b[0;32mraise\u001b[0m \u001b[0mRequestError\u001b[0m\u001b[0;34m(\u001b[0m\u001b[0;34m\"recognition request failed: {}\"\u001b[0m\u001b[0;34m.\u001b[0m\u001b[0mformat\u001b[0m\u001b[0;34m(\u001b[0m\u001b[0me\u001b[0m\u001b[0;34m.\u001b[0m\u001b[0mreason\u001b[0m\u001b[0;34m)\u001b[0m\u001b[0;34m)\u001b[0m\u001b[0;34m\u001b[0m\u001b[0;34m\u001b[0m\u001b[0m\n",
      "\u001b[0;32m~/opt/anaconda3/lib/python3.9/urllib/request.py\u001b[0m in \u001b[0;36murlopen\u001b[0;34m(url, data, timeout, cafile, capath, cadefault, context)\u001b[0m\n\u001b[1;32m    212\u001b[0m     \u001b[0;32melse\u001b[0m\u001b[0;34m:\u001b[0m\u001b[0;34m\u001b[0m\u001b[0;34m\u001b[0m\u001b[0m\n\u001b[1;32m    213\u001b[0m         \u001b[0mopener\u001b[0m \u001b[0;34m=\u001b[0m \u001b[0m_opener\u001b[0m\u001b[0;34m\u001b[0m\u001b[0;34m\u001b[0m\u001b[0m\n\u001b[0;32m--> 214\u001b[0;31m     \u001b[0;32mreturn\u001b[0m \u001b[0mopener\u001b[0m\u001b[0;34m.\u001b[0m\u001b[0mopen\u001b[0m\u001b[0;34m(\u001b[0m\u001b[0murl\u001b[0m\u001b[0;34m,\u001b[0m \u001b[0mdata\u001b[0m\u001b[0;34m,\u001b[0m \u001b[0mtimeout\u001b[0m\u001b[0;34m)\u001b[0m\u001b[0;34m\u001b[0m\u001b[0;34m\u001b[0m\u001b[0m\n\u001b[0m\u001b[1;32m    215\u001b[0m \u001b[0;34m\u001b[0m\u001b[0m\n\u001b[1;32m    216\u001b[0m \u001b[0;32mdef\u001b[0m \u001b[0minstall_opener\u001b[0m\u001b[0;34m(\u001b[0m\u001b[0mopener\u001b[0m\u001b[0;34m)\u001b[0m\u001b[0;34m:\u001b[0m\u001b[0;34m\u001b[0m\u001b[0;34m\u001b[0m\u001b[0m\n",
      "\u001b[0;32m~/opt/anaconda3/lib/python3.9/urllib/request.py\u001b[0m in \u001b[0;36mopen\u001b[0;34m(self, fullurl, data, timeout)\u001b[0m\n\u001b[1;32m    515\u001b[0m \u001b[0;34m\u001b[0m\u001b[0m\n\u001b[1;32m    516\u001b[0m         \u001b[0msys\u001b[0m\u001b[0;34m.\u001b[0m\u001b[0maudit\u001b[0m\u001b[0;34m(\u001b[0m\u001b[0;34m'urllib.Request'\u001b[0m\u001b[0;34m,\u001b[0m \u001b[0mreq\u001b[0m\u001b[0;34m.\u001b[0m\u001b[0mfull_url\u001b[0m\u001b[0;34m,\u001b[0m \u001b[0mreq\u001b[0m\u001b[0;34m.\u001b[0m\u001b[0mdata\u001b[0m\u001b[0;34m,\u001b[0m \u001b[0mreq\u001b[0m\u001b[0;34m.\u001b[0m\u001b[0mheaders\u001b[0m\u001b[0;34m,\u001b[0m \u001b[0mreq\u001b[0m\u001b[0;34m.\u001b[0m\u001b[0mget_method\u001b[0m\u001b[0;34m(\u001b[0m\u001b[0;34m)\u001b[0m\u001b[0;34m)\u001b[0m\u001b[0;34m\u001b[0m\u001b[0;34m\u001b[0m\u001b[0m\n\u001b[0;32m--> 517\u001b[0;31m         \u001b[0mresponse\u001b[0m \u001b[0;34m=\u001b[0m \u001b[0mself\u001b[0m\u001b[0;34m.\u001b[0m\u001b[0m_open\u001b[0m\u001b[0;34m(\u001b[0m\u001b[0mreq\u001b[0m\u001b[0;34m,\u001b[0m \u001b[0mdata\u001b[0m\u001b[0;34m)\u001b[0m\u001b[0;34m\u001b[0m\u001b[0;34m\u001b[0m\u001b[0m\n\u001b[0m\u001b[1;32m    518\u001b[0m \u001b[0;34m\u001b[0m\u001b[0m\n\u001b[1;32m    519\u001b[0m         \u001b[0;31m# post-process response\u001b[0m\u001b[0;34m\u001b[0m\u001b[0;34m\u001b[0m\u001b[0m\n",
      "\u001b[0;32m~/opt/anaconda3/lib/python3.9/urllib/request.py\u001b[0m in \u001b[0;36m_open\u001b[0;34m(self, req, data)\u001b[0m\n\u001b[1;32m    532\u001b[0m \u001b[0;34m\u001b[0m\u001b[0m\n\u001b[1;32m    533\u001b[0m         \u001b[0mprotocol\u001b[0m \u001b[0;34m=\u001b[0m \u001b[0mreq\u001b[0m\u001b[0;34m.\u001b[0m\u001b[0mtype\u001b[0m\u001b[0;34m\u001b[0m\u001b[0;34m\u001b[0m\u001b[0m\n\u001b[0;32m--> 534\u001b[0;31m         result = self._call_chain(self.handle_open, protocol, protocol +\n\u001b[0m\u001b[1;32m    535\u001b[0m                                   '_open', req)\n\u001b[1;32m    536\u001b[0m         \u001b[0;32mif\u001b[0m \u001b[0mresult\u001b[0m\u001b[0;34m:\u001b[0m\u001b[0;34m\u001b[0m\u001b[0;34m\u001b[0m\u001b[0m\n",
      "\u001b[0;32m~/opt/anaconda3/lib/python3.9/urllib/request.py\u001b[0m in \u001b[0;36m_call_chain\u001b[0;34m(self, chain, kind, meth_name, *args)\u001b[0m\n\u001b[1;32m    492\u001b[0m         \u001b[0;32mfor\u001b[0m \u001b[0mhandler\u001b[0m \u001b[0;32min\u001b[0m \u001b[0mhandlers\u001b[0m\u001b[0;34m:\u001b[0m\u001b[0;34m\u001b[0m\u001b[0;34m\u001b[0m\u001b[0m\n\u001b[1;32m    493\u001b[0m             \u001b[0mfunc\u001b[0m \u001b[0;34m=\u001b[0m \u001b[0mgetattr\u001b[0m\u001b[0;34m(\u001b[0m\u001b[0mhandler\u001b[0m\u001b[0;34m,\u001b[0m \u001b[0mmeth_name\u001b[0m\u001b[0;34m)\u001b[0m\u001b[0;34m\u001b[0m\u001b[0;34m\u001b[0m\u001b[0m\n\u001b[0;32m--> 494\u001b[0;31m             \u001b[0mresult\u001b[0m \u001b[0;34m=\u001b[0m \u001b[0mfunc\u001b[0m\u001b[0;34m(\u001b[0m\u001b[0;34m*\u001b[0m\u001b[0margs\u001b[0m\u001b[0;34m)\u001b[0m\u001b[0;34m\u001b[0m\u001b[0;34m\u001b[0m\u001b[0m\n\u001b[0m\u001b[1;32m    495\u001b[0m             \u001b[0;32mif\u001b[0m \u001b[0mresult\u001b[0m \u001b[0;32mis\u001b[0m \u001b[0;32mnot\u001b[0m \u001b[0;32mNone\u001b[0m\u001b[0;34m:\u001b[0m\u001b[0;34m\u001b[0m\u001b[0;34m\u001b[0m\u001b[0m\n\u001b[1;32m    496\u001b[0m                 \u001b[0;32mreturn\u001b[0m \u001b[0mresult\u001b[0m\u001b[0;34m\u001b[0m\u001b[0;34m\u001b[0m\u001b[0m\n",
      "\u001b[0;32m~/opt/anaconda3/lib/python3.9/urllib/request.py\u001b[0m in \u001b[0;36mhttp_open\u001b[0;34m(self, req)\u001b[0m\n\u001b[1;32m   1373\u001b[0m \u001b[0;34m\u001b[0m\u001b[0m\n\u001b[1;32m   1374\u001b[0m     \u001b[0;32mdef\u001b[0m \u001b[0mhttp_open\u001b[0m\u001b[0;34m(\u001b[0m\u001b[0mself\u001b[0m\u001b[0;34m,\u001b[0m \u001b[0mreq\u001b[0m\u001b[0;34m)\u001b[0m\u001b[0;34m:\u001b[0m\u001b[0;34m\u001b[0m\u001b[0;34m\u001b[0m\u001b[0m\n\u001b[0;32m-> 1375\u001b[0;31m         \u001b[0;32mreturn\u001b[0m \u001b[0mself\u001b[0m\u001b[0;34m.\u001b[0m\u001b[0mdo_open\u001b[0m\u001b[0;34m(\u001b[0m\u001b[0mhttp\u001b[0m\u001b[0;34m.\u001b[0m\u001b[0mclient\u001b[0m\u001b[0;34m.\u001b[0m\u001b[0mHTTPConnection\u001b[0m\u001b[0;34m,\u001b[0m \u001b[0mreq\u001b[0m\u001b[0;34m)\u001b[0m\u001b[0;34m\u001b[0m\u001b[0;34m\u001b[0m\u001b[0m\n\u001b[0m\u001b[1;32m   1376\u001b[0m \u001b[0;34m\u001b[0m\u001b[0m\n\u001b[1;32m   1377\u001b[0m     \u001b[0mhttp_request\u001b[0m \u001b[0;34m=\u001b[0m \u001b[0mAbstractHTTPHandler\u001b[0m\u001b[0;34m.\u001b[0m\u001b[0mdo_request_\u001b[0m\u001b[0;34m\u001b[0m\u001b[0;34m\u001b[0m\u001b[0m\n",
      "\u001b[0;32m~/opt/anaconda3/lib/python3.9/urllib/request.py\u001b[0m in \u001b[0;36mdo_open\u001b[0;34m(self, http_class, req, **http_conn_args)\u001b[0m\n\u001b[1;32m   1348\u001b[0m             \u001b[0;32mexcept\u001b[0m \u001b[0mOSError\u001b[0m \u001b[0;32mas\u001b[0m \u001b[0merr\u001b[0m\u001b[0;34m:\u001b[0m \u001b[0;31m# timeout error\u001b[0m\u001b[0;34m\u001b[0m\u001b[0;34m\u001b[0m\u001b[0m\n\u001b[1;32m   1349\u001b[0m                 \u001b[0;32mraise\u001b[0m \u001b[0mURLError\u001b[0m\u001b[0;34m(\u001b[0m\u001b[0merr\u001b[0m\u001b[0;34m)\u001b[0m\u001b[0;34m\u001b[0m\u001b[0;34m\u001b[0m\u001b[0m\n\u001b[0;32m-> 1350\u001b[0;31m             \u001b[0mr\u001b[0m \u001b[0;34m=\u001b[0m \u001b[0mh\u001b[0m\u001b[0;34m.\u001b[0m\u001b[0mgetresponse\u001b[0m\u001b[0;34m(\u001b[0m\u001b[0;34m)\u001b[0m\u001b[0;34m\u001b[0m\u001b[0;34m\u001b[0m\u001b[0m\n\u001b[0m\u001b[1;32m   1351\u001b[0m         \u001b[0;32mexcept\u001b[0m\u001b[0;34m:\u001b[0m\u001b[0;34m\u001b[0m\u001b[0;34m\u001b[0m\u001b[0m\n\u001b[1;32m   1352\u001b[0m             \u001b[0mh\u001b[0m\u001b[0;34m.\u001b[0m\u001b[0mclose\u001b[0m\u001b[0;34m(\u001b[0m\u001b[0;34m)\u001b[0m\u001b[0;34m\u001b[0m\u001b[0;34m\u001b[0m\u001b[0m\n",
      "\u001b[0;32m~/opt/anaconda3/lib/python3.9/http/client.py\u001b[0m in \u001b[0;36mgetresponse\u001b[0;34m(self)\u001b[0m\n\u001b[1;32m   1375\u001b[0m         \u001b[0;32mtry\u001b[0m\u001b[0;34m:\u001b[0m\u001b[0;34m\u001b[0m\u001b[0;34m\u001b[0m\u001b[0m\n\u001b[1;32m   1376\u001b[0m             \u001b[0;32mtry\u001b[0m\u001b[0;34m:\u001b[0m\u001b[0;34m\u001b[0m\u001b[0;34m\u001b[0m\u001b[0m\n\u001b[0;32m-> 1377\u001b[0;31m                 \u001b[0mresponse\u001b[0m\u001b[0;34m.\u001b[0m\u001b[0mbegin\u001b[0m\u001b[0;34m(\u001b[0m\u001b[0;34m)\u001b[0m\u001b[0;34m\u001b[0m\u001b[0;34m\u001b[0m\u001b[0m\n\u001b[0m\u001b[1;32m   1378\u001b[0m             \u001b[0;32mexcept\u001b[0m \u001b[0mConnectionError\u001b[0m\u001b[0;34m:\u001b[0m\u001b[0;34m\u001b[0m\u001b[0;34m\u001b[0m\u001b[0m\n\u001b[1;32m   1379\u001b[0m                 \u001b[0mself\u001b[0m\u001b[0;34m.\u001b[0m\u001b[0mclose\u001b[0m\u001b[0;34m(\u001b[0m\u001b[0;34m)\u001b[0m\u001b[0;34m\u001b[0m\u001b[0;34m\u001b[0m\u001b[0m\n",
      "\u001b[0;32m~/opt/anaconda3/lib/python3.9/http/client.py\u001b[0m in \u001b[0;36mbegin\u001b[0;34m(self)\u001b[0m\n\u001b[1;32m    318\u001b[0m         \u001b[0;31m# read until we get a non-100 response\u001b[0m\u001b[0;34m\u001b[0m\u001b[0;34m\u001b[0m\u001b[0m\n\u001b[1;32m    319\u001b[0m         \u001b[0;32mwhile\u001b[0m \u001b[0;32mTrue\u001b[0m\u001b[0;34m:\u001b[0m\u001b[0;34m\u001b[0m\u001b[0;34m\u001b[0m\u001b[0m\n\u001b[0;32m--> 320\u001b[0;31m             \u001b[0mversion\u001b[0m\u001b[0;34m,\u001b[0m \u001b[0mstatus\u001b[0m\u001b[0;34m,\u001b[0m \u001b[0mreason\u001b[0m \u001b[0;34m=\u001b[0m \u001b[0mself\u001b[0m\u001b[0;34m.\u001b[0m\u001b[0m_read_status\u001b[0m\u001b[0;34m(\u001b[0m\u001b[0;34m)\u001b[0m\u001b[0;34m\u001b[0m\u001b[0;34m\u001b[0m\u001b[0m\n\u001b[0m\u001b[1;32m    321\u001b[0m             \u001b[0;32mif\u001b[0m \u001b[0mstatus\u001b[0m \u001b[0;34m!=\u001b[0m \u001b[0mCONTINUE\u001b[0m\u001b[0;34m:\u001b[0m\u001b[0;34m\u001b[0m\u001b[0;34m\u001b[0m\u001b[0m\n\u001b[1;32m    322\u001b[0m                 \u001b[0;32mbreak\u001b[0m\u001b[0;34m\u001b[0m\u001b[0;34m\u001b[0m\u001b[0m\n",
      "\u001b[0;32m~/opt/anaconda3/lib/python3.9/http/client.py\u001b[0m in \u001b[0;36m_read_status\u001b[0;34m(self)\u001b[0m\n\u001b[1;32m    279\u001b[0m \u001b[0;34m\u001b[0m\u001b[0m\n\u001b[1;32m    280\u001b[0m     \u001b[0;32mdef\u001b[0m \u001b[0m_read_status\u001b[0m\u001b[0;34m(\u001b[0m\u001b[0mself\u001b[0m\u001b[0;34m)\u001b[0m\u001b[0;34m:\u001b[0m\u001b[0;34m\u001b[0m\u001b[0;34m\u001b[0m\u001b[0m\n\u001b[0;32m--> 281\u001b[0;31m         \u001b[0mline\u001b[0m \u001b[0;34m=\u001b[0m \u001b[0mstr\u001b[0m\u001b[0;34m(\u001b[0m\u001b[0mself\u001b[0m\u001b[0;34m.\u001b[0m\u001b[0mfp\u001b[0m\u001b[0;34m.\u001b[0m\u001b[0mreadline\u001b[0m\u001b[0;34m(\u001b[0m\u001b[0m_MAXLINE\u001b[0m \u001b[0;34m+\u001b[0m \u001b[0;36m1\u001b[0m\u001b[0;34m)\u001b[0m\u001b[0;34m,\u001b[0m \u001b[0;34m\"iso-8859-1\"\u001b[0m\u001b[0;34m)\u001b[0m\u001b[0;34m\u001b[0m\u001b[0;34m\u001b[0m\u001b[0m\n\u001b[0m\u001b[1;32m    282\u001b[0m         \u001b[0;32mif\u001b[0m \u001b[0mlen\u001b[0m\u001b[0;34m(\u001b[0m\u001b[0mline\u001b[0m\u001b[0;34m)\u001b[0m \u001b[0;34m>\u001b[0m \u001b[0m_MAXLINE\u001b[0m\u001b[0;34m:\u001b[0m\u001b[0;34m\u001b[0m\u001b[0;34m\u001b[0m\u001b[0m\n\u001b[1;32m    283\u001b[0m             \u001b[0;32mraise\u001b[0m \u001b[0mLineTooLong\u001b[0m\u001b[0;34m(\u001b[0m\u001b[0;34m\"status line\"\u001b[0m\u001b[0;34m)\u001b[0m\u001b[0;34m\u001b[0m\u001b[0;34m\u001b[0m\u001b[0m\n",
      "\u001b[0;32m~/opt/anaconda3/lib/python3.9/socket.py\u001b[0m in \u001b[0;36mreadinto\u001b[0;34m(self, b)\u001b[0m\n\u001b[1;32m    702\u001b[0m         \u001b[0;32mwhile\u001b[0m \u001b[0;32mTrue\u001b[0m\u001b[0;34m:\u001b[0m\u001b[0;34m\u001b[0m\u001b[0;34m\u001b[0m\u001b[0m\n\u001b[1;32m    703\u001b[0m             \u001b[0;32mtry\u001b[0m\u001b[0;34m:\u001b[0m\u001b[0;34m\u001b[0m\u001b[0;34m\u001b[0m\u001b[0m\n\u001b[0;32m--> 704\u001b[0;31m                 \u001b[0;32mreturn\u001b[0m \u001b[0mself\u001b[0m\u001b[0;34m.\u001b[0m\u001b[0m_sock\u001b[0m\u001b[0;34m.\u001b[0m\u001b[0mrecv_into\u001b[0m\u001b[0;34m(\u001b[0m\u001b[0mb\u001b[0m\u001b[0;34m)\u001b[0m\u001b[0;34m\u001b[0m\u001b[0;34m\u001b[0m\u001b[0m\n\u001b[0m\u001b[1;32m    705\u001b[0m             \u001b[0;32mexcept\u001b[0m \u001b[0mtimeout\u001b[0m\u001b[0;34m:\u001b[0m\u001b[0;34m\u001b[0m\u001b[0;34m\u001b[0m\u001b[0m\n\u001b[1;32m    706\u001b[0m                 \u001b[0mself\u001b[0m\u001b[0;34m.\u001b[0m\u001b[0m_timeout_occurred\u001b[0m \u001b[0;34m=\u001b[0m \u001b[0;32mTrue\u001b[0m\u001b[0;34m\u001b[0m\u001b[0;34m\u001b[0m\u001b[0m\n",
      "\u001b[0;31mKeyboardInterrupt\u001b[0m: "
     ]
    }
   ],
   "source": [
    "import os\n",
    "import speech_recognition as sr\n",
    "from tqdm import tqdm\n",
    "\n",
    "\n",
    "dir_path = \"/Users/admin/Downloads/archive (3)/medical speech transcription and intent/Medical Speech, Transcription, and Intent/recordings/test/\"\n",
    "audio_files = os.listdir(dir_path)\n",
    "\n",
    "# Create a recognizer object\n",
    "r = sr.Recognizer()\n",
    "\n",
    "# Create empty lists to store text and filename\n",
    "text_list = []\n",
    "filename_list = []\n",
    "\n",
    "# Process each audio file\n",
    "for audio_file in tqdm(audio_files, desc=\"Processing\"):\n",
    "    try:\n",
    "        audio_path = os.path.join(dir_path, audio_file)\n",
    "\n",
    "        # Open the audio file\n",
    "        with sr.AudioFile(audio_path) as source:\n",
    "            # Read the audio data\n",
    "            audio_data = r.record(source)\n",
    "\n",
    "        # Convert speech to text\n",
    "        text = r.recognize_google(audio_data, show_all=True)\n",
    "\n",
    "        # Append text and filename to lists\n",
    "        text_list.append(text)\n",
    "        filename_list.append(audio_file)\n",
    "\n",
    "    except sr.RequestError as e:\n",
    "        print(f\"Error processing audio file: {audio_file} - {e}\")\n",
    "        continue\n",
    "    except sr.UnknownValueError:\n",
    "        print(f\"No speech detected in audio file: {audio_file}\")\n",
    "        continue\n",
    "\n"
   ]
  },
  {
   "cell_type": "code",
   "execution_count": 8,
   "id": "7165c173",
   "metadata": {},
   "outputs": [],
   "source": [
    "import pandas as pd\n",
    "import os"
   ]
  },
  {
   "cell_type": "code",
   "execution_count": 14,
   "id": "232ca92d",
   "metadata": {},
   "outputs": [],
   "source": [
    "# Create DataFrame\n",
    "data = {\"Text\": text_list, \"Filename\": filename_list}\n",
    "df_test = pd.DataFrame(data)\n",
    "df_test.head()\n",
    "df_test.to_csv(\"df_test_part1.csv\", index=False)"
   ]
  },
  {
   "cell_type": "code",
   "execution_count": 19,
   "id": "7ddb578f",
   "metadata": {},
   "outputs": [
    {
     "data": {
      "text/html": [
       "<div>\n",
       "<style scoped>\n",
       "    .dataframe tbody tr th:only-of-type {\n",
       "        vertical-align: middle;\n",
       "    }\n",
       "\n",
       "    .dataframe tbody tr th {\n",
       "        vertical-align: top;\n",
       "    }\n",
       "\n",
       "    .dataframe thead th {\n",
       "        text-align: right;\n",
       "    }\n",
       "</style>\n",
       "<table border=\"1\" class=\"dataframe\">\n",
       "  <thead>\n",
       "    <tr style=\"text-align: right;\">\n",
       "      <th></th>\n",
       "      <th>Text</th>\n",
       "      <th>Filename</th>\n",
       "    </tr>\n",
       "  </thead>\n",
       "  <tbody>\n",
       "    <tr>\n",
       "      <th>1613</th>\n",
       "      <td>{'alternative': [{'transcript': 'I have tried ...</td>\n",
       "      <td>1249120_35154350_58959709.wav</td>\n",
       "    </tr>\n",
       "    <tr>\n",
       "      <th>1614</th>\n",
       "      <td>{'alternative': [{'transcript': 'I feel should...</td>\n",
       "      <td>1249120_39740177_18723815.wav</td>\n",
       "    </tr>\n",
       "    <tr>\n",
       "      <th>1615</th>\n",
       "      <td>{'alternative': [{'transcript': 'I have intern...</td>\n",
       "      <td>1249120_44140394_27092907.wav</td>\n",
       "    </tr>\n",
       "    <tr>\n",
       "      <th>1616</th>\n",
       "      <td>{'alternative': [{'transcript': 'no this feel ...</td>\n",
       "      <td>1249120_35444693_38322265.wav</td>\n",
       "    </tr>\n",
       "    <tr>\n",
       "      <th>1617</th>\n",
       "      <td>{'alternative': [{'transcript': 'I feel cold a...</td>\n",
       "      <td>1249120_29672643_12038970.wav</td>\n",
       "    </tr>\n",
       "  </tbody>\n",
       "</table>\n",
       "</div>"
      ],
      "text/plain": [
       "                                                   Text   \n",
       "1613  {'alternative': [{'transcript': 'I have tried ...  \\\n",
       "1614  {'alternative': [{'transcript': 'I feel should...   \n",
       "1615  {'alternative': [{'transcript': 'I have intern...   \n",
       "1616  {'alternative': [{'transcript': 'no this feel ...   \n",
       "1617  {'alternative': [{'transcript': 'I feel cold a...   \n",
       "\n",
       "                           Filename  \n",
       "1613  1249120_35154350_58959709.wav  \n",
       "1614  1249120_39740177_18723815.wav  \n",
       "1615  1249120_44140394_27092907.wav  \n",
       "1616  1249120_35444693_38322265.wav  \n",
       "1617  1249120_29672643_12038970.wav  "
      ]
     },
     "execution_count": 19,
     "metadata": {},
     "output_type": "execute_result"
    }
   ],
   "source": [
    "df_test.tail()"
   ]
  },
  {
   "cell_type": "markdown",
   "id": "c2d21402",
   "metadata": {},
   "source": [
    "# after file 1664"
   ]
  },
  {
   "cell_type": "code",
   "execution_count": 20,
   "id": "d62b51a2",
   "metadata": {},
   "outputs": [],
   "source": [
    "dir_path = \"/Users/admin/Downloads/archive (3)/medical speech transcription and intent/Medical Speech, Transcription, and Intent/recordings/test/\"\n",
    "audio_files = os.listdir(dir_path)[1665:]"
   ]
  },
  {
   "cell_type": "code",
   "execution_count": 21,
   "id": "0883ac27",
   "metadata": {
    "collapsed": true
   },
   "outputs": [
    {
     "name": "stderr",
     "output_type": "stream",
     "text": [
      "Processing:   0%|                              | 3/4230 [00:01<34:30,  2.04it/s]"
     ]
    },
    {
     "name": "stdout",
     "output_type": "stream",
     "text": [
      "Error processing audio file: 1249120_27392644_60092505.wav - recognition request failed: Bad Request\n"
     ]
    },
    {
     "name": "stderr",
     "output_type": "stream",
     "text": [
      "Processing:   2%|▌                            | 91/4230 [01:26<51:53,  1.33it/s]"
     ]
    },
    {
     "name": "stdout",
     "output_type": "stream",
     "text": [
      "Error processing audio file: 1249120_43825820_39010582.wav - recognition request failed: Bad Request\n"
     ]
    },
    {
     "name": "stderr",
     "output_type": "stream",
     "text": [
      "Processing:   3%|▉                         | 143/4230 [02:20<1:02:56,  1.08it/s]"
     ]
    },
    {
     "name": "stdout",
     "output_type": "stream",
     "text": [
      "Error processing audio file: 1249120_43825820_91557495.wav - recognition request failed: Bad Request\n"
     ]
    },
    {
     "name": "stderr",
     "output_type": "stream",
     "text": [
      "Processing:   4%|█                           | 153/4230 [02:32<49:27,  1.37it/s]"
     ]
    },
    {
     "name": "stdout",
     "output_type": "stream",
     "text": [
      "Error processing audio file: 1249120_27392644_32957316.wav - recognition request failed: Bad Request\n"
     ]
    },
    {
     "name": "stderr",
     "output_type": "stream",
     "text": [
      "Processing:   4%|█                           | 163/4230 [02:40<42:37,  1.59it/s]"
     ]
    },
    {
     "name": "stdout",
     "output_type": "stream",
     "text": [
      "Error processing audio file: 1249120_27392644_44306106.wav - recognition request failed: Bad Request\n"
     ]
    },
    {
     "name": "stderr",
     "output_type": "stream",
     "text": [
      "Processing:   5%|█▍                          | 217/4230 [04:38<45:07,  1.48it/s]"
     ]
    },
    {
     "name": "stdout",
     "output_type": "stream",
     "text": [
      "Error processing audio file: 1249120_27392644_98494460.wav - recognition request failed: Bad Request\n"
     ]
    },
    {
     "name": "stderr",
     "output_type": "stream",
     "text": [
      "Processing:   6%|█▋                          | 263/4230 [05:22<53:53,  1.23it/s]"
     ]
    },
    {
     "name": "stdout",
     "output_type": "stream",
     "text": [
      "Error processing audio file: 1249120_43825820_53165761.wav - recognition request failed: Bad Request\n"
     ]
    },
    {
     "name": "stderr",
     "output_type": "stream",
     "text": [
      "Processing:   7%|█▊                        | 292/4230 [05:51<1:10:45,  1.08s/it]"
     ]
    },
    {
     "name": "stdout",
     "output_type": "stream",
     "text": [
      "Error processing audio file: 1249120_43825820_64955471.wav - recognition request failed: Bad Request\n"
     ]
    },
    {
     "name": "stderr",
     "output_type": "stream",
     "text": [
      "Processing:   7%|██                          | 306/4230 [06:06<46:47,  1.40it/s]"
     ]
    },
    {
     "name": "stdout",
     "output_type": "stream",
     "text": [
      "Error processing audio file: 1249120_43825820_37623093.wav - recognition request failed: Bad Request\n"
     ]
    },
    {
     "name": "stderr",
     "output_type": "stream",
     "text": [
      "Processing:   9%|██▍                         | 364/4230 [06:52<48:47,  1.32it/s]"
     ]
    },
    {
     "name": "stdout",
     "output_type": "stream",
     "text": [
      "Error processing audio file: 1249120_27392644_69422505.wav - recognition request failed: Bad Request\n"
     ]
    },
    {
     "name": "stderr",
     "output_type": "stream",
     "text": [
      "Processing:  10%|██▊                         | 432/4230 [07:55<42:14,  1.50it/s]"
     ]
    },
    {
     "name": "stdout",
     "output_type": "stream",
     "text": [
      "Error processing audio file: 1249120_15965551_53555531.wav - recognition request failed: Bad Request\n"
     ]
    },
    {
     "name": "stderr",
     "output_type": "stream",
     "text": [
      "Processing:  12%|███▎                        | 505/4230 [08:57<36:06,  1.72it/s]"
     ]
    },
    {
     "name": "stdout",
     "output_type": "stream",
     "text": [
      "Error processing audio file: 1249120_43825820_82145177.wav - recognition request failed: Bad Request\n"
     ]
    },
    {
     "name": "stderr",
     "output_type": "stream",
     "text": [
      "Processing:  12%|███▍                        | 512/4230 [09:04<52:45,  1.17it/s]"
     ]
    },
    {
     "name": "stdout",
     "output_type": "stream",
     "text": [
      "Error processing audio file: 1249120_43825820_90943169.wav - recognition request failed: Bad Request\n"
     ]
    },
    {
     "name": "stderr",
     "output_type": "stream",
     "text": [
      "Processing:  13%|███▋                        | 556/4230 [09:52<46:45,  1.31it/s]"
     ]
    },
    {
     "name": "stdout",
     "output_type": "stream",
     "text": [
      "Error processing audio file: 1249120_43825820_43097429.wav - recognition request failed: Bad Request\n"
     ]
    },
    {
     "name": "stderr",
     "output_type": "stream",
     "text": [
      "Processing:  13%|███▋                        | 560/4230 [09:54<31:12,  1.96it/s]"
     ]
    },
    {
     "name": "stdout",
     "output_type": "stream",
     "text": [
      "Error processing audio file: 1249120_15965551_42589900.wav - recognition request failed: Bad Request\n"
     ]
    },
    {
     "name": "stderr",
     "output_type": "stream",
     "text": [
      "Processing:  16%|████▍                       | 676/4230 [11:40<35:12,  1.68it/s]"
     ]
    },
    {
     "name": "stdout",
     "output_type": "stream",
     "text": [
      "Error processing audio file: 1249120_43825820_91624765.wav - recognition request failed: Bad Request\n"
     ]
    },
    {
     "name": "stderr",
     "output_type": "stream",
     "text": [
      "Processing:  17%|████▌                       | 698/4230 [12:00<35:02,  1.68it/s]"
     ]
    },
    {
     "name": "stdout",
     "output_type": "stream",
     "text": [
      "Error processing audio file: 1249120_15965551_20749336.wav - recognition request failed: Bad Request\n"
     ]
    },
    {
     "name": "stderr",
     "output_type": "stream",
     "text": [
      "Processing:  17%|████▉                       | 738/4230 [12:38<44:20,  1.31it/s]"
     ]
    },
    {
     "name": "stdout",
     "output_type": "stream",
     "text": [
      "Error processing audio file: 1249120_43825820_28134776.wav - recognition request failed: Bad Request\n"
     ]
    },
    {
     "name": "stderr",
     "output_type": "stream",
     "text": [
      "Processing:  18%|████▉                       | 744/4230 [12:42<32:27,  1.79it/s]"
     ]
    },
    {
     "name": "stdout",
     "output_type": "stream",
     "text": [
      "Error processing audio file: 1249120_27392644_104298492.wav - recognition request failed: Bad Request\n"
     ]
    },
    {
     "name": "stderr",
     "output_type": "stream",
     "text": [
      "Processing:  18%|████▉                       | 754/4230 [12:50<37:25,  1.55it/s]"
     ]
    },
    {
     "name": "stdout",
     "output_type": "stream",
     "text": [
      "Error processing audio file: 1249120_43825820_44998707.wav - recognition request failed: Bad Request\n"
     ]
    },
    {
     "name": "stderr",
     "output_type": "stream",
     "text": [
      "Processing:  19%|█████▏                      | 787/4230 [13:23<44:15,  1.30it/s]"
     ]
    },
    {
     "name": "stdout",
     "output_type": "stream",
     "text": [
      "Error processing audio file: 1249120_27392644_45411334.wav - recognition request failed: Bad Request\n"
     ]
    },
    {
     "name": "stderr",
     "output_type": "stream",
     "text": [
      "Processing:  19%|█████▍                      | 823/4230 [14:06<52:24,  1.08it/s]"
     ]
    },
    {
     "name": "stdout",
     "output_type": "stream",
     "text": [
      "Error processing audio file: 1249120_15965551_57015604.wav - recognition request failed: Bad Request\n"
     ]
    },
    {
     "name": "stderr",
     "output_type": "stream",
     "text": [
      "Processing:  21%|█████▉                      | 894/4230 [15:13<37:12,  1.49it/s]"
     ]
    },
    {
     "name": "stdout",
     "output_type": "stream",
     "text": [
      "Error processing audio file: 1249120_15965551_35401223.wav - recognition request failed: Bad Request\n"
     ]
    },
    {
     "name": "stderr",
     "output_type": "stream",
     "text": [
      "Processing:  21%|█████▉                      | 901/4230 [15:20<55:42,  1.00s/it]"
     ]
    },
    {
     "name": "stdout",
     "output_type": "stream",
     "text": [
      "Error processing audio file: 1249120_27392644_78038831.wav - recognition request failed: Bad Request\n"
     ]
    },
    {
     "name": "stderr",
     "output_type": "stream",
     "text": [
      "Processing:  22%|█████▊                    | 937/4230 [15:54<1:18:54,  1.44s/it]"
     ]
    },
    {
     "name": "stdout",
     "output_type": "stream",
     "text": [
      "Error processing audio file: 1249120_43825820_98687117.wav - recognition request failed: Bad Request\n"
     ]
    },
    {
     "name": "stderr",
     "output_type": "stream",
     "text": [
      "Processing:  22%|██████▏                     | 941/4230 [15:56<48:16,  1.14it/s]"
     ]
    },
    {
     "name": "stdout",
     "output_type": "stream",
     "text": [
      "Error processing audio file: 1249120_15965551_64987640.wav - recognition request failed: Bad Request\n"
     ]
    },
    {
     "name": "stderr",
     "output_type": "stream",
     "text": [
      "\r",
      "Processing:  22%|██████▏                     | 942/4230 [15:57<50:13,  1.09it/s]"
     ]
    },
    {
     "name": "stdout",
     "output_type": "stream",
     "text": [
      "Error processing audio file: 1249120_43825820_56083833.wav - recognition request failed: Bad Request\n"
     ]
    },
    {
     "name": "stderr",
     "output_type": "stream",
     "text": [
      "Processing:  23%|██████▍                     | 978/4230 [16:38<42:57,  1.26it/s]"
     ]
    },
    {
     "name": "stdout",
     "output_type": "stream",
     "text": [
      "Error processing audio file: 1249120_43825820_68671190.wav - recognition request failed: Bad Request\n"
     ]
    },
    {
     "name": "stderr",
     "output_type": "stream",
     "text": [
      "Processing:  23%|██████▌                     | 993/4230 [16:53<42:36,  1.27it/s]"
     ]
    },
    {
     "name": "stdout",
     "output_type": "stream",
     "text": [
      "Error processing audio file: 1249120_27392644_85731623.wav - recognition request failed: Bad Request\n"
     ]
    },
    {
     "name": "stderr",
     "output_type": "stream",
     "text": [
      "Processing:  24%|██████▍                    | 1005/4230 [17:08<47:28,  1.13it/s]"
     ]
    },
    {
     "name": "stdout",
     "output_type": "stream",
     "text": [
      "Error processing audio file: 1249120_15965551_41232322.wav - recognition request failed: Bad Request\n"
     ]
    },
    {
     "name": "stderr",
     "output_type": "stream",
     "text": [
      "Processing:  24%|██████▍                    | 1008/4230 [17:10<43:13,  1.24it/s]"
     ]
    },
    {
     "name": "stdout",
     "output_type": "stream",
     "text": [
      "Error processing audio file: 1249120_15965551_98145234.wav - recognition request failed: Bad Request\n"
     ]
    },
    {
     "name": "stderr",
     "output_type": "stream",
     "text": [
      "Processing:  24%|██████▌                    | 1020/4230 [17:22<45:34,  1.17it/s]"
     ]
    },
    {
     "name": "stdout",
     "output_type": "stream",
     "text": [
      "Error processing audio file: 1249120_27392644_102861636.wav - recognition request failed: Bad Request\n"
     ]
    },
    {
     "name": "stderr",
     "output_type": "stream",
     "text": [
      "\r",
      "Processing:  24%|██████▌                    | 1021/4230 [17:23<39:23,  1.36it/s]"
     ]
    },
    {
     "name": "stdout",
     "output_type": "stream",
     "text": [
      "Error processing audio file: 1249120_43825820_51160700.wav - recognition request failed: Bad Request\n"
     ]
    },
    {
     "name": "stderr",
     "output_type": "stream",
     "text": [
      "Processing:  24%|██████▌                    | 1027/4230 [17:28<40:33,  1.32it/s]"
     ]
    },
    {
     "name": "stdout",
     "output_type": "stream",
     "text": [
      "Error processing audio file: 1249120_27392644_45502941.wav - recognition request failed: Bad Request\n"
     ]
    },
    {
     "name": "stderr",
     "output_type": "stream",
     "text": [
      "Processing:  24%|██████                   | 1036/4230 [17:38<1:07:45,  1.27s/it]"
     ]
    },
    {
     "name": "stdout",
     "output_type": "stream",
     "text": [
      "Error processing audio file: 1249120_43825820_57474624.wav - recognition request failed: Bad Request\n"
     ]
    },
    {
     "name": "stderr",
     "output_type": "stream",
     "text": [
      "\r",
      "Processing:  25%|██████▋                    | 1038/4230 [17:39<41:10,  1.29it/s]"
     ]
    },
    {
     "name": "stdout",
     "output_type": "stream",
     "text": [
      "Error processing audio file: 1249120_43825820_77029615.wav - recognition request failed: Bad Request\n"
     ]
    },
    {
     "name": "stderr",
     "output_type": "stream",
     "text": [
      "Processing:  25%|██████▋                    | 1046/4230 [17:45<33:20,  1.59it/s]"
     ]
    },
    {
     "name": "stdout",
     "output_type": "stream",
     "text": [
      "Error processing audio file: 1249120_43825820_14698523.wav - recognition request failed: Bad Request\n"
     ]
    },
    {
     "name": "stderr",
     "output_type": "stream",
     "text": [
      "Processing:  25%|██████▊                    | 1064/4230 [18:04<37:15,  1.42it/s]"
     ]
    },
    {
     "name": "stdout",
     "output_type": "stream",
     "text": [
      "Error processing audio file: 1249120_43825820_22702560.wav - recognition request failed: Bad Request\n"
     ]
    },
    {
     "name": "stderr",
     "output_type": "stream",
     "text": [
      "Processing:  26%|██████▉                    | 1079/4230 [18:18<37:33,  1.40it/s]"
     ]
    },
    {
     "name": "stdout",
     "output_type": "stream",
     "text": [
      "Error processing audio file: 1249120_27392644_30360688.wav - recognition request failed: Bad Request\n"
     ]
    },
    {
     "name": "stderr",
     "output_type": "stream",
     "text": [
      "Processing:  26%|██████▉                    | 1089/4230 [18:26<35:58,  1.46it/s]"
     ]
    },
    {
     "name": "stdout",
     "output_type": "stream",
     "text": [
      "Error processing audio file: 1249120_27392644_84663890.wav - recognition request failed: Bad Request\n"
     ]
    },
    {
     "name": "stderr",
     "output_type": "stream",
     "text": [
      "Processing:  29%|███████▏                 | 1221/4230 [20:41<1:05:09,  1.30s/it]"
     ]
    },
    {
     "name": "stdout",
     "output_type": "stream",
     "text": [
      "Error processing audio file: 1249120_27392644_86164706.wav - recognition request failed: Bad Request\n"
     ]
    },
    {
     "name": "stderr",
     "output_type": "stream",
     "text": [
      "Processing:  30%|███████▉                   | 1251/4230 [21:06<29:13,  1.70it/s]"
     ]
    },
    {
     "name": "stdout",
     "output_type": "stream",
     "text": [
      "Error processing audio file: 1249120_27392644_48243205.wav - recognition request failed: Bad Request\n"
     ]
    },
    {
     "name": "stderr",
     "output_type": "stream",
     "text": [
      "Processing:  30%|████████                   | 1269/4230 [21:24<42:54,  1.15it/s]"
     ]
    },
    {
     "name": "stdout",
     "output_type": "stream",
     "text": [
      "Error processing audio file: 1249120_27392644_71854860.wav - recognition request failed: Bad Request\n"
     ]
    },
    {
     "name": "stderr",
     "output_type": "stream",
     "text": [
      "Processing:  31%|████████▎                  | 1297/4230 [21:46<37:31,  1.30it/s]"
     ]
    },
    {
     "name": "stdout",
     "output_type": "stream",
     "text": [
      "Error processing audio file: 1249120_43825820_88800778.wav - recognition request failed: Bad Request\n"
     ]
    },
    {
     "name": "stderr",
     "output_type": "stream",
     "text": [
      "Processing:  31%|████████▍                  | 1313/4230 [21:59<28:49,  1.69it/s]"
     ]
    },
    {
     "name": "stdout",
     "output_type": "stream",
     "text": [
      "Error processing audio file: 1249120_27392644_57558452.wav - recognition request failed: Bad Request\n"
     ]
    },
    {
     "name": "stderr",
     "output_type": "stream",
     "text": [
      "Processing:  32%|████████                 | 1356/4230 [22:42<1:01:43,  1.29s/it]"
     ]
    },
    {
     "name": "stdout",
     "output_type": "stream",
     "text": [
      "Error processing audio file: 1249120_43825820_37980920.wav - recognition request failed: Bad Request\n"
     ]
    },
    {
     "name": "stderr",
     "output_type": "stream",
     "text": [
      "Processing:  33%|████████▉                  | 1395/4230 [23:22<40:09,  1.18it/s]"
     ]
    },
    {
     "name": "stdout",
     "output_type": "stream",
     "text": [
      "Error processing audio file: 1249120_27392644_26489438.wav - recognition request failed: Bad Request\n"
     ]
    },
    {
     "name": "stderr",
     "output_type": "stream",
     "text": [
      "Processing:  34%|█████████▏                 | 1441/4230 [24:09<42:15,  1.10it/s]"
     ]
    },
    {
     "name": "stdout",
     "output_type": "stream",
     "text": [
      "Error processing audio file: 1249120_27392644_55509323.wav - recognition request failed: Bad Request\n"
     ]
    },
    {
     "name": "stderr",
     "output_type": "stream",
     "text": [
      "Processing:  35%|█████████▎                 | 1464/4230 [24:31<33:12,  1.39it/s]"
     ]
    },
    {
     "name": "stdout",
     "output_type": "stream",
     "text": [
      "Error processing audio file: 1249120_27392644_15572920.wav - recognition request failed: Bad Request\n"
     ]
    },
    {
     "name": "stderr",
     "output_type": "stream",
     "text": [
      "Processing:  35%|█████████▍                 | 1471/4230 [24:39<43:55,  1.05it/s]"
     ]
    },
    {
     "name": "stdout",
     "output_type": "stream",
     "text": [
      "Error processing audio file: 1249120_27392644_11875466.wav - recognition request failed: Bad Request\n"
     ]
    },
    {
     "name": "stderr",
     "output_type": "stream",
     "text": [
      "Processing:  36%|█████████▋                 | 1518/4230 [25:27<50:28,  1.12s/it]"
     ]
    },
    {
     "name": "stdout",
     "output_type": "stream",
     "text": [
      "Error processing audio file: 1249120_43825820_79658475.wav - recognition request failed: Bad Request\n"
     ]
    },
    {
     "name": "stderr",
     "output_type": "stream",
     "text": [
      "Processing:  36%|█████████▋                 | 1524/4230 [25:34<40:38,  1.11it/s]"
     ]
    },
    {
     "name": "stdout",
     "output_type": "stream",
     "text": [
      "Error processing audio file: 1249120_27392644_79601061.wav - recognition request failed: Bad Request\n"
     ]
    },
    {
     "name": "stderr",
     "output_type": "stream",
     "text": [
      "Processing:  38%|██████████▏                | 1594/4230 [26:42<32:05,  1.37it/s]"
     ]
    },
    {
     "name": "stdout",
     "output_type": "stream",
     "text": [
      "Error processing audio file: 1249120_27392644_88966581.wav - recognition request failed: Bad Request\n"
     ]
    },
    {
     "name": "stderr",
     "output_type": "stream",
     "text": [
      "Processing:  38%|██████████▎                | 1606/4230 [26:54<28:16,  1.55it/s]"
     ]
    },
    {
     "name": "stdout",
     "output_type": "stream",
     "text": [
      "Error processing audio file: 1249120_43825820_106948055.wav - recognition request failed: Bad Request\n"
     ]
    },
    {
     "name": "stderr",
     "output_type": "stream",
     "text": [
      "Processing:  38%|██████████▎                | 1616/4230 [27:01<20:13,  2.15it/s]"
     ]
    },
    {
     "name": "stdout",
     "output_type": "stream",
     "text": [
      "Error processing audio file: 1249120_27392644_73339356.wav - recognition request failed: Bad Request\n"
     ]
    },
    {
     "name": "stderr",
     "output_type": "stream",
     "text": [
      "Processing:  39%|██████████▍                | 1637/4230 [27:19<30:30,  1.42it/s]"
     ]
    },
    {
     "name": "stdout",
     "output_type": "stream",
     "text": [
      "Error processing audio file: 1249120_43825820_86733021.wav - recognition request failed: Bad Request\n"
     ]
    },
    {
     "name": "stderr",
     "output_type": "stream",
     "text": [
      "Processing:  39%|██████████▌                | 1661/4230 [27:47<32:27,  1.32it/s]"
     ]
    },
    {
     "name": "stdout",
     "output_type": "stream",
     "text": [
      "Error processing audio file: 1249120_43825820_80178644.wav - recognition request failed: Bad Request\n"
     ]
    },
    {
     "name": "stderr",
     "output_type": "stream",
     "text": [
      "\r",
      "Processing:  39%|██████████▌                | 1662/4230 [27:47<25:21,  1.69it/s]"
     ]
    },
    {
     "name": "stdout",
     "output_type": "stream",
     "text": [
      "Error processing audio file: 1249120_27392644_92472837.wav - recognition request failed: Bad Request\n"
     ]
    },
    {
     "name": "stderr",
     "output_type": "stream",
     "text": [
      "Processing:  40%|██████████▋                | 1680/4230 [28:04<23:31,  1.81it/s]"
     ]
    },
    {
     "name": "stdout",
     "output_type": "stream",
     "text": [
      "Error processing audio file: 1249120_43825820_100024735.wav - recognition request failed: Bad Request\n"
     ]
    },
    {
     "name": "stderr",
     "output_type": "stream",
     "text": [
      "Processing:  40%|██████████▊                | 1686/4230 [28:10<36:57,  1.15it/s]"
     ]
    },
    {
     "name": "stdout",
     "output_type": "stream",
     "text": [
      "Error processing audio file: 1249120_43825820_33778806.wav - recognition request failed: Bad Request\n"
     ]
    },
    {
     "name": "stderr",
     "output_type": "stream",
     "text": [
      "Processing:  41%|███████████▏               | 1746/4230 [29:08<23:26,  1.77it/s]"
     ]
    },
    {
     "name": "stdout",
     "output_type": "stream",
     "text": [
      "Error processing audio file: 1249120_27392644_103554308.wav - recognition request failed: Bad Request\n"
     ]
    },
    {
     "name": "stderr",
     "output_type": "stream",
     "text": [
      "Processing:  43%|███████████▋               | 1838/4230 [30:39<42:55,  1.08s/it]"
     ]
    },
    {
     "name": "stdout",
     "output_type": "stream",
     "text": [
      "Error processing audio file: 1249120_43825820_29912942.wav - recognition request failed: Bad Request\n"
     ]
    },
    {
     "name": "stderr",
     "output_type": "stream",
     "text": [
      "Processing:  44%|███████████▊               | 1858/4230 [31:02<39:54,  1.01s/it]"
     ]
    },
    {
     "name": "stdout",
     "output_type": "stream",
     "text": [
      "Error processing audio file: 1249120_43825820_20594643.wav - recognition request failed: Bad Request\n"
     ]
    },
    {
     "name": "stderr",
     "output_type": "stream",
     "text": [
      "Processing:  46%|████████████▎              | 1931/4230 [32:10<27:00,  1.42it/s]"
     ]
    },
    {
     "name": "stdout",
     "output_type": "stream",
     "text": [
      "Error processing audio file: 1249120_43825820_104241768.wav - recognition request failed: Bad Request\n"
     ]
    },
    {
     "name": "stderr",
     "output_type": "stream",
     "text": [
      "Processing:  48%|█████████████              | 2045/4230 [34:02<23:23,  1.56it/s]"
     ]
    },
    {
     "name": "stdout",
     "output_type": "stream",
     "text": [
      "Error processing audio file: 1249120_27392644_73969603.wav - recognition request failed: Bad Request\n"
     ]
    },
    {
     "name": "stderr",
     "output_type": "stream",
     "text": [
      "Processing:  49%|█████████████              | 2052/4230 [34:07<24:45,  1.47it/s]"
     ]
    },
    {
     "name": "stdout",
     "output_type": "stream",
     "text": [
      "Error processing audio file: 1249120_43825820_30923784.wav - recognition request failed: Bad Request\n"
     ]
    },
    {
     "name": "stderr",
     "output_type": "stream",
     "text": [
      "Processing:  49%|█████████████▎             | 2089/4230 [34:41<30:11,  1.18it/s]"
     ]
    },
    {
     "name": "stdout",
     "output_type": "stream",
     "text": [
      "Error processing audio file: 1249120_15965551_50224784.wav - recognition request failed: Bad Request\n"
     ]
    },
    {
     "name": "stderr",
     "output_type": "stream",
     "text": [
      "Processing:  50%|█████████████▌             | 2120/4230 [35:10<22:16,  1.58it/s]"
     ]
    },
    {
     "name": "stdout",
     "output_type": "stream",
     "text": [
      "Error processing audio file: 1249120_27392644_45319671.wav - recognition request failed: Bad Request\n"
     ]
    },
    {
     "name": "stderr",
     "output_type": "stream",
     "text": [
      "Processing:  51%|█████████████▊             | 2164/4230 [35:57<23:48,  1.45it/s]"
     ]
    },
    {
     "name": "stdout",
     "output_type": "stream",
     "text": [
      "Error processing audio file: 1249120_27392644_64208392.wav - recognition request failed: Bad Request\n"
     ]
    },
    {
     "name": "stderr",
     "output_type": "stream",
     "text": [
      "Processing:  51%|█████████████▉             | 2176/4230 [36:08<26:55,  1.27it/s]"
     ]
    },
    {
     "name": "stdout",
     "output_type": "stream",
     "text": [
      "Error processing audio file: 1249120_27392644_32901200.wav - recognition request failed: Bad Request\n"
     ]
    },
    {
     "name": "stderr",
     "output_type": "stream",
     "text": [
      "Processing:  52%|██████████████             | 2202/4230 [36:32<22:37,  1.49it/s]"
     ]
    },
    {
     "name": "stdout",
     "output_type": "stream",
     "text": [
      "Error processing audio file: 1249120_43825820_71713244.wav - recognition request failed: Bad Request\n"
     ]
    },
    {
     "name": "stderr",
     "output_type": "stream",
     "text": [
      "Processing:  53%|██████████████▏            | 2232/4230 [37:00<22:20,  1.49it/s]"
     ]
    },
    {
     "name": "stdout",
     "output_type": "stream",
     "text": [
      "Error processing audio file: 1249120_27392644_42382970.wav - recognition request failed: Bad Request\n"
     ]
    },
    {
     "name": "stderr",
     "output_type": "stream",
     "text": [
      "Processing:  54%|██████████████▍            | 2264/4230 [37:29<16:31,  1.98it/s]"
     ]
    },
    {
     "name": "stdout",
     "output_type": "stream",
     "text": [
      "Error processing audio file: 1249120_43825820_25793996.wav - recognition request failed: Bad Request\n"
     ]
    },
    {
     "name": "stderr",
     "output_type": "stream",
     "text": [
      "Processing:  55%|██████████████▉            | 2335/4230 [38:35<20:29,  1.54it/s]"
     ]
    },
    {
     "name": "stdout",
     "output_type": "stream",
     "text": [
      "Error processing audio file: 1249120_15965551_82958180.wav - recognition request failed: Bad Request\n"
     ]
    },
    {
     "name": "stderr",
     "output_type": "stream",
     "text": [
      "Processing:  56%|██████████████▉            | 2348/4230 [38:45<19:19,  1.62it/s]"
     ]
    },
    {
     "name": "stdout",
     "output_type": "stream",
     "text": [
      "Error processing audio file: 1249120_43825820_106367676.wav - recognition request failed: Bad Request\n"
     ]
    },
    {
     "name": "stderr",
     "output_type": "stream",
     "text": [
      "Processing:  56%|███████████████▏           | 2373/4230 [39:13<22:45,  1.36it/s]"
     ]
    },
    {
     "name": "stdout",
     "output_type": "stream",
     "text": [
      "Error processing audio file: 1249120_43825820_93161773.wav - recognition request failed: Bad Request\n"
     ]
    },
    {
     "name": "stderr",
     "output_type": "stream",
     "text": [
      "Processing:  56%|███████████████▏           | 2375/4230 [39:14<20:53,  1.48it/s]"
     ]
    },
    {
     "name": "stdout",
     "output_type": "stream",
     "text": [
      "Error processing audio file: 1249120_43825820_39335945.wav - recognition request failed: Bad Request\n"
     ]
    },
    {
     "name": "stderr",
     "output_type": "stream",
     "text": [
      "Processing:  57%|███████████████▎           | 2393/4230 [39:32<24:39,  1.24it/s]"
     ]
    },
    {
     "name": "stdout",
     "output_type": "stream",
     "text": [
      "Error processing audio file: 1249120_43825820_88279891.wav - recognition request failed: Bad Request\n"
     ]
    },
    {
     "name": "stderr",
     "output_type": "stream",
     "text": [
      "Processing:  59%|███████████████▊           | 2483/4230 [41:11<21:30,  1.35it/s]"
     ]
    },
    {
     "name": "stdout",
     "output_type": "stream",
     "text": [
      "Error processing audio file: 1249120_43825820_86209370.wav - recognition request failed: Bad Request\n"
     ]
    },
    {
     "name": "stderr",
     "output_type": "stream",
     "text": [
      "Processing:  59%|███████████████▉           | 2498/4230 [41:28<31:49,  1.10s/it]"
     ]
    },
    {
     "name": "stdout",
     "output_type": "stream",
     "text": [
      "Error processing audio file: 1249120_43825820_109122878.wav - recognition request failed: Bad Request\n"
     ]
    },
    {
     "name": "stderr",
     "output_type": "stream",
     "text": [
      "Processing:  60%|████████████████           | 2526/4230 [41:54<17:06,  1.66it/s]"
     ]
    },
    {
     "name": "stdout",
     "output_type": "stream",
     "text": [
      "Error processing audio file: 1249120_27392644_57763110.wav - recognition request failed: Bad Request\n"
     ]
    },
    {
     "name": "stderr",
     "output_type": "stream",
     "text": [
      "Processing:  60%|████████████████▎          | 2554/4230 [42:24<30:21,  1.09s/it]"
     ]
    },
    {
     "name": "stdout",
     "output_type": "stream",
     "text": [
      "Error processing audio file: 1249120_27392644_104240554.wav - recognition request failed: Bad Request\n"
     ]
    },
    {
     "name": "stderr",
     "output_type": "stream",
     "text": [
      "Processing:  61%|████████████████▍          | 2571/4230 [42:40<25:18,  1.09it/s]"
     ]
    },
    {
     "name": "stdout",
     "output_type": "stream",
     "text": [
      "Error processing audio file: 1249120_27392644_38977443.wav - recognition request failed: Bad Request\n"
     ]
    },
    {
     "name": "stderr",
     "output_type": "stream",
     "text": [
      "Processing:  61%|████████████████▍          | 2583/4230 [42:53<23:54,  1.15it/s]"
     ]
    },
    {
     "name": "stdout",
     "output_type": "stream",
     "text": [
      "Error processing audio file: 1249120_43825820_96179858.wav - recognition request failed: Bad Request\n"
     ]
    },
    {
     "name": "stderr",
     "output_type": "stream",
     "text": [
      "Processing:  62%|████████████████▋          | 2619/4230 [43:28<15:50,  1.70it/s]"
     ]
    },
    {
     "name": "stdout",
     "output_type": "stream",
     "text": [
      "Error processing audio file: 1249120_43825820_35431926.wav - recognition request failed: Bad Request\n"
     ]
    },
    {
     "name": "stderr",
     "output_type": "stream",
     "text": [
      "Processing:  64%|█████████████████▏         | 2699/4230 [44:40<15:57,  1.60it/s]"
     ]
    },
    {
     "name": "stdout",
     "output_type": "stream",
     "text": [
      "Error processing audio file: 1249120_43825820_58680972.wav - recognition request failed: Bad Request\n"
     ]
    },
    {
     "name": "stderr",
     "output_type": "stream",
     "text": [
      "Processing:  66%|█████████████████▉         | 2811/4230 [46:26<14:45,  1.60it/s]"
     ]
    },
    {
     "name": "stdout",
     "output_type": "stream",
     "text": [
      "Error processing audio file: 1249120_27392644_19148860.wav - recognition request failed: Bad Request\n"
     ]
    },
    {
     "name": "stderr",
     "output_type": "stream",
     "text": [
      "Processing:  68%|██████████████████▎        | 2874/4230 [47:34<17:24,  1.30it/s]"
     ]
    },
    {
     "name": "stdout",
     "output_type": "stream",
     "text": [
      "Error processing audio file: 1249120_43825820_59175540.wav - recognition request failed: Bad Request\n"
     ]
    },
    {
     "name": "stderr",
     "output_type": "stream",
     "text": [
      "Processing:  68%|██████████████████▍        | 2891/4230 [47:48<13:53,  1.61it/s]"
     ]
    },
    {
     "name": "stdout",
     "output_type": "stream",
     "text": [
      "Error processing audio file: 1249120_27392644_107604574.wav - recognition request failed: Bad Request\n"
     ]
    },
    {
     "name": "stderr",
     "output_type": "stream",
     "text": [
      "Processing:  72%|███████████████████▎       | 3034/4230 [50:24<14:12,  1.40it/s]"
     ]
    },
    {
     "name": "stdout",
     "output_type": "stream",
     "text": [
      "Error processing audio file: 1249120_27392644_10424458.wav - recognition request failed: Bad Request\n"
     ]
    },
    {
     "name": "stderr",
     "output_type": "stream",
     "text": [
      "Processing:  72%|███████████████████▍       | 3051/4230 [50:42<13:21,  1.47it/s]"
     ]
    },
    {
     "name": "stdout",
     "output_type": "stream",
     "text": [
      "Error processing audio file: 1249120_43825820_23278432.wav - recognition request failed: Bad Request\n"
     ]
    },
    {
     "name": "stderr",
     "output_type": "stream",
     "text": [
      "Processing:  73%|███████████████████▋       | 3085/4230 [51:13<09:38,  1.98it/s]"
     ]
    },
    {
     "name": "stdout",
     "output_type": "stream",
     "text": [
      "Error processing audio file: 1249120_27392644_81365534.wav - recognition request failed: Bad Request\n",
      "Error processing audio file: 1249120_27392644_37594410.wav - recognition request failed: Bad Request\n"
     ]
    },
    {
     "name": "stderr",
     "output_type": "stream",
     "text": [
      "Processing:  74%|████████████████████       | 3138/4230 [52:14<13:27,  1.35it/s]"
     ]
    },
    {
     "name": "stdout",
     "output_type": "stream",
     "text": [
      "Error processing audio file: 1249120_15965551_65155573.wav - recognition request failed: Bad Request\n"
     ]
    },
    {
     "name": "stderr",
     "output_type": "stream",
     "text": [
      "Processing:  74%|████████████████████       | 3140/4230 [52:14<09:21,  1.94it/s]"
     ]
    },
    {
     "name": "stdout",
     "output_type": "stream",
     "text": [
      "Error processing audio file: 1249120_27392644_11836461.wav - recognition request failed: Bad Request\n"
     ]
    },
    {
     "name": "stderr",
     "output_type": "stream",
     "text": [
      "Processing:  76%|████████████████████▌      | 3217/4230 [53:31<18:48,  1.11s/it]"
     ]
    },
    {
     "name": "stdout",
     "output_type": "stream",
     "text": [
      "Error processing audio file: 1249120_27392644_94581488.wav - recognition request failed: Bad Request\n"
     ]
    },
    {
     "name": "stderr",
     "output_type": "stream",
     "text": [
      "Processing:  76%|████████████████████▌      | 3228/4230 [53:40<11:35,  1.44it/s]"
     ]
    },
    {
     "name": "stdout",
     "output_type": "stream",
     "text": [
      "Error processing audio file: 1249120_43825820_28617748.wav - recognition request failed: Bad Request\n"
     ]
    },
    {
     "name": "stderr",
     "output_type": "stream",
     "text": [
      "Processing:  77%|████████████████████▊      | 3258/4230 [54:06<12:14,  1.32it/s]"
     ]
    },
    {
     "name": "stdout",
     "output_type": "stream",
     "text": [
      "Error processing audio file: 1249120_27392644_96110509.wav - recognition request failed: Bad Request\n"
     ]
    },
    {
     "name": "stderr",
     "output_type": "stream",
     "text": [
      "Processing:  78%|████████████████████▉      | 3282/4230 [54:29<11:01,  1.43it/s]"
     ]
    },
    {
     "name": "stdout",
     "output_type": "stream",
     "text": [
      "Error processing audio file: 1249120_27392644_61751864.wav - recognition request failed: Bad Request\n"
     ]
    },
    {
     "name": "stderr",
     "output_type": "stream",
     "text": [
      "Processing:  78%|█████████████████████      | 3296/4230 [54:45<12:51,  1.21it/s]"
     ]
    },
    {
     "name": "stdout",
     "output_type": "stream",
     "text": [
      "Error processing audio file: 1249120_15965551_44782675.wav - recognition request failed: Bad Request\n"
     ]
    },
    {
     "name": "stderr",
     "output_type": "stream",
     "text": [
      "Processing:  79%|█████████████████████▎     | 3345/4230 [55:38<12:35,  1.17it/s]"
     ]
    },
    {
     "name": "stdout",
     "output_type": "stream",
     "text": [
      "Error processing audio file: 1249120_27392644_15838768.wav - recognition request failed: Bad Request\n"
     ]
    },
    {
     "name": "stderr",
     "output_type": "stream",
     "text": [
      "Processing:  80%|█████████████████████▍     | 3363/4230 [55:54<09:26,  1.53it/s]"
     ]
    },
    {
     "name": "stdout",
     "output_type": "stream",
     "text": [
      "Error processing audio file: 1249120_27392644_79053520.wav - recognition request failed: Bad Request\n"
     ]
    },
    {
     "name": "stderr",
     "output_type": "stream",
     "text": [
      "Processing:  80%|████████████████████     | 3397/4230 [1:23:33<20:29,  1.48s/it]\n"
     ]
    },
    {
     "ename": "KeyboardInterrupt",
     "evalue": "",
     "output_type": "error",
     "traceback": [
      "\u001b[0;31m---------------------------------------------------------------------------\u001b[0m",
      "\u001b[0;31mKeyboardInterrupt\u001b[0m                         Traceback (most recent call last)",
      "\u001b[0;32m/var/folders/gk/mp0xvl413dq_cb2pj579h7h00000gn/T/ipykernel_7184/221633697.py\u001b[0m in \u001b[0;36m<module>\u001b[0;34m\u001b[0m\n\u001b[1;32m     17\u001b[0m \u001b[0;34m\u001b[0m\u001b[0m\n\u001b[1;32m     18\u001b[0m         \u001b[0;31m# Convert speech to text\u001b[0m\u001b[0;34m\u001b[0m\u001b[0;34m\u001b[0m\u001b[0m\n\u001b[0;32m---> 19\u001b[0;31m         \u001b[0mtext\u001b[0m \u001b[0;34m=\u001b[0m \u001b[0mr\u001b[0m\u001b[0;34m.\u001b[0m\u001b[0mrecognize_google\u001b[0m\u001b[0;34m(\u001b[0m\u001b[0maudio_data\u001b[0m\u001b[0;34m,\u001b[0m \u001b[0mshow_all\u001b[0m\u001b[0;34m=\u001b[0m\u001b[0;32mTrue\u001b[0m\u001b[0;34m)\u001b[0m\u001b[0;34m\u001b[0m\u001b[0;34m\u001b[0m\u001b[0m\n\u001b[0m\u001b[1;32m     20\u001b[0m \u001b[0;34m\u001b[0m\u001b[0m\n\u001b[1;32m     21\u001b[0m         \u001b[0;31m# Append text and filename to lists\u001b[0m\u001b[0;34m\u001b[0m\u001b[0;34m\u001b[0m\u001b[0m\n",
      "\u001b[0;32m~/opt/anaconda3/lib/python3.9/site-packages/speech_recognition/__init__.py\u001b[0m in \u001b[0;36mrecognize_google\u001b[0;34m(self, audio_data, key, language, pfilter, show_all, with_confidence)\u001b[0m\n\u001b[1;32m    711\u001b[0m         \u001b[0;32mexcept\u001b[0m \u001b[0mURLError\u001b[0m \u001b[0;32mas\u001b[0m \u001b[0me\u001b[0m\u001b[0;34m:\u001b[0m\u001b[0;34m\u001b[0m\u001b[0;34m\u001b[0m\u001b[0m\n\u001b[1;32m    712\u001b[0m             \u001b[0;32mraise\u001b[0m \u001b[0mRequestError\u001b[0m\u001b[0;34m(\u001b[0m\u001b[0;34m\"recognition connection failed: {}\"\u001b[0m\u001b[0;34m.\u001b[0m\u001b[0mformat\u001b[0m\u001b[0;34m(\u001b[0m\u001b[0me\u001b[0m\u001b[0;34m.\u001b[0m\u001b[0mreason\u001b[0m\u001b[0;34m)\u001b[0m\u001b[0;34m)\u001b[0m\u001b[0;34m\u001b[0m\u001b[0;34m\u001b[0m\u001b[0m\n\u001b[0;32m--> 713\u001b[0;31m         \u001b[0mresponse_text\u001b[0m \u001b[0;34m=\u001b[0m \u001b[0mresponse\u001b[0m\u001b[0;34m.\u001b[0m\u001b[0mread\u001b[0m\u001b[0;34m(\u001b[0m\u001b[0;34m)\u001b[0m\u001b[0;34m.\u001b[0m\u001b[0mdecode\u001b[0m\u001b[0;34m(\u001b[0m\u001b[0;34m\"utf-8\"\u001b[0m\u001b[0;34m)\u001b[0m\u001b[0;34m\u001b[0m\u001b[0;34m\u001b[0m\u001b[0m\n\u001b[0m\u001b[1;32m    714\u001b[0m \u001b[0;34m\u001b[0m\u001b[0m\n\u001b[1;32m    715\u001b[0m         \u001b[0;31m# ignore any blank blocks\u001b[0m\u001b[0;34m\u001b[0m\u001b[0;34m\u001b[0m\u001b[0m\n",
      "\u001b[0;32m~/opt/anaconda3/lib/python3.9/http/client.py\u001b[0m in \u001b[0;36mread\u001b[0;34m(self, amt)\u001b[0m\n\u001b[1;32m    468\u001b[0m \u001b[0;34m\u001b[0m\u001b[0m\n\u001b[1;32m    469\u001b[0m             \u001b[0;32mif\u001b[0m \u001b[0mself\u001b[0m\u001b[0;34m.\u001b[0m\u001b[0mchunked\u001b[0m\u001b[0;34m:\u001b[0m\u001b[0;34m\u001b[0m\u001b[0;34m\u001b[0m\u001b[0m\n\u001b[0;32m--> 470\u001b[0;31m                 \u001b[0;32mreturn\u001b[0m \u001b[0mself\u001b[0m\u001b[0;34m.\u001b[0m\u001b[0m_readall_chunked\u001b[0m\u001b[0;34m(\u001b[0m\u001b[0;34m)\u001b[0m\u001b[0;34m\u001b[0m\u001b[0;34m\u001b[0m\u001b[0m\n\u001b[0m\u001b[1;32m    471\u001b[0m \u001b[0;34m\u001b[0m\u001b[0m\n\u001b[1;32m    472\u001b[0m             \u001b[0;32mif\u001b[0m \u001b[0mself\u001b[0m\u001b[0;34m.\u001b[0m\u001b[0mlength\u001b[0m \u001b[0;32mis\u001b[0m \u001b[0;32mNone\u001b[0m\u001b[0;34m:\u001b[0m\u001b[0;34m\u001b[0m\u001b[0;34m\u001b[0m\u001b[0m\n",
      "\u001b[0;32m~/opt/anaconda3/lib/python3.9/http/client.py\u001b[0m in \u001b[0;36m_readall_chunked\u001b[0;34m(self)\u001b[0m\n\u001b[1;32m    575\u001b[0m         \u001b[0;32mtry\u001b[0m\u001b[0;34m:\u001b[0m\u001b[0;34m\u001b[0m\u001b[0;34m\u001b[0m\u001b[0m\n\u001b[1;32m    576\u001b[0m             \u001b[0;32mwhile\u001b[0m \u001b[0;32mTrue\u001b[0m\u001b[0;34m:\u001b[0m\u001b[0;34m\u001b[0m\u001b[0;34m\u001b[0m\u001b[0m\n\u001b[0;32m--> 577\u001b[0;31m                 \u001b[0mchunk_left\u001b[0m \u001b[0;34m=\u001b[0m \u001b[0mself\u001b[0m\u001b[0;34m.\u001b[0m\u001b[0m_get_chunk_left\u001b[0m\u001b[0;34m(\u001b[0m\u001b[0;34m)\u001b[0m\u001b[0;34m\u001b[0m\u001b[0;34m\u001b[0m\u001b[0m\n\u001b[0m\u001b[1;32m    578\u001b[0m                 \u001b[0;32mif\u001b[0m \u001b[0mchunk_left\u001b[0m \u001b[0;32mis\u001b[0m \u001b[0;32mNone\u001b[0m\u001b[0;34m:\u001b[0m\u001b[0;34m\u001b[0m\u001b[0;34m\u001b[0m\u001b[0m\n\u001b[1;32m    579\u001b[0m                     \u001b[0;32mbreak\u001b[0m\u001b[0;34m\u001b[0m\u001b[0;34m\u001b[0m\u001b[0m\n",
      "\u001b[0;32m~/opt/anaconda3/lib/python3.9/http/client.py\u001b[0m in \u001b[0;36m_get_chunk_left\u001b[0;34m(self)\u001b[0m\n\u001b[1;32m    558\u001b[0m                 \u001b[0mself\u001b[0m\u001b[0;34m.\u001b[0m\u001b[0m_safe_read\u001b[0m\u001b[0;34m(\u001b[0m\u001b[0;36m2\u001b[0m\u001b[0;34m)\u001b[0m  \u001b[0;31m# toss the CRLF at the end of the chunk\u001b[0m\u001b[0;34m\u001b[0m\u001b[0;34m\u001b[0m\u001b[0m\n\u001b[1;32m    559\u001b[0m             \u001b[0;32mtry\u001b[0m\u001b[0;34m:\u001b[0m\u001b[0;34m\u001b[0m\u001b[0;34m\u001b[0m\u001b[0m\n\u001b[0;32m--> 560\u001b[0;31m                 \u001b[0mchunk_left\u001b[0m \u001b[0;34m=\u001b[0m \u001b[0mself\u001b[0m\u001b[0;34m.\u001b[0m\u001b[0m_read_next_chunk_size\u001b[0m\u001b[0;34m(\u001b[0m\u001b[0;34m)\u001b[0m\u001b[0;34m\u001b[0m\u001b[0;34m\u001b[0m\u001b[0m\n\u001b[0m\u001b[1;32m    561\u001b[0m             \u001b[0;32mexcept\u001b[0m \u001b[0mValueError\u001b[0m\u001b[0;34m:\u001b[0m\u001b[0;34m\u001b[0m\u001b[0;34m\u001b[0m\u001b[0m\n\u001b[1;32m    562\u001b[0m                 \u001b[0;32mraise\u001b[0m \u001b[0mIncompleteRead\u001b[0m\u001b[0;34m(\u001b[0m\u001b[0;34mb''\u001b[0m\u001b[0;34m)\u001b[0m\u001b[0;34m\u001b[0m\u001b[0;34m\u001b[0m\u001b[0m\n",
      "\u001b[0;32m~/opt/anaconda3/lib/python3.9/http/client.py\u001b[0m in \u001b[0;36m_read_next_chunk_size\u001b[0;34m(self)\u001b[0m\n\u001b[1;32m    518\u001b[0m     \u001b[0;32mdef\u001b[0m \u001b[0m_read_next_chunk_size\u001b[0m\u001b[0;34m(\u001b[0m\u001b[0mself\u001b[0m\u001b[0;34m)\u001b[0m\u001b[0;34m:\u001b[0m\u001b[0;34m\u001b[0m\u001b[0;34m\u001b[0m\u001b[0m\n\u001b[1;32m    519\u001b[0m         \u001b[0;31m# Read the next chunk size from the file\u001b[0m\u001b[0;34m\u001b[0m\u001b[0;34m\u001b[0m\u001b[0m\n\u001b[0;32m--> 520\u001b[0;31m         \u001b[0mline\u001b[0m \u001b[0;34m=\u001b[0m \u001b[0mself\u001b[0m\u001b[0;34m.\u001b[0m\u001b[0mfp\u001b[0m\u001b[0;34m.\u001b[0m\u001b[0mreadline\u001b[0m\u001b[0;34m(\u001b[0m\u001b[0m_MAXLINE\u001b[0m \u001b[0;34m+\u001b[0m \u001b[0;36m1\u001b[0m\u001b[0;34m)\u001b[0m\u001b[0;34m\u001b[0m\u001b[0;34m\u001b[0m\u001b[0m\n\u001b[0m\u001b[1;32m    521\u001b[0m         \u001b[0;32mif\u001b[0m \u001b[0mlen\u001b[0m\u001b[0;34m(\u001b[0m\u001b[0mline\u001b[0m\u001b[0;34m)\u001b[0m \u001b[0;34m>\u001b[0m \u001b[0m_MAXLINE\u001b[0m\u001b[0;34m:\u001b[0m\u001b[0;34m\u001b[0m\u001b[0;34m\u001b[0m\u001b[0m\n\u001b[1;32m    522\u001b[0m             \u001b[0;32mraise\u001b[0m \u001b[0mLineTooLong\u001b[0m\u001b[0;34m(\u001b[0m\u001b[0;34m\"chunk size\"\u001b[0m\u001b[0;34m)\u001b[0m\u001b[0;34m\u001b[0m\u001b[0;34m\u001b[0m\u001b[0m\n",
      "\u001b[0;32m~/opt/anaconda3/lib/python3.9/socket.py\u001b[0m in \u001b[0;36mreadinto\u001b[0;34m(self, b)\u001b[0m\n\u001b[1;32m    702\u001b[0m         \u001b[0;32mwhile\u001b[0m \u001b[0;32mTrue\u001b[0m\u001b[0;34m:\u001b[0m\u001b[0;34m\u001b[0m\u001b[0;34m\u001b[0m\u001b[0m\n\u001b[1;32m    703\u001b[0m             \u001b[0;32mtry\u001b[0m\u001b[0;34m:\u001b[0m\u001b[0;34m\u001b[0m\u001b[0;34m\u001b[0m\u001b[0m\n\u001b[0;32m--> 704\u001b[0;31m                 \u001b[0;32mreturn\u001b[0m \u001b[0mself\u001b[0m\u001b[0;34m.\u001b[0m\u001b[0m_sock\u001b[0m\u001b[0;34m.\u001b[0m\u001b[0mrecv_into\u001b[0m\u001b[0;34m(\u001b[0m\u001b[0mb\u001b[0m\u001b[0;34m)\u001b[0m\u001b[0;34m\u001b[0m\u001b[0;34m\u001b[0m\u001b[0m\n\u001b[0m\u001b[1;32m    705\u001b[0m             \u001b[0;32mexcept\u001b[0m \u001b[0mtimeout\u001b[0m\u001b[0;34m:\u001b[0m\u001b[0;34m\u001b[0m\u001b[0;34m\u001b[0m\u001b[0m\n\u001b[1;32m    706\u001b[0m                 \u001b[0mself\u001b[0m\u001b[0;34m.\u001b[0m\u001b[0m_timeout_occurred\u001b[0m \u001b[0;34m=\u001b[0m \u001b[0;32mTrue\u001b[0m\u001b[0;34m\u001b[0m\u001b[0;34m\u001b[0m\u001b[0m\n",
      "\u001b[0;31mKeyboardInterrupt\u001b[0m: "
     ]
    }
   ],
   "source": [
    "# Create a recognizer object\n",
    "r = sr.Recognizer()\n",
    "\n",
    "# Create empty lists to store text and filename\n",
    "text_list = []\n",
    "filename_list = []\n",
    "\n",
    "# Process each audio file\n",
    "for audio_file in tqdm(audio_files, desc=\"Processing\"):\n",
    "    try:\n",
    "        audio_path = os.path.join(dir_path, audio_file)\n",
    "\n",
    "        # Open the audio file\n",
    "        with sr.AudioFile(audio_path) as source:\n",
    "            # Read the audio data\n",
    "            audio_data = r.record(source)\n",
    "\n",
    "        # Convert speech to text\n",
    "        text = r.recognize_google(audio_data, show_all=True)\n",
    "\n",
    "        # Append text and filename to lists\n",
    "        text_list.append(text)\n",
    "        filename_list.append(audio_file)\n",
    "\n",
    "    except sr.RequestError as e:\n",
    "        print(f\"Error processing audio file: {audio_file} - {e}\")\n",
    "        continue\n",
    "    except sr.UnknownValueError:\n",
    "        print(f\"No speech detected in audio file: {audio_file}\")\n",
    "        continue\n",
    "\n",
    "# Print the extracted texts and filenames\n",
    "for text, filename in zip(text_list, filename_list):\n",
    "    print(\"Filename:\", filename)\n",
    "    print(\"Text:\", text)\n",
    "    print()"
   ]
  },
  {
   "cell_type": "code",
   "execution_count": 24,
   "id": "1461a71d",
   "metadata": {},
   "outputs": [
    {
     "data": {
      "text/html": [
       "<div>\n",
       "<style scoped>\n",
       "    .dataframe tbody tr th:only-of-type {\n",
       "        vertical-align: middle;\n",
       "    }\n",
       "\n",
       "    .dataframe tbody tr th {\n",
       "        vertical-align: top;\n",
       "    }\n",
       "\n",
       "    .dataframe thead th {\n",
       "        text-align: right;\n",
       "    }\n",
       "</style>\n",
       "<table border=\"1\" class=\"dataframe\">\n",
       "  <thead>\n",
       "    <tr style=\"text-align: right;\">\n",
       "      <th></th>\n",
       "      <th>Text</th>\n",
       "      <th>Filename</th>\n",
       "    </tr>\n",
       "  </thead>\n",
       "  <tbody>\n",
       "    <tr>\n",
       "      <th>3290</th>\n",
       "      <td>{'alternative': [{'transcript': 'I have been l...</td>\n",
       "      <td>1249120_43898158_96674919.wav</td>\n",
       "    </tr>\n",
       "    <tr>\n",
       "      <th>3291</th>\n",
       "      <td>{'alternative': [{'transcript': 'my ear hurts ...</td>\n",
       "      <td>1249120_30766630_44870553.wav</td>\n",
       "    </tr>\n",
       "    <tr>\n",
       "      <th>3292</th>\n",
       "      <td>{'alternative': [{'transcript': 'the feeling o...</td>\n",
       "      <td>1249120_30937687_78575196.wav</td>\n",
       "    </tr>\n",
       "    <tr>\n",
       "      <th>3293</th>\n",
       "      <td>{'alternative': [{'transcript': 'Dwayne rock c...</td>\n",
       "      <td>1249120_42557795_98795337.wav</td>\n",
       "    </tr>\n",
       "    <tr>\n",
       "      <th>3294</th>\n",
       "      <td>{'alternative': [{'transcript': 'I got my aunt...</td>\n",
       "      <td>1249120_43665783_10685166.wav</td>\n",
       "    </tr>\n",
       "  </tbody>\n",
       "</table>\n",
       "</div>"
      ],
      "text/plain": [
       "                                                   Text   \n",
       "3290  {'alternative': [{'transcript': 'I have been l...  \\\n",
       "3291  {'alternative': [{'transcript': 'my ear hurts ...   \n",
       "3292  {'alternative': [{'transcript': 'the feeling o...   \n",
       "3293  {'alternative': [{'transcript': 'Dwayne rock c...   \n",
       "3294  {'alternative': [{'transcript': 'I got my aunt...   \n",
       "\n",
       "                           Filename  \n",
       "3290  1249120_43898158_96674919.wav  \n",
       "3291  1249120_30766630_44870553.wav  \n",
       "3292  1249120_30937687_78575196.wav  \n",
       "3293  1249120_42557795_98795337.wav  \n",
       "3294  1249120_43665783_10685166.wav  "
      ]
     },
     "execution_count": 24,
     "metadata": {},
     "output_type": "execute_result"
    }
   ],
   "source": [
    "# Create DataFrame\n",
    "data = {\"Text\": text_list, \"Filename\": filename_list}\n",
    "df_test_p2 = pd.DataFrame(data)\n",
    "df_test_p2.tail()\n"
   ]
  },
  {
   "cell_type": "code",
   "execution_count": 25,
   "id": "322806a1",
   "metadata": {},
   "outputs": [],
   "source": [
    "df_test_p2.to_csv(\"df_test_part2.csv\", index=False)"
   ]
  },
  {
   "cell_type": "markdown",
   "id": "7b922ab3",
   "metadata": {},
   "source": [
    "# after file 4561"
   ]
  },
  {
   "cell_type": "code",
   "execution_count": 28,
   "id": "f5e6d9fb",
   "metadata": {},
   "outputs": [],
   "source": [
    "dir_path = \"/Users/admin/Downloads/archive (3)/medical speech transcription and intent/Medical Speech, Transcription, and Intent/recordings/test/\"\n",
    "audio_files = os.listdir(dir_path)[4561:]"
   ]
  },
  {
   "cell_type": "code",
   "execution_count": 29,
   "id": "f4c71b18",
   "metadata": {},
   "outputs": [
    {
     "name": "stderr",
     "output_type": "stream",
     "text": [
      "Processing:  10%|██▉                         | 138/1334 [02:36<12:24,  1.61it/s]"
     ]
    },
    {
     "name": "stdout",
     "output_type": "stream",
     "text": [
      "Error processing audio file: 1249120_27392644_10424458.wav - recognition request failed: Bad Request\n"
     ]
    },
    {
     "name": "stderr",
     "output_type": "stream",
     "text": [
      "Processing:  12%|███▎                        | 155/1334 [02:55<13:13,  1.49it/s]"
     ]
    },
    {
     "name": "stdout",
     "output_type": "stream",
     "text": [
      "Error processing audio file: 1249120_43825820_23278432.wav - recognition request failed: Bad Request\n"
     ]
    },
    {
     "name": "stderr",
     "output_type": "stream",
     "text": [
      "Processing:  14%|███▉                        | 188/1334 [03:23<11:25,  1.67it/s]"
     ]
    },
    {
     "name": "stdout",
     "output_type": "stream",
     "text": [
      "Error processing audio file: 1249120_27392644_81365534.wav - recognition request failed: Bad Request\n",
      "Error processing audio file: 1249120_27392644_37594410.wav - recognition request failed: Bad Request\n"
     ]
    },
    {
     "name": "stderr",
     "output_type": "stream",
     "text": [
      "Processing:  18%|█████                       | 242/1334 [04:22<12:41,  1.43it/s]"
     ]
    },
    {
     "name": "stdout",
     "output_type": "stream",
     "text": [
      "Error processing audio file: 1249120_15965551_65155573.wav - recognition request failed: Bad Request\n"
     ]
    },
    {
     "name": "stderr",
     "output_type": "stream",
     "text": [
      "Processing:  18%|█████                       | 244/1334 [04:23<10:35,  1.72it/s]"
     ]
    },
    {
     "name": "stdout",
     "output_type": "stream",
     "text": [
      "Error processing audio file: 1249120_27392644_11836461.wav - recognition request failed: Bad Request\n"
     ]
    },
    {
     "name": "stderr",
     "output_type": "stream",
     "text": [
      "Processing:  24%|██████▋                     | 321/1334 [05:35<17:09,  1.02s/it]"
     ]
    },
    {
     "name": "stdout",
     "output_type": "stream",
     "text": [
      "Error processing audio file: 1249120_27392644_94581488.wav - recognition request failed: Bad Request\n"
     ]
    },
    {
     "name": "stderr",
     "output_type": "stream",
     "text": [
      "Processing:  25%|██████▉                     | 332/1334 [05:44<10:39,  1.57it/s]"
     ]
    },
    {
     "name": "stdout",
     "output_type": "stream",
     "text": [
      "Error processing audio file: 1249120_43825820_28617748.wav - recognition request failed: Bad Request\n"
     ]
    },
    {
     "name": "stderr",
     "output_type": "stream",
     "text": [
      "Processing:  27%|███████▌                    | 362/1334 [06:10<13:20,  1.21it/s]"
     ]
    },
    {
     "name": "stdout",
     "output_type": "stream",
     "text": [
      "Error processing audio file: 1249120_27392644_96110509.wav - recognition request failed: Bad Request\n"
     ]
    },
    {
     "name": "stderr",
     "output_type": "stream",
     "text": [
      "Processing:  29%|████████                    | 386/1334 [06:33<10:01,  1.58it/s]"
     ]
    },
    {
     "name": "stdout",
     "output_type": "stream",
     "text": [
      "Error processing audio file: 1249120_27392644_61751864.wav - recognition request failed: Bad Request\n"
     ]
    },
    {
     "name": "stderr",
     "output_type": "stream",
     "text": [
      "Processing:  30%|████████▍                   | 400/1334 [06:47<11:29,  1.35it/s]"
     ]
    },
    {
     "name": "stdout",
     "output_type": "stream",
     "text": [
      "Error processing audio file: 1249120_15965551_44782675.wav - recognition request failed: Bad Request\n"
     ]
    },
    {
     "name": "stderr",
     "output_type": "stream",
     "text": [
      "Processing:  34%|█████████▍                  | 449/1334 [07:39<11:38,  1.27it/s]"
     ]
    },
    {
     "name": "stdout",
     "output_type": "stream",
     "text": [
      "Error processing audio file: 1249120_27392644_15838768.wav - recognition request failed: Bad Request\n"
     ]
    },
    {
     "name": "stderr",
     "output_type": "stream",
     "text": [
      "Processing:  35%|█████████▊                  | 467/1334 [07:56<10:57,  1.32it/s]"
     ]
    },
    {
     "name": "stdout",
     "output_type": "stream",
     "text": [
      "Error processing audio file: 1249120_27392644_79053520.wav - recognition request failed: Bad Request\n"
     ]
    },
    {
     "name": "stderr",
     "output_type": "stream",
     "text": [
      "Processing:  44%|████████████▍               | 593/1334 [09:53<07:39,  1.61it/s]"
     ]
    },
    {
     "name": "stdout",
     "output_type": "stream",
     "text": [
      "Error processing audio file: 1249120_27392644_27648433.wav - recognition request failed: Bad Request\n"
     ]
    },
    {
     "name": "stderr",
     "output_type": "stream",
     "text": [
      "Processing:  45%|████████████▍               | 595/1334 [09:55<08:28,  1.45it/s]"
     ]
    },
    {
     "name": "stdout",
     "output_type": "stream",
     "text": [
      "Error processing audio file: 1249120_15965551_75075551.wav - recognition request failed: Bad Request\n"
     ]
    },
    {
     "name": "stderr",
     "output_type": "stream",
     "text": [
      "Processing:  49%|█████████████▊              | 657/1334 [10:54<07:49,  1.44it/s]"
     ]
    },
    {
     "name": "stdout",
     "output_type": "stream",
     "text": [
      "Error processing audio file: 1249120_15965551_67804099.wav - recognition request failed: Bad Request\n"
     ]
    },
    {
     "name": "stderr",
     "output_type": "stream",
     "text": [
      "Processing:  51%|██████████████▏             | 674/1334 [11:09<09:30,  1.16it/s]"
     ]
    },
    {
     "name": "stdout",
     "output_type": "stream",
     "text": [
      "Error processing audio file: 1249120_27392644_66504506.wav - recognition request failed: Bad Request\n"
     ]
    },
    {
     "name": "stderr",
     "output_type": "stream",
     "text": [
      "Processing:  52%|██████████████▋             | 697/1334 [11:28<07:06,  1.49it/s]"
     ]
    },
    {
     "name": "stdout",
     "output_type": "stream",
     "text": [
      "Error processing audio file: 1249120_27392644_55464974.wav - recognition request failed: Bad Request\n"
     ]
    },
    {
     "name": "stderr",
     "output_type": "stream",
     "text": [
      "Processing:  60%|████████████████▊           | 800/1334 [13:14<08:36,  1.03it/s]"
     ]
    },
    {
     "name": "stdout",
     "output_type": "stream",
     "text": [
      "Error processing audio file: 1249120_43825820_36808011.wav - recognition request failed: Bad Request\n"
     ]
    },
    {
     "name": "stderr",
     "output_type": "stream",
     "text": [
      "Processing:  61%|█████████████████▏          | 818/1334 [13:32<06:23,  1.34it/s]"
     ]
    },
    {
     "name": "stdout",
     "output_type": "stream",
     "text": [
      "Error processing audio file: 1249120_43825820_93799186.wav - recognition request failed: Bad Request\n"
     ]
    },
    {
     "name": "stderr",
     "output_type": "stream",
     "text": [
      "Processing:  62%|█████████████████▎          | 823/1334 [13:37<07:25,  1.15it/s]"
     ]
    },
    {
     "name": "stdout",
     "output_type": "stream",
     "text": [
      "Error processing audio file: 1249120_15965551_65583273.wav - recognition request failed: Bad Request\n"
     ]
    },
    {
     "name": "stderr",
     "output_type": "stream",
     "text": [
      "Processing:  70%|███████████████████▋        | 940/1334 [15:20<04:12,  1.56it/s]"
     ]
    },
    {
     "name": "stdout",
     "output_type": "stream",
     "text": [
      "Error processing audio file: 1249120_27392644_45860516.wav - recognition request failed: Bad Request\n"
     ]
    },
    {
     "name": "stderr",
     "output_type": "stream",
     "text": [
      "Processing:  72%|████████████████████▎       | 965/1334 [15:42<03:50,  1.60it/s]"
     ]
    },
    {
     "name": "stdout",
     "output_type": "stream",
     "text": [
      "Error processing audio file: 1249120_27392644_55099831.wav - recognition request failed: Bad Request\n"
     ]
    },
    {
     "name": "stderr",
     "output_type": "stream",
     "text": [
      "Processing:  76%|████████████████████▌      | 1018/1334 [16:31<04:22,  1.21it/s]"
     ]
    },
    {
     "name": "stdout",
     "output_type": "stream",
     "text": [
      "Error processing audio file: 1249120_27392644_72270632.wav - recognition request failed: Bad Request\n"
     ]
    },
    {
     "name": "stderr",
     "output_type": "stream",
     "text": [
      "Processing:  76%|████████████████████▋      | 1020/1334 [16:34<05:03,  1.03it/s]"
     ]
    },
    {
     "name": "stdout",
     "output_type": "stream",
     "text": [
      "Error processing audio file: 1249120_15965551_82673379.wav - recognition request failed: Bad Request\n"
     ]
    },
    {
     "name": "stderr",
     "output_type": "stream",
     "text": [
      "Processing:  79%|█████████████████████▍     | 1060/1334 [17:11<03:12,  1.42it/s]"
     ]
    },
    {
     "name": "stdout",
     "output_type": "stream",
     "text": [
      "Error processing audio file: 1249120_15965551_63975814.wav - recognition request failed: Bad Request\n"
     ]
    },
    {
     "name": "stderr",
     "output_type": "stream",
     "text": [
      "Processing:  84%|██████████████████████▋    | 1119/1334 [18:10<02:47,  1.28it/s]"
     ]
    },
    {
     "name": "stdout",
     "output_type": "stream",
     "text": [
      "Error processing audio file: 1249120_27392644_15083037.wav - recognition request failed: Bad Request\n"
     ]
    },
    {
     "name": "stderr",
     "output_type": "stream",
     "text": [
      "Processing:  84%|██████████████████████▋    | 1121/1334 [18:12<03:06,  1.14it/s]"
     ]
    },
    {
     "name": "stdout",
     "output_type": "stream",
     "text": [
      "Error processing audio file: 1249120_43825820_76325713.wav - recognition request failed: Bad Request\n"
     ]
    },
    {
     "name": "stderr",
     "output_type": "stream",
     "text": [
      "Processing:  85%|███████████████████████    | 1138/1334 [18:31<02:47,  1.17it/s]"
     ]
    },
    {
     "name": "stdout",
     "output_type": "stream",
     "text": [
      "Error processing audio file: 1249120_43825820_24998638.wav - recognition request failed: Bad Request\n"
     ]
    },
    {
     "name": "stderr",
     "output_type": "stream",
     "text": [
      "Processing:  86%|███████████████████████▎   | 1152/1334 [18:43<02:39,  1.14it/s]"
     ]
    },
    {
     "name": "stdout",
     "output_type": "stream",
     "text": [
      "Error processing audio file: 1249120_15965551_64170568.wav - recognition request failed: Bad Request\n"
     ]
    },
    {
     "name": "stderr",
     "output_type": "stream",
     "text": [
      "Processing:  90%|████████████████████████▏  | 1195/1334 [19:28<02:02,  1.13it/s]"
     ]
    },
    {
     "name": "stdout",
     "output_type": "stream",
     "text": [
      "Error processing audio file: 1249120_43825820_49953408.wav - recognition request failed: Bad Request\n"
     ]
    },
    {
     "name": "stderr",
     "output_type": "stream",
     "text": [
      "Processing:  92%|████████████████████████▊  | 1228/1334 [20:01<01:37,  1.09it/s]"
     ]
    },
    {
     "name": "stdout",
     "output_type": "stream",
     "text": [
      "Error processing audio file: 1249120_43825820_37458345.wav - recognition request failed: Bad Request\n"
     ]
    },
    {
     "name": "stderr",
     "output_type": "stream",
     "text": [
      "Processing: 100%|███████████████████████████| 1334/1334 [21:42<00:00,  1.02it/s]"
     ]
    },
    {
     "name": "stdout",
     "output_type": "stream",
     "text": [
      "Filename: 1249120_43788827_60473832.wav\n",
      "Text: {'alternative': [{'transcript': 'I feel great pain in the head', 'confidence': 0.987629}], 'final': True}\n",
      "\n",
      "Filename: 1249120_35448024_103587684.wav\n",
      "Text: {'alternative': [{'transcript': 'every time I felt', 'confidence': 0.77504253}, {'transcript': 'every time I felt really'}, {'transcript': 'every time I felt dizzy'}, {'transcript': 'every time iPhone'}, {'transcript': 'every time'}], 'final': True}\n",
      "\n",
      "Filename: 1249120_43856216_108332562.wav\n",
      "Text: {'alternative': [{'transcript': \"my acne is really embarrassing it's so red\", 'confidence': 0.95740718}, {'transcript': \"my Acme is really embarrassing it's so red\"}, {'transcript': \"my akma is really embarrassing it's so red\"}, {'transcript': \"my acne it is really embarrassing it's so red\"}, {'transcript': \"miac me is really embarrassing it's so red\"}], 'final': True}\n",
      "\n",
      "Filename: 1249120_42557795_99228781.wav\n",
      "Text: {'alternative': [{'transcript': \"I feel like I just can't cope anymore I feel overwhelmed and like I just can't get a break\", 'confidence': 0.98762906}], 'final': True}\n",
      "\n",
      "Filename: 1249120_42554554_93153602.wav\n",
      "Text: {'alternative': [{'transcript': 'I feel pain in my back', 'confidence': 0.83960295}, {'transcript': 'I feel a pain in my back'}, {'transcript': 'I feel the pain in my back'}], 'final': True}\n",
      "\n",
      "Filename: 1249120_19425875_109201856.wav\n",
      "Text: {'alternative': [{'transcript': \"my nose is congested all the time and there's this Gloomy secretion in my throat that makes it impossible for me to sleep I often have to nap sitting down\", 'confidence': 0.86770034}, {'transcript': \"my nose is congested all the time and there's this gluey secretion in my throat that makes it impossible for me to sleep I often have to nap sitting down\"}, {'transcript': \"my nose is congested all the time and there's this Gloomy secretion in my throat that makes it impossible for me to sleep I often have two naps sitting down\"}, {'transcript': \"my nose is congested all the time and there's this gluey secretion in my throat that makes it impossible for me to sleep I often have two naps sitting down\"}], 'final': True}\n",
      "\n",
      "Filename: 1249120_33251186_35107306.wav\n",
      "Text: {'alternative': [{'transcript': 'I feel great pressure in my chest', 'confidence': 0.92110711}, {'transcript': 'I feel great prisoner in my chest'}, {'transcript': 'I feel great bracer in my chest'}, {'transcript': 'I feel great Brazier in my chest'}, {'transcript': 'I feel great braser in my chest'}], 'final': True}\n",
      "\n",
      "Filename: 1249120_43883861_13900622.wav\n",
      "Text: {'alternative': [{'transcript': 'icon see the sign I have a blurry witch', 'confidence': 0.74985951}, {'transcript': 'icon see the sign I have a blurry'}, {'transcript': 'icon see the sign I have a blurry wish'}, {'transcript': 'icon see the sign I have a blurry rich'}, {'transcript': 'icon see the sign I have a blurry with'}], 'final': True}\n",
      "\n",
      "Filename: 1249120_43856216_76137031.wav\n",
      "Text: {'alternative': [{'transcript': 'every morning when I wake up my neck feels like I slept on it wrong', 'confidence': 0.96756685}, {'transcript': 'every morning when I wake up my neck feels like I slept on in Rome'}, {'transcript': 'every morning when I wake up my neck feel like I slept on in Rome'}], 'final': True}\n",
      "\n",
      "Filename: 1249120_43855932_108342691.wav\n",
      "Text: {'alternative': [{'transcript': 'my back is hurting so much', 'confidence': 0.987629}], 'final': True}\n",
      "\n",
      "Filename: 1249120_40401830_81737655.wav\n",
      "Text: {'alternative': [{'transcript': 'enough for smallest view I have blurry vision', 'confidence': 0.62201607}, {'transcript': 'enough for smallest of you I have blurry vision'}, {'transcript': 'enough force my eyes to view I have blurry vision'}, {'transcript': 'enough ozma is to view I have blurry vision'}, {'transcript': 'enough all smallest view I have blurry vision'}], 'final': True}\n",
      "\n",
      "Filename: 1249120_43794413_41702021.wav\n",
      "Text: {'alternative': [{'transcript': 'I feel horse in my hair', 'confidence': 0.920443}, {'transcript': 'horse in my hair'}, {'transcript': 'IPL horse in my hair'}], 'final': True}\n",
      "\n",
      "Filename: 1249120_44093303_108819586.wav\n",
      "Text: {'alternative': [{'transcript': 'I have a blurry vision during my swimming training in the pool y', 'confidence': 0.95513219}, {'transcript': 'I have a blurry vision during my swimming training in the pool why'}, {'transcript': 'I have a blurry vision during my swimming training in the pool guy'}, {'transcript': 'I have a blurry vision during my swimming training in the pool by'}, {'transcript': 'I have a blurry vision during my swimming training in the pool while I'}], 'final': True}\n",
      "\n",
      "Filename: 1249120_43665783_29917042.wav\n",
      "Text: {'alternative': [{'transcript': \"I haven't got back in my lower back with Mexico difficult to move\", 'confidence': 0.80790263}, {'transcript': \"I haven't got a crack in my lower back with Mexico difficult to move\"}, {'transcript': 'I have a dog act in my lower back with Mexico difficult to move'}, {'transcript': \"I haven't got act in my lower back with Mexico difficult to move\"}, {'transcript': \"I haven't got back in my lower back with Mexican difficult to move\"}], 'final': True}\n",
      "\n",
      "Filename: 1249120_41956733_52716172.wav\n",
      "Text: {'alternative': [{'transcript': 'my knee feels weak and give away the other the other top of the stairs luckily there was a rail to hold on to', 'confidence': 0.88980883}, {'transcript': 'my knee feels weak and give away the other the other top of the stairs luckily there was a rail to hold onto'}, {'transcript': 'my knee feels weak and give away the other day at the top of the stairs luckily there was a rail to hold on to'}, {'transcript': 'my knee feels weak and give away the other day at the top of the stairs luckily there was a rail to hold onto'}, {'transcript': 'my knee feels weak and give away the other the other top of the stairs luckily there was a rail to hold on to her'}], 'final': True}\n",
      "\n",
      "Filename: 1249120_38042052_68857502.wav\n",
      "Text: {'alternative': [{'transcript': 'it feels like a swollen knot at my shoulder blade with pain shooting from bats', 'confidence': 0.87009317}, {'transcript': 'this feels like a swollen knot at my shoulder blade with pain shooting from bats'}, {'transcript': 'it feels like a swollen nodes at my shoulder blade with pain shooting from bats'}, {'transcript': 'it feels like a swollen notes at my shoulder blade with pain shooting from bats'}, {'transcript': 'that feels like a swollen knot at my shoulder blade with pain shooting from bats'}], 'final': True}\n",
      "\n",
      "Filename: 1249120_40184183_30207178.wav\n",
      "Text: {'alternative': [{'transcript': 'I have it on hand itches really bad', 'confidence': 0.5778265}, {'transcript': \"I haven't asked hand itches really bad\"}, {'transcript': 'I have addressed hand itches really bad'}, {'transcript': 'I have address and each has very bad'}, {'transcript': 'I have a task hand itches really bad'}], 'final': True}\n",
      "\n",
      "Filename: 1249120_28006404_59446824.wav\n",
      "Text: {'alternative': [{'transcript': 'I need a kind of cream which make my muscles more relaxed', 'confidence': 0.95970207}, {'transcript': 'Anita kind of cream which make my muscles more relaxed'}, {'transcript': 'I need to kind of cream which make my muscles more relaxed'}, {'transcript': 'I need a kind of cream witch make my muscles more relaxed'}, {'transcript': \"I need a kind of cream'wich make my muscles more relaxed\"}], 'final': True}\n",
      "\n",
      "Filename: 1249120_21665495_55343670.wav\n",
      "Text: {'alternative': [{'transcript': 'hearing any loud sounds makes my ear aches', 'confidence': 0.95315069}, {'transcript': 'hearing any loud sounds makes my ear ache'}, {'transcript': 'Ewing any loud sounds makes my ear aches'}, {'transcript': 'hewing any loud sounds makes my ear aches'}, {'transcript': 'you doing any loud sounds makes my ear aches'}], 'final': True}\n",
      "\n",
      "Filename: 1249120_17632529_92291246.wav\n",
      "Text: {'alternative': [{'transcript': 'it is hard to breathe when I am in the underground Metro station why', 'confidence': 0.96634632}, {'transcript': 'it is hard to breathe when I am in the underground Metro station y'}, {'transcript': 'it is hard to breathe when I am in the underground Metro station by'}, {'transcript': 'it is hard to breathe when i m in the underground Metro station why'}, {'transcript': 'it is hard to breathe when i m in the underground Metro station y'}], 'final': True}\n",
      "\n",
      "Filename: 1249120_40184183_67735002.wav\n",
      "Text: {'alternative': [{'transcript': 'I can hardly breathe', 'confidence': 0.98762906}], 'final': True}\n",
      "\n",
      "Filename: 1249120_30766630_70207633.wav\n",
      "Text: {'alternative': [{'transcript': 'I have a blurry vision after my head was hit yesterday', 'confidence': 0.987629}], 'final': True}\n",
      "\n",
      "Filename: 1249120_39438102_101655722.wav\n",
      "Text: {'alternative': [{'transcript': 'my grandson had his foot on a seashell in the ocean and now it is turning gray and his puppy', 'confidence': 0.80020076}, {'transcript': 'my grandson had his foot on a seashell in the ocean and now the foot is turning gray and his puppy'}, {'transcript': 'my grandson had his foot on a seashell in the ocean and now it is turning grey and his puppy'}, {'transcript': 'my grandson had his foot on a seashell in the ocean and now the foot is turning grey and his puppy'}, {'transcript': 'my grandson had his foot on a seashell in the ocean and now the foot is turning grey and is Puffy'}], 'final': True}\n",
      "\n",
      "Filename: 1249120_14353703_41394319.wav\n",
      "Text: {'alternative': [{'transcript': \"I'm disappointed\", 'confidence': 0.95395398}, {'transcript': \"I'm dissapointed\", 'confidence': 0.95395398}], 'final': True}\n",
      "\n",
      "Filename: 1249120_14353703_101806535.wav\n",
      "Text: {'alternative': [{'transcript': 'I feel a great pain in my shoulder when I try to lift something heavy', 'confidence': 0.95513421}, {'transcript': 'I feel like great pain in my shoulder when I try to lift something heavy'}, {'transcript': 'I feel great pain in my shoulder when I try to lift something heavy'}], 'final': True}\n",
      "\n",
      "Filename: 1249120_40725179_85303412.wav\n",
      "Text: {'alternative': [{'transcript': \"I have tried to relieve it but I can't\", 'confidence': 0.7724961}, {'transcript': 'I have tried to relieve it but I can'}, {'transcript': \"I have try to relieve it but I can't\"}, {'transcript': 'I have try to relieve it but I can'}, {'transcript': 'I have tried to leave it but I can'}], 'final': True}\n",
      "\n",
      "Filename: 1249120_17632529_17442112.wav\n",
      "Text: {'alternative': [{'transcript': 'my acne gets worse when it is hot', 'confidence': 0.987629}], 'final': True}\n",
      "\n",
      "Filename: 1249120_19425875_72618137.wav\n",
      "Text: {'alternative': [{'transcript': 'I had an accident in my wound was open when I arrive to hospital', 'confidence': 0.96952611}, {'transcript': 'I had an accident in my wound was open when I arrived to hospital'}, {'transcript': 'I had an accident in my wound was open when I arrive 2 Hospital'}], 'final': True}\n",
      "\n",
      "Filename: 1249120_38548574_11196558.wav\n",
      "Text: []\n",
      "\n",
      "Filename: 1249120_18172663_95081168.wav\n",
      "Text: {'alternative': [{'transcript': \"when I wake up I'm feeling cold\", 'confidence': 0.91198605}, {'transcript': 'when I wake up I am feeling cold'}], 'final': True}\n",
      "\n",
      "Filename: 1249120_41087148_26497479.wav\n",
      "Text: {'alternative': [{'transcript': 'my heart Savannah Twilight Saturday', 'confidence': 0.80286723}, {'transcript': 'my heart surrender Twilight Saturday'}, {'transcript': \"my heart's in Venezuela is Saturday\"}, {'transcript': 'my heart to Venezuela is Saturday'}, {'transcript': 'my heart Savanna Twilight Saturday'}], 'final': True}\n",
      "\n",
      "Filename: 1249120_13842059_17269028.wav\n",
      "Text: {'alternative': [{'transcript': 'my luxaire is okay but the right one feels like it is being stabbed with a nail', 'confidence': 0.84381407}, {'transcript': 'my left are is okay but the right one feels like it is being stabbed with a nail'}, {'transcript': 'my luxaire is okay but the right one feels like it is being stabbed with an ale'}, {'transcript': 'my luck are is okay but the right one feels like it is being stabbed with a nail'}, {'transcript': 'my love are is okay but the right one feels like it is being stabbed with a nail'}], 'final': True}\n",
      "\n",
      "Filename: 1249120_19425875_57422083.wav\n",
      "Text: {'alternative': [{'transcript': 'I started taking swimming lessons and I guess I swallowed too much water through my nose because the sign itis is killing me now', 'confidence': 0.89789027}, {'transcript': 'I started taking swimming lessons and I guess I swallow too much water through my nose because the sign itis is killing me now'}, {'transcript': 'I started taking swimming lessons and I guess I swallowed too much water through my nose because this sign itis is killing me now'}, {'transcript': \"I started taking swimming lessons and I guess I've swallowed too much water through my nose because the sign itis is killing me now\"}, {'transcript': 'I started taking swimming lessons and I guess I swallow too much water through my nose because this sign itis is killing me now'}], 'final': True}\n",
      "\n",
      "Filename: 1249120_44088493_70063284.wav\n",
      "Text: {'alternative': [{'transcript': 'my stomach has been sore since yesterday', 'confidence': 0.98635244}, {'transcript': 'my stomach has been sourced since yesterday'}, {'transcript': 'my stomach has been sources yesterday'}], 'final': True}\n",
      "\n",
      "Filename: 1249120_42210938_27476164.wav\n",
      "Text: {'alternative': [{'transcript': 'sometimes', 'confidence': 0.70775324}, {'transcript': 'sometime'}, {'transcript': 'sometimes my booty'}, {'transcript': 'sometimes my Boutique'}], 'final': True}\n",
      "\n",
      "Filename: 1249120_36505751_82527581.wav\n",
      "Text: {'alternative': [{'transcript': 'there are lots of hairs on my pillow in the morning', 'confidence': 0.8474645}, {'transcript': 'there are lots of hair on my pillow in the morning'}, {'transcript': 'there are lots of head on my pillow in the morning'}, {'transcript': 'there are lots of heads on my pillow in the morning'}, {'transcript': 'there are lots of errors on my pillow in the morning'}], 'final': True}\n",
      "\n",
      "Filename: 1249120_28006404_32033064.wav\n",
      "Text: {'alternative': [{'transcript': 'I have cloudy eyes', 'confidence': 0.98762906}], 'final': True}\n",
      "\n",
      "Filename: 1249120_43856216_105124608.wav\n",
      "Text: {'alternative': [{'transcript': 'even if the temperature is high in the house my body is always cold', 'confidence': 0.987629}], 'final': True}\n",
      "\n",
      "Filename: 1249120_41221824_47171145.wav\n",
      "Text: {'alternative': [{'transcript': 'I feel a sharp pain in my head when I seem to out', 'confidence': 0.97086036}, {'transcript': 'I feel a sharp pain in my head when I seem too out'}, {'transcript': 'I feel a sharp pain in my head when I sync two out'}, {'transcript': 'I feel a sharp pain in my head when I seemed to out'}], 'final': True}\n",
      "\n",
      "Filename: 1249120_43172391_35936151.wav\n",
      "Text: {'alternative': [{'transcript': 'everytime it rains I get hives on my belly and fight', 'confidence': 0.85854077}, {'transcript': 'everytime it rains I get hives on my belly and site'}, {'transcript': 'everytime it rains I get hives on my belly and sight'}, {'transcript': 'everytime it rains I get high for my belly and fight'}, {'transcript': 'everytime it rains I Get Hype for my belly and fight'}], 'final': True}\n",
      "\n",
      "Filename: 1249120_44140394_56897128.wav\n",
      "Text: {'alternative': [{'transcript': 'I feel shoulder pain at intervals of time', 'confidence': 0.987629}], 'final': True}\n",
      "\n",
      "Filename: 1249120_15004831_95054458.wav\n",
      "Text: {'alternative': [{'transcript': 'the pain in my ear is unbearable', 'confidence': 0.93605286}, {'transcript': 'the pain in my Eire is unbearable', 'confidence': 0.93605286}, {'transcript': 'the pain Inn my ear is unbearable', 'confidence': 0.93605286}, {'transcript': 'the pain in my ear Iz unbearable', 'confidence': 0.93605286}, {'transcript': 'the Payne Inn my ear is unbearable', 'confidence': 0.93605286}], 'final': True}\n",
      "\n",
      "Filename: 1249120_41150153_44722782.wav\n",
      "Text: {'alternative': [{'transcript': 'already references in close to my arms', 'confidence': 0.57287371}, {'transcript': \"I'm already references in close to my arms\"}, {'transcript': \"I'm already references and close to my arms\"}, {'transcript': 'ready references in close to my arms'}, {'transcript': 'already references and close to my arms'}], 'final': True}\n",
      "\n",
      "Filename: 1249120_43453425_10450489.wav\n",
      "Text: {'alternative': [{'transcript': 'stomach pain after drinking milk', 'confidence': 0.94290906}, {'transcript': 'the stomach pain after drinking milk', 'confidence': 0.83916301}, {'transcript': 'stomach pain after drinking mielke', 'confidence': 0.94290906}, {'transcript': 'stomach pain after drinking milck', 'confidence': 0.94290906}, {'transcript': 'stomach Payne after drinking milk', 'confidence': 0.94290906}], 'final': True}\n",
      "\n",
      "Filename: 1249120_44140394_69903465.wav\n",
      "Text: {'alternative': [{'transcript': \"I can't stand up I feel my brain is moving inside my skull\", 'confidence': 0.88229585}, {'transcript': \"I can't stand up until my brain is moving inside my skull\"}, {'transcript': \"I can't stand up I so my brain is moving inside my skull\"}, {'transcript': \"I can't stand up I saw my brain is moving inside my skull\"}, {'transcript': \"I can't stand up I sell my brain is moving inside my skull\"}], 'final': True}\n",
      "\n",
      "Filename: 1249120_44111844_96701932.wav\n",
      "Text: {'alternative': [{'transcript': 'my hair is falling out just like home', 'confidence': 0.87663525}, {'transcript': 'my hair is falling out just because'}, {'transcript': 'my hair is falling out just by coma'}, {'transcript': 'my hair is falling out just by Coleman'}, {'transcript': 'my hair is falling out just like all movies'}], 'final': True}\n",
      "\n",
      "Filename: 1249120_39142299_97149074.wav\n",
      "Text: {'alternative': [{'transcript': 'I have been over my cold for weeks but still cough everyday', 'confidence': 0.88963246}, {'transcript': 'I have been over my cold for weeks but still cough every day'}, {'transcript': 'I have been over my cold four weeks but still cough everyday'}, {'transcript': 'I have been over my cold 4 weeks but still cough everyday'}, {'transcript': 'I have been over my cold four weeks but still cough every day'}], 'final': True}\n",
      "\n",
      "Filename: 1249120_17632529_106002905.wav\n",
      "Text: {'alternative': [{'transcript': 'I have a blurry vision during my swimming training in the pool y', 'confidence': 0.95471513}, {'transcript': 'I have a blurry vision during my swimming training in the pool why'}, {'transcript': 'I have a blurry vision during my swimming training in the pool guy'}, {'transcript': 'I have a blurry vision during my swimming training in the pool by'}], 'final': True}\n",
      "\n",
      "Filename: 1249120_44027675_109310976.wav\n",
      "Text: []\n",
      "\n",
      "Filename: 1249120_44093303_55786254.wav\n",
      "Text: {'alternative': [{'transcript': 'I was playing basketball yesterday I have sprained ankle', 'confidence': 0.98762906}], 'final': True}\n",
      "\n",
      "Filename: 1249120_41336418_54337022.wav\n",
      "Text: {'alternative': [{'transcript': \"when I try to answer the phone call iPhone that I can't hear the speaker\", 'confidence': 0.81684667}, {'transcript': \"when I try to answer the phone call iPhone. I can't hear the speaker\"}, {'transcript': \"when I try to answer the phone call iPhone that I can't hear the voice speaker\"}, {'transcript': \"when I try to answer the phone call iPhone. I can't hear the voice speaker\"}, {'transcript': \"when I try to answer the phone call iPhone that I can't hear the Ouachita speaker\"}], 'final': True}\n",
      "\n",
      "Filename: 1249120_43577102_35169414.wav\n",
      "Text: {'alternative': [{'transcript': 'my skin is itchy and inflamed', 'confidence': 0.987629}], 'final': True}\n",
      "\n",
      "Filename: 1249120_44101988_70911591.wav\n",
      "Text: {'alternative': [{'transcript': 'there is an injured person', 'confidence': 0.83748114}, {'transcript': 'that is an injured person', 'confidence': 0.78264636}, {'transcript': 'there is an injured Persson', 'confidence': 0.83748114}, {'transcript': 'there is an injured persin', 'confidence': 0.83748114}, {'transcript': 'there is an injured personne', 'confidence': 0.83748114}], 'final': True}\n",
      "\n",
      "Filename: 1249120_39154234_100388042.wav\n",
      "Text: {'alternative': [{'transcript': 'even if the temperature is high in the house my body is always cold', 'confidence': 0.95603067}, {'transcript': 'even if the temperature is higher in the house my body is always cold'}, {'transcript': 'even if the temperature is a high in the house my body is always cold'}, {'transcript': \"even if the temperature is high in the house my body's always hot\"}, {'transcript': \"even if the temperature is higher in the house my body's always hot\"}], 'final': True}\n",
      "\n",
      "Filename: 1249120_38202325_56024369.wav\n",
      "Text: {'alternative': [{'transcript': 'I carried a heavy bag yesterday and when I get up today I felt a great shoulder pain', 'confidence': 0.98762906}], 'final': True}\n",
      "\n",
      "Filename: 1249120_41956733_100274590.wav\n",
      "Text: {'alternative': [{'transcript': 'eating I have burning sensation inside of me', 'confidence': 0.93395263}, {'transcript': 'meeting I have burning sensation inside of me'}], 'final': True}\n",
      "\n",
      "Filename: 1249120_30766630_98579606.wav\n",
      "Text: {'alternative': [{'transcript': \"I wake up with a stiff neck every morning massage helps but in a couple of days later it's back again\", 'confidence': 0.96638525}, {'transcript': 'I wake up with a stiff neck every morning massage helps but in a couple of days later its back again'}, {'transcript': \"I wake up with a stiff neck every morning massage help but in a couple of days later it's back again\"}, {'transcript': 'I wake up with a stiff neck every morning massage help but in a couple of days later its back again'}], 'final': True}\n",
      "\n",
      "Filename: 1249120_35444693_68309312.wav\n",
      "Text: []\n",
      "\n",
      "Filename: 1249120_35444693_40732684.wav\n",
      "Text: {'alternative': [{'transcript': 'I could not stop', 'confidence': 0.95379645}, {'transcript': 'I could not stop shaking'}, {'transcript': 'I could not stop shaking.'}, {'transcript': 'I could not stop.'}, {'transcript': 'I could not'}], 'final': True}\n",
      "\n",
      "Filename: 1249120_40184183_83450535.wav\n",
      "Text: {'alternative': [{'transcript': 'I have dark spots on my skin', 'confidence': 0.89850932}, {'transcript': 'I have bad spots on my skin'}], 'final': True}\n",
      "\n",
      "Filename: 1249120_36505751_25939040.wav\n",
      "Text: {'alternative': [{'transcript': 'my mind feels very sad as if it hurts the way I feel in my head is awful and when I think about my breakup I cry with sadness', 'confidence': 0.96539241}, {'transcript': 'my mind feels very sad as if it hurts the way I feel in my head is awful and when I think about my break-up I cry with sadness', 'confidence': 0.94806862}, {'transcript': 'my mind feels very sad as if it hurts the way I feel in my head is awful and when I think about my break up I cry with sadness', 'confidence': 0.9442901}, {'transcript': 'my mind feels very sad as if it hurts the way I feel in my head is aweful and when I think about my breakup I cry with sadness', 'confidence': 0.96539241}, {'transcript': 'my mind feels very sad as if it hurts the way I feel in my head is offl and when I think about my breakup I cry with sadness', 'confidence': 0.96539241}], 'final': True}\n",
      "\n",
      "Filename: 1249120_36929821_82344449.wav\n",
      "Text: {'alternative': [{'transcript': 'I have a feeling like my whole body is complaining', 'confidence': 0.98762906}], 'final': True}\n",
      "\n",
      "Filename: 1249120_44093933_27012166.wav\n",
      "Text: {'alternative': [{'transcript': 'my niece cheap grind hiu Cocopah downstairs', 'confidence': 0.65810603}, {'transcript': 'my niece cheap grind hid Cocopah downstairs'}, {'transcript': 'my nail chipped grind hiu Cocopah downstairs'}, {'transcript': 'my niece grind hiu Cocopah downstairs'}, {'transcript': 'Mania cheap grind hiu Cocopah downstairs'}], 'final': True}\n",
      "\n",
      "Filename: 1249120_21665495_79649194.wav\n",
      "Text: {'alternative': [{'transcript': 'my knee hurts when I play Squash', 'confidence': 0.98138446}, {'transcript': 'my knee hurts when I played squash'}], 'final': True}\n",
      "\n",
      "Filename: 1249120_44091626_107401527.wav\n",
      "Text: {'alternative': [{'transcript': 'my head is spinning when I get up', 'confidence': 0.987629}], 'final': True}\n",
      "\n",
      "Filename: 1249120_20518958_10031359.wav\n",
      "Text: {'alternative': [{'transcript': 'I did a joint pain when I try to bend my leg or my yard', 'confidence': 0.54508072}, {'transcript': 'again I joint pain when I try to bend my leg or my yard'}, {'transcript': 'I did a joint pain when I tried to bend my leg or my yard'}, {'transcript': 'again I joint pain when I tried to bend my leg or my yard'}, {'transcript': 'I did a joint pain when I try to bend my leg or my yarn'}], 'final': True}\n",
      "\n",
      "Filename: 1249120_42783052_51260430.wav\n",
      "Text: {'alternative': [{'transcript': \"I put my hand a couple of days ago and all those I didn't think I needed it stitching it isn't closes up\", 'confidence': 0.80186087}, {'transcript': \"I put my aunt a couple of days ago and all those I didn't think I needed it stitching it isn't closes up\"}, {'transcript': \"I put my hand a couple of days ago and all those I didn't think I needed it stitchin it isn't closes up\"}, {'transcript': \"I put my friend a couple of days ago and all those I didn't think I needed it stitching it isn't closes up\"}, {'transcript': \"I put my hand a couple of days ago and all those I didn't think I needed it stitching it hasn't closes up\"}], 'final': True}\n",
      "\n",
      "Filename: 1249120_36214391_97819824.wav\n",
      "Text: {'alternative': [{'transcript': 'I had to call the last time I traveled by plane and I still have a discomfort in my ear', 'confidence': 0.88134938}, {'transcript': 'I had to call the last time I traveled by plain and I still have a discomfort in my ear', 'confidence': 0.88134938}, {'transcript': 'I had to call the last time I travelled by plane and I still have a discomfort in my ear', 'confidence': 0.88134938}, {'transcript': 'I had to call the last time I traveled by plane and I still have a discomfort in my ears', 'confidence': 0.92012537}, {'transcript': 'I had to call the last time I travelled by plain and I still have a discomfort in my ear', 'confidence': 0.88134938}], 'final': True}\n",
      "\n",
      "Filename: 1249120_31349958_36101929.wav\n",
      "Text: {'alternative': [{'transcript': 'I got hurt so much damn time I see laces', 'confidence': 0.63084698}, {'transcript': 'I got hurt somebody like this'}, {'transcript': 'I got hurt so much and I feel like this'}, {'transcript': 'I got hurt so much time I see laces'}, {'transcript': 'I got hurt so much like this'}], 'final': True}\n",
      "\n",
      "Filename: 1249120_39438102_13475995.wav\n",
      "Text: {'alternative': [{'transcript': 'I was playing soccer and I twisted my ankle', 'confidence': 0.98762906}], 'final': True}\n",
      "\n",
      "Filename: 1249120_43855932_87921433.wav\n",
      "Text: {'alternative': [{'transcript': 'my foot is hurting so much', 'confidence': 0.94566709}, {'transcript': 'my foot is hurting sew much', 'confidence': 0.94566709}, {'transcript': 'my foot is hurting sow much', 'confidence': 0.94566709}, {'transcript': 'my foot is hurting Sol much', 'confidence': 0.94566709}, {'transcript': 'my Foote is hurting so much', 'confidence': 0.94566709}], 'final': True}\n",
      "\n",
      "Filename: 1249120_1853182_12060422.wav\n",
      "Text: {'alternative': [{'transcript': \"oh my head hurts me I tried to be calm and I can't\", 'confidence': 0.94496024}, {'transcript': \"oh my head hurts me I try to be calm and I can't\"}, {'transcript': \"oh my head hurts me I tried to be, and I can't\"}, {'transcript': \"oh my head hurts me I try to be, and I can't\"}], 'final': True}\n",
      "\n",
      "Filename: 1249120_35444693_41980075.wav\n",
      "Text: {'alternative': [{'transcript': 'I feel like I have all this', 'confidence': 0.74740124}, {'transcript': 'I feel like animals'}, {'transcript': 'I feel like I have all this.'}, {'transcript': 'I feel like a'}, {'transcript': 'I feel like animal'}], 'final': True}\n",
      "\n",
      "Filename: 1249120_30766630_31808520.wav\n",
      "Text: {'alternative': [{'transcript': 'when I try to be warm and wear more clothes I found that I was still cold', 'confidence': 0.96384102}, {'transcript': 'when I tried to be warm and wear more clothes I found that I was still cold'}], 'final': True}\n",
      "\n",
      "Filename: 1249120_43105396_55736762.wav\n",
      "Text: []\n",
      "\n",
      "Filename: 1249120_43105396_90991239.wav\n",
      "Text: {'alternative': [{'transcript': 'Drummer Boy', 'confidence': 0.27974439}, {'transcript': 'Amador'}, {'transcript': 'who had more'}, {'transcript': 'who had War'}], 'final': True}\n",
      "\n",
      "Filename: 1249120_29289135_24806033.wav\n",
      "Text: {'alternative': [{'transcript': \"I feel that it's hard to breathe for me especially after running or making any effort\", 'confidence': 0.9845345}, {'transcript': \"I feel that it's hard to breath for me especially after running or making any effort\", 'confidence': 0.9845345}, {'transcript': 'I feel that its hard to breathe for me especially after running or making any effort', 'confidence': 0.9845345}, {'transcript': \"I feel that it's hard to breathe for me especially after running ore making any effort\", 'confidence': 0.9845345}, {'transcript': \"I feel that it's hard to breathe for me especially after running Orr making any effort\", 'confidence': 0.9845345}], 'final': True}\n",
      "\n",
      "Filename: 1249120_43995026_46513971.wav\n",
      "Text: {'alternative': [{'transcript': 'my niece seems to blind as I go up or downstairs', 'confidence': 0.79043865}, {'transcript': 'my niece seems to grind as I go up or downstairs'}, {'transcript': 'my niece seems to blind as I go up or down stairs'}, {'transcript': 'my niece seems to grind as I go up or down stairs'}, {'transcript': 'my niece seems too blind as I go up or downstairs'}], 'final': True}\n",
      "\n",
      "Filename: 1249120_43898158_47325726.wav\n",
      "Text: {'alternative': [{'transcript': 'pain in the knee when walking', 'confidence': 0.95199633}, {'transcript': 'IP pain in the knee when walking'}], 'final': True}\n",
      "\n",
      "Filename: 1249120_33905644_94104768.wav\n",
      "Text: {'alternative': [{'transcript': 'Durham lots of hairs on my pillow in the morning', 'confidence': 0.95355111}, {'transcript': 'Darren lots of hairs on my pillow in the morning'}, {'transcript': 'Dylan lots of hairs on my pillow in the morning'}, {'transcript': 'Durham lots of horse on my pillow in the morning'}, {'transcript': 'Durham lots of Hangers On My Pillow in the morning'}], 'final': True}\n",
      "\n",
      "Filename: 1249120_28006404_71393746.wav\n",
      "Text: {'alternative': [{'transcript': \"I can't stand up or sit down I have a pain in my back that annoys me\", 'confidence': 0.98762906}], 'final': True}\n",
      "\n",
      "Filename: 1249120_43856216_58981378.wav\n",
      "Text: {'alternative': [{'transcript': 'Mr hair is falling out just by combing it', 'confidence': 0.81635052}, {'transcript': 'Mister hair is falling out just by combing it', 'confidence': 0.77003932}, {'transcript': 'Mr hair is falling out just buy combing it', 'confidence': 0.81635052}, {'transcript': 'Mr hair is falling out just by koming it', 'confidence': 0.81635052}, {'transcript': 'Mr hair is falling out just by komeng it', 'confidence': 0.81635052}], 'final': True}\n",
      "\n",
      "Filename: 1249120_40725179_16130188.wav\n",
      "Text: {'alternative': [{'transcript': 'my television and computers seem out of focus even though I have new glasses', 'confidence': 0.71033031}, {'transcript': 'television and computers seem out of focus even though I have new glasses'}, {'transcript': 'my television and computers seem out of focus eating though I have new glasses'}, {'transcript': 'my television and computers seem out-of-focus even though I have new glasses'}, {'transcript': 'my television and computers seemed out of focus even though I have new glasses'}], 'final': True}\n",
      "\n",
      "Filename: 1249120_35448024_92141277.wav\n",
      "Text: {'alternative': [{'transcript': 'my back hurts a lot when I bend', 'confidence': 0.86240274}, {'transcript': 'my big hurts a lot when I bend', 'confidence': 0.91566235}, {'transcript': \"my back hurts a lot when I've been\", 'confidence': 0.74077189}, {'transcript': 'my big hearts a lot when I bend', 'confidence': 0.87102669}, {'transcript': 'my back hurts a lot when I been', 'confidence': 0.81163168}], 'final': True}\n",
      "\n",
      "Filename: 1249120_36505751_80016304.wav\n",
      "Text: {'alternative': [{'transcript': 'I feel dizzy when I make sudden movements', 'confidence': 0.96496183}, {'transcript': 'I feel dizzy when I make certain movements'}, {'transcript': 'I feel dizzy when I make certain moments'}], 'final': True}\n",
      "\n",
      "Filename: 1249120_15004831_54034570.wav\n",
      "Text: {'alternative': [{'transcript': \"I have a foot ache although I don't walk a lot\", 'confidence': 0.98714846}, {'transcript': \"I have a foot ache all though I don't walk a lot\"}], 'final': True}\n",
      "\n",
      "Filename: 1249120_40419625_22329335.wav\n",
      "Text: {'alternative': [{'transcript': 'I feel little pain every time I make an extra effort', 'confidence': 0.61049771}, {'transcript': 'I feel muscle pain everytime I make an extra effort'}, {'transcript': 'I feel little pain everytime I make an extra effort'}, {'transcript': 'I feel little pain every time I make an extra fort'}, {'transcript': 'I feel muscle pain everytime I make an extra fort'}], 'final': True}\n",
      "\n",
      "Filename: 1249120_18386513_93250733.wav\n",
      "Text: {'alternative': [{'transcript': 'I get terrible headaches every few months and when I get them my vision is affected', 'confidence': 0.98628932}, {'transcript': 'I get terrible headaches every few months and when I get them my vision is effected'}], 'final': True}\n",
      "\n",
      "Filename: 1249120_22345789_51406555.wav\n",
      "Text: {'alternative': [{'transcript': 'my hair is falling out after I take a shower', 'confidence': 0.98762906}], 'final': True}\n",
      "\n",
      "Filename: 1249120_19425875_41547659.wav\n",
      "Text: {'alternative': [{'transcript': 'I have shoulder pain when I try to carry my groceries', 'confidence': 0.97580111}, {'transcript': 'I have shoulder pain when I tried to carry my groceries'}], 'final': True}\n",
      "\n",
      "Filename: 1249120_22345789_101021280.wav\n",
      "Text: {'alternative': [{'transcript': 'I feel a burning sensation in my guts about 2 hours after each meal', 'confidence': 0.95122564}, {'transcript': 'I feel a burning sensation in my guts about two hours after each meal'}], 'final': True}\n",
      "\n",
      "Filename: 1249120_44093933_95376200.wav\n",
      "Text: {'alternative': [{'transcript': 'my folder when I try to read something about my head', 'confidence': 0.60316813}, {'transcript': 'might order when I try to read something about my head'}, {'transcript': 'my folder when I try to read something about my hair'}, {'transcript': 'my folder when I try to read something about Mary hair'}, {'transcript': 'my folder when I try to read something above my head'}], 'final': True}\n",
      "\n",
      "Filename: 1249120_43856216_66381593.wav\n",
      "Text: {'alternative': [{'transcript': \"I'm struggling to bear weight on my knee when I stand straight I feel and hear a loud popping noise\", 'confidence': 0.98762906}], 'final': True}\n",
      "\n",
      "Filename: 1249120_6338946_41985736.wav\n",
      "Text: {'alternative': [{'transcript': 'the knee feels like it rusted and I suddenly cannot bend it anymore', 'confidence': 0.76329893}, {'transcript': 'they need feels like it rusted and I suddenly cannot bend it anymore'}, {'transcript': 'the knee feels like it rested and I suddenly cannot bend it anymore'}], 'final': True}\n",
      "\n",
      "Filename: 1249120_39154234_76980512.wav\n",
      "Text: {'alternative': [{'transcript': \"my foot hurts and I can't turn it maybe it is broken\", 'confidence': 0.94900495}, {'transcript': \"my foot hurts and I can't earn it maybe it is broken\"}, {'transcript': \"my foot hurts and I can't turn it maybe is broken\"}, {'transcript': \"my foot hurts and I can't turn it maybe she's broken\"}, {'transcript': 'my foot hurts and I can turn it maybe it is broken'}], 'final': True}\n",
      "\n",
      "Filename: 1249120_43995026_88493873.wav\n",
      "Text: {'alternative': [{'transcript': \"Daddy's pain in my joints I cannot.\", 'confidence': 0.87861836}, {'transcript': \"Daddy's pain in my joints I cannot BFF\"}, {'transcript': \"Daddy's pain in my joints I cannot fear\"}, {'transcript': \"Daddy's pain in my joints I cannot be\"}, {'transcript': \"Daddy's pain in my joints I cannot BF\"}], 'final': True}\n",
      "\n",
      "Filename: 1249120_29289135_35616193.wav\n",
      "Text: {'alternative': [{'transcript': 'my stomach has been sore since yesterday', 'confidence': 0.982077}, {'transcript': 'my stomach has been sober since yesterday'}, {'transcript': 'my stomach has been sourced since yesterday'}, {'transcript': 'my stomach has been sources yesterday'}], 'final': True}\n",
      "\n",
      "Filename: 1249120_41203338_72684846.wav\n",
      "Text: {'alternative': [{'transcript': \"my nose is congested all the time and there's this gluey secretion in my throat that makes it impossible for me to sleep I often have to nap sitting down\", 'confidence': 0.95969146}, {'transcript': \"my nose is congested all the time and there's this gluee secretion in my throat that makes it impossible for me to sleep I often have to nap sitting down\", 'confidence': 0.95969146}, {'transcript': \"my nose is congested all the time and there's this glewie secretion in my throat that makes it impossible for me to sleep I often have to nap sitting down\", 'confidence': 0.95969146}, {'transcript': \"my nose is congested all the time and there's this glui secretion in my throat that makes it impossible for me to sleep I often have to nap sitting down\", 'confidence': 0.95969146}, {'transcript': \"my nose is congested all the time and there's this gluey secretion in my throat that makes it impossible for me to sleep I often have to Knapp sitting down\", 'confidence': 0.95969146}], 'final': True}\n",
      "\n",
      "Filename: 1249120_40401830_69844507.wav\n",
      "Text: {'alternative': [{'transcript': \"that's so much pain when I move my arm\", 'confidence': 0.85275692}, {'transcript': \"there's so much pain when I move my arm\"}, {'transcript': 'best so much pain when I move my arm'}, {'transcript': 'this so much pain when I move my arm'}], 'final': True}\n",
      "\n",
      "Filename: 1249120_30937687_97828695.wav\n",
      "Text: {'alternative': [{'transcript': 'my luck has been so since the accident', 'confidence': 0.48034194}, {'transcript': 'my leg has been so since the accident'}, {'transcript': 'my neck has been so since the accident'}, {'transcript': 'my neck has been sold since the accident'}, {'transcript': 'my leg has been sober since the accident'}], 'final': True}\n",
      "\n",
      "Filename: 1249120_39154234_104493456.wav\n",
      "Text: {'alternative': [{'transcript': 'I have a sharp pain in my abdomen', 'confidence': 0.987629}], 'final': True}\n",
      "\n",
      "Filename: 1249120_29672643_92986325.wav\n",
      "Text: {'alternative': [{'transcript': \"I've always been very active but now I just don't have the strength or energy to go for even a short walk\", 'confidence': 0.95565391}, {'transcript': \"I've always been very active but now I just don't have the strength or energy to go for even a short Wok\", 'confidence': 0.95565391}, {'transcript': \"I've always been very active butt now I just don't have the strength or energy to go for even a short walk\", 'confidence': 0.95565391}, {'transcript': \"I've always been very active but now I just don't have the strengths or energy to go for even a short walk\", 'confidence': 0.95565391}, {'transcript': \"I've always been very active but now I just don't have the strength or Energi to go for even a short walk\", 'confidence': 0.95565391}], 'final': True}\n",
      "\n",
      "Filename: 1249120_20518958_12304287.wav\n",
      "Text: {'alternative': [{'transcript': \"there's a ton of pain in my car\", 'confidence': 0.84860885}, {'transcript': 'there is a ton of pain in my car'}, {'transcript': 'Genesis pain in my car'}, {'transcript': 'Genesis on the pain in my car'}], 'final': True}\n",
      "\n",
      "Filename: 1249120_43995026_52108022.wav\n",
      "Text: {'alternative': [{'transcript': 'I feel bone on bone pain in my knees when I climb stairs', 'confidence': 0.9020195}, {'transcript': 'I feel a bone on bone pain in my knees when I climb stairs'}, {'transcript': 'I feel it bone on bone pain in my knees when I climb stairs'}, {'transcript': 'bone on bone pain in my knees when I climb stairs'}, {'transcript': 'I feel opponent Bon Pain in my knees when I climb stairs'}], 'final': True}\n",
      "\n",
      "Filename: 1249120_43172391_99227112.wav\n",
      "Text: {'alternative': [{'transcript': 'Sacha inchi', 'confidence': 0.78650284}, {'transcript': 'accompany'}, {'transcript': 'reflection in C'}, {'transcript': 'Sasha'}, {'transcript': 'accompanied'}], 'final': True}\n",
      "\n",
      "Filename: 1249120_20518958_39810877.wav\n",
      "Text: {'alternative': [{'transcript': 'severe pain in the year', 'confidence': 0.95122278}, {'transcript': 'severe pain in the ear'}], 'final': True}\n",
      "\n",
      "Filename: 1249120_20518958_81445431.wav\n",
      "Text: {'alternative': [{'transcript': 'I have a skin rash after eating an ice cream', 'confidence': 0.87151444}, {'transcript': 'I have a skin rash after eating an ice creme', 'confidence': 0.87151444}, {'transcript': 'I have a skin rash after eating an ice Kreme', 'confidence': 0.87151444}, {'transcript': 'I have a skin rash after eating an iced cream', 'confidence': 0.87151444}, {'transcript': 'I have a skinned rash after eating an ice cream', 'confidence': 0.87151444}], 'final': True}\n",
      "\n",
      "Filename: 1249120_43918153_32344678.wav\n",
      "Text: {'alternative': [{'transcript': 'I can plan a rock with my neck pain and I really need to be Busta', 'confidence': 0.7097398}, {'transcript': 'I can plan Turlock with my neck pain and I really need to be Busta'}, {'transcript': 'I can plan a rock with my neck pain and I really need to be better'}, {'transcript': 'I can plan a rock with my neck pain and I really need to be Bethel'}, {'transcript': 'I can plan Turlock with my neck pain and I really need to be better'}], 'final': True}\n",
      "\n",
      "Filename: 1249120_43612961_52097588.wav\n",
      "Text: {'alternative': [{'transcript': 'I had to shopping in my stomach', 'confidence': 0.68154687}, {'transcript': 'I had two shopping in my stomach'}, {'transcript': 'had to shopping in my stomach'}, {'transcript': 'I had the shopping in my stomach'}, {'transcript': 'add to shopping in my stomach'}], 'final': True}\n",
      "\n",
      "Filename: 1249120_6338946_35065921.wav\n",
      "Text: {'alternative': [{'transcript': \"my back hurts me and I can't bend it or walk\", 'confidence': 0.987629}], 'final': True}\n",
      "\n",
      "Filename: 1249120_43856216_65385272.wav\n",
      "Text: {'alternative': [{'transcript': 'my face is all broken out with him please', 'confidence': 0.87913579}, {'transcript': 'my face is all broken out with infants'}, {'transcript': 'my face is all broken out with families'}, {'transcript': 'my face is all broken out with employees'}, {'transcript': 'my face is all broken out with immigrants'}], 'final': True}\n",
      "\n",
      "Filename: 1249120_43898158_90561210.wav\n",
      "Text: {'alternative': [{'transcript': 'my foot is hurting so much', 'confidence': 0.87347978}, {'transcript': 'my foot is hurting someone'}, {'transcript': 'my foot is hurting some'}, {'transcript': 'foot is hurting so much'}, {'transcript': 'foot is hurting someone'}], 'final': True}\n",
      "\n",
      "Filename: 1249120_44111844_89704442.wav\n",
      "Text: {'alternative': [{'transcript': 'Empire.', 'confidence': 0.72516167}, {'transcript': 'Empire'}, {'transcript': \"I'm tired of you\"}, {'transcript': 'Empire defeat'}], 'final': True}\n",
      "\n",
      "Filename: 1249120_43857865_81051037.wav\n",
      "Text: {'alternative': [{'transcript': 'my cat Allure greenish colored purse', 'confidence': 0.70887774}, {'transcript': 'my cat Allure greenish coloured purse', 'confidence': 0.70887774}, {'transcript': 'my Kat Allure greenish colored purse', 'confidence': 0.70887774}, {'transcript': 'my cat ellure greenish colored purse', 'confidence': 0.70887774}, {'transcript': 'my cat Allure greenish colored puzzles', 'confidence': 0.61613148}], 'final': True}\n",
      "\n",
      "Filename: 1249120_44093933_65274476.wav\n",
      "Text: {'alternative': [{'transcript': 'even if the temperature is high in the house my body is always cold', 'confidence': 0.96544605}, {'transcript': 'even if the temperature is high in the house by body is always cold'}, {'transcript': 'even if the temperature is high tide in the house my body is always cold'}, {'transcript': 'even if the temperature is high tide in the house by body is always cold'}], 'final': True}\n",
      "\n",
      "Filename: 1249120_19425875_19354885.wav\n",
      "Text: {'alternative': [{'transcript': 'sometimes when it is cold outside my face hurts especially around the pimples that are ready to pop', 'confidence': 0.99242306}, {'transcript': 'sometimes when it is cold outside my face hurts especially around the pimples that are ready to Pape', 'confidence': 0.99242306}, {'transcript': 'sometimes when it is cold outside my face hurts especially around the pimples that are ready to Popp', 'confidence': 0.99242306}, {'transcript': 'sometimes when it is cold outside my face hurts especially around the pimples that are ready to Papp', 'confidence': 0.99242306}, {'transcript': 'sometimes when it is cold outside my face hurts especially around the pimples that are ready to paape', 'confidence': 0.99242306}], 'final': True}\n",
      "\n",
      "Filename: 1249120_29672643_94447524.wav\n",
      "Text: {'alternative': [{'transcript': \"I can't walk because I have a great foot ache\", 'confidence': 0.98762906}], 'final': True}\n",
      "\n",
      "Filename: 1249120_40184183_65551436.wav\n",
      "Text: {'alternative': [{'transcript': \"my foot hurts and I can't turn it maybe it's broken\", 'confidence': 0.72472358}, {'transcript': \"my throat hurts and I can't turn it maybe it's broken\"}, {'transcript': \"my foot hurts and I can't edit maybe it's broken\"}, {'transcript': \"my foot hurts and I can't stand it maybe it's broken\"}, {'transcript': \"my throat hurts and I can't edit maybe it's broken\"}], 'final': True}\n",
      "\n",
      "Filename: 1249120_40184183_109300135.wav\n",
      "Text: {'alternative': [{'transcript': 'I finished strong pain in my knee after it was hit during the football match', 'confidence': 0.5925948}, {'transcript': 'ocean is strong pain in my knee after it was hit during the football match'}, {'transcript': 'strong pain in my knee after it was hit during the football match'}, {'transcript': 'Oh Sheila strong pain in my knee after it was hit during the football match'}, {'transcript': 'I feel is strong pain in my knee after it was hit during the football match'}], 'final': True}\n",
      "\n",
      "Filename: 1249120_41221824_29485352.wav\n",
      "Text: {'alternative': [{'transcript': 'I feel cold and chill Evan sucks mitosis RAV', 'confidence': 0.74463695}, {'transcript': 'I feel cold and chill Evans folks mitosis RAV'}, {'transcript': 'I feel cold and chills Evans folks mitosis RAV'}, {'transcript': 'I feel cold and chills Evan sucks mitosis RAV'}, {'transcript': 'I feel cold and chill Evan sucks mycosis RAV'}], 'final': True}\n",
      "\n",
      "Filename: 1249120_6338946_108388847.wav\n",
      "Text: {'alternative': [{'transcript': \"my neck hurts me and I can't stand with this pain\", 'confidence': 0.987629}], 'final': True}\n",
      "\n",
      "Filename: 1249120_33905644_10902727.wav\n",
      "Text: {'alternative': [{'transcript': \"there's a tingling sensation in my neck\", 'confidence': 0.97330379}, {'transcript': 'desert tingling sensation in my neck'}], 'final': True}\n",
      "\n",
      "Filename: 1249120_39154234_86732294.wav\n",
      "Text: {'alternative': [{'transcript': \"I can't stop coughing\", 'confidence': 0.95699668}, {'transcript': \"I can't I stop coughing\"}], 'final': True}\n",
      "\n",
      "Filename: 1249120_30937687_103531596.wav\n",
      "Text: {'alternative': [{'transcript': 'I have white dots on my skin', 'confidence': 0.91595048}, {'transcript': 'I have a dots on my skin'}, {'transcript': 'I have a dress on my skin'}, {'transcript': 'I have a dice on my skin'}, {'transcript': 'I have Otis on my skin'}], 'final': True}\n",
      "\n",
      "Filename: 1249120_43758322_90693504.wav\n",
      "Text: {'alternative': [{'transcript': 'there feels like a swollen knot in my shoulder blades with facial in from that', 'confidence': 0.62388402}, {'transcript': 'that feels like a swollen knot in my shoulder blades with pain shooting from that'}, {'transcript': 'that feels like a swollen knot in my shoulder blades with facial in from that'}, {'transcript': 'this feels like a swollen knot in my shoulder blades with facial in from that'}, {'transcript': 'that feels like a swollen knot in my shoulder blades with facial in front that'}], 'final': True}\n",
      "\n",
      "Filename: 1249120_35408915_14980096.wav\n",
      "Text: {'alternative': [{'transcript': \"I can't move my leg there is a pain in the joint\", 'confidence': 0.85641551}, {'transcript': \"I can't move my leg there's a pain in the joint\", 'confidence': 0.95785296}, {'transcript': \"I can't move my leg their is a pain in the joint\", 'confidence': 0.85641551}, {'transcript': \"I can't move my leg there is a pain in the Joynt\", 'confidence': 0.85641551}, {'transcript': \"I can't move my leg there's a Payne in the joint\", 'confidence': 0.95785296}], 'final': True}\n",
      "\n",
      "Filename: 1249120_36505751_55987910.wav\n",
      "Text: {'alternative': [{'transcript': 'I get an earache when it is cold', 'confidence': 0.80656397}, {'transcript': 'I get an ear ache when it is cold'}, {'transcript': 'I get an earache when it is called'}, {'transcript': 'I get an ear ache when it is called'}], 'final': True}\n",
      "\n",
      "Filename: 1249120_42554554_98745809.wav\n",
      "Text: {'alternative': [{'transcript': 'longitudinal line across back without respiratory movements', 'confidence': 0.78505808}, {'transcript': 'longitudinal budding line across back without respiratory movements'}, {'transcript': 'longitudinal voting line across back without respiratory movements'}, {'transcript': 'longitudinal boarding line across back without respiratory movements'}, {'transcript': 'longitudinal line across back with Audrey spiritually movements'}], 'final': True}\n",
      "\n",
      "Filename: 1249120_39154234_43997696.wav\n",
      "Text: {'alternative': [{'transcript': 'after playing tennis I had a powerful sensation close to my neck', 'confidence': 0.96131295}, {'transcript': \"after playing tennis I've had a powerful sensation close to my neck\"}, {'transcript': 'after playing tennis I had a powerful sensation clothes to my neck'}, {'transcript': \"after playing tennis I've had a powerful sensation clothes to my neck\"}, {'transcript': 'after playing tennis I had a powerful sense station close to my neck'}], 'final': True}\n",
      "\n",
      "Filename: 1249120_39675900_82352673.wav\n",
      "Text: {'alternative': [{'transcript': 'a few fight Intruders on the table', 'confidence': 0.48452213}, {'transcript': 'fu fight Intruders on the table'}, {'transcript': 'fu fighting on the table'}, {'transcript': 'Fu Fighting strollers on the table'}, {'transcript': 'Fu Fighting trailers on the table'}], 'final': True}\n",
      "\n",
      "Filename: 1249120_44101988_44355748.wav\n",
      "Text: {'alternative': [{'transcript': 'I have a problem in seeing objects it is too difficult to see', 'confidence': 0.79838079}, {'transcript': 'I have a problem in seeing objects it is too difficult 15'}, {'transcript': 'I have a problem in seeing objects it is too difficult system'}, {'transcript': 'I have a problem in saying objects it is too difficult to see'}, {'transcript': 'I have a problem in seeing objects it is too difficult'}], 'final': True}\n",
      "\n",
      "Filename: 1249120_13842059_19800134.wav\n",
      "Text: {'alternative': [{'transcript': 'when I brush my hair I notice big clumps of hair coming out in the brush', 'confidence': 0.90568608}, {'transcript': 'when I brush my hair I noticed big clumps of hair coming out in the brush'}, {'transcript': 'when I brush my hair I know this big clumps of hair coming out in the brush'}], 'final': True}\n",
      "\n",
      "Filename: 1249120_1853182_98369408.wav\n",
      "Text: {'alternative': [{'transcript': \"it is hard to breathe but I'm the underground Metro station why\", 'confidence': 0.93224049}, {'transcript': \"it is hard to breathe but I'm the underground Metro station y\"}, {'transcript': 'it is hard to breathe but I need underground Metro station why'}, {'transcript': 'it is hard to breathe but I need underground Metro station y'}], 'final': True}\n",
      "\n",
      "Filename: 1249120_44101988_32577881.wav\n",
      "Text: {'alternative': [{'transcript': 'my head is spinning banana ketchup', 'confidence': 0.987629}], 'final': True}\n",
      "\n",
      "Filename: 1249120_39438102_26087116.wav\n",
      "Text: {'alternative': [{'transcript': 'glass broken and will my life badly', 'confidence': 0.8152259}, {'transcript': 'glass broken and wool my life badly'}, {'transcript': \"glass broken and won't my life badly\"}, {'transcript': 'last broken and will my life badly'}, {'transcript': 'class broken and will my life badly'}], 'final': True}\n",
      "\n",
      "Filename: 1249120_28006404_77634866.wav\n",
      "Text: {'alternative': [{'transcript': 'my infected wound cause the fever', 'confidence': 0.94499284}, {'transcript': 'my infected wound cause a fever'}, {'transcript': 'my infected wound caused the fever'}], 'final': True}\n",
      "\n",
      "Filename: 1249120_41956733_69348437.wav\n",
      "Text: {'alternative': [{'transcript': \"my heart feels like it's going to explode\", 'confidence': 0.987629}], 'final': True}\n",
      "\n",
      "Filename: 1249120_35448024_18499449.wav\n",
      "Text: {'alternative': [{'transcript': \"iPhone 6's screen\", 'confidence': 0.63175768}, {'transcript': 'iPhone 6 screen'}, {'transcript': 'iPhone 3-g screen body.'}, {'transcript': \"iPhone 6's screen brightness\"}, {'transcript': \"iPhone 6's screen protector\"}], 'final': True}\n",
      "\n",
      "Filename: 1249120_40184183_32816746.wav\n",
      "Text: {'alternative': [{'transcript': 'when I stand up too quickly I feel as though I am going to faint', 'confidence': 0.87095809}, {'transcript': 'when I stand up too quickly as I am going to faint'}, {'transcript': 'when I stand up too quickly. I am going to faint'}, {'transcript': 'when I stand up too quickly as do I am going to faint'}, {'transcript': 'when I stand up too quickly as though I am going to faint'}], 'final': True}\n",
      "\n",
      "Filename: 1249120_41221824_104502558.wav\n",
      "Text: {'alternative': [{'transcript': 'I feel pain inside I do not know what it is', 'confidence': 0.81105649}, {'transcript': 'I feel pain in side I do not know what it is'}, {'transcript': 'I feel temp inside I do not know what it is'}], 'final': True}\n",
      "\n",
      "Filename: 1249120_43172391_64014700.wav\n",
      "Text: {'alternative': [{'transcript': 'I am worried how cold in Northern Daya', 'confidence': 0.85087466}, {'transcript': 'I am worried how cold in Northern India'}, {'transcript': 'I am worried how cold in Orlando'}, {'transcript': 'I am worried how cold in Normandale'}, {'transcript': 'I am worried how cold in Northern Dyer'}], 'final': True}\n",
      "\n",
      "Filename: 1249120_17632529_28083657.wav\n",
      "Text: {'alternative': [{'transcript': 'I have throbbing in my shoulder', 'confidence': 0.987629}, {'transcript': 'ihave throbbing in my shoulder'}], 'final': True}\n",
      "\n",
      "Filename: 1249120_33251186_11906279.wav\n",
      "Text: {'alternative': [{'transcript': 'I have blurry vision after I use them grow medicine', 'confidence': 0.83482438}, {'transcript': 'I have blurry vision after I use ingrown medicine'}, {'transcript': 'I have blurry vision after I use them G medicine'}, {'transcript': 'I have blurry vision after I use them grown medicine'}, {'transcript': 'I have blurry vision after I using Chrome medicine'}], 'final': True}\n",
      "\n",
      "Filename: 1249120_41150153_88935206.wav\n",
      "Text: {'alternative': [{'transcript': 'after eating I have burning sensation inside of me', 'confidence': 0.67831099}, {'transcript': 'after eating I have money centers that inside of me'}, {'transcript': 'after eating I have running sensors that inside of me'}, {'transcript': 'after eating I have bunny sentence that inside of me'}, {'transcript': 'after eating I have bunny sensors that inside of me'}], 'final': True}\n",
      "\n",
      "Filename: 1249120_43855932_88802876.wav\n",
      "Text: {'alternative': [{'transcript': 'my ankle joint throbs when I put pressure on my foot', 'confidence': 0.85672224}, {'transcript': 'my ankle joint throat when I put pressure on my foot'}, {'transcript': 'my ankle joint rocks when I put pressure on my foot'}, {'transcript': 'my ankle joint ropes when I put pressure on my foot'}, {'transcript': 'my ankle joint troops when I put pressure on my foot'}], 'final': True}\n",
      "\n",
      "Filename: 1249120_33905644_62459007.wav\n",
      "Text: {'alternative': [{'transcript': 'something dark is there on my arm', 'confidence': 0.987629}], 'final': True}\n",
      "\n",
      "Filename: 1249120_29289135_72247324.wav\n",
      "Text: {'alternative': [{'transcript': 'I chopped off the tip of my finger while I was cutting some cardboard and I cannot stop the bleeding', 'confidence': 0.87512618}, {'transcript': 'I chopped off the tip of my finger while I was cutting some cardboard and it cannot stop the bleeding'}, {'transcript': 'I chopped off the tip of my finger while I was cutting some cardboard and they cannot stop the bleeding'}, {'transcript': 'I chopped off the tip of my fingers while I was cutting some cardboard and I cannot stop the bleeding'}, {'transcript': 'I chopped off the tip of my fingers while I was cutting some cardboard and it cannot stop the bleeding'}], 'final': True}\n",
      "\n",
      "Filename: 1249120_36505751_49581714.wav\n",
      "Text: {'alternative': [{'transcript': 'a terrible fall in hair', 'confidence': 0.74001622}, {'transcript': 'a terrible fall in Herre', 'confidence': 0.74001622}, {'transcript': 'a terrible fall in Hare', 'confidence': 0.74001622}, {'transcript': 'a terrible fall Inn hair', 'confidence': 0.74001622}, {'transcript': 'a terrible fall in Haier', 'confidence': 0.74001622}], 'final': True}\n",
      "\n",
      "Filename: 1249120_18172663_82976220.wav\n",
      "Text: {'alternative': [{'transcript': 'the nerves were so damaged during the operation on my ankle that I cannot stand being touched on this car', 'confidence': 0.82353818}, {'transcript': 'the nerves were so damaged during the operation on my ankle that I cannot stand being touched on the scar'}, {'transcript': 'the nurse was so damaged during the operation on my ankle that I cannot stand being touched on this car'}, {'transcript': 'the nerves was so damaged during the operation on my ankle that I cannot stand being touched on this car'}, {'transcript': 'the nurse was so damaged during the operation on my ankle that I cannot stand being touched on the scar'}], 'final': True}\n",
      "\n",
      "Filename: 1249120_35154350_87119745.wav\n",
      "Text: {'alternative': [{'transcript': 'I fell a stiffness in my elbows and shoulders', 'confidence': 0.85775501}, {'transcript': 'I sell a stiffness in my elbows and shoulders'}], 'final': True}\n",
      "\n",
      "Filename: 1249120_43951421_77209313.wav\n",
      "Text: {'alternative': [{'transcript': 'I think I overdid it on my calendar that lumber from the yard my lower back is killing me', 'confidence': 0.8265872}, {'transcript': 'I think I even did it on my calendar that lumber from the yard my lower back is killing me'}, {'transcript': 'I think I overdid it when my calendar that lumber from the yard my lower back is killing me'}, {'transcript': 'I think I overdid it in my calendar that lumber from the yard my lower back is killing me'}, {'transcript': 'I think I even did it with my calendar that lumber from the yard my lower back is killing me'}], 'final': True}\n",
      "\n",
      "Filename: 1249120_38548574_34706383.wav\n",
      "Text: {'alternative': [{'transcript': 'I feel cold', 'confidence': 0.57607931}, {'transcript': 'appeal code'}, {'transcript': 'appeal cold'}, {'transcript': 'a few cold'}], 'final': True}\n",
      "\n",
      "Filename: 1249120_43995026_24255048.wav\n",
      "Text: {'alternative': [{'transcript': 'operating I have burning sensation inside of me', 'confidence': 0.93538058}, {'transcript': 'off-roading I have burning sensation inside of me'}], 'final': True}\n",
      "\n",
      "Filename: 1249120_34824899_40644680.wav\n",
      "Text: {'alternative': [{'transcript': 'I have a split on my thumb that will not heal', 'confidence': 0.96872979}, {'transcript': 'I have a split on my phone that will not heal'}, {'transcript': 'I have a split on my sound that will not heal'}], 'final': True}\n",
      "\n",
      "Filename: 1249120_43898158_55385385.wav\n",
      "Text: {'alternative': [{'transcript': 'I am eight and I took Panadol but it did not', 'confidence': 0.73829615}, {'transcript': 'I am eight and I took Panadol but it is not'}, {'transcript': 'I am eight and I took Panadol but is not'}, {'transcript': 'I am eight and I took Benadryl but it did not'}, {'transcript': 'I am eight and I took Benadryl but it is not'}], 'final': True}\n",
      "\n",
      "Filename: 1249120_17632529_62131809.wav\n",
      "Text: {'alternative': [{'transcript': 'I have blurred vision', 'confidence': 0.98762906}], 'final': True}\n",
      "\n",
      "Filename: 1249120_2171654_50700157.wav\n",
      "Text: {'alternative': [{'transcript': \"my hair isn't well\", 'confidence': 0.98762906}], 'final': True}\n",
      "\n",
      "Filename: 1249120_1853182_104082860.wav\n",
      "Text: {'alternative': [{'transcript': 'I have a cold and it makes me cough a lot', 'confidence': 0.987629}], 'final': True}\n",
      "\n",
      "Filename: 1249120_44111844_64471902.wav\n",
      "Text: {'alternative': [{'transcript': 'what is a tingling sensation in my', 'confidence': 0.82449782}, {'transcript': 'what is a tingling sensation in my ear'}, {'transcript': 'there is a tingling sensation in my'}, {'transcript': 'what is a tingling sensation in my area'}, {'transcript': 'what is a tingling sensation in my head'}], 'final': True}\n",
      "\n",
      "Filename: 1249120_43316708_15813227.wav\n",
      "Text: {'alternative': [{'transcript': 'my ankle joint throbs when I put pressure on my phone', 'confidence': 0.97943956}, {'transcript': \"my ankle joint Rob's when I put pressure on my phone\"}, {'transcript': 'my ankle joint drops when I put pressure on my phone'}, {'transcript': 'my ankle joint problems when I put pressure on my phone'}], 'final': True}\n",
      "\n",
      "Filename: 1249120_36505751_21301599.wav\n",
      "Text: {'alternative': [{'transcript': \"can't keep Focus\", 'confidence': 0.78869486}, {'transcript': \"don't keep Focus\"}, {'transcript': \"can't keep photos\"}, {'transcript': \"don't keep photos\"}, {'transcript': 'current keep Focus'}], 'final': True}\n",
      "\n",
      "Filename: 1249120_29672643_88161334.wav\n",
      "Text: {'alternative': [{'transcript': 'I feel sad', 'confidence': 0.9422012}, {'transcript': 'I feel that'}], 'final': True}\n",
      "\n",
      "Filename: 1249120_41087148_65738322.wav\n",
      "Text: {'alternative': [{'transcript': 'my knee catches and Hearts Run I cost you stand up after City', 'confidence': 0.71117568}, {'transcript': 'my knee catches and hearts when I first you stand up after City'}, {'transcript': 'my knee catches and hearts again I Foster stand up after City'}, {'transcript': 'my knee catches and hearts again I cost you stand up after City'}, {'transcript': 'my knee catches and hearts Van Dyke Foster stand up after City'}], 'final': True}\n",
      "\n",
      "Filename: 1249120_43788827_65845668.wav\n",
      "Text: {'alternative': [{'transcript': 'I stopped Sports because I get injury from Sports', 'confidence': 0.86071616}, {'transcript': 'I stop Sports because I get injury from Sports', 'confidence': 0.91908795}, {'transcript': 'I stopped Sports because I get injury from sport', 'confidence': 0.80769128}, {'transcript': 'I stopped Sportz because I get injury from Sports', 'confidence': 0.86071616}, {'transcript': 'I stopped Sports because I get injury from Sportz', 'confidence': 0.86071616}], 'final': True}\n",
      "\n",
      "Filename: 1249120_29672643_89550037.wav\n",
      "Text: {'alternative': [{'transcript': 'I feel a sharp pain in my head when I think too hard', 'confidence': 0.987629}], 'final': True}\n",
      "\n",
      "Filename: 1249120_44027675_89780515.wav\n",
      "Text: {'alternative': [{'transcript': 'is like their opinion sushi', 'confidence': 0.7781142}, {'transcript': 'is like their opinion Sushi McQueen'}, {'transcript': 'is like their opinion sushi mukbang'}, {'transcript': 'is like their opinions'}, {'transcript': 'is like their opinion tsushima'}], 'final': True}\n",
      "\n",
      "Filename: 1249120_44111844_35680070.wav\n",
      "Text: {'alternative': [{'transcript': 'my heart is pumping fast', 'confidence': 0.87947547}, {'transcript': 'my heart is pumping for'}, {'transcript': \"Lombardi's pumpkin farm\"}, {'transcript': \"Lombardi's pumpkin pie\"}, {'transcript': \"Lombardi's pumpkin for\"}], 'final': True}\n",
      "\n",
      "Filename: 1249120_33251186_109998563.wav\n",
      "Text: {'alternative': [{'transcript': 'when my grandfather died I feel the heart emotional pain', 'confidence': 0.86237687}, {'transcript': 'when my grandfather died I fear the heart emotional pain'}, {'transcript': 'when my grandfather died I feel the hard emotional pain'}, {'transcript': 'when my grandfather that I feel the heart emotional pain'}, {'transcript': 'when my grandfather that I fear the heart emotional pain'}], 'final': True}\n",
      "\n",
      "Filename: 1249120_29672643_68612563.wav\n",
      "Text: {'alternative': [{'transcript': 'my lungs feel heavy like they are filled with mucus', 'confidence': 0.98762906}], 'final': True}\n",
      "\n",
      "Filename: 1249120_15004831_79309370.wav\n",
      "Text: {'alternative': [{'transcript': 'I feel a burning sensation in my shoulder muscle', 'confidence': 0.97306371}, {'transcript': 'I feel a burning sensation and my shoulder muscle'}], 'final': True}\n",
      "\n",
      "Filename: 1249120_41087148_48207230.wav\n",
      "Text: {'alternative': [{'transcript': \"I feel like I can hardly believe you unless I get what's in my lungs out\", 'confidence': 0.95123208}, {'transcript': 'I feel like I can hardly believe you unless I get watch in my lungs out'}, {'transcript': \"I feel like I can hardly believe you unless I get what's in my lungs\"}, {'transcript': 'I feel like I can hardly believe you unless I get to watch in my lungs out'}, {'transcript': \"I feel like I can hardly believe you unless I get to what's in my lungs out\"}], 'final': True}\n",
      "\n",
      "Filename: 1249120_40725179_101579722.wav\n",
      "Text: {'alternative': [{'transcript': 'my hair falling out', 'confidence': 0.98762906}], 'final': True}\n",
      "\n",
      "Filename: 1249120_30766630_24876670.wav\n",
      "Text: {'alternative': [{'transcript': 'my left side aches much', 'confidence': 0.96569693}, {'transcript': 'my left side takes much'}, {'transcript': 'my left side x much'}, {'transcript': 'my left side effects much'}], 'final': True}\n",
      "\n",
      "Filename: 1249120_44140394_76323770.wav\n",
      "Text: {'alternative': [{'transcript': \"I can't stand with this horrible feeling in my stomach\", 'confidence': 0.98762906}], 'final': True}\n",
      "\n",
      "Filename: 1249120_43612961_47066314.wav\n",
      "Text: {'alternative': [{'transcript': 'shopping and heavy breathing', 'confidence': 0.98762906}], 'final': True}\n",
      "\n",
      "Filename: 1249120_42210938_42438636.wav\n",
      "Text: {'alternative': [{'transcript': 'afif covid-19', 'confidence': 0.64324272}, {'transcript': 'ophiuchus'}, {'transcript': 'Ephesians covid-19'}, {'transcript': 'Afeni Shakur'}, {'transcript': 'Ephesian covid-19'}], 'final': True}\n",
      "\n",
      "Filename: 1249120_41150153_73163465.wav\n",
      "Text: {'alternative': [{'transcript': \"when I'm doing sport I have pain under my skin\", 'confidence': 0.87493086}, {'transcript': \"when I'm doing sport I have been under my skin\"}, {'transcript': \"when I'm doing a sport I have pain under my skin\"}, {'transcript': \"when I'm doing sports I have pain under my skin\"}, {'transcript': \"when I'm doing a sport I have been under my skin\"}], 'final': True}\n",
      "\n",
      "Filename: 1249120_36214391_26970620.wav\n",
      "Text: {'alternative': [{'transcript': 'my neck hurts new anxiety Kingston with his dispatch', 'confidence': 0.90601623}, {'transcript': 'my neck hurts New Orleans I can stand with his dispatch'}, {'transcript': \"my neck hurts New Orleans I can't stand with his dispatch\"}, {'transcript': 'my neck hurts New Orleans I can stand with with dispatch'}, {'transcript': 'my neck hurts new anxiety Kingston with his dispatcher'}], 'final': True}\n",
      "\n",
      "Filename: 1249120_40401830_102062277.wav\n",
      "Text: {'alternative': [{'transcript': 'I got acne when I eat chili', 'confidence': 0.94040734}, {'transcript': 'I got acne when I ate chili'}, {'transcript': 'I got acne when I eat Chilli'}, {'transcript': 'I got acne when I ate Chile'}, {'transcript': 'I got acne when i h l'}], 'final': True}\n",
      "\n",
      "Filename: 1249120_44088493_13285750.wav\n",
      "Text: {'alternative': [{'transcript': \"it's hard to stand up and I'm moving very slowly\", 'confidence': 0.98762906}], 'final': True}\n",
      "\n",
      "Filename: 1249120_40401830_76562993.wav\n",
      "Text: {'alternative': [{'transcript': 'I have been neck pain when I sit in front of my laptop', 'confidence': 0.71990615}, {'transcript': 'I have a neck pain when I sit in front of my laptop'}, {'transcript': 'I have been like pain when I sit in front of my laptop'}, {'transcript': 'open neck pain when I sit in front of my laptop'}, {'transcript': \"I've been like pain when I sit in front of my laptop\"}], 'final': True}\n",
      "\n",
      "Filename: 1249120_13842059_20940439.wav\n",
      "Text: {'alternative': [{'transcript': 'I feel tightness in my chest', 'confidence': 0.77216548}, {'transcript': 'I feel a tightness in my chest'}], 'final': True}\n",
      "\n",
      "Filename: 1249120_29289135_23432419.wav\n",
      "Text: {'alternative': [{'transcript': 'I feel dizzy after severe diarrhea', 'confidence': 0.987629}], 'final': True}\n",
      "\n",
      "Filename: 1249120_29672643_98144523.wav\n",
      "Text: {'alternative': [{'transcript': \"my body feels weak and I think that my face is fade and I can't sleep well\", 'confidence': 0.9578051}, {'transcript': \"my body feels week and I think that my face is fade and I can't sleep well\"}, {'transcript': \"my body feels weak and I think that my face is fed and I can't sleep well\"}, {'transcript': \"my body feels week and I think that my face is fed and I can't sleep well\"}], 'final': True}\n",
      "\n",
      "Filename: 1249120_38202325_90838355.wav\n",
      "Text: {'alternative': [{'transcript': 'I wake up at night feeling cold', 'confidence': 0.987629}], 'final': True}\n",
      "\n",
      "Filename: 1249120_19425875_78897872.wav\n",
      "Text: {'alternative': [{'transcript': 'I have pain in my head', 'confidence': 0.987629}], 'final': True}\n",
      "\n",
      "Filename: 1249120_39142299_46794173.wav\n",
      "Text: {'alternative': [{'transcript': 'when I am doing sport I have pain under my skin', 'confidence': 0.9585197}, {'transcript': 'when I am doing sport I have been under my skin'}, {'transcript': 'when I am doing sports I have pain under my skin'}, {'transcript': 'when I am doing sports I have been under my skin'}], 'final': True}\n",
      "\n",
      "Filename: 1249120_6338946_17006848.wav\n",
      "Text: {'alternative': [{'transcript': 'I feel pain in my neck after waking up', 'confidence': 0.98762906}], 'final': True}\n",
      "\n",
      "Filename: 1249120_18386513_92508953.wav\n",
      "Text: {'alternative': [{'transcript': \"oh my heart hurts me I tried to be calm and I can't\", 'confidence': 0.9907757}, {'transcript': \"oh my heart hurts me I tried to B calm and I can't\", 'confidence': 0.9907757}, {'transcript': \"oh my heart hurts Emmy I tried to be calm and I can't\", 'confidence': 0.9907757}, {'transcript': \"oh my heart hurts Emmie I tried to be calm and I can't\", 'confidence': 0.9907757}, {'transcript': \"oh my heart hurts Emy I tried to be calm and I can't\", 'confidence': 0.9907757}], 'final': True}\n",
      "\n",
      "Filename: 1249120_38202325_64723639.wav\n",
      "Text: {'alternative': [{'transcript': 'I have a feeling like my whole body is complaining', 'confidence': 0.98762906}], 'final': True}\n",
      "\n",
      "Filename: 1249120_43172391_98919671.wav\n",
      "Text: {'alternative': [{'transcript': 'the first it feels really number Martin Eccleston noodles start to break through my foot', 'confidence': 0.67518604}, {'transcript': 'the first it feels really number Barton Eccleston noodles start to break through my foot'}, {'transcript': 'the first it feels really numb Martin Eccleston noodles start to break through my foot'}, {'transcript': 'the first it feels really number Martin 1,000 noodles start to break through my foot'}, {'transcript': 'the first it feels really number Barton 1,000 noodles start to break through my foot'}], 'final': True}\n",
      "\n",
      "Filename: 1249120_18386513_49836957.wav\n",
      "Text: {'alternative': [{'transcript': 'I have a hair shortage', 'confidence': 0.98762906}], 'final': True}\n",
      "\n",
      "Filename: 1249120_21665495_78158511.wav\n",
      "Text: {'alternative': [{'transcript': 'my ear hurts when I touch it', 'confidence': 0.97287035}, {'transcript': 'my ear hurts when I touch you', 'confidence': 0.92468697}, {'transcript': 'my ear hurts when I touch', 'confidence': 0.98705387}, {'transcript': 'my Eire hurts when I touch it', 'confidence': 0.97287035}, {'transcript': 'my earr hurts when I touch it', 'confidence': 0.97287035}], 'final': True}\n",
      "\n",
      "Filename: 1249120_43855932_22863051.wav\n",
      "Text: {'alternative': [{'transcript': 'I hardly have enough strength to get up', 'confidence': 0.987629}], 'final': True}\n",
      "\n",
      "Filename: 1249120_42210938_53926703.wav\n",
      "Text: {'alternative': [{'transcript': 'Every Time Prince I get hives on the belly and sites', 'confidence': 0.70889097}, {'transcript': 'Every Time Prince I get hives on the belly and sights', 'confidence': 0.70889097}, {'transcript': 'every time prints I get hives on the belly and sites', 'confidence': 0.70889097}, {'transcript': 'Every Time Prince I get hives on the belly and Seitz', 'confidence': 0.70889097}, {'transcript': 'every time prints I get hives on the belly and sights', 'confidence': 0.70889097}], 'final': True}\n",
      "\n",
      "Filename: 1249120_43788827_50678522.wav\n",
      "Text: {'alternative': [{'transcript': \"I have whooping cough with it's Moko moko lydic\", 'confidence': 0.76648122}, {'transcript': \"I have whooping cough with it's Moko Moko lighting\"}, {'transcript': 'I have whooping cough with a Moko moko lytic'}, {'transcript': \"I have whooping cough with it's Moko moko lytic\"}, {'transcript': 'I have whooping cough with its Moko moko lydic'}], 'final': True}\n",
      "\n",
      "Filename: 1249120_35350617_61497270.wav\n",
      "Text: {'alternative': [{'transcript': \"I'm having a hard time reading because all the letters are fuzzy\", 'confidence': 0.98581547}, {'transcript': \"I'm having a hard time reading because all the letters are Fuzzy's\"}], 'final': True}\n",
      "\n",
      "Filename: 1249120_31349958_65948781.wav\n",
      "Text: {'alternative': [{'transcript': 'acne medicine', 'confidence': 0.8974849}, {'transcript': 'Acme now 50'}], 'final': True}\n",
      "\n",
      "Filename: 1249120_43105396_52062520.wav\n",
      "Text: []\n",
      "\n",
      "Filename: 1249120_44088493_94041509.wav\n",
      "Text: {'alternative': [{'transcript': \"they're divorced last year I just can't stop dwelling on how to get revenge on the ex-husband\", 'confidence': 0.79459411}, {'transcript': \"they're divorced last year I just can't stop dwelling on how to get revenge on my ex-husband\"}, {'transcript': \"they're divorced last year I just can't stop dwelling on how to get revenge on ex husband\"}, {'transcript': \"their divorce last year I just can't stop dwelling on how to get revenge on the ex-husband\"}, {'transcript': \"they're divorced last year and I just can't stop dwelling on how to get revenge on the ex-husband\"}], 'final': True}\n",
      "\n",
      "Filename: 1249120_43719934_19795067.wav\n",
      "Text: []\n",
      "\n",
      "Filename: 1249120_43856216_102559908.wav\n",
      "Text: {'alternative': [{'transcript': 'after walking I have some pain under my foot', 'confidence': 0.82541394}, {'transcript': 'after working I have some pain under my foot'}], 'final': True}\n",
      "\n",
      "Filename: 1249120_38548574_109106533.wav\n",
      "Text: []\n",
      "\n",
      "Filename: 1249120_18172663_95015683.wav\n",
      "Text: {'alternative': [{'transcript': 'I used to be out of breath after going up a dozen of stairs but now I struggle to breathe even when I sit down', 'confidence': 0.96842074}, {'transcript': 'it used to be out of breath after going up a dozen of stairs but now I struggle to breathe even when I sit down', 'confidence': 0.95589495}, {'transcript': 'I used to be out of breath after going up a dozen of stares but now I struggle to breathe even when I sit down', 'confidence': 0.96842074}, {'transcript': 'it used to be out of breath after going up a dozen of stares but now I struggle to breathe even when I sit down', 'confidence': 0.95589495}, {'transcript': 'I used to be out of breathe after going up a dozen of stairs but now I struggle to breathe even when I sit down', 'confidence': 0.96842074}], 'final': True}\n",
      "\n",
      "Filename: 1249120_42557795_17333030.wav\n",
      "Text: {'alternative': [{'transcript': 'when I stand up to Peak my vision is blurry', 'confidence': 0.84933788}, {'transcript': 'when I stand up to pee my vision is blurry'}, {'transcript': 'when I stand up to peek my vision is blurry'}, {'transcript': 'when I stand up to Peak my vision is bloody'}, {'transcript': 'when I stand up to pee my vision is bloody'}], 'final': True}\n",
      "\n",
      "Filename: 1249120_30937687_93193229.wav\n",
      "Text: {'alternative': [{'transcript': 'I Walk Alone 43 km I feel pain in my foot like to take', 'confidence': 0.88357925}, {'transcript': 'eyeball cologne 43 km I feel pain in my foot like to take'}, {'transcript': 'I Walk Alone 43 km I feel pain in my foot like you take'}, {'transcript': 'I Walk Alone for three kilometers I feel pain in my foot like to take'}, {'transcript': 'I Walk Alone for 3 km I feel pain in my foot like to take'}], 'final': True}\n",
      "\n",
      "Filename: 1249120_6338946_69351278.wav\n",
      "Text: {'alternative': [{'transcript': \"I feel pain in my legs muscles after I ran yesterday I took some painkillers but it doesn't help\", 'confidence': 0.96804923}, {'transcript': \"I feel pain in my legs muscles after Iran yesterday I took some painkillers but it doesn't help\"}], 'final': True}\n",
      "\n",
      "Filename: 1249120_28006404_51911650.wav\n",
      "Text: {'alternative': [{'transcript': 'my muscles in my lower back are aching', 'confidence': 0.94154042}, {'transcript': 'my muscles in my lower back is aching'}, {'transcript': 'my muscles in my lower back IQ'}, {'transcript': 'my message in my lower back are aching'}, {'transcript': 'my message in my lower back is aching'}], 'final': True}\n",
      "\n",
      "Filename: 1249120_1853182_31648376.wav\n",
      "Text: {'alternative': [{'transcript': 'annoyance start suddenly oven after an injury or exercise', 'confidence': 0.81932819}, {'transcript': 'annoyance starts suddenly oven after an injury or exercise'}, {'transcript': 'annoyance start suddenly often after an injury or exercise'}, {'transcript': 'annoyances start suddenly oven after an injury or exercise'}, {'transcript': 'annoyance start suddenly Auden after an injury or exercise'}], 'final': True}\n",
      "\n",
      "Filename: 1249120_44142156_24503276.wav\n",
      "Text: {'alternative': [{'transcript': 'after eating I have burning sensation inside of me', 'confidence': 0.97705585}, {'transcript': 'after everything I have burning sensation inside of me'}], 'final': True}\n",
      "\n",
      "Filename: 1249120_43577102_19385759.wav\n",
      "Text: {'alternative': [{'transcript': 'I feel dizzy when I make sudden movements', 'confidence': 0.98427546}, {'transcript': 'how do you feel dizzy when I make sudden movements'}, {'transcript': 'how you feel dizzy when I make sudden movements'}], 'final': True}\n",
      "\n",
      "Filename: 1249120_43665783_33287276.wav\n",
      "Text: {'alternative': [{'transcript': 'my CBC report indicate 10hp tired', 'confidence': 0.77950567}, {'transcript': 'my CBC report indicate 10hp I feel tired'}, {'transcript': 'my CBC report indicate 10 HD I feel tired'}, {'transcript': 'my CBC report indicate 10 HP I feel tired'}, {'transcript': 'myccbc report indicate 10hp tired'}], 'final': True}\n",
      "\n",
      "Filename: 1249120_43350908_39079018.wav\n",
      "Text: {'alternative': [{'transcript': 'I am in need for the treatment for my headphone', 'confidence': 0.90264189}, {'transcript': 'I am in need for the treatment for my headphones'}, {'transcript': 'I am in need for the treatment for my hair for'}, {'transcript': 'I am in it for the treatment for my headphone'}, {'transcript': 'I am in need for your treatment for my headphone'}], 'final': True}\n",
      "\n",
      "Filename: 1249120_18172663_108137849.wav\n",
      "Text: {'alternative': [{'transcript': 'I have a headache everytime I eat ice cream', 'confidence': 0.96623176}, {'transcript': 'I have a headache everytime I eat ice-cream'}, {'transcript': 'I have a headache every time I eat ice cream'}], 'final': True}\n",
      "\n",
      "Filename: 1249120_2171654_84541043.wav\n",
      "Text: {'alternative': [{'transcript': 'it is like I have a needle pushing through my heart', 'confidence': 0.987629}], 'final': True}\n",
      "\n",
      "Filename: 1249120_43453425_16535015.wav\n",
      "Text: {'alternative': [{'transcript': 'my skin is itchy and inflamed', 'confidence': 0.9809677}, {'transcript': 'my skin is itchy and inflame'}], 'final': True}\n",
      "\n",
      "Filename: 1249120_38202325_60138012.wav\n",
      "Text: {'alternative': [{'transcript': \"I can't stand with this horrible feeling in my stomach\", 'confidence': 0.98762906}], 'final': True}\n",
      "\n",
      "Filename: 1249120_35408915_92289463.wav\n",
      "Text: {'alternative': [{'transcript': 'okay.', 'confidence': 0.82100058}, {'transcript': 'okay. I have a pain in my shoulder'}, {'transcript': 'okay. Have a bigamist'}, {'transcript': 'okay. I have a bigamist'}, {'transcript': \"I can't. I have a pain in my shoulder\"}], 'final': True}\n",
      "\n",
      "Filename: 1249120_44091626_37218126.wav\n",
      "Text: {'alternative': [{'transcript': 'I feel abdominal pain', 'confidence': 0.98762906}], 'final': True}\n",
      "\n",
      "Filename: 1249120_35154350_31054104.wav\n",
      "Text: {'alternative': [{'transcript': \"sometimes I cough because I'm a smoker\", 'confidence': 0.98271245}, {'transcript': \"sometimes I Cog because I'm a smoker\", 'confidence': 0.98271245}, {'transcript': \"sometimes I cough becuase I'm a smoker\", 'confidence': 0.98271245}, {'transcript': \"sometimes I kawg because I'm a smoker\", 'confidence': 0.98271245}, {'transcript': \"sometimes I caug because I'm a smoker\", 'confidence': 0.98271245}], 'final': True}\n",
      "\n",
      "Filename: 1249120_15004831_16727782.wav\n",
      "Text: {'alternative': [{'transcript': 'I was diagnosed with B12 deficiency anemia which explains why I always felt cold', 'confidence': 0.97510117}, {'transcript': 'I was diagnosed with B12 deficiency anaemia which explains why I always felt cold'}], 'final': True}\n",
      "\n",
      "Filename: 1249120_44101988_90738099.wav\n",
      "Text: {'alternative': [{'transcript': 'I never had any acne problem until my last pregnancy all of a sudden multi-court forward into', 'confidence': 0.69885623}, {'transcript': 'I never had any acne problem until my last pregnancy all of a sudden got covered in'}, {'transcript': 'I never had any acne problem until my last pregnancy all of a sudden my bike Scott forward into'}, {'transcript': 'I never had any acne problem until my last pregnancy all of a sudden my bike Scott covered in'}, {'transcript': 'I never had an acne problem until my last pregnancy all of a sudden my pipes got covered in'}], 'final': True}\n",
      "\n",
      "Filename: 1249120_41087148_84270470.wav\n",
      "Text: {'alternative': [{'transcript': 'I have rolling in my middle ear made by infection', 'confidence': 0.84949464}, {'transcript': 'I have rolling in my middle ear infection'}, {'transcript': 'I have rolling mean my middle ear made by infection'}, {'transcript': 'I have rolling mean my middle ear infection'}, {'transcript': 'Avril Lavigne my middle ear made by infection'}], 'final': True}\n",
      "\n",
      "Filename: 1249120_31349958_55816195.wav\n",
      "Text: {'alternative': [{'transcript': 'Pierce', 'confidence': 0.70451403}, {'transcript': 'Michael Pierce'}, {'transcript': 'a in a sentence'}, {'transcript': 'appears in a sentence'}], 'final': True}\n",
      "\n",
      "Filename: 1249120_41203338_109901571.wav\n",
      "Text: {'alternative': [{'transcript': 'I feel pain in my heart when I wake up', 'confidence': 0.98966122}, {'transcript': 'I feel pain Inn my heart when I wake up', 'confidence': 0.98966122}, {'transcript': 'igh feel pain in my heart when I wake up', 'confidence': 0.98966122}, {'transcript': 'I feel pain in my heart when I wake oop', 'confidence': 0.98966122}, {'transcript': 'I feel pain in my heart wwhen I wake up', 'confidence': 0.98966122}], 'final': True}\n",
      "\n",
      "Filename: 1249120_43172391_98415617.wav\n",
      "Text: {'alternative': [{'transcript': \"I don't find our camping to catch the ball\", 'confidence': 0.62761539}, {'transcript': \"I don't know her by sending to catch the ball\"}, {'transcript': \"I don't find our camping to catch the Border\"}, {'transcript': \"I don't know her by sending to catch the Border\"}, {'transcript': \"I don't find our jamming to catch the ball\"}], 'final': True}\n",
      "\n",
      "Filename: 1249120_35408915_72213829.wav\n",
      "Text: {'alternative': [{'transcript': 'I have a split on my thumb that will not heal', 'confidence': 0.94730473}, {'transcript': 'I have a split on my phone that will not heal'}, {'transcript': 'I have you split on my thumb that will not heal'}, {'transcript': 'I have you split on my phone that will not heal'}], 'final': True}\n",
      "\n",
      "Filename: 1249120_18386513_14849968.wav\n",
      "Text: {'alternative': [{'transcript': \"when I move my shoulder it's like lightning is being sent through my shoulder\", 'confidence': 0.99431103}, {'transcript': \"when I move my shoulder it's like lightening is being sent through my shoulder\", 'confidence': 0.99431103}, {'transcript': 'when I move my shoulder its like lightning is being sent through my shoulder', 'confidence': 0.99431103}, {'transcript': \"when I move my shoulder it's like lightning is being sent through my scholder\", 'confidence': 0.99431103}, {'transcript': \"when I move my shoulder it's liked lightning is being sent through my shoulder\", 'confidence': 0.99431103}], 'final': True}\n",
      "\n",
      "Filename: 1249120_43918153_19923447.wav\n",
      "Text: {'alternative': [{'transcript': 'I feel light-headed when I stand up', 'confidence': 0.987629}], 'final': True}\n",
      "\n",
      "Filename: 1249120_30937687_13139749.wav\n",
      "Text: {'alternative': [{'transcript': 'Apple in hard-working day I have full HD', 'confidence': 0.77194816}, {'transcript': 'apple and hard-working day I have full HD'}, {'transcript': 'Appling hard-working day I have full HD'}, {'transcript': 'appellant hard-working day I have full HD'}, {'transcript': 'Appel Inn hard-working day I have full HD'}], 'final': True}\n",
      "\n",
      "Filename: 1249120_44084500_11047616.wav\n",
      "Text: {'alternative': [{'transcript': 'I feel pain in my joint after an injury in the last football match I played', 'confidence': 0.94197881}, {'transcript': 'I feel pain in my joint after an injury in the lasts football match I played', 'confidence': 0.94197881}, {'transcript': 'I feel pain in my joint after an injury Inn the last football match I played', 'confidence': 0.94197881}, {'transcript': 'I feel pain in my Joynt after an injury in the last football match I played', 'confidence': 0.94197881}, {'transcript': 'I feel pain in my joint after an injury in the last football match I play', 'confidence': 0.88749182}], 'final': True}\n",
      "\n",
      "Filename: 1249120_41087148_86242250.wav\n",
      "Text: {'alternative': [{'transcript': 'there are times you are passing on my lungs actually scares the hell out of my me when it happens', 'confidence': 0.69292057}, {'transcript': 'there are times you are passing on my lungs actually scares the hell out of my me when it happened'}, {'transcript': 'there are times you are pausing on my lungs actually scares the hell out of my me when it happens'}, {'transcript': 'there are times you are pausing on my lungs actually scares the hell out of my me when it happened'}, {'transcript': 'there are times you are passing on my lungs actually scares the hell out of my me'}], 'final': True}\n",
      "\n",
      "Filename: 1249120_42554554_82529747.wav\n",
      "Text: {'alternative': [{'transcript': 'still lights.', 'confidence': 0.45760161}, {'transcript': 'sterilizer for the eye'}, {'transcript': 'stair lights.'}, {'transcript': 'still lines.'}, {'transcript': 'still lives with father I'}], 'final': True}\n",
      "\n",
      "Filename: 1249120_22423108_69115681.wav\n",
      "Text: {'alternative': [{'transcript': \"can't do any exercise I feel weak\", 'confidence': 0.94431531}, {'transcript': \"I can't do any exercise I feel weak\"}, {'transcript': \"can't do any exercise I feel week\"}, {'transcript': \"I can't do any exercise I feel week\"}], 'final': True}\n",
      "\n",
      "Filename: 1249120_39142299_105908594.wav\n",
      "Text: {'alternative': [{'transcript': 'it itches inside Meijer', 'confidence': 0.82821631}, {'transcript': 'it itches inside my yard'}, {'transcript': \"it itches inside Meijer's\"}, {'transcript': 'it itches inside Myers'}], 'final': True}\n",
      "\n",
      "Filename: 1249120_43856216_41142599.wav\n",
      "Text: {'alternative': [{'transcript': \"when I'm awake in the morning I feel strange and have vertigo\", 'confidence': 0.95285249}, {'transcript': \"when I'm a week in the morning I feel strange and have vertigo\"}], 'final': True}\n",
      "\n",
      "Filename: 1249120_39438102_17367221.wav\n",
      "Text: {'alternative': [{'transcript': \"I can't move my head up and down\", 'confidence': 0.987629}], 'final': True}\n",
      "\n",
      "Filename: 1249120_19425875_90088678.wav\n",
      "Text: {'alternative': [{'transcript': 'I have blurry vision after I use a wrong medicine', 'confidence': 0.95561445}, {'transcript': 'I have blurry vision after I used a wrong medicine'}], 'final': True}\n",
      "\n",
      "Filename: 1249120_39438102_91676086.wav\n",
      "Text: {'alternative': [{'transcript': \"I feel that it's hard to breathe especially after running or making any effort\", 'confidence': 0.97440755}, {'transcript': \"I feel that it's hard to breathe for me specially after running or making any effort\"}, {'transcript': \"I feel that it's hard to breathe especially after running for making any effort\"}], 'final': True}\n",
      "\n",
      "Filename: 1249120_39438102_37794921.wav\n",
      "Text: {'alternative': [{'transcript': 'I have tried to make massage on my set', 'confidence': 0.97748971}, {'transcript': 'I have tried to make massage on my foot'}, {'transcript': 'I have tried to make massage on my step'}, {'transcript': 'I have tried to make massage on my setup'}], 'final': True}\n",
      "\n",
      "Filename: 1249120_40663048_16096306.wav\n",
      "Text: []\n",
      "\n",
      "Filename: 1249120_44023395_32256329.wav\n",
      "Text: {'alternative': [{'transcript': 'how to spell inline that I can understand', 'confidence': 0.81903744}, {'transcript': 'alphabet'}, {'transcript': 'how to spell denying that I can understand'}, {'transcript': 'Olive Garden tonight that I can understand'}, {'transcript': 'how to spell denied that I can understand'}], 'final': True}\n",
      "\n",
      "Filename: 1249120_13842059_63309891.wav\n",
      "Text: {'alternative': [{'transcript': \"I feel pain inside I don't know what it is\", 'confidence': 0.93490374}, {'transcript': \"I feel pain in side I don't know what it is\"}], 'final': True}\n",
      "\n",
      "Filename: 1249120_20518958_50449653.wav\n",
      "Text: {'alternative': [{'transcript': 'I had a card that was stitched together but it is not healing', 'confidence': 0.65440476}, {'transcript': 'I had a card that was this together but it is not healing'}, {'transcript': '100 card that was stitched together but it is not healing'}, {'transcript': 'I had a card that was teased together but it is not healing'}, {'transcript': 'I had a card that was stitched together but it is healing'}], 'final': True}\n",
      "\n",
      "Filename: 1249120_34824899_40742839.wav\n",
      "Text: {'alternative': [{'transcript': 'I get clusters of pimples on my face that never go away', 'confidence': 0.9820537}, {'transcript': 'I get clusters of pimples on my face but never go away'}], 'final': True}\n",
      "\n",
      "Filename: 1249120_20518958_42522591.wav\n",
      "Text: {'alternative': [{'transcript': 'a good when it is cold', 'confidence': 0.60083026}, {'transcript': 'engagement when it is cold'}, {'transcript': 'a good time when it is cold'}, {'transcript': \"I'm good when it is cold\"}, {'transcript': 'a good thing when it is cold'}], 'final': True}\n",
      "\n",
      "Filename: 1249120_39142299_90644197.wav\n",
      "Text: {'alternative': [{'transcript': \"I haven't dual HD in my stomach after I eat\", 'confidence': 0.58015525}, {'transcript': 'I have a dual HG in my stomach after I eat'}, {'transcript': \"I haven't dual HD in my stomach hurts after I eat\"}, {'transcript': \"I haven't dual HG in my stomach after I eat\"}, {'transcript': 'I have a dual HG in my stomach hurts after I eat'}], 'final': True}\n",
      "\n",
      "Filename: 1249120_35170334_61409555.wav\n",
      "Text: {'alternative': [{'transcript': 'my head hurt me badly', 'confidence': 0.74967229}, {'transcript': 'my heart hurt me badly'}], 'final': True}\n",
      "\n",
      "Filename: 1249120_41221824_52110888.wav\n",
      "Text: {'alternative': [{'transcript': 'I was jacking up with B12 deficiency anemia which explain what I always felt called', 'confidence': 0.62703711}, {'transcript': 'I was checking in with B12 deficiency anemia which explain what I always felt called'}, {'transcript': 'I was checking with B12 deficiency anemia which explain what I always felt called'}, {'transcript': 'I was jacking with B12 deficiency anemia which explain what I always felt called'}, {'transcript': 'I was jacking up with B12 deficiency anemia which explained what I always felt called'}], 'final': True}\n",
      "\n",
      "Filename: 1249120_43577102_62787251.wav\n",
      "Text: {'alternative': [{'transcript': 'a terrible fall in hair', 'confidence': 0.99010324}, {'transcript': 'a terrible fall in Herre'}], 'final': True}\n",
      "\n",
      "Filename: 1249120_33905644_81476220.wav\n",
      "Text: {'alternative': [{'transcript': 'I have constant stomach pain and bloating', 'confidence': 0.987629}], 'final': True}\n",
      "\n",
      "Filename: 1249120_39154234_79412446.wav\n",
      "Text: {'alternative': [{'transcript': 'my heart is pumping fast and I am having hard time to breathe', 'confidence': 0.94421059}, {'transcript': 'my heart is pumping fast and I am having a hard time to breathe'}, {'transcript': 'my heart is pumping fast and I am having hard time to bleed'}], 'final': True}\n",
      "\n",
      "Filename: 1249120_19425875_74204923.wav\n",
      "Text: {'alternative': [{'transcript': \"I often get a sharp pain in my chest and I can't tell what I'm doing that might be triggering it\", 'confidence': 0.98762906}], 'final': True}\n",
      "\n",
      "Filename: 1249120_29289135_16412858.wav\n",
      "Text: {'alternative': [{'transcript': 'I have throbbing in my shoulder', 'confidence': 0.94200581}, {'transcript': 'I have throbbing in my sholder', 'confidence': 0.94200581}, {'transcript': 'I haves throbbing in my shoulder', 'confidence': 0.94200581}, {'transcript': 'I have throbbing in my scholder', 'confidence': 0.94200581}, {'transcript': 'I have throbbing Inn my shoulder', 'confidence': 0.94200581}], 'final': True}\n",
      "\n",
      "Filename: 1249120_2171654_89836131.wav\n",
      "Text: {'alternative': [{'transcript': \"the area around my heart doesn't feel good\", 'confidence': 0.97362071}, {'transcript': \"the area round my heart doesn't feel good\"}, {'transcript': \"bieri around my heart doesn't feel good\"}], 'final': True}\n",
      "\n",
      "Filename: 1249120_33905644_49402846.wav\n",
      "Text: {'alternative': [{'transcript': 'my hair is falling out just by coming it', 'confidence': 0.98762906}], 'final': True}\n",
      "\n",
      "Filename: 1249120_39675900_70927634.wav\n",
      "Text: {'alternative': [{'transcript': 'okay shorty', 'confidence': 0.98762906}], 'final': True}\n",
      "\n",
      "Filename: 1249120_43898158_10515634.wav\n",
      "Text: []\n",
      "\n",
      "Filename: 1249120_43698316_20601320.wav\n",
      "Text: {'alternative': [{'transcript': 'I get chills and aches all over', 'confidence': 0.987629}], 'final': True}\n",
      "\n",
      "Filename: 1249120_43855932_57013573.wav\n",
      "Text: {'alternative': [{'transcript': 'I cut my foot at the pool and it breaks open everyday when I walk on it', 'confidence': 0.73066384}, {'transcript': 'I cut my foot at the pool and it breaks open every day when I walk on it'}, {'transcript': 'I cut my food at the pool and it breaks open everyday when I walk on it'}, {'transcript': 'I cut my food at the pool and it breaks open every day when I walk on it'}, {'transcript': 'I cut my foot at the pool and it breaks open every day when they walk on it'}], 'final': True}\n",
      "\n",
      "Filename: 1249120_40401830_30541713.wav\n",
      "Text: {'alternative': [{'transcript': 'when my grandfather died after the house emotional', 'confidence': 0.83006787}, {'transcript': 'when my grandfather died at soccer the house emotional'}, {'transcript': 'when my grandfather died I feel the house emotional'}, {'transcript': \"when my grandfather died it's after the house emotional\"}, {'transcript': \"when my grandfather died it's a fair the house emotional\"}], 'final': True}\n",
      "\n",
      "Filename: 1249120_34824899_30828508.wav\n",
      "Text: {'alternative': [{'transcript': 'I have a pain in my joint', 'confidence': 0.93920642}, {'transcript': 'I have a pain in my joints'}], 'final': True}\n",
      "\n",
      "Filename: 1249120_42557795_61249852.wav\n",
      "Text: {'alternative': [{'transcript': 'I have an invitation', 'confidence': 0.87978232}, {'transcript': \"I haven't indigestion\"}, {'transcript': 'I have an indigestion'}, {'transcript': 'I have an indentation'}, {'transcript': 'I have an indication'}], 'final': True}\n",
      "\n",
      "Filename: 1249120_29289135_63829632.wav\n",
      "Text: {'alternative': [{'transcript': 'heavy breast with fatigue', 'confidence': 0.76657546}, {'transcript': 'heavy breath with fatigue'}, {'transcript': 'heavy breasts with fatigue'}, {'transcript': 'have you breast with fatigue'}, {'transcript': 'heavy breaths with fatigue'}], 'final': True}\n",
      "\n",
      "Filename: 1249120_43453425_57723599.wav\n",
      "Text: {'alternative': [{'transcript': 'I feel dizzy whenever I stand', 'confidence': 0.98612022}, {'transcript': 'I feel dizzy renovation'}, {'transcript': 'I feel dizzy when I stand'}], 'final': True}\n",
      "\n",
      "Filename: 1249120_43612961_27866832.wav\n",
      "Text: {'alternative': [{'transcript': 'I have pain in my colon and my stomach like something cutting it', 'confidence': 0.9402256}, {'transcript': 'I have pain in my colon and stomach like something cutting it'}, {'transcript': 'I have pain in my colon and my stomach like something catching it'}, {'transcript': 'I have pain in my colon and my stomach like something Cuttin it'}, {'transcript': 'I have pain in my colon and my stomach likes something cutting it'}], 'final': True}\n",
      "\n",
      "Filename: 1249120_42557795_99732667.wav\n",
      "Text: {'alternative': [{'transcript': \"I can't stop coughing\", 'confidence': 0.92200112}, {'transcript': \"I can't stopped coughing\", 'confidence': 0.92200112}, {'transcript': \"igh can't stop coughing\", 'confidence': 0.92200112}, {'transcript': \"I can't stop the feeling\", 'confidence': 0.65127337}, {'transcript': \"I can't stoppe coughing\", 'confidence': 0.92200112}], 'final': True}\n",
      "\n",
      "Filename: 1249120_21665495_11046173.wav\n",
      "Text: {'alternative': [{'transcript': 'I have pimples on my back', 'confidence': 0.98760796}, {'transcript': 'I have pimples on my Bak', 'confidence': 0.98760796}, {'transcript': 'I have pimples on my bacc', 'confidence': 0.98760796}, {'transcript': 'I have pimples on my bakkt', 'confidence': 0.98760796}, {'transcript': 'I have pimples on my bakk', 'confidence': 0.98760796}], 'final': True}\n",
      "\n",
      "Filename: 1249120_39740177_42650370.wav\n",
      "Text: {'alternative': [{'transcript': 'I feel pain inside I do not know what to taste', 'confidence': 0.81203789}, {'transcript': 'I feel pain inside I do not know what to test'}, {'transcript': 'I feel pain in side I do not know what to taste'}, {'transcript': 'I feel pain in side I do not know what to test'}, {'transcript': 'I feel pain in sides I do not know what to taste'}], 'final': True}\n",
      "\n",
      "Filename: 1249120_35448024_91999487.wav\n",
      "Text: {'alternative': [{'transcript': 'Microsoft store', 'confidence': 0.82154512}, {'transcript': 'Microsoft'}, {'transcript': 'Patrice author'}, {'transcript': 'necrosis or'}, {'transcript': 'Patrice or'}], 'final': True}\n",
      "\n",
      "Filename: 1249120_18172663_86371536.wav\n",
      "Text: {'alternative': [{'transcript': \"it's hard to stand up and I'm moving very slowly\", 'confidence': 0.98762906}], 'final': True}\n",
      "\n",
      "Filename: 1249120_40571337_19124871.wav\n",
      "Text: {'alternative': [{'transcript': \"my neck is annoying me I can't sleep because of it\", 'confidence': 0.99490935}, {'transcript': \"my neck is annoying Emmy I can't sleep because of it\", 'confidence': 0.99490935}, {'transcript': \"my neck is anoying me I can't sleep because of it\", 'confidence': 0.99490935}, {'transcript': \"my nek is annoying me I can't sleep because of it\", 'confidence': 0.99490935}, {'transcript': \"my neck is annoying Emy I can't sleep because of it\", 'confidence': 0.99490935}], 'final': True}\n",
      "\n",
      "Filename: 1249120_43604449_84524170.wav\n",
      "Text: {'alternative': [{'transcript': 'I have a problem in my back I cannot extend it', 'confidence': 0.89587492}, {'transcript': 'I have a problem in my back I cannot extended'}, {'transcript': 'I have a problem in my back I can order extended'}], 'final': True}\n",
      "\n",
      "Filename: 1249120_33251186_86514950.wav\n",
      "Text: {'alternative': [{'transcript': \"it's feel like someone stuck a knife into my shoulder\", 'confidence': 0.94234312}, {'transcript': 'its feel like someone stuck a knife into my shoulder'}], 'final': True}\n",
      "\n",
      "Filename: 1249120_43577102_66398329.wav\n",
      "Text: {'alternative': [{'transcript': 'I feel a bone on bone pain in my knees when I climb stairs', 'confidence': 0.92402267}, {'transcript': 'I feel a bone on bone pain in my knee when I climb stairs'}, {'transcript': 'I feel bone on bone pain in my knees when I climb stairs'}, {'transcript': 'I feel bone on bone pain in my knee when I climb stairs'}, {'transcript': 'I feel a bone on bone pain in my knees when I climbed stairs'}], 'final': True}\n",
      "\n",
      "Filename: 1249120_33905644_67705518.wav\n",
      "Text: {'alternative': [{'transcript': 'my acne itches and noodles', 'confidence': 0.8910166}, {'transcript': 'my acne itches and oodles'}, {'transcript': 'my acne itches and orders'}, {'transcript': 'my acne each has an orders'}, {'transcript': 'my acne each has a noodles'}], 'final': True}\n",
      "\n",
      "Filename: 1249120_40184183_104791790.wav\n",
      "Text: {'alternative': [{'transcript': 'my acne pictures and uses', 'confidence': 0.85591716}, {'transcript': 'my acne pictures and losses'}, {'transcript': 'my acne pictures and loses'}, {'transcript': 'my acne pictures and roses'}, {'transcript': 'my acne peaches and losses'}], 'final': True}\n",
      "\n",
      "Filename: 1249120_30766630_39577940.wav\n",
      "Text: {'alternative': [{'transcript': 'the knee feels like a rusted and I suddenly cannot bend it anymore', 'confidence': 0.89122432}, {'transcript': 'Denis feels like a rusted and I suddenly cannot bend it anymore'}, {'transcript': 'the knee feels like a rusted and I certainly cannot bend it anymore'}, {'transcript': \"the knee feels like it's rusted and I suddenly cannot bend it anymore\"}, {'transcript': 'Denis feels like a rusted and I certainly cannot bend it anymore'}], 'final': True}\n",
      "\n",
      "Filename: 1249120_38202325_102542810.wav\n",
      "Text: {'alternative': [{'transcript': 'my hair is falling without a reason I can see a lot of here on my working desk', 'confidence': 0.98762906}], 'final': True}\n",
      "\n",
      "Filename: 1249120_44084500_104720088.wav\n",
      "Text: {'alternative': [{'transcript': 'sharp pain in my ear', 'confidence': 0.56733453}, {'transcript': 'shopping in my area'}, {'transcript': 'shopping in my ear'}, {'transcript': 'shopping'}, {'transcript': 'a sharp pain in my ear'}], 'final': True}\n",
      "\n",
      "Filename: 1249120_43577102_85210789.wav\n",
      "Text: {'alternative': [{'transcript': 'it hurts when I raise my arm up', 'confidence': 0.9793129}, {'transcript': 'it hurts when I raised my arm up'}], 'final': True}\n",
      "\n",
      "Filename: 1249120_28006404_50359460.wav\n",
      "Text: {'alternative': [{'transcript': 'severe pain in the upper left side of chest and may have painted back', 'confidence': 0.97314519}, {'transcript': 'severe pain in the upper left side of chest and may have pains back'}, {'transcript': 'severe pain in the upper left side of chest and may have paid you back'}, {'transcript': 'severe pain in the upper left side of chest and may have pain to back'}, {'transcript': 'severe pain in the upper left side of chest and may have paid back'}], 'final': True}\n",
      "\n",
      "Filename: 1249120_35832653_10784677.wav\n",
      "Text: {'alternative': [{'transcript': 'my head gets dizzy when I try to get up', 'confidence': 0.98762906}], 'final': True}\n",
      "\n",
      "Filename: 1249120_39142299_69327378.wav\n",
      "Text: {'alternative': [{'transcript': \"there's ceiling in my neck and it hurts\", 'confidence': 0.88313866}, {'transcript': \"there's ceiling Inn my neck and it hurts\", 'confidence': 0.88313866}, {'transcript': \"there's ceiling in my nek and it hurts\", 'confidence': 0.88313866}, {'transcript': \"there's ceiling een my neck and it hurts\", 'confidence': 0.88313866}, {'transcript': \"there's ceiling inne my neck and it hurts\", 'confidence': 0.88313866}], 'final': True}\n",
      "\n",
      "Filename: 1249120_43898158_53220106.wav\n",
      "Text: {'alternative': [{'transcript': \"I feel like I can hardly breathe unless I get what's in my lungs\", 'confidence': 0.90381253}, {'transcript': \"I feel like I can hardly B unless I get what's in my lungs\"}], 'final': True}\n",
      "\n",
      "Filename: 1249120_44111844_56494862.wav\n",
      "Text: {'alternative': [{'transcript': 'I have pain in my chest that saddens', 'confidence': 0.91428602}, {'transcript': 'I have been in my chest that saddens', 'confidence': 0.91238856}, {'transcript': 'I have pain in my chest that saddens me', 'confidence': 0.87975103}, {'transcript': 'I have been in my chest that saddens me', 'confidence': 0.87686771}, {'transcript': 'I have been in my chests that saddens', 'confidence': 0.91238856}], 'final': True}\n",
      "\n",
      "Filename: 1249120_21665495_15185342.wav\n",
      "Text: {'alternative': [{'transcript': \"I can't drive my car at night because I have blurry vision\", 'confidence': 0.75082135}, {'transcript': 'I can try my car at night because I have blurry vision'}, {'transcript': \"I can't drive my car at 9 because I have blurry vision\"}, {'transcript': \"I can't drive my car tonight because I have blurry vision\"}, {'transcript': 'I can drive my car at night because I have blurry vision'}], 'final': True}\n",
      "\n",
      "Filename: 1249120_43951421_82648467.wav\n",
      "Text: {'alternative': [{'transcript': 'I feel dizzy and active site', 'confidence': 0.68492484}, {'transcript': 'I feel dizzy an active site'}, {'transcript': 'I feel dizzy active site'}, {'transcript': 'akathisia active site'}, {'transcript': 'I feel dizzy or active site'}], 'final': True}\n",
      "\n",
      "Filename: 1249120_44101988_67454856.wav\n",
      "Text: {'alternative': [{'transcript': 'that is a sharp pain in my bicep', 'confidence': 0.89132148}, {'transcript': 'there is a sharp pain in my bicep'}, {'transcript': 'that is a sharp pain in my biceps'}, {'transcript': 'there is a sharp pain in my biceps'}], 'final': True}\n",
      "\n",
      "Filename: 1249120_43856216_56065266.wav\n",
      "Text: {'alternative': [{'transcript': 'I have a rash and it itches very bad', 'confidence': 0.98060292}, {'transcript': 'I have a rash and it itches really bad'}, {'transcript': 'I have a rash and it is very bad'}], 'final': True}\n",
      "\n",
      "Filename: 1249120_35154350_74807554.wav\n",
      "Text: {'alternative': [{'transcript': 'I was playing football and injured with joint pain', 'confidence': 0.95071644}, {'transcript': 'I was playing football in injured with joint pain'}], 'final': True}\n",
      "\n",
      "Filename: 1249120_41956733_88977496.wav\n",
      "Text: {'alternative': [{'transcript': 'after walking I have some pain under my foot', 'confidence': 0.72859478}, {'transcript': 'after working I have some pain under my foot'}], 'final': True}\n",
      "\n",
      "Filename: 1249120_39142299_45810853.wav\n",
      "Text: {'alternative': [{'transcript': \"my face is Broken Out In painful red Sport and Lambs how much I clean my face don't seem to be going\", 'confidence': 0.80942589}, {'transcript': \"my face is Broken Out In painful red Sport and lamps how much I clean my face don't seem to be going\"}, {'transcript': \"my face is Broken Out In painful red Sport and Lambs how much I clean my face don't seem to be going away\"}, {'transcript': \"my face is Broken Out In painful red port and Lambs how much I clean my face don't seem to be going\"}, {'transcript': \"my face is Broken Out In painful red Sport and lamps how much I clean my face don't seem to be going away\"}], 'final': True}\n",
      "\n",
      "Filename: 1249120_39142299_88988327.wav\n",
      "Text: {'alternative': [{'transcript': 'my husband left me for another woman my heart hurts so badly to the point I cannot eat or sleep', 'confidence': 0.98762906}], 'final': True}\n",
      "\n",
      "Filename: 1249120_30937687_66859508.wav\n",
      "Text: {'alternative': [{'transcript': 'I feel sad like her. Pain', 'confidence': 0.96119094}, {'transcript': 'I feel sad like her. Payne'}, {'transcript': 'I feel sad like art of pain'}, {'transcript': 'I feel sad like a lot of pain'}, {'transcript': \"I feel sad like I don't mean\"}], 'final': True}\n",
      "\n",
      "Filename: 1249120_39438102_66400622.wav\n",
      "Text: {'alternative': [{'transcript': 'my chest break out with red pimples and white pants', 'confidence': 0.91425884}, {'transcript': 'my chest breakout with red pimples and white pants'}, {'transcript': 'my chest break out with red pimples and white hands'}, {'transcript': 'my chest break out with red pimples and white ants'}, {'transcript': 'my chest break out with red pimples and white parents'}], 'final': True}\n",
      "\n",
      "Filename: 1249120_43883861_81944466.wav\n",
      "Text: {'alternative': [{'transcript': 'the pain is intense especially when I go down the stairs it feels like something has snapped inside my knee', 'confidence': 0.97996426}, {'transcript': 'the pain is intense especially when I go down the stairs it feels like something has snapt inside my knee', 'confidence': 0.97996426}, {'transcript': 'the pain is intense especially when I go down the stairs it feels like Somethin has snapped inside my knee', 'confidence': 0.97996426}, {'transcript': 'the pain is intense especially when I go down the stairs it feels like something has snapped insyde my knee', 'confidence': 0.97996426}, {'transcript': 'the pain is intense especially when I go down the stairs it feels like something has snapped innside my knee', 'confidence': 0.97996426}], 'final': True}\n",
      "\n",
      "Filename: 1249120_40184183_19320278.wav\n",
      "Text: {'alternative': [{'transcript': 'I have a Delaware can my lower back which makes it difficult to move', 'confidence': 0.57517385}, {'transcript': 'I have a double deck and my Lord bad which makes it difficult to move'}, {'transcript': 'I have a double deck in my lower back which makes it difficult to move'}, {'transcript': 'I have a Delaware can my Lord bad which makes it difficult to move'}, {'transcript': 'I have a double deck and my lower back which makes it difficult to move'}], 'final': True}\n",
      "\n",
      "Filename: 1249120_39154234_24110459.wav\n",
      "Text: {'alternative': [{'transcript': 'my head hurts and I lose the sensation in my face then lost sight in my eye', 'confidence': 0.86251581}, {'transcript': 'my head hurts and I lose the sensation in my face and then lost sight in my eye'}, {'transcript': 'my head hurts and I lose sensation in my face then lost sight in my eye'}, {'transcript': 'my head hurts and I lose the sensation in my face then lost to sight in my eye'}, {'transcript': 'my head hurts and I lose the sensation in my face then lost sight in my eyes'}], 'final': True}\n",
      "\n",
      "Filename: 1249120_38042052_12611993.wav\n",
      "Text: {'alternative': [{'transcript': 'I feel a pain on the left side of my chest where my heart is', 'confidence': 0.987629}], 'final': True}\n",
      "\n",
      "Filename: 1249120_44101988_69402170.wav\n",
      "Text: {'alternative': [{'transcript': 'I had a sharp pain in my stomach', 'confidence': 0.987629}], 'final': True}\n",
      "\n",
      "Filename: 1249120_43316708_47379867.wav\n",
      "Text: {'alternative': [{'transcript': 'my chest hurts when I go to take a break', 'confidence': 0.94575262}, {'transcript': 'my chest hurts when I go to take a breath'}, {'transcript': 'my chest hurts when I go to take a breathe'}, {'transcript': 'my chest hurts when I go to take a brief'}], 'final': True}\n",
      "\n",
      "Filename: 1249120_39142299_77981524.wav\n",
      "Text: {'alternative': [{'transcript': 'my shoulder hurts when I tried to reach something about my head', 'confidence': 0.95129132}, {'transcript': 'my shoulder hurts when I tried to reach something about my hair.'}, {'transcript': 'my shoulder hurts when I tried to reach something about my hair'}], 'final': True}\n",
      "\n",
      "Filename: 1249120_40184183_71014604.wav\n",
      "Text: {'alternative': [{'transcript': 'I knocked my foot and it really hurts', 'confidence': 0.73474824}, {'transcript': 'I know my foot and it really hurts'}, {'transcript': 'I knock my foot and it really hurts'}, {'transcript': 'I knock my food and it really hurts'}, {'transcript': 'I know my food and it really hurts'}], 'final': True}\n",
      "\n",
      "Filename: 1249120_41203338_75673462.wav\n",
      "Text: {'alternative': [{'transcript': 'I have an earache when I go to the pool', 'confidence': 0.94406128}, {'transcript': \"I haven't earache when I go to the pool\"}, {'transcript': \"I haven't ear ache when I go to the pool\"}], 'final': True}\n",
      "\n",
      "Filename: 1249120_19425875_12855618.wav\n",
      "Text: {'alternative': [{'transcript': 'my calves feel like they are tight as knots and are throbbing', 'confidence': 0.91083378}, {'transcript': 'my calves feel like they are tight as knocked and are throbbing'}, {'transcript': 'my calves feel like they are tight as Nothin are throbbing'}, {'transcript': 'my calves feel like they are tight as not in our throbbing'}, {'transcript': 'my calves feel like they are tight as not in are throbbing'}], 'final': True}\n",
      "\n",
      "Filename: 1249120_35154350_38663978.wav\n",
      "Text: {'alternative': [{'transcript': 'my stomach feels starts hurting but then it feels better after I eat something mild', 'confidence': 0.98666137}, {'transcript': 'my stomach feels starts hurting butt then it feels better after I eat something mild', 'confidence': 0.98666137}, {'transcript': 'my stomach feels starts hurting but then it feels better after I eat Somethin mild', 'confidence': 0.98666137}, {'transcript': 'my stomach feels starts hurting but then it feels better after I eat somthing mild', 'confidence': 0.98666137}, {'transcript': 'my stomach feels startz hurting but then it feels better after I eat something mild', 'confidence': 0.98666137}], 'final': True}\n",
      "\n",
      "Filename: 1249120_14353703_18344186.wav\n",
      "Text: {'alternative': [{'transcript': 'I have a hard muscle pain since I went to the gym', 'confidence': 0.987629}], 'final': True}\n",
      "\n",
      "Filename: 1249120_41841195_66269245.wav\n",
      "Text: {'alternative': [{'transcript': 'my ear hurts when I touch it', 'confidence': 0.987629}], 'final': True}\n",
      "\n",
      "Filename: 1249120_40401830_13855781.wav\n",
      "Text: {'alternative': [{'transcript': 'when I wake up I am feeling cold', 'confidence': 0.79951078}, {'transcript': 'when I wake up I am feeding color'}, {'transcript': 'when I wake up I am feeling color'}, {'transcript': 'when I wake up I am feeding code'}, {'transcript': 'when I wake up I am feeding Cohen'}], 'final': True}\n",
      "\n",
      "Filename: 1249120_43612961_34254617.wav\n",
      "Text: {'alternative': [{'transcript': \"my sword looks like it's not healing well\", 'confidence': 0.80788386}, {'transcript': \"Mysore looks like it's not healing well\"}, {'transcript': \"my soul looks like it's not healing well\"}, {'transcript': \"my sword looks like it's not feeling well\"}, {'transcript': \"MySword looks like it's not healing well\"}], 'final': True}\n",
      "\n",
      "Filename: 1249120_42210938_88579112.wav\n",
      "Text: {'alternative': [{'transcript': 'my ankle joint', 'confidence': 0.98762912}, {'transcript': 'my ankle joint to swell'}, {'transcript': 'my ankle joint 2'}, {'transcript': 'my ankle joint toast'}, {'transcript': 'my ankle joint to Spanish'}], 'final': True}\n",
      "\n",
      "Filename: 1249120_43856216_40095897.wav\n",
      "Text: {'alternative': [{'transcript': \"my heart is pumping fast and I'm having a hard time to breathe\", 'confidence': 0.98659647}, {'transcript': \"my heart is pumping sauce and I'm having a hard time to breathe\"}], 'final': True}\n",
      "\n",
      "Filename: 1249120_40401830_26019096.wav\n",
      "Text: {'alternative': [{'transcript': 'my daughter had her eyebrows threaded and it put an opening of skin in one of the browser does not puffy and O', 'confidence': 0.78186381}, {'transcript': 'my daughter had her eyebrows threaded and it put an opening of skin in one of the browser does not puffy and oh', 'confidence': 0.78186381}, {'transcript': 'my daughter had her eyebrows threaded and it put an opening of skin in one of the browser is not puffy and O', 'confidence': 0.80161917}, {'transcript': 'my daughter had her eyebrows threaded and put an opening of skin in one of the browser does not puffy and O', 'confidence': 0.78991067}, {'transcript': 'my daughter had her eyebrows threaded and it put an opening of skin in one of the browser is not puffy and oh', 'confidence': 0.80161917}], 'final': True}\n",
      "\n",
      "Filename: 1249120_22423108_66152173.wav\n",
      "Text: {'alternative': [{'transcript': 'I have a pain internal', 'confidence': 0.98762906}], 'final': True}\n",
      "\n",
      "Filename: 1249120_41203338_92089677.wav\n",
      "Text: {'alternative': [{'transcript': 'I have shooting pain in my knee cap after working out', 'confidence': 0.987629}], 'final': True}\n",
      "\n",
      "Filename: 1249120_30937687_76850385.wav\n",
      "Text: {'alternative': [{'transcript': 'I feel a great amount of pressure on the side of my neck', 'confidence': 0.95781815}, {'transcript': 'I feel a greater amount of pressure on the side of my neck'}, {'transcript': 'I feel agreed amount of pressure on the side of my neck'}], 'final': True}\n",
      "\n",
      "Filename: 1249120_40725179_101671461.wav\n",
      "Text: {'alternative': [{'transcript': \"I can't move my left wrist pain in the joint\", 'confidence': 0.87654734}, {'transcript': \"I can't move my left wrist pain in the joints\"}, {'transcript': \"I can't move my left breast pain in the joints\"}, {'transcript': \"I can't move my left there is pain in the joints\"}, {'transcript': \"I can't move my left breast pain in the joint\"}], 'final': True}\n",
      "\n",
      "Filename: 1249120_43665783_48758079.wav\n",
      "Text: {'alternative': [{'transcript': 'when I do my super my body gets weak and dizzy', 'confidence': 0.88947576}, {'transcript': 'when I do my super my body gets weak and itchy'}, {'transcript': 'when I do Missoula my body gets weak and dizzy'}, {'transcript': 'when I do my super my body gets weak and Digi'}, {'transcript': 'when I do Missoula my body gets weak and itchy'}], 'final': True}\n",
      "\n",
      "Filename: 1249120_44101988_105983463.wav\n",
      "Text: {'alternative': [{'transcript': 'standing less than 5 minutes and my bike start to age', 'confidence': 0.8857826}, {'transcript': 'standing less than five minutes and my bike start to age'}, {'transcript': 'standing less than 5 minutes and my back start to age'}, {'transcript': 'standing less than 5 minutes and my pax-2 age'}, {'transcript': 'standing less than 5 minutes and Mopac start to age'}], 'final': True}\n",
      "\n",
      "Filename: 1249120_35408915_78040923.wav\n",
      "Text: {'alternative': [{'transcript': 'I feel a tightness in my chest', 'confidence': 0.987629}], 'final': True}\n",
      "\n",
      "Filename: 1249120_35448024_26685626.wav\n",
      "Text: {'alternative': [{'transcript': 'I have an address that is itchy on my skin', 'confidence': 0.98154372}, {'transcript': 'I have an address that is easy on my skin'}, {'transcript': 'I have an address that is 80 on my skin'}], 'final': True}\n",
      "\n",
      "Filename: 1249120_41087148_50154301.wav\n",
      "Text: {'alternative': [{'transcript': 'what this hurts when I go to take a breather', 'confidence': 0.79903752}, {'transcript': 'what this hurts when I go to take a breed'}, {'transcript': 'what this hurts when I go to take a breathe'}, {'transcript': 'what this hurts when I Google take a breed'}, {'transcript': 'what this hurts when I Google to take a breather'}], 'final': True}\n",
      "\n",
      "Filename: 1249120_35350617_12449213.wav\n",
      "Text: {'alternative': [{'transcript': 'I feel pain in my knee when I climb the stairs', 'confidence': 0.97564054}, {'transcript': 'I feel pain in my knee when I climbed the stairs'}, {'transcript': 'I feel pain in my knee when it climb the stairs'}, {'transcript': 'I feel pain in my knee went to climb the stairs'}, {'transcript': 'I feel pain in my knee when it climbed the stairs'}], 'final': True}\n",
      "\n",
      "Filename: 1249120_43620482_58491203.wav\n",
      "Text: {'alternative': [{'transcript': 'I feel a burning sensation in my shoulder muscle', 'confidence': 0.98762906}], 'final': True}\n",
      "\n",
      "Filename: 1249120_41087148_68515235.wav\n",
      "Text: {'alternative': [{'transcript': 'my body feels weak although I eat a lot why', 'confidence': 0.92359221}, {'transcript': 'my body feels week although I eat a lot why'}, {'transcript': 'my body feels weak although I eat alone. Why'}, {'transcript': 'my body feels weak all do I eat a lot why'}, {'transcript': 'my body feels weak although I am alone. Why'}], 'final': True}\n",
      "\n",
      "Filename: 1249120_35832653_108545408.wav\n",
      "Text: {'alternative': [{'transcript': \"my kneecap feels like it's grading bone-on-bone when I walk\", 'confidence': 0.84540778}, {'transcript': \"my kneecap feels like it's grading bone on bone when I walk\"}, {'transcript': \"my knee cap feels like it's grading bone-on-bone when I walk\"}, {'transcript': \"my kneecap feels like it's grating bone-on-bone when I walk\"}, {'transcript': \"my knee cap feels like it's grading bone on bone when I walk\"}], 'final': True}\n",
      "\n",
      "Filename: 1249120_35444693_82618095.wav\n",
      "Text: []\n",
      "\n",
      "Filename: 1249120_41203338_82338646.wav\n",
      "Text: {'alternative': [{'transcript': \"I'm not feeling good I Can't Take My Breath\", 'confidence': 0.98762906}], 'final': True}\n",
      "\n",
      "Filename: 1249120_21665495_26155603.wav\n",
      "Text: {'alternative': [{'transcript': 'my knee hurts when I walk', 'confidence': 0.98422235}, {'transcript': 'my knee hurt when I walk'}], 'final': True}\n",
      "\n",
      "Filename: 1249120_44111844_60492611.wav\n",
      "Text: {'alternative': [{'transcript': \"I cut myself and I'm bleeding\", 'confidence': 0.9228515}, {'transcript': 'I cut myself around bleeding'}, {'transcript': 'I cut myself bleeding'}, {'transcript': \"I put myself and I'm bleeding\"}, {'transcript': \"I caught myself and I'm bleeding\"}], 'final': True}\n",
      "\n",
      "Filename: 1249120_44101988_79235312.wav\n",
      "Text: {'alternative': [{'transcript': 'my wound opened up again', 'confidence': 0.89589232}, {'transcript': 'my own opened up again'}, {'transcript': 'Mayon opened up again'}, {'transcript': 'my old opened up again'}], 'final': True}\n",
      "\n",
      "Filename: 1249120_43402738_38744347.wav\n",
      "Text: {'alternative': [{'transcript': 'I have a cut that is red and swollen', 'confidence': 0.97501594}, {'transcript': 'I have a gut that is red and swollen'}], 'final': True}\n",
      "\n",
      "Filename: 1249120_43758322_98585449.wav\n",
      "Text: {'alternative': [{'transcript': 'I tried to put my class to see more clear but can find a change', 'confidence': 0.81014627}, {'transcript': 'I tried to put my class to see more clear but confined as change'}, {'transcript': 'I tried to put my class to Seymour clear but can find a change'}, {'transcript': 'I tried to put my class to Seymour clear but confined as change'}, {'transcript': 'I tried to put my class to see more clear but can find and change'}], 'final': True}\n",
      "\n",
      "Filename: 1249120_2171654_104363236.wav\n",
      "Text: {'alternative': [{'transcript': 'I have eruptions on my face that come and go', 'confidence': 0.96822751}, {'transcript': 'ihave eruptions on my face that come and go'}], 'final': True}\n",
      "\n",
      "Filename: 1249120_41203338_34406846.wav\n",
      "Text: {'alternative': [{'transcript': 'I have terrible pain in my heart', 'confidence': 0.987629}], 'final': True}\n",
      "\n",
      "Filename: 1249120_43995026_61970481.wav\n",
      "Text: {'alternative': [{'transcript': 'I have friend had been and when I get it a light bothers me', 'confidence': 0.77150768}, {'transcript': 'I have friend had pain and when I get it a light bothers me'}, {'transcript': 'I have friends had been and when I get it a light bothers me'}, {'transcript': 'I have friends had pain and when I get it a light bothers me'}, {'transcript': 'I have friends who had been and when I get it a light bothers me'}], 'final': True}\n",
      "\n",
      "Filename: 1249120_40725179_73444017.wav\n",
      "Text: {'alternative': [{'transcript': 'when I brush my hair I noticed big clumps of hair coming out in the brush', 'confidence': 0.7944383}, {'transcript': 'when I brush my hair I noticed Becomes of hair coming out in the brush'}, {'transcript': 'when I brush my hair I noticed big clumps of hair coming out of the brush'}, {'transcript': 'when I brush my hair I noticed Becomes of hair coming out of the brush'}, {'transcript': 'when I brush my hair I noticed big clumps of hair coming out either brush'}], 'final': True}\n",
      "\n",
      "Filename: 1249120_18386513_54530444.wav\n",
      "Text: {'alternative': [{'transcript': \"my back hurts so much I can't bend down to tie my shoelaces\", 'confidence': 0.98003906}, {'transcript': \"my back hurts so much I can't bend down to tie my shoe laces\"}], 'final': True}\n",
      "\n",
      "Filename: 1249120_40571337_82846166.wav\n",
      "Text: {'alternative': [{'transcript': 'I usually have a bad cough when I get flu', 'confidence': 0.98467141}, {'transcript': 'I usually have a bad cough when I get blue'}], 'final': True}\n",
      "\n",
      "Filename: 1249120_44142156_56513645.wav\n",
      "Text: {'alternative': [{'transcript': 'start walking I have some pain under my foot', 'confidence': 0.97218734}, {'transcript': 'start walking I have some pain under my phone'}], 'final': True}\n",
      "\n",
      "Filename: 1249120_43883861_109975176.wav\n",
      "Text: {'alternative': [{'transcript': 'my stomach aches after I drink any soda drink why', 'confidence': 0.88232118}, {'transcript': 'my stomach aches after I drink any soda drink wine', 'confidence': 0.79686773}, {'transcript': 'my stomach aches after I drink any sode drink why', 'confidence': 0.88232118}, {'transcript': 'my stomach aches after I drink any soda drynk why', 'confidence': 0.88232118}, {'transcript': 'after I drink any soda drink why', 'confidence': 0.7993232}], 'final': True}\n",
      "\n",
      "Filename: 1249120_39438102_26372253.wav\n",
      "Text: {'alternative': [{'transcript': 'Excel pain in my body', 'confidence': 0.61013573}, {'transcript': 'spell pain in my body'}, {'transcript': 'you spell pain in my body'}, {'transcript': 'misspelled pain in my body'}, {'transcript': 'myself pain in my body'}], 'final': True}\n",
      "\n",
      "Filename: 1249120_43898158_79096143.wav\n",
      "Text: {'alternative': [{'transcript': 'I have been in my muscle', 'confidence': 0.60307878}, {'transcript': 'I have pain in my muscle'}, {'transcript': 'I have been in Amazon'}, {'transcript': 'IHOP in in Amazon'}, {'transcript': 'I have been in my muscles'}], 'final': True}\n",
      "\n",
      "Filename: 1249120_38042052_12344973.wav\n",
      "Text: {'alternative': [{'transcript': 'I feel pain in my head with a vertigo', 'confidence': 0.98762906}], 'final': True}\n",
      "\n",
      "Filename: 1249120_20518958_81363254.wav\n",
      "Text: {'alternative': [{'transcript': 'I think DJ whenever I stand up', 'confidence': 0.7208007}, {'transcript': 'I think Gigi whenever I stand up'}, {'transcript': 'open Digi whenever I stand up'}, {'transcript': 'I feel dizzy when I stand up'}, {'transcript': '18 DG whenever I stand up'}], 'final': True}\n",
      "\n",
      "Filename: 1249120_29713479_60004573.wav\n",
      "Text: {'alternative': [{'transcript': 'my muscles feel tired', 'confidence': 0.98762906}], 'final': True}\n",
      "\n",
      "Filename: 1249120_41150153_102927493.wav\n",
      "Text: {'alternative': [{'transcript': 'water sports', 'confidence': 0.32864916}, {'transcript': 'Watersports'}, {'transcript': 'watch sports'}, {'transcript': 'watch hotspot'}, {'transcript': 'what hotspots'}], 'final': True}\n",
      "\n",
      "Filename: 1249120_43883861_79136556.wav\n",
      "Text: {'alternative': [{'transcript': 'when I get up I feel dizzy and fall down', 'confidence': 0.98477715}, {'transcript': 'when I get up I feel dizzy and fahl down', 'confidence': 0.98477715}, {'transcript': 'when I get up I feel dizzy and faul down', 'confidence': 0.98477715}, {'transcript': 'when I get up I feel dizzy and faull down', 'confidence': 0.98477715}, {'transcript': 'when I get up I feel dizzy and fauls down', 'confidence': 0.98477715}], 'final': True}\n",
      "\n",
      "Filename: 1249120_39740177_23857907.wav\n",
      "Text: {'alternative': [{'transcript': 'my shoulder hurts me so much', 'confidence': 0.987629}], 'final': True}\n",
      "\n",
      "Filename: 1249120_29672643_73609673.wav\n",
      "Text: {'alternative': [{'transcript': 'I have a pain in my muscle', 'confidence': 0.987629}], 'final': True}\n",
      "\n",
      "Filename: 1249120_22423108_83972144.wav\n",
      "Text: {'alternative': [{'transcript': 'feels like someone stuck a knife into my shoulder', 'confidence': 0.73985487}, {'transcript': 'it feels like someone stuck a knife into my shoulder'}], 'final': True}\n",
      "\n",
      "Filename: 1249120_41956733_26782860.wav\n",
      "Text: {'alternative': [{'transcript': 'feels like someone is hitting my head with a hammer I feel pain on the top of my head like drops', 'confidence': 0.96830475}, {'transcript': 'feels like someone is hitting my head with a hammer I feel pain on the top of my head throbs'}, {'transcript': 'feels like someone is hitting my head with a hammer I feel pain on the top of my head drops'}, {'transcript': 'feels like someone is hitting my head with a hammer I feel pain on the top of my head ache drops'}], 'final': True}\n",
      "\n",
      "Filename: 1249120_35154350_45321927.wav\n",
      "Text: {'alternative': [{'transcript': 'I can plan a lot with skin allergy', 'confidence': 0.71604842}, {'transcript': 'I complain a lot with skin allergy'}], 'final': True}\n",
      "\n",
      "Filename: 1249120_2171654_56814700.wav\n",
      "Text: {'alternative': [{'transcript': 'my entire body is freezing', 'confidence': 0.98762906}], 'final': True}\n",
      "\n",
      "Filename: 1249120_41221824_10914923.wav\n",
      "Text: {'alternative': [{'transcript': 'my air is falling without tourism I can see a lot of air on my walking desk', 'confidence': 0.58238924}, {'transcript': 'myair is falling without tourism I can see a lot of air on my walking desk'}, {'transcript': 'my air is falling without reason I can see a lot of air on my walking desk'}, {'transcript': 'my area is falling without tourism I can see a lot of air on my walking desk'}, {'transcript': 'my are is falling without tourism I can see a lot of air on my walking desk'}], 'final': True}\n",
      "\n",
      "Filename: 1249120_43316708_81451658.wav\n",
      "Text: {'alternative': [{'transcript': 'there are times when I feel crushed under a huge weight and no are passing to my lungs it actually scares the hell out of me when it happens', 'confidence': 0.70649588}, {'transcript': 'there are times when I feel crushed under a huge weight and Noel pass into my lungs it actually scares the hell out of me when it happens'}, {'transcript': 'there are times when I feel crushed under a huge weight and no are passing to my lungs it actually kiss the hell out of me when it happens'}, {'transcript': 'there are times when I feel crushed under a huge weight and no a pausing to my lungs it actually scares the hell out of me when it happens'}, {'transcript': 'there are times when I feel crushed under a huge weight and Noel passing to my lungs it actually scares the hell out of me when it happens'}], 'final': True}\n",
      "\n",
      "Filename: 1249120_15004831_56564278.wav\n",
      "Text: {'alternative': [{'transcript': \"it feels like I can't take a deep breath\", 'confidence': 0.93563485}, {'transcript': \"if feels like I can't take a deep breath\"}], 'final': True}\n",
      "\n",
      "Filename: 1249120_43855932_89865536.wav\n",
      "Text: {'alternative': [{'transcript': \"my body feels like it's in the refrigerator\", 'confidence': 0.987629}], 'final': True}\n",
      "\n",
      "Filename: 1249120_44111844_75292978.wav\n",
      "Text: {'alternative': [{'transcript': 'after break-up', 'confidence': 0.79877579}, {'transcript': 'after breakup'}, {'transcript': 'a breakup'}, {'transcript': 'break up'}], 'final': True}\n",
      "\n",
      "Filename: 1249120_17632529_12148940.wav\n",
      "Text: {'alternative': [{'transcript': 'I have a sharp pain in my neck', 'confidence': 0.987629}], 'final': True}\n",
      "\n",
      "Filename: 1249120_40184183_20238720.wav\n",
      "Text: {'alternative': [{'transcript': 'something dog is there on my arm', 'confidence': 0.55236143}, {'transcript': 'something dog is beyond Leon'}, {'transcript': 'something dog is beyond my'}, {'transcript': 'something. Is there on my arm'}, {'transcript': 'something dog is beyond my arm'}], 'final': True}\n",
      "\n",
      "Filename: 1249120_44140394_100312389.wav\n",
      "Text: {'alternative': [{'transcript': \"my back hurts me and I can't bend it or walk\", 'confidence': 0.97618711}, {'transcript': \"my back hurt me and I can't bend it or walk\"}], 'final': True}\n",
      "\n",
      "Filename: 1249120_15830408_87042261.wav\n",
      "Text: {'alternative': [{'transcript': 'my entire body is freezing', 'confidence': 0.98762906}], 'final': True}\n",
      "\n",
      "Filename: 1249120_43995026_50739387.wav\n",
      "Text: {'alternative': [{'transcript': 'Venice stand up too quickly realized I am going to faint', 'confidence': 0.58296371}, {'transcript': \"Venice stand up too quickly realized why I'm going to faint\"}, {'transcript': \"Venice stand up too quickly. I'm going to faint\"}, {'transcript': \"Venice stand up too quickly. So I'm going to faint\"}, {'transcript': 'when I stand up too quickly realized I am going to faint'}], 'final': True}\n",
      "\n",
      "Filename: 1249120_40419625_99432391.wav\n",
      "Text: {'alternative': [{'transcript': 'I got ignored when I ate chili', 'confidence': 0.73740864}, {'transcript': 'I got a signal when I ate chili'}, {'transcript': 'I got eggnog when I ate chili'}, {'transcript': 'I got ignored when I ate Chile'}, {'transcript': 'I got a signal when I ate Chile'}], 'final': True}\n",
      "\n",
      "Filename: 1249120_43788827_71697309.wav\n",
      "Text: {'alternative': [{'transcript': 'I feel pain in my joint after an injury in the last football match I played', 'confidence': 0.96495986}, {'transcript': 'I feel pain in my joint after an injury in the lasts football match I played', 'confidence': 0.96495986}, {'transcript': 'I feel pain in my joint after an injury Inn the last football match I played', 'confidence': 0.96495986}, {'transcript': 'I feel pain in my Joynt after an injury in the last football match I played', 'confidence': 0.96495986}, {'transcript': 'I feel pain in my joint after an injury in the last football match igh played', 'confidence': 0.96495986}], 'final': True}\n",
      "\n",
      "Filename: 1249120_44111844_34911846.wav\n",
      "Text: {'alternative': [{'transcript': 'is Google a skin disease', 'confidence': 0.81577218}, {'transcript': 'is Google skin disease'}, {'transcript': \"is Google's skin disease\"}, {'transcript': 'is Google skin diseases'}, {'transcript': 'is googol skin disease'}], 'final': True}\n",
      "\n",
      "Filename: 1249120_43951421_36458086.wav\n",
      "Text: {'alternative': [{'transcript': \"I think the stomachache also eat haven't been able to pinpoint which foods might be the trigger\", 'confidence': 0.7261793}, {'transcript': \"I think the stomachache off by eat I haven't been able to pinpoint which foods might be the trigger\"}, {'transcript': \"I think the stomach ache also eat haven't been able to pinpoint which foods might be the trigger\"}, {'transcript': \"I think the stomach ache off by eat I haven't been able to pinpoint which foods might be the trigger\"}, {'transcript': 'I think the stomachache off by eat have been able to pinpoint which foods might be the trigger'}], 'final': True}\n",
      "\n",
      "Filename: 1249120_39675900_64467464.wav\n",
      "Text: []\n",
      "\n",
      "Filename: 1249120_41336418_103081263.wav\n",
      "Text: {'alternative': [{'transcript': 'Ticonderoga would I have pain in my knee', 'confidence': 0.54504371}, {'transcript': 'play going to work would I have pain in my knee'}, {'transcript': 'I going to work would I have pain in my knee'}, {'transcript': 'they going to work would I have pain in my knee'}, {'transcript': 'cycling to work would I have pain in my knee'}], 'final': True}\n",
      "\n",
      "Filename: 1249120_30766630_77763119.wav\n",
      "Text: {'alternative': [{'transcript': 'my back is hurting so much', 'confidence': 0.987629}], 'final': True}\n",
      "\n",
      "Filename: 1249120_43856216_91277955.wav\n",
      "Text: {'alternative': [{'transcript': 'when I walk up a flight of stairs my right knee hurts', 'confidence': 0.98319}, {'transcript': 'when I walk up a flight of stairs my right knee hurt'}], 'final': True}\n",
      "\n",
      "Filename: 1249120_36214391_77095868.wav\n",
      "Text: {'alternative': [{'transcript': \"I don't have problems still Canyon bread but out bread is no heavy\", 'confidence': 0.62909228}, {'transcript': \"I don't have program still Canyon bread but out bread is no heavy\"}, {'transcript': \"I don't have problems still canyonbrook but outbreak is no heavy\"}, {'transcript': \"I don't have problems still Canyon breath but outbreak is no heavy\"}, {'transcript': \"I don't have program still Canyon breath but outbreak is no heavy\"}], 'final': True}\n",
      "\n",
      "Filename: 1249120_18172663_92560489.wav\n",
      "Text: {'alternative': [{'transcript': 'I have an earache when showering', 'confidence': 0.98041922}, {'transcript': 'I have an ear ache when showering'}], 'final': True}\n",
      "\n",
      "Filename: 1249120_28006404_55083318.wav\n",
      "Text: {'alternative': [{'transcript': \"there is a sharp pain in my bicep I've tried to apply pain relief cream but it doesn't help\", 'confidence': 0.85554093}, {'transcript': \"there is a sharp pain in my bicep I have tried to apply pain relief cream but it doesn't help\"}, {'transcript': \"there's a sharp pain in my bicep I've tried to apply pain relief cream but it doesn't help\"}, {'transcript': \"there's a sharp pain in my bicep I have tried to apply pain relief cream but it doesn't help\"}], 'final': True}\n",
      "\n",
      "Filename: 1249120_43856216_61099896.wav\n",
      "Text: {'alternative': [{'transcript': 'I have a cut that is red and swollen', 'confidence': 0.98762906}], 'final': True}\n",
      "\n",
      "Filename: 1249120_41336418_17908476.wav\n",
      "Text: {'alternative': [{'transcript': 'these red spots on my cheeks are Nevada', 'confidence': 0.75681502}, {'transcript': 'these red spots on my cheeks and Nevada'}, {'transcript': 'these red spots on my cheeks anniversary'}, {'transcript': 'these red spots on my cheeks anymore'}, {'transcript': 'these red spots on my cheeks underwater'}], 'final': True}\n",
      "\n",
      "Filename: 1249120_43604449_13708148.wav\n",
      "Text: {'alternative': [{'transcript': 'I have dark spots on my skin', 'confidence': 0.987629}], 'final': True}\n",
      "\n",
      "Filename: 1249120_39438102_43754649.wav\n",
      "Text: {'alternative': [{'transcript': 'the pain is intense especially when I go down the stairs', 'confidence': 0.987629}], 'final': True}\n",
      "\n",
      "Filename: 1249120_43719934_107981080.wav\n",
      "Text: []\n",
      "\n",
      "Filename: 1249120_41203338_96595416.wav\n",
      "Text: {'alternative': [{'transcript': 'I was playing basketball yesterday I have sprained ankle', 'confidence': 0.98762906}], 'final': True}\n",
      "\n",
      "Filename: 1249120_44091626_43478084.wav\n",
      "Text: {'alternative': [{'transcript': 'I am wedded for my driving record I can barely focus when I am at the whole my eyes feel Theory', 'confidence': 0.72537982}, {'transcript': 'I am wedded for my driving record I can really focus when I am at the whole my eyes feel Theory'}, {'transcript': 'I am wedded for my driving record I can barely focus when I am at the wheel my eyes feel Theory'}, {'transcript': 'I am wedded for my driving record I can barely focus when I am at the whole my eyes field Theory'}, {'transcript': 'I am wet for my driving record I can barely focus when I am at the whole my eyes feel Theory'}], 'final': True}\n",
      "\n",
      "Filename: 1249120_35444693_100767125.wav\n",
      "Text: {'alternative': [{'transcript': 'my niece', 'confidence': 0.49030405}, {'transcript': 'miny'}, {'transcript': 'mine'}, {'transcript': 'my'}, {'transcript': 'my knee'}], 'final': True}\n",
      "\n",
      "Filename: 1249120_43856216_60751811.wav\n",
      "Text: {'alternative': [{'transcript': 'I have constant stomach pain and bloating', 'confidence': 0.987629}], 'final': True}\n",
      "\n",
      "Filename: 1249120_14353703_42564912.wav\n",
      "Text: {'alternative': [{'transcript': 'I usually have a bad cough when I get flu', 'confidence': 0.98762906}], 'final': True}\n",
      "\n",
      "Filename: 1249120_41150153_38743740.wav\n",
      "Text: {'alternative': [{'transcript': 'since I went into the forest I have been on my ear', 'confidence': 0.91053993}, {'transcript': 'since I went into the forest I have been on my air'}, {'transcript': 'since I went into the forest I have been on my are'}, {'transcript': 'since I went into the forest I have pain on my ear'}, {'transcript': 'since I went into the forest I have pain on my air'}], 'final': True}\n",
      "\n",
      "Filename: 1249120_39154234_81779768.wav\n",
      "Text: {'alternative': [{'transcript': 'when I stand up too quick my vision is blurry', 'confidence': 0.73710322}, {'transcript': 'when I stand up to Quick my vision is blurry'}, {'transcript': 'when I stand up to Creek my vision is blurry'}, {'transcript': 'when I stand up to freak my vision is blurry'}, {'transcript': 'when I stand up to prick my vision is blurry'}], 'final': True}\n",
      "\n",
      "Filename: 1249120_22345789_48541569.wav\n",
      "Text: {'alternative': [{'transcript': 'my daughter had her eyebrows threaded and it pulled an opening of skin and one of her brows that is now puffy and oozing', 'confidence': 0.79942697}, {'transcript': 'my daughter had her eyebrows threaded and it pulled an opening of skin in one of her brows that is now puffy and oozing'}, {'transcript': 'my daughter had her eyebrows threaded and it pulled in opening of skin and one of her brows that is now puffy and oozing'}, {'transcript': 'my daughter had her eyebrows threaded and it pulled an opening of skin and one of our brows that is now puffy and oozing'}, {'transcript': 'my daughter had her eyebrows threaded and it pulled in opening of skin in one of her brows that is now puffy and oozing'}], 'final': True}\n",
      "\n",
      "Filename: 1249120_35448024_107672779.wav\n",
      "Text: {'alternative': [{'transcript': 'I can heart in my heart', 'confidence': 0.6225118}, {'transcript': 'I get hearts in my heart'}, {'transcript': \"I've been hurt in my heart\"}], 'final': True}\n",
      "\n",
      "Filename: 1249120_19425875_81814829.wav\n",
      "Text: {'alternative': [{'transcript': \"I was diagnosed with pneumonia I can't breathe easily\", 'confidence': 0.98762906}], 'final': True}\n",
      "\n",
      "Filename: 1249120_43316708_17090711.wav\n",
      "Text: {'alternative': [{'transcript': 'sterilizer for the eye', 'confidence': 0.70865101}, {'transcript': 'stabilizer for the eye'}, {'transcript': 'sterilizer for the I'}, {'transcript': 'delighted for the eye'}, {'transcript': 'delayed for the eye'}], 'final': True}\n",
      "\n",
      "Filename: 1249120_33905644_45700723.wav\n",
      "Text: {'alternative': [{'transcript': 'my ear is ringing', 'confidence': 0.98762906}], 'final': True}\n",
      "\n",
      "Filename: 1249120_43755034_100365518.wav\n",
      "Text: {'alternative': [{'transcript': 'my calves feel like they are tied as knots in their throbbing', 'confidence': 0.74650615}, {'transcript': 'my calves feel like they are tight as knots in their throbbing'}, {'transcript': \"my calves feel like they are tight as not so they're throbbing\"}, {'transcript': 'my calves feel like they are tight as not so their throbbing'}, {'transcript': \"my calves feel like they are tied as not so they're throbbing\"}], 'final': True}\n",
      "\n",
      "Filename: 1249120_43172391_26443281.wav\n",
      "Text: {'alternative': [{'transcript': 'I feel tingling when I touched acne followed by bad temptation', 'confidence': 0.84919661}, {'transcript': 'I feel tingling when I touch acne followed by bad temptation'}, {'transcript': 'I feel tingling when I touched acne followed by bad confession'}, {'transcript': 'I feel tingling when I touch acne followed by bad confession'}, {'transcript': 'I feel tingling when I test acne followed by bad temptation'}], 'final': True}\n",
      "\n",
      "Filename: 1249120_44027675_47144839.wav\n",
      "Text: {'alternative': [{'transcript': 'Spinderella', 'confidence': 0.31075075}, {'transcript': 'bendelladj'}, {'transcript': 'Belinda.'}, {'transcript': 'Finn Balor'}, {'transcript': 'pendulum'}], 'final': True}\n",
      "\n",
      "Filename: 1249120_44111844_59865705.wav\n",
      "Text: {'alternative': [{'transcript': 'I hit my head the basketball game when I have a concussion', 'confidence': 0.77787471}, {'transcript': \"I hit my head the basketball game when I haven't concussion\"}, {'transcript': 'I hate my hair and the basketball game when I have a concussion'}, {'transcript': \"I hit my head the basketball game what I haven't concussion\"}, {'transcript': 'I hit my hand the basketball game when I have a concussion'}], 'final': True}\n",
      "\n",
      "Filename: 1249120_44101988_103474667.wav\n",
      "Text: {'alternative': [{'transcript': 'all my body is in a bad case and I need a good treatment', 'confidence': 0.6719926}, {'transcript': 'all my body is in a basket and I need a good treatment'}, {'transcript': 'all my body is in a bad shape and I need a good treatment'}, {'transcript': 'all my body is in a bad kid and I need a good treatment'}, {'transcript': 'all my body is in a bag and I need a good treatment'}], 'final': True}\n",
      "\n",
      "Filename: 1249120_41150153_25986491.wav\n",
      "Text: {'alternative': [{'transcript': \"when I'm tired I feel my head heavy\", 'confidence': 0.8667779}, {'transcript': \"when I'm tired of getting my head heavy\"}, {'transcript': \"when I'm tired of being my head heavy\"}, {'transcript': \"when I'm tired I get my head heavy\"}, {'transcript': \"when I'm tired of giving my head heavy\"}], 'final': True}\n",
      "\n",
      "Filename: 1249120_43995026_100999029.wav\n",
      "Text: {'alternative': [{'transcript': 'I have a sharp pain in my abdomen', 'confidence': 0.987629}], 'final': True}\n",
      "\n",
      "Filename: 1249120_44091626_75048540.wav\n",
      "Text: {'alternative': [{'transcript': 'I have a problem in seeing objects are too difficult to see', 'confidence': 0.92152762}, {'transcript': 'I have a problem in seeing objects e82 difficult to see'}, {'transcript': 'I have a problem in seeing objects eu22 difficult to see'}, {'transcript': 'I have a problem in seeing objects YouTube too difficult to see'}, {'transcript': 'I have a problem in seeing objects are due to difficult to see'}], 'final': True}\n",
      "\n",
      "Filename: 1249120_42554554_18887827.wav\n",
      "Text: {'alternative': [{'transcript': \"I'm not feeling good I get infection mode\", 'confidence': 0.96688414}, {'transcript': \"I'm not feeling good I get infection\"}, {'transcript': \"I'm not feeling good I get inspection mode\"}, {'transcript': \"I'm not feeling good I get infection phone\"}, {'transcript': \"I'm not feeling good I get infection Moon\"}], 'final': True}\n",
      "\n",
      "Filename: 1249120_20518958_96536006.wav\n",
      "Text: {'alternative': [{'transcript': 'I have pain in my stomach', 'confidence': 0.96450835}, {'transcript': 'I have pain in my snowman'}], 'final': True}\n",
      "\n",
      "Filename: 1249120_43402738_109736151.wav\n",
      "Text: {'alternative': [{'transcript': \"I can't hear out of my ear properly I feel like there is something in it causing irritation\", 'confidence': 0.97417134}, {'transcript': \"I can't hear out of my year properly I feel like there is something in it causing irritation\"}, {'transcript': \"I can't hear out of my you're properly I feel like there is something in it causing irritation\"}, {'transcript': \"I can't hear out of my your properly I feel like there is something in it causing irritation\"}], 'final': True}\n",
      "\n",
      "Filename: 1249120_33905644_81666843.wav\n",
      "Text: {'alternative': [{'transcript': 'my knee feels weak and it gave them the other day at the top of the stairs luckily there was a rail to hold on to', 'confidence': 0.73353618}, {'transcript': 'my knee feels weak and it gave them the other day at the top of the stairs luckily there was a rail to hold onto'}, {'transcript': 'my knee feels weak and it gave them the other day at the top of the stairs luckily there was a rain to hold onto'}, {'transcript': 'my knee feels weak and it gave them the other day at the top of the stairs luckily there was a rain to hold on to'}, {'transcript': 'my knee feels weak and it gave them the other day at the top of the stairs luckily there was the rain to hold onto'}], 'final': True}\n",
      "\n",
      "Filename: 1249120_6338946_27206977.wav\n",
      "Text: {'alternative': [{'transcript': 'I carried a heavy bag yesterday and when I get up today I felt a great shoulder pain', 'confidence': 0.98762906}], 'final': True}\n",
      "\n",
      "Filename: 1249120_41841195_10642243.wav\n",
      "Text: {'alternative': [{'transcript': 'I had a pain in my knee when I was swimming', 'confidence': 0.95719904}, {'transcript': 'I have a pain in my knee when I was swimming'}], 'final': True}\n",
      "\n",
      "Filename: 1249120_44093933_81586584.wav\n",
      "Text: {'alternative': [{'transcript': \"eating people's skin disease\", 'confidence': 0.97793758}, {'transcript': \"eating people's skin diseases\"}], 'final': True}\n",
      "\n",
      "Filename: 1249120_13842059_46589335.wav\n",
      "Text: {'alternative': [{'transcript': \"I have a foot ache adult I don't walk a lot\", 'confidence': 0.89656961}, {'transcript': \"I have a foot a adult I don't walk a lot\"}, {'transcript': \"I have a foot egg adult I don't walk a lot\"}, {'transcript': \"I have a foot 8 adult I don't walk a lot\"}, {'transcript': \"I have a foot eight adult I don't walk a lot\"}], 'final': True}\n",
      "\n",
      "Filename: 1249120_19425875_97646089.wav\n",
      "Text: {'alternative': [{'transcript': 'when get up I found that I have a stomach ache and I tried to take medicine but my stomach still hurting me', 'confidence': 0.77656168}, {'transcript': 'when get up I found that I have a stomachache and I tried to take medicine but my stomach still hurting me'}, {'transcript': 'when get up I found out I have a stomach ache and I tried to take medicine but my stomach still hurting me'}, {'transcript': 'when get up I found that I have a stomach ache and I try to take medicine but my stomach still hurting me'}, {'transcript': 'when you get up I found that I have a stomach ache and I tried to take medicine but my stomach still hurting me'}], 'final': True}\n",
      "\n",
      "Filename: 1249120_40401830_76362857.wav\n",
      "Text: {'alternative': [{'transcript': 'I do not know why I could', 'confidence': 0.85256702}, {'transcript': 'I do not know why Africa'}, {'transcript': 'I do not know why I could go'}, {'transcript': 'I do not know why I could come'}, {'transcript': 'I do not know why I feel'}], 'final': True}\n",
      "\n",
      "Filename: 1249120_39438102_72804973.wav\n",
      "Text: {'alternative': [{'transcript': 'whining', 'confidence': 0.36334914}, {'transcript': 'Shining'}, {'transcript': 'mining'}, {'transcript': 'signing'}], 'final': True}\n",
      "\n",
      "Filename: 1249120_35154350_87756753.wav\n",
      "Text: {'alternative': [{'transcript': 'I have a cut that has become red and oozes pus', 'confidence': 0.96491009}, {'transcript': 'I have a cut that has become red and oozes puss'}, {'transcript': 'I have a cut that has become red and oozes to us'}, {'transcript': 'I have a cut that has become red and oozes tuss'}, {'transcript': 'I have a cut that has become red and oozes us'}], 'final': True}\n",
      "\n",
      "Filename: 1249120_44101988_68907151.wav\n",
      "Text: {'alternative': [{'transcript': 'I feel great pain in the head', 'confidence': 0.96300459}, {'transcript': 'I feel great pain in the height'}, {'transcript': 'I feel great pain in the Haight'}], 'final': True}\n",
      "\n",
      "Filename: 1249120_18172663_40838773.wav\n",
      "Text: {'alternative': [{'transcript': 'why is my shoulder aching when I try to pick up the laundry', 'confidence': 0.96791214}, {'transcript': 'why is my shoulder 18 when I try to pick up the laundry'}, {'transcript': 'why is my shoulder 18 when I tried to pick up the laundry'}, {'transcript': 'why is my shoulder eighteen when I try to pick up the laundry'}], 'final': True}\n",
      "\n",
      "Filename: 1249120_41336418_27204447.wav\n",
      "Text: {'alternative': [{'transcript': 'my son Nick has met with an old razor and Export has become inflamed and looks like it is infected', 'confidence': 0.66375041}, {'transcript': 'my son Nick has met with an old razor and that spot has become inflamed and looks like it is infected'}, {'transcript': 'my son Nick has met with an old razor and Export has become inflamed and look like it is infected'}, {'transcript': 'my son has met with an old razor and Export has become inflamed and looks like it is infected'}, {'transcript': 'my son has met with an old razor and that spot has become inflamed and looks like it is infected'}], 'final': True}\n",
      "\n",
      "Filename: 1249120_44140394_67954086.wav\n",
      "Text: {'alternative': [{'transcript': 'my ear hurts when I touch it', 'confidence': 0.987629}], 'final': True}\n",
      "\n",
      "Filename: 1249120_17632529_72353055.wav\n",
      "Text: {'alternative': [{'transcript': 'I feel weak', 'confidence': 0.96656054}, {'transcript': 'I feel week'}], 'final': True}\n",
      "\n",
      "Filename: 1249120_42783052_95044264.wav\n",
      "Text: {'alternative': [{'transcript': 'when I brush my hair I noticed big clumps of her coming out in the breast', 'confidence': 0.83877069}, {'transcript': 'when I brush my hair I noticed big clumps of hair coming out in the breast'}, {'transcript': 'when I brush my hair I noticed big clumps of her coming-out in the breast'}, {'transcript': 'when I brush my hair I noticed clumps of her coming out in the breast'}, {'transcript': 'when I brush my hair I know this big clumps of her coming out in the breast'}], 'final': True}\n",
      "\n",
      "Filename: 1249120_43788827_49879973.wav\n",
      "Text: {'alternative': [{'transcript': 'I have noticed my hair falling out a lot lately', 'confidence': 0.93294895}, {'transcript': 'I have noticed my hair falling out alot lately'}, {'transcript': 'I have no taste my hair falling out a lot lately'}, {'transcript': 'I have no taste my hair falling out alot lately'}], 'final': True}\n",
      "\n",
      "Filename: 1249120_35197064_70776462.wav\n",
      "Text: {'alternative': [{'transcript': 'when I wake up in the morning I feel a soreness in my body', 'confidence': 0.90822262}, {'transcript': 'when I wake up in the morning I feel as soreness in my body', 'confidence': 0.90052736}, {'transcript': 'when I wake up in the morning I feel a soreness in my bawdy', 'confidence': 0.90822262}, {'transcript': 'when I wake up in the morning I feel a soreness in my Bodi', 'confidence': 0.90822262}, {'transcript': 'when I wake up in the morning I feel a soreness in my badi', 'confidence': 0.90822262}], 'final': True}\n",
      "\n",
      "Filename: 1249120_41336418_11717772.wav\n",
      "Text: {'alternative': [{'transcript': 'started off my feet hurt when I get hit', 'confidence': 0.890248}, {'transcript': 'started off my feet hurt when I get hits'}, {'transcript': 'started off my feet hurt when I get heads'}, {'transcript': 'started with my feet hurt when I get hit'}, {'transcript': 'started off my feet hurt when I get here'}], 'final': True}\n",
      "\n",
      "Filename: 1249120_43402738_87151767.wav\n",
      "Text: {'alternative': [{'transcript': \"my knee doesn't want to bend well\", 'confidence': 0.9714964}, {'transcript': \"my knee doesn't want to bend will\"}, {'transcript': \"my knee doesn't want to band well\"}, {'transcript': \"my knee doesn't want to ban Dwele\"}, {'transcript': \"my knee doesn't want to banned well\"}], 'final': True}\n",
      "\n",
      "Filename: 1249120_44111844_64630476.wav\n",
      "Text: {'alternative': [{'transcript': 'I have a very rash sensation close to my arms', 'confidence': 0.91821098}, {'transcript': 'I have a very rash sensation clothes to my arms', 'confidence': 0.91821098}, {'transcript': 'I have a wedding rash sensation close to my arms', 'confidence': 0.90832388}, {'transcript': 'I have a very rash sensation closed to my arms', 'confidence': 0.91821098}, {'transcript': 'I have a very rasche sensation close to my arms', 'confidence': 0.91821098}], 'final': True}\n",
      "\n",
      "Filename: 1249120_43105396_85779128.wav\n",
      "Text: []\n",
      "\n",
      "Filename: 1249120_43951421_78053385.wav\n",
      "Text: {'alternative': [{'transcript': 'caught me my leg that was a pain in the joint', 'confidence': 0.55794263}, {'transcript': 'call me my leg that was a pain in the joint'}, {'transcript': 'call me my leg it was a pain in the joint'}, {'transcript': 'caught me my leg it was a pain in the joint'}, {'transcript': 'help me my leg that was a pain in the joint'}], 'final': True}\n",
      "\n",
      "Filename: 1249120_36505751_54074895.wav\n",
      "Text: {'alternative': [{'transcript': 'it just inside my ears', 'confidence': 0.79691821}, {'transcript': 'just inside my ears'}, {'transcript': 'adjust inside my ears'}, {'transcript': 'I just inside my ears'}], 'final': True}\n",
      "\n",
      "Filename: 1249120_43788827_107244114.wav\n",
      "Text: {'alternative': [{'transcript': \"I haven't worn between my toys that get better overnight and then reopen ever day when I wear dress shoes to work\", 'confidence': 0.73949111}, {'transcript': \"I haven't worn between my toys that get better overnight and then reopen when I wear dress shoes to work\"}, {'transcript': \"I haven't worn between my toys that get better overnight and then reopen a day when I wear dress shoes to work\"}, {'transcript': \"I haven't worn between my toys that get better overnight and then reopen everyday when I wear dress shoes to work\"}, {'transcript': \"I haven't won between my toys that get better overnight and then reopen ever day when I wear dress shoes to work\"}], 'final': True}\n",
      "\n",
      "Filename: 1249120_40663048_65421911.wav\n",
      "Text: []\n",
      "\n",
      "Filename: 1249120_33251186_25308141.wav\n",
      "Text: {'alternative': [{'transcript': 'my son is voices a pimple and I broke up and all the discoverer on the light like infect', 'confidence': 0.64512724}, {'transcript': 'my son is voices a pimple and I broke up and all I discover on the light like infect'}, {'transcript': 'my son is voices a pimple and I broke up and all I discovered on the light like infect'}, {'transcript': 'my son is voices a pimple and I broke up and all discover on the light like infect'}, {'transcript': 'my son is places a pimple and I broke up and all the discoverer on the light like infect'}], 'final': True}\n",
      "\n",
      "Filename: 1249120_43453425_105596618.wav\n",
      "Text: {'alternative': [{'transcript': 'I have a skin rash after eating an elk', 'confidence': 0.88421667}, {'transcript': 'I have a skin rash after eating and ice'}, {'transcript': 'I have a skin rash after eating and Isaac'}, {'transcript': 'I have a skin rash after eating and Elsa'}, {'transcript': 'I have a skin rash after eating and ask'}], 'final': True}\n",
      "\n",
      "Filename: 1249120_29289135_48493379.wav\n",
      "Text: {'alternative': [{'transcript': 'I hate my acne', 'confidence': 0.98762906}], 'final': True}\n",
      "\n",
      "Filename: 1249120_35408915_92296409.wav\n",
      "Text: {'alternative': [{'transcript': 'I feel pain in my right shoulder after the tennis match', 'confidence': 0.95060825}, {'transcript': 'I feel pain in my right shoulder after its tennis match'}, {'transcript': 'I feel pain in my right shoulder after tennis match'}, {'transcript': \"I feel pain in my right shoulder after it's tennis match\"}], 'final': True}\n",
      "\n",
      "Filename: 1249120_40725179_90811115.wav\n",
      "Text: {'alternative': [{'transcript': 'I have tried to make massage on my foot but they still painting', 'confidence': 0.91630393}, {'transcript': 'I have tried to make massage on my foot but they still pay me'}, {'transcript': 'I have tried to make massage on my food but they still painting'}, {'transcript': 'I have tried to make massage on my food but they still pay me'}, {'transcript': 'I have tried to make massage on my phone but they still painting'}], 'final': True}\n",
      "\n",
      "Filename: 1249120_35832653_76157240.wav\n",
      "Text: {'alternative': [{'transcript': 'my knee hurts so bad to walk that I stay sitting more than I should', 'confidence': 0.95186538}, {'transcript': 'my knee hurts so bad to walk but I stay sitting more than I should', 'confidence': 0.9083249}, {'transcript': 'my knee hurts so bad to Wok that I stay sitting more than I should', 'confidence': 0.95186538}, {'transcript': 'my knee hurts so bad to Wolk that I stay sitting more than I should', 'confidence': 0.95186538}, {'transcript': 'my knee hurts so bad and walk that I stay sitting more than I should', 'confidence': 0.92343408}], 'final': True}\n",
      "\n",
      "Filename: 1249120_43951421_20668394.wav\n",
      "Text: {'alternative': [{'transcript': 'my stomach feels stopped hurting but then it feels better after eating mild', 'confidence': 0.80443263}, {'transcript': 'my stomach feels stopped hurting but then it feels better after eating mold'}, {'transcript': 'my stomach feels starts hurting but then it feels better after eating mild'}, {'transcript': 'my stomach feels starts hurting but then it feels better after eating mold'}, {'transcript': 'my stomach feels stopped hurting but then it feels better after eating my old'}], 'final': True}\n",
      "\n",
      "Filename: 1249120_22345789_95363140.wav\n",
      "Text: {'alternative': [{'transcript': 'I was watching TV and suddenly have blurry vision', 'confidence': 0.98762906}], 'final': True}\n",
      "\n",
      "Filename: 1249120_35444693_14653416.wav\n",
      "Text: {'alternative': [{'transcript': \"I didn't\", 'confidence': 0.67504966}, {'transcript': 'I get big fast'}, {'transcript': 'I get big fat'}, {'transcript': 'I get beef'}, {'transcript': 'I get big'}], 'final': True}\n",
      "\n",
      "Filename: 1249120_33251186_85072209.wav\n",
      "Text: {'alternative': [{'transcript': 'my happiest train Bryson make', 'confidence': 0.62234974}, {'transcript': 'my happiest train rides in my area'}, {'transcript': 'I happiest train Bryson make'}, {'transcript': 'I happiest train rides in my area'}, {'transcript': 'my happiest train rides in May'}], 'final': True}\n",
      "\n",
      "Filename: 1249120_28006404_38439043.wav\n",
      "Text: {'alternative': [{'transcript': 'I got a knee pain when I walk a lot', 'confidence': 0.81166887}, {'transcript': 'I get a knee pain when I walk a lot'}, {'transcript': 'I got a new pain when I walk a lot'}, {'transcript': 'I get a new pain when I walk a lot'}, {'transcript': 'I get an e-pen when I walk a lot'}], 'final': True}\n",
      "\n",
      "Filename: 1249120_35350617_89284646.wav\n",
      "Text: {'alternative': [{'transcript': 'I travel by plane a few days ago and the time during Landing my ears remain clogged and painful', 'confidence': 0.97611666}, {'transcript': 'I travel by plane a few days ago and the time during Landing my ears ringing clogged and painful'}, {'transcript': 'I travel by plane a few days ago and the time during Landing my ears remained clogged and painful'}, {'transcript': 'I travel by plane a few days ago and the time during Landing my ears remains clogged and painful'}, {'transcript': 'I travel by plane a few days ago and the time during Landing my ears were made clogged and painful'}], 'final': True}\n",
      "\n",
      "Filename: 1249120_17632529_50143584.wav\n",
      "Text: {'alternative': [{'transcript': 'glass broken and wound my leg badly the wound is so wide', 'confidence': 0.97251505}, {'transcript': 'glass broken and wounds my leg badly the wound is so wide'}, {'transcript': 'glass broken and bruised my leg badly the wound is so wide'}], 'final': True}\n",
      "\n",
      "Filename: 1249120_1853182_33011030.wav\n",
      "Text: {'alternative': [{'transcript': 'I feel like the room is spinning', 'confidence': 0.987629}], 'final': True}\n",
      "\n",
      "Filename: 1249120_43402738_81493210.wav\n",
      "Text: {'alternative': [{'transcript': \"I have some terrible problems when I'm breathing during the night\", 'confidence': 0.97932547}, {'transcript': \"I have some terrible problems then I'm breathing during the night\"}], 'final': True}\n",
      "\n",
      "Filename: 1249120_38548574_18945661.wav\n",
      "Text: {'alternative': [{'transcript': 'my stomach feels starts hurting but then it feels better after I eat something mild', 'confidence': 0.95265257}, {'transcript': 'my stomach feels starts hurting but then it feels better after I ate something mild'}], 'final': True}\n",
      "\n",
      "Filename: 1249120_21665495_45968467.wav\n",
      "Text: {'alternative': [{'transcript': 'my ear hurts me badly', 'confidence': 0.98762906}], 'final': True}\n",
      "\n",
      "Filename: 1249120_43788827_75399800.wav\n",
      "Text: {'alternative': [{'transcript': 'I feel abdominal pain', 'confidence': 0.98762906}], 'final': True}\n",
      "\n",
      "Filename: 1249120_38042052_71130912.wav\n",
      "Text: {'alternative': [{'transcript': 'I love to walk and be outside but the bottoms of my feet gets so so quickly', 'confidence': 0.69089061}, {'transcript': 'I love to walk and be outside but the bottoms of my feet get so so quickly'}, {'transcript': 'I love to walk and pee outside but the bottoms of my feet gets so so quickly'}, {'transcript': 'I love to walk and pee outside but the bottoms of my feet get so so quickly'}, {'transcript': 'enough to walk and be outside but the bottoms of my feet gets so so quickly'}], 'final': True}\n",
      "\n",
      "Filename: 1249120_43172391_93731252.wav\n",
      "Text: {'alternative': [{'transcript': 'my right shoulder clicks when I move my arm', 'confidence': 0.97542775}, {'transcript': 'my right shoulder cliques when I move my arm', 'confidence': 0.97542775}, {'transcript': 'my right shoulder klicks when I move my arm', 'confidence': 0.97542775}, {'transcript': 'my right shoulder klix when I move my arm', 'confidence': 0.97542775}, {'transcript': 'my right shoulder clix when I move my arm', 'confidence': 0.97542775}], 'final': True}\n",
      "\n",
      "Filename: 1249120_43665783_73659620.wav\n",
      "Text: {'alternative': [{'transcript': 'my skin is itchy and inflamed', 'confidence': 0.97361153}, {'transcript': 'my skin is itchy and implant'}, {'transcript': 'my skin is itchy & implant'}, {'transcript': 'my skin is itchy and then plant'}], 'final': True}\n",
      "\n",
      "Filename: 1249120_42557795_62654784.wav\n",
      "Text: {'alternative': [{'transcript': 'and I am awake in the morning I feel stains and have audio', 'confidence': 0.65568507}, {'transcript': 'and I am awake in the morning I feel strange and have audio'}, {'transcript': 'when I am awake in the morning I feel stains and have audio'}, {'transcript': 'and I am awake in the morning I feel stains and healthy go'}, {'transcript': 'when I am awake in the morning I feel strange and have audio'}], 'final': True}\n",
      "\n",
      "Filename: 1249120_43788827_58376278.wav\n",
      "Text: {'alternative': [{'transcript': \"there's like pins and needles sticking in my jar\", 'confidence': 0.54333472}, {'transcript': 'dislike pins and needles sticking in my jar'}, {'transcript': 'Safelite pins and needles sticking in my jar'}, {'transcript': 'did flight pins and needles sticking in my jar'}, {'transcript': 'their flight pins and needles sticking in my jar'}], 'final': True}\n",
      "\n",
      "Filename: 1249120_35832653_72492635.wav\n",
      "Text: {'alternative': [{'transcript': 'I feel a burning sensation in my shoulder muscle', 'confidence': 0.96382415}, {'transcript': 'I feel a burning sensation in my shoulder muscles'}], 'final': True}\n",
      "\n",
      "Filename: 1249120_43350908_88414533.wav\n",
      "Text: {'alternative': [{'transcript': 'I feel so sore in my stomach area', 'confidence': 0.987629}], 'final': True}\n",
      "\n",
      "Filename: 1249120_15004831_41074487.wav\n",
      "Text: {'alternative': [{'transcript': 'I feel discomfort throughout the body in general', 'confidence': 0.93596482}, {'transcript': 'I feel discomfort throughout the body Inn General', 'confidence': 0.93596482}, {'transcript': 'I feel discomfort throughout the body in jeneral', 'confidence': 0.93596482}, {'transcript': 'I feel discomfort throughout the Bodi in general', 'confidence': 0.93596482}, {'transcript': 'I feel discomfort throughout the badi in general', 'confidence': 0.93596482}], 'final': True}\n",
      "\n",
      "Filename: 1249120_28006404_78371585.wav\n",
      "Text: {'alternative': [{'transcript': 'I seen a sharp pain in my stomach', 'confidence': 0.89683259}, {'transcript': \"I've seen a sharp pain in my stomach\"}], 'final': True}\n",
      "\n",
      "Filename: 1249120_38042052_73329314.wav\n",
      "Text: {'alternative': [{'transcript': \"my head isn't well\", 'confidence': 0.98762906}], 'final': True}\n",
      "\n",
      "Filename: 1249120_15830408_29803997.wav\n",
      "Text: {'alternative': [{'transcript': 'I have a pain in my stomach', 'confidence': 0.987629}], 'final': True}\n",
      "\n",
      "Filename: 1249120_6338946_93790761.wav\n",
      "Text: {'alternative': [{'transcript': 'my knee hurts when I play Squash', 'confidence': 0.987629}], 'final': True}\n",
      "\n",
      "Filename: 1249120_40401830_36009968.wav\n",
      "Text: {'alternative': [{'transcript': 'when I move unless shoulder pain shoots down Leon', 'confidence': 0.66904718}, {'transcript': 'but I move unless shoulder pain shoots down Leon'}, {'transcript': 'when I move unless shoulder pain shoots down layout'}, {'transcript': 'but I move unless shoulder pain shoots down layout'}, {'transcript': 'when I move unless shoulder pain shoots down Leo'}], 'final': True}\n",
      "\n",
      "Filename: 1249120_41203338_53060557.wav\n",
      "Text: {'alternative': [{'transcript': 'I feel joint pain everytime I move', 'confidence': 0.82253045}, {'transcript': 'I feel joint pain every time I move'}], 'final': True}\n",
      "\n",
      "Filename: 1249120_39438102_48021117.wav\n",
      "Text: {'alternative': [{'transcript': \"I don't know why I'm awesome\", 'confidence': 0.90656829}, {'transcript': \"I don't know why I'm\"}, {'transcript': \"I don't know why I'm asking\"}, {'transcript': \"I don't know why I'm off\"}, {'transcript': \"I don't know why I'm asking please\"}], 'final': True}\n",
      "\n",
      "Filename: 1249120_33251186_88846713.wav\n",
      "Text: {'alternative': [{'transcript': 'IHOP a pain in my head', 'confidence': 0.95627427}, {'transcript': 'IHOP in my head'}, {'transcript': 'IHOP a buffet in my head'}], 'final': True}\n",
      "\n",
      "Filename: 1249120_38042052_43125759.wav\n",
      "Text: {'alternative': [{'transcript': 'why is my shoulder 18 when I try to pick up laundry', 'confidence': 0.92537594}, {'transcript': 'why is my shoulder 18 when I try to pick up the laundry'}, {'transcript': 'why is my shoulder 18 when I try to pick up my laundry'}, {'transcript': 'why is my shoulder 18 when I tried to pick up laundry'}, {'transcript': 'why is my shoulder eighteen when I try to pick up laundry'}], 'final': True}\n",
      "\n",
      "Filename: 1249120_43788827_19217288.wav\n",
      "Text: {'alternative': [{'transcript': 'Rapture or opening in the skin', 'confidence': 0.74330759}, {'transcript': 'opening in the skin', 'confidence': 0.85522455}, {'transcript': 'Raptor or opening in the skin', 'confidence': 0.72503489}, {'transcript': 'Rapture ore opening in the skin', 'confidence': 0.74330759}, {'transcript': 'Rapture Oar opening in the skin', 'confidence': 0.74330759}], 'final': True}\n",
      "\n",
      "Filename: 1249120_41841195_61778910.wav\n",
      "Text: {'alternative': [{'transcript': \"I can't stand up I feel my brain is moving inside my skull\", 'confidence': 0.98264652}, {'transcript': \"I can't stand up I feel my brain is moving inside my school\"}], 'final': True}\n",
      "\n",
      "Filename: 1249120_43620482_67975225.wav\n",
      "Text: {'alternative': [{'transcript': \"I can't get a girlfriend because of my acne\", 'confidence': 0.98762906}], 'final': True}\n",
      "\n",
      "Filename: 1249120_43620482_87773863.wav\n",
      "Text: {'alternative': [{'transcript': 'I feel congestion in my chest', 'confidence': 0.987629}], 'final': True}\n",
      "\n",
      "Filename: 1249120_39438102_39780431.wav\n",
      "Text: {'alternative': [{'transcript': 'I saw a lot of pain in the joint', 'confidence': 0.86365443}, {'transcript': 'I saw a lot of pain in the joints'}, {'transcript': 'I feel a lot of pain in the joint'}, {'transcript': 'I do a lot of pain in the joint'}, {'transcript': 'I know a lot of pain in the joint'}], 'final': True}\n",
      "\n",
      "Filename: 1249120_41336418_11200775.wav\n",
      "Text: {'alternative': [{'transcript': 'I left alone for treatment with micro Tech', 'confidence': 0.59858716}, {'transcript': 'I left alone for 3 p.m. put like for tank'}, {'transcript': 'I left alone for 3 p.m. put NyQuil tank'}, {'transcript': 'I left alone for 3 p.m. tonight to take'}, {'transcript': 'I left alone for 3 p.m. put Microtech'}], 'final': True}\n",
      "\n",
      "Filename: 1249120_2171654_21861362.wav\n",
      "Text: {'alternative': [{'transcript': 'I have a headache everytime I eat ice cream', 'confidence': 0.96463627}, {'transcript': 'I have a headache everytime I eat ice-cream'}, {'transcript': 'I have a headache every time I eat ice cream'}], 'final': True}\n",
      "\n",
      "Filename: 1249120_39154234_108585684.wav\n",
      "Text: {'alternative': [{'transcript': 'I cannot get warm no matter how much I wrap up or how much I put the heating on', 'confidence': 0.91995007}, {'transcript': 'I cannot get warm no matter how much I wrap up for how much I put the heating on', 'confidence': 0.90002924}, {'transcript': 'I cannot get warm no matter how much I wrap up Oar how much I put the heating on', 'confidence': 0.91995007}, {'transcript': 'I cannot get warm no matter how much I wrap up ore how much I put the heating on', 'confidence': 0.91995007}, {'transcript': 'I cannot get warm no matter how much I wrap up Orr how much I put the heating on', 'confidence': 0.91995007}], 'final': True}\n",
      "\n",
      "Filename: 1249120_43604449_80124077.wav\n",
      "Text: {'alternative': [{'transcript': 'I hit the ground when trying to shoot a basketball', 'confidence': 0.84922105}, {'transcript': 'I hate the ground when trying to shoot a basketball'}, {'transcript': 'I heard the ground when trying to shoot a basketball'}, {'transcript': 'I heard around when trying to shoot a basketball'}], 'final': True}\n",
      "\n",
      "Filename: 1249120_42210938_47209496.wav\n",
      "Text: {'alternative': [{'transcript': 'my body feels weak', 'confidence': 0.8333981}, {'transcript': \"my boyfriend's dick\"}, {'transcript': 'my body feels week'}], 'final': True}\n",
      "\n",
      "Filename: 1249120_17632529_93605074.wav\n",
      "Text: {'alternative': [{'transcript': \"I can't sleep I have a hard cough\", 'confidence': 0.987629}], 'final': True}\n",
      "\n",
      "Filename: 1249120_41956733_30129346.wav\n",
      "Text: {'alternative': [{'transcript': 'time to breathe am I having a heart attack', 'confidence': 0.98762906}], 'final': True}\n",
      "\n",
      "Filename: 1249120_35448024_51511610.wav\n",
      "Text: {'alternative': [{'transcript': 'what are the bus during a barber in Macungie', 'confidence': 0.79112959}, {'transcript': 'what are the bus during a hamburger invented'}, {'transcript': 'what are the bus during a bar in Macungie'}, {'transcript': 'what are the bus during a burger invented'}, {'transcript': 'what are the bus during a barber in McKinney'}], 'final': True}\n",
      "\n",
      "Filename: 1249120_38548574_89834293.wav\n",
      "Text: {'alternative': [{'transcript': 'my heart hurts me', 'confidence': 0.98762906}], 'final': True}\n",
      "\n",
      "Filename: 1249120_6338946_43939076.wav\n",
      "Text: {'alternative': [{'transcript': 'my shoulder hurts me so much', 'confidence': 0.987629}], 'final': True}\n",
      "\n",
      "Filename: 1249120_43612961_102666445.wav\n",
      "Text: {'alternative': [{'transcript': 'find my body is in a bad case and I need a good treatment', 'confidence': 0.93738872}, {'transcript': 'find my body is in a bad place and I need a good treatment'}], 'final': True}\n",
      "\n",
      "Filename: 1249120_40184183_13071610.wav\n",
      "Text: {'alternative': [{'transcript': 'I have a powerful pain inside my neck', 'confidence': 0.9822734}, {'transcript': 'I have a powerful pain inside my dick'}, {'transcript': 'I have a powerful pain inside my Lake'}], 'final': True}\n",
      "\n",
      "Filename: 1249120_43350908_104896063.wav\n",
      "Text: {'alternative': [{'transcript': 'all my buddies in a bad case and I need a good treatment', 'confidence': 0.7587133}, {'transcript': 'all my buddies in a bad case and they need a good treatment'}, {'transcript': 'all my bodies in a bad case and I need a good treatment'}, {'transcript': 'all my bodies in a bad case and they need a good treatment'}, {'transcript': 'how to make bodies in a bad case and I need a good treatment'}], 'final': True}\n",
      "\n",
      "Filename: 1249120_14353703_44429790.wav\n",
      "Text: {'alternative': [{'transcript': 'I feel dizzy when I set in front of my laptop for an hour or two what possibly could be the reason', 'confidence': 0.66786194}, {'transcript': 'I feel dizzy when I sit in front of my laptop for an hour or two what possibly could be the reason'}, {'transcript': 'I feel dizzy when I sat in front of my laptop for an hour or two what possibly could be the reason'}, {'transcript': 'I feel dizzy when I said in front of my laptop for an hour or two what possibly could be the reason'}, {'transcript': 'I feel dizzy when I set in front of my laptop for an hour or 2 what possibly could be the reason'}], 'final': True}\n",
      "\n",
      "Filename: 1249120_43898158_96674919.wav\n",
      "Text: {'alternative': [{'transcript': 'I have been like needles in my land', 'confidence': 0.79974884}, {'transcript': 'I have been like noodles in my land'}, {'transcript': 'I have been like needles in my Giant'}, {'transcript': 'I have been like noodles in my Giant'}, {'transcript': 'I have been like noodles in Meyerland'}], 'final': True}\n",
      "\n",
      "Filename: 1249120_30766630_44870553.wav\n",
      "Text: {'alternative': [{'transcript': 'my ear hurts me badly', 'confidence': 0.97839797}, {'transcript': 'my ear hurts Emmy badly', 'confidence': 0.97839797}, {'transcript': 'my ear hurts Emy badly', 'confidence': 0.97839797}, {'transcript': 'my ear hurts Emmie badly', 'confidence': 0.97839797}, {'transcript': 'my ear hurts Emme badly', 'confidence': 0.97839797}], 'final': True}\n",
      "\n",
      "Filename: 1249120_30937687_78575196.wav\n",
      "Text: {'alternative': [{'transcript': 'the feeling of caffeine increase in winter beach', 'confidence': 0.89462483}, {'transcript': 'the feeling of caffeine increase in Winter Ridge'}, {'transcript': 'the feeling of caffeine increase in Ventura Beach'}, {'transcript': 'the feeling of caffeine increase in Bonita Beach'}, {'transcript': 'the feeling of caffeine increases in winter beach'}], 'final': True}\n",
      "\n",
      "Filename: 1249120_42557795_98795337.wav\n",
      "Text: {'alternative': [{'transcript': 'Dwayne rock climbing in the cafeteria', 'confidence': 0.74867249}, {'transcript': \"I don't mind doing rock climbing in the cafeteria\"}, {'transcript': \"I don't mind going rock climbing in the cafeteria\"}, {'transcript': \"Eva don't mind doing rock climbing in the cafeteria\"}, {'transcript': 'I broke my ankle rainbow in rock climbing in the cafeteria'}], 'final': True}\n",
      "\n",
      "Filename: 1249120_43665783_10685166.wav\n",
      "Text: {'alternative': [{'transcript': \"I got my aunt a couple of weeks ago and even do I keep using antibiotic cream it's not getting better\", 'confidence': 0.81112689}, {'transcript': \"I got my aunt a couple of weeks ago and even do I keep using an antibiotic cream it's not getting better\"}, {'transcript': \"I got my aunt a couple of weeks ago and even do I keep using and antibiotic cream it's not getting better\"}, {'transcript': \"I got my aunt a couple of weeks ago and I keep using antibiotic cream it's not getting better\"}, {'transcript': \"I got my aunt a couple of weeks ago and even though I keep using antibiotic cream it's not getting better\"}], 'final': True}\n",
      "\n",
      "Filename: 1249120_43453425_41662801.wav\n",
      "Text: {'alternative': [{'transcript': 'when I play football I have in 2020', 'confidence': 0.77521694}, {'transcript': 'when I play football I am in 2020'}, {'transcript': 'when I play football il-2120'}, {'transcript': \"when I play football I haven't went\"}, {'transcript': \"when I play football I haven't joined\"}], 'final': True}\n",
      "\n",
      "Filename: 1249120_44111844_12306781.wav\n",
      "Text: {'alternative': [{'transcript': 'do not want some hairs on my pillow in the morning', 'confidence': 0.6237238}, {'transcript': 'there are lots a on my pillow in the morning'}, {'transcript': \"what's a on my pillow in the morning\"}, {'transcript': 'there are lots of Jesus on my pillow in the morning'}, {'transcript': 'do not want some heels on my pillow in the morning'}], 'final': True}\n",
      "\n",
      "Filename: 1249120_42210938_22909042.wav\n",
      "Text: []\n",
      "\n",
      "Filename: 1249120_39154234_30443036.wav\n",
      "Text: {'alternative': [{'transcript': 'when I stand up too quickly I feel as though I am going to faint', 'confidence': 0.87998784}, {'transcript': 'when I stand up too quickly I feel as though I am going to fan'}, {'transcript': 'when I stand up too quickly I feel as though I am going to fail'}, {'transcript': 'when I stand up too quickly I feel as though I am going to feign'}, {'transcript': 'then I stand up too quickly I feel as though I am going to faint'}], 'final': True}\n",
      "\n",
      "Filename: 1249120_14353703_29225925.wav\n",
      "Text: {'alternative': [{'transcript': 'I have a throbbing in my joint', 'confidence': 0.95030791}, {'transcript': 'I have a throbbing in my joints'}, {'transcript': 'I have a throbbing in my join'}, {'transcript': 'I have a throbbing in my drawing'}, {'transcript': \"I haven't throbbing in my joint\"}], 'final': True}\n",
      "\n",
      "Filename: 1249120_41841195_29288285.wav\n",
      "Text: {'alternative': [{'transcript': 'I used a lot of painkiller to get better but I still feel the same back pain', 'confidence': 0.88135689}, {'transcript': 'I used a lot of pain killer to get better but I still feel the same back pain'}, {'transcript': 'I use a lot of pain killer to get better but I still feel the same back pain'}, {'transcript': 'I used a lot of pain-killer to get better but I still feel the same back pain'}], 'final': True}\n",
      "\n",
      "Filename: 1249120_40571337_100108399.wav\n",
      "Text: {'alternative': [{'transcript': 'oh my heart hurts when I ran for a long distance', 'confidence': 0.61270517}, {'transcript': 'but my heart hurts when I ran for a long distance'}, {'transcript': 'oh my heart hurts when I ran for a long-distance'}, {'transcript': 'help my heart hurts when I ran for a long distance'}, {'transcript': 'but my heart hurts when I ran for a long-distance'}], 'final': True}\n",
      "\n",
      "Filename: 1249120_41150153_52682005.wav\n",
      "Text: {'alternative': [{'transcript': \"play foxes like it's going to explode\", 'confidence': 0.62045419}, {'transcript': \"play Hot since like it's going to explode\"}, {'transcript': \"play Hopkins like it's going to explode\"}, {'transcript': \"play Hawkins like it's going to explode\"}, {'transcript': \"foxes like it's going to explode\"}], 'final': True}\n",
      "\n",
      "Filename: 1249120_44111844_83889680.wav\n",
      "Text: {'alternative': [{'transcript': 'I feel chilly like an ice cube', 'confidence': 0.94740921}, {'transcript': 'I feel chilly like an ice cube my sister'}, {'transcript': 'I feel silly like an ice cube'}, {'transcript': 'I feel chilly like an ice cube my sisters'}, {'transcript': 'I feel silly like an ice cube my sister'}], 'final': True}\n",
      "\n",
      "Filename: 1249120_44142156_46178040.wav\n",
      "Text: {'alternative': [{'transcript': 'what helps scars heal faster', 'confidence': 0.94300461}, {'transcript': 'what help scars heal faster'}], 'final': True}\n",
      "\n",
      "Filename: 1249120_43620482_93162857.wav\n",
      "Text: {'alternative': [{'transcript': 'I feel like I went to an acupuncturist practice and had 100 needles in my shoulder', 'confidence': 0.92802095}, {'transcript': 'I feel like I went to an acupuncturist practice and had a hundred needles in my shoulder'}, {'transcript': 'I feel like I want to an acupuncturist practice and had 100 needles in my shoulder'}, {'transcript': 'I feel like I want to and acupuncture practice and had 100 needles in my shoulder'}, {'transcript': 'I feel like I 12 and acupuncture practice and had 100 needles in my shoulder'}], 'final': True}\n",
      "\n",
      "Filename: 1249120_34824899_86593725.wav\n",
      "Text: {'alternative': [{'transcript': 'when I do Hard Exercise I feel great pain in my muscles', 'confidence': 0.97911423}, {'transcript': 'when I do hard excercise I feel great pain in my muscles', 'confidence': 0.97911423}, {'transcript': 'when I do Hard Exercise I feel great pain in my mussels', 'confidence': 0.97911423}, {'transcript': 'when I do hard excersise I feel great pain in my muscles', 'confidence': 0.97911423}, {'transcript': 'when I do hard exercised I feel great pain in my muscles', 'confidence': 0.97911423}], 'final': True}\n",
      "\n",
      "Filename: 1249120_22345789_45339660.wav\n",
      "Text: {'alternative': [{'transcript': 'I get a knee pain when I walk a lot', 'confidence': 0.97903633}, {'transcript': 'I get an ePay when I walk a lot'}], 'final': True}\n",
      "\n",
      "Filename: 1249120_43951421_38887517.wav\n",
      "Text: {'alternative': [{'transcript': 'have a pain in my joints', 'confidence': 0.40145531}, {'transcript': 'having pain in my joints'}, {'transcript': 'have pain in my joints'}, {'transcript': 'I have a pain in my joints'}, {'transcript': 'I have pain in my joints'}], 'final': True}\n",
      "\n",
      "Filename: 1249120_43719934_106261317.wav\n",
      "Text: []\n",
      "\n",
      "Filename: 1249120_36929821_107242872.wav\n",
      "Text: {'alternative': [{'transcript': 'I feel cold', 'confidence': 0.97634315}, {'transcript': 'I feel kold', 'confidence': 0.97634315}, {'transcript': 'igh feel cold', 'confidence': 0.97634315}, {'transcript': 'I Fiel cold', 'confidence': 0.97634315}, {'transcript': 'I Fiel kold', 'confidence': 0.97634315}], 'final': True}\n",
      "\n",
      "Filename: 1249120_44101988_84851186.wav\n",
      "Text: {'alternative': [{'transcript': 'my son has a lot of acne', 'confidence': 0.96803576}, {'transcript': 'my son has a lot of vitamin E'}, {'transcript': 'my son has a lot of ectomy'}], 'final': True}\n",
      "\n",
      "Filename: 1249120_44023395_28316936.wav\n",
      "Text: []\n",
      "\n",
      "Filename: 1249120_13842059_72691774.wav\n",
      "Text: {'alternative': [{'transcript': \"I also got a stomach ache after I eat haven't been able to pinpoint which foods might be to trigger\", 'confidence': 0.69509149}, {'transcript': \"I also got a stomach ache after I eat I haven't been able to pinpoint which foods might be to trigger\"}, {'transcript': \"I often got a stomach ache after I eat haven't been able to pinpoint which foods might be to trigger\"}, {'transcript': \"I also got a stomach ache after I eat haven't been able to pinpoint which foods might be the trigger\"}, {'transcript': \"I often got a stomach ache after I eat I haven't been able to pinpoint which foods might be to trigger\"}], 'final': True}\n",
      "\n",
      "Filename: 1249120_43577102_61318612.wav\n",
      "Text: {'alternative': [{'transcript': 'I am having a hard time hearing', 'confidence': 0.987629}], 'final': True}\n",
      "\n",
      "Filename: 1249120_44140394_48412684.wav\n",
      "Text: {'alternative': [{'transcript': 'my husband has a spot on his lip that he thought was a cold sore but now his broken open and leaks fluid all day', 'confidence': 0.8559007}, {'transcript': 'my husband has a spot on his lip that he thought with a cold sore but now his broken open and leaks fluid all day'}, {'transcript': 'my husband has a spot on his lip that he thought was a cold sore but now it has broken open and leaks fluid all day'}, {'transcript': 'my husband has a spot on his lip that he thought was a cold sore but now his broken open and leaks fluids all day'}, {'transcript': 'my husband has a spot on his lip that he thought with a cold sore but now it has broken open and leaks fluid all day'}], 'final': True}\n",
      "\n",
      "Filename: 1249120_1853182_68980426.wav\n",
      "Text: {'alternative': [{'transcript': 'I used to have acne when I was 15 years old', 'confidence': 0.92527395}, {'transcript': 'I used to have acne when I was fifteen years old'}, {'transcript': 'are used to have acne when I was 15 years old'}, {'transcript': 'are you two have acne when I was 15 years old'}, {'transcript': 'are used to have acne when I was fifteen years old'}], 'final': True}\n",
      "\n",
      "Filename: 1249120_43951421_17021215.wav\n",
      "Text: {'alternative': [{'transcript': \"I have tried to relief it I can't\", 'confidence': 0.79373616}, {'transcript': \"I have tried to relieve it I can't\"}, {'transcript': \"I have tried to believe it I can't\"}, {'transcript': \"I have tried to relieve I can't\"}, {'transcript': \"I have tried to believe I can't\"}], 'final': True}\n",
      "\n",
      "Filename: 1249120_29289135_98888073.wav\n",
      "Text: {'alternative': [{'transcript': 'I do not feel better in my muscles', 'confidence': 0.987629}], 'final': True}\n",
      "\n",
      "Filename: 1249120_29672643_97390986.wav\n",
      "Text: {'alternative': [{'transcript': 'there is a sharp pain in my bicep I have tried to apply pain relief cream but it does not help', 'confidence': 0.94273269}, {'transcript': 'where is a sharp pain in my bicep I have tried to apply pain relief cream but it does not help'}], 'final': True}\n",
      "\n",
      "Filename: 1249120_14353703_45949288.wav\n",
      "Text: {'alternative': [{'transcript': 'I feel a burning sensation in my guts about 2 hours after each meal', 'confidence': 0.95904511}, {'transcript': 'I feel a burning sensation in my guts about two hours after each meal'}], 'final': True}\n",
      "\n",
      "Filename: 1249120_13842059_46594173.wav\n",
      "Text: {'alternative': [{'transcript': \"my neck hurts me and I can't stand with this pain\", 'confidence': 0.96569198}, {'transcript': \"my neck hurts me and I can't stand what this pain\"}], 'final': True}\n",
      "\n",
      "Filename: 1249120_30937687_17619915.wav\n",
      "Text: {'alternative': [{'transcript': 'my muscle.', 'confidence': 0.88270074}, {'transcript': 'my muscle Petri'}, {'transcript': 'my muscle tear'}, {'transcript': 'my muscle Kilbride'}, {'transcript': 'my muscle pill tried'}], 'final': True}\n",
      "\n",
      "Filename: 1249120_33905644_28997113.wav\n",
      "Text: {'alternative': [{'transcript': 'I have a rest and it itches very bad', 'confidence': 0.87542194}, {'transcript': 'I have a rash and it itches very bad', 'confidence': 0.81590152}, {'transcript': 'I have a rest and it itches really bad', 'confidence': 0.78174424}, {'transcript': 'I have a rash and it itches really bad', 'confidence': 0.72239673}, {'transcript': 'I have a reste and it itches really bad', 'confidence': 0.78174424}], 'final': True}\n",
      "\n",
      "Filename: 1249120_43453425_22466799.wav\n",
      "Text: {'alternative': [{'transcript': 'I must see a doctor I have an open wound', 'confidence': 0.98762906}], 'final': True}\n",
      "\n",
      "Filename: 1249120_43665783_58565107.wav\n",
      "Text: {'alternative': [{'transcript': 'a variable falling hair', 'confidence': 0.53524351}, {'transcript': 'it Berryville falling hair'}, {'transcript': 'a variable falling Hare'}, {'transcript': 'Berryville falling hair'}, {'transcript': 'a variable falling have'}], 'final': True}\n",
      "\n",
      "Filename: 1249120_38202325_17495403.wav\n",
      "Text: {'alternative': [{'transcript': 'I fell through a window while I was cleaning it and I have a Shard of glass stuck in my left eye I think it is pretty serious please help', 'confidence': 0.95788836}, {'transcript': 'I felt her window while I was cleaning it and I have a Shard of glass stuck in my left eye I think it is pretty serious please help'}], 'final': True}\n",
      "\n",
      "Filename: 1249120_38202325_68073791.wav\n",
      "Text: {'alternative': [{'transcript': 'I feel heart pain when I walk a lot', 'confidence': 0.98177612}, {'transcript': 'I feel heart Payne when I walk a lot', 'confidence': 0.98177612}, {'transcript': 'I feel heart pane when I walk a lot', 'confidence': 0.98177612}, {'transcript': 'I feel heart Paine when I walk a lot', 'confidence': 0.98177612}, {'transcript': 'I feel heart pain when I walk a Lott', 'confidence': 0.98177612}], 'final': True}\n",
      "\n",
      "Filename: 1249120_44101988_13721843.wav\n",
      "Text: {'alternative': [{'transcript': 'I feel pain in my throat', 'confidence': 0.96113855}, {'transcript': 'I feel Payne in my throat', 'confidence': 0.96113855}, {'transcript': 'I feel Paine in my throat', 'confidence': 0.96113855}, {'transcript': 'I feel pane in my throat', 'confidence': 0.96113855}, {'transcript': 'I feel pein in my throat', 'confidence': 0.96113855}], 'final': True}\n",
      "\n",
      "Filename: 1249120_2171654_61628879.wav\n",
      "Text: {'alternative': [{'transcript': \"I have a great stomach ache and I can't eat anything\", 'confidence': 0.92571718}, {'transcript': \"I have a great stomachache and I can't eat anything\"}, {'transcript': \"I have a great stomach ache and I can't eat anyting\"}, {'transcript': \"I have a great stomachache and I can't eat anyting\"}], 'final': True}\n",
      "\n",
      "Filename: 1249120_13842059_91612242.wav\n",
      "Text: {'alternative': [{'transcript': \"I have tried to relieve that but I can't\", 'confidence': 0.91618115}, {'transcript': 'I have tried to relieve that but I can'}, {'transcript': \"I have try to relieve that but I can't\"}, {'transcript': 'I have try to relieve that but I can'}, {'transcript': \"I have tried to relieved that but I can't\"}], 'final': True}\n",
      "\n",
      "Filename: 1249120_41841195_22127747.wav\n",
      "Text: {'alternative': [{'transcript': \"I can't do anything I feel a weak in my body\", 'confidence': 0.90099353}, {'transcript': \"I can't do anything I feel a week in my body\"}], 'final': True}\n",
      "\n",
      "Filename: 1249120_43402738_57383248.wav\n",
      "Text: {'alternative': [{'transcript': 'I have a head pain every single day', 'confidence': 0.90538055}, {'transcript': 'I have a headband every single day'}, {'transcript': 'I have a head pain every single'}, {'transcript': 'I have a headband every single'}], 'final': True}\n",
      "\n",
      "Filename: 1249120_43172391_50424441.wav\n",
      "Text: {'alternative': [{'transcript': 'everytime I take a deep breath I start coughing', 'confidence': 0.7231251}, {'transcript': 'every time I take a deep breath I start coughing'}, {'transcript': 'everytime I take a deep breath I started coughing'}, {'transcript': 'every time I take a deep breath I started coughing'}], 'final': True}\n",
      "\n",
      "Filename: 1249120_38548574_82844176.wav\n",
      "Text: []\n",
      "\n",
      "Filename: 1249120_42557795_34358820.wav\n",
      "Text: {'alternative': [{'transcript': 'I have offended radiates from my right hip to my rib cage it is at its worst when I urinate', 'confidence': 0.68373638}, {'transcript': 'I have appended radiates from my right hip to my rib cage it is at its worst when I urinate'}, {'transcript': 'I have offended radiates from my right hip to Mary-Kate it is at its worst when I urinate'}, {'transcript': 'I have appended radiates from my right hip to Mary-Kate it is at its worst when I urinate'}, {'transcript': 'I have offended radiates from my right hip to my rib cage it is at its first when I urinate'}], 'final': True}\n",
      "\n",
      "Filename: 1249120_29289135_36933715.wav\n",
      "Text: {'alternative': [{'transcript': 'I feel headache', 'confidence': 0.98762912}], 'final': True}\n",
      "\n",
      "Filename: 1249120_43612961_75393425.wav\n",
      "Text: {'alternative': [{'transcript': \"I'm in need for a treatment for my hair fall\", 'confidence': 0.93488133}, {'transcript': \"I'm in need for a treatment for my hair fall out\"}, {'transcript': \"I'm in need for a treatment for my hair false\"}, {'transcript': \"I'm a need for a treatment for my hair fall\"}, {'transcript': \"I'm a need for a treatment for my hair fall out\"}], 'final': True}\n",
      "\n",
      "Filename: 1249120_20518958_25092208.wav\n",
      "Text: {'alternative': [{'transcript': 'I have pain in my colon and my stomach like something cutting it', 'confidence': 0.9303509}, {'transcript': 'I have been in my colon and my stomach like something cutting it'}, {'transcript': 'I have pain in my colon and my stomach like something Cuttin it'}, {'transcript': 'I have pain in my colon and my stomach like something getting it'}, {'transcript': 'I have pain in my colon and my stomach like something Cuttin eat'}], 'final': True}\n",
      "\n",
      "Filename: 1249120_28006404_107808797.wav\n",
      "Text: {'alternative': [{'transcript': 'I have an earache when showering', 'confidence': 0.98114508}, {'transcript': 'I have an ear ache when showering'}], 'final': True}\n",
      "\n",
      "Filename: 1249120_41087148_58900916.wav\n",
      "Text: {'alternative': [{'transcript': 'migrants City Saloon', 'confidence': 0.54904449}, {'transcript': 'migrant City Saloon'}, {'transcript': 'migrant City salon'}, {'transcript': 'migrants City salon'}, {'transcript': 'migrants silly salon'}], 'final': True}\n",
      "\n",
      "Filename: 1249120_6338946_75803650.wav\n",
      "Text: {'alternative': [{'transcript': 'I feel pain in the knee', 'confidence': 0.987629}], 'final': True}\n",
      "\n",
      "Filename: 1249120_33251186_42909178.wav\n",
      "Text: {'alternative': [{'transcript': 'I know who I am feeling so cool', 'confidence': 0.89461255}, {'transcript': 'I know but I am feeling so cool'}], 'final': True}\n",
      "\n",
      "Filename: 1249120_41203338_18201183.wav\n",
      "Text: {'alternative': [{'transcript': 'I feel pain in my knee when I climb the stairs', 'confidence': 0.97852588}, {'transcript': 'I feel pain in my knee when I climbed the stairs'}], 'final': True}\n",
      "\n",
      "Filename: 1249120_34128682_109191043.wav\n",
      "Text: {'alternative': [{'transcript': 'I have a headache almost everyday', 'confidence': 0.97683698}, {'transcript': 'I have a headache almost every day'}], 'final': True}\n",
      "\n",
      "Filename: 1249120_17632529_47778782.wav\n",
      "Text: {'alternative': [{'transcript': 'I used to have acne when I was 15 years old', 'confidence': 0.95009667}, {'transcript': 'I used to have acne when I was fifteen years old'}], 'final': True}\n",
      "\n",
      "Filename: 1249120_43577102_20339403.wav\n",
      "Text: {'alternative': [{'transcript': \"I visited many doctors but they can't find the right treatment to get my hair back\", 'confidence': 0.90744746}, {'transcript': \"I visited many doctor's but they can't find the right treatment to get my hair back\"}, {'transcript': \"I visited many doctors birthday can't find the right treatment to get my hair back\"}], 'final': True}\n",
      "\n",
      "Filename: 1249120_35408915_95188239.wav\n",
      "Text: {'alternative': [{'transcript': 'I sliced myself deeply with a knife while I was cooking', 'confidence': 0.98643953}, {'transcript': 'I sliced myself deeplee with a knife while I was cooking', 'confidence': 0.98643953}, {'transcript': 'I sliced myself deeply with a nife while I was cooking', 'confidence': 0.98643953}, {'transcript': \"I sliced myself' deeply with a knife while I was cooking\", 'confidence': 0.98643953}, {'transcript': 'I sliced majself deeply with a knife while I was cooking', 'confidence': 0.98643953}], 'final': True}\n",
      "\n",
      "Filename: 1249120_43402738_59472397.wav\n",
      "Text: {'alternative': [{'transcript': 'what helps Cuts heal faster', 'confidence': 0.98762906}, {'transcript': 'what helps us Cuts heal faster'}], 'final': True}\n",
      "\n",
      "Filename: 1249120_41150153_15780025.wav\n",
      "Text: {'alternative': [{'transcript': 'my skin is very dry and peeling', 'confidence': 0.987629}], 'final': True}\n",
      "\n",
      "Filename: 1249120_41087148_87462218.wav\n",
      "Text: {'alternative': [{'transcript': 'my throat is sore', 'confidence': 0.42599332}, {'transcript': 'my body is sore'}, {'transcript': 'my issues'}, {'transcript': 'my heart issues'}, {'transcript': 'my heart is sore'}], 'final': True}\n",
      "\n",
      "Filename: 1249120_41150153_94418882.wav\n",
      "Text: {'alternative': [{'transcript': 'I have brought a hard time to breathe am I having heart attack', 'confidence': 0.72708023}, {'transcript': 'I have bought a hard time to breathe am I having heart attack'}, {'transcript': 'I have brought a hard time to breathe am I having a heart attack'}, {'transcript': 'I have bought a hard time to breathe am I having a heart attack'}, {'transcript': 'I have got a hard time to breathe am I having heart attack'}], 'final': True}\n",
      "\n",
      "Filename: 1249120_41956733_98030910.wav\n",
      "Text: {'alternative': [{'transcript': 'even if the temperature is hot in the house my body is always cold', 'confidence': 0.91060728}, {'transcript': 'given if the temperature is hot in the house my body is always cold'}, {'transcript': 'even if the temperature is hot in the house by body is always cold'}, {'transcript': 'given if the temperature is hot in the house by body is always cold'}], 'final': True}\n",
      "\n",
      "Filename: 1249120_35832653_88616170.wav\n",
      "Text: {'alternative': [{'transcript': \"I have an internal pain I can't describe\", 'confidence': 0.987629}], 'final': True}\n",
      "\n",
      "Filename: 1249120_43995026_35619132.wav\n",
      "Text: {'alternative': [{'transcript': 'when I play football I have joint pain', 'confidence': 0.93173724}, {'transcript': 'when I played football I have joint pain'}, {'transcript': 'then I play football I have joint pain'}, {'transcript': 'when they play football I have joint pain'}, {'transcript': 'vene play football I have joint pain'}], 'final': True}\n",
      "\n",
      "Filename: 1249120_43794413_36409293.wav\n",
      "Text: {'alternative': [{'transcript': \"my back horse I love wing I've been\", 'confidence': 0.70452064}, {'transcript': 'my back horse I love wing how you been'}, {'transcript': 'my back horse I love wearing how you been'}, {'transcript': \"my backhorse I love wing I've been\"}, {'transcript': 'my backhorse I love wing how you been'}], 'final': True}\n",
      "\n",
      "Filename: 1249120_43665783_97238538.wav\n",
      "Text: {'alternative': [{'transcript': \"when I woke it's hard to breathe\", 'confidence': 0.84972328}, {'transcript': 'when I woke it hard to breathe'}, {'transcript': \"when I awoke it's hard to breathe\"}, {'transcript': \"when I work it's hard to breathe\"}, {'transcript': \"when I walk it's hard to breathe\"}], 'final': True}\n",
      "\n",
      "Filename: 1249120_43856216_32023447.wav\n",
      "Text: {'alternative': [{'transcript': 'in the morning Myra spiration is loud', 'confidence': 0.92780733}, {'transcript': 'in the morning Midas paration is loud'}, {'transcript': 'in the morning my destination is loud'}, {'transcript': 'in the morning Maddox paration is loud'}, {'transcript': 'in the morning Maddox spiration is loud'}], 'final': True}\n",
      "\n",
      "Filename: 1249120_20518958_84401096.wav\n",
      "Text: {'alternative': [{'transcript': 'my temperature dropped and my body get silenced', 'confidence': 0.82623124}, {'transcript': 'my temperature dropped and my body gear silenced'}, {'transcript': 'my temperature dropped and my body gets silenced'}, {'transcript': 'my temperature dropped and my body gate silenced'}, {'transcript': 'my temperature dropped and my body great silenced'}], 'final': True}\n",
      "\n",
      "Filename: 1249120_6338946_88168612.wav\n",
      "Text: {'alternative': [{'transcript': 'I used a lot of painkiller to get better but I still feel the same back pain', 'confidence': 0.88819003}, {'transcript': 'I used a lot of pain killer to get better but I still feel the same back pain'}, {'transcript': 'I used a lot of painkillers to get better but I still feel the same back pain'}, {'transcript': 'I used a lot of pain-killer to get better but I still feel the same back pain'}], 'final': True}\n",
      "\n",
      "Filename: 1249120_17632529_20430895.wav\n",
      "Text: {'alternative': [{'transcript': 'I have a pain in my stomach', 'confidence': 0.987629}], 'final': True}\n",
      "\n",
      "Filename: 1249120_21665495_39422484.wav\n",
      "Text: {'alternative': [{'transcript': 'I have a sharp pain and clicking sound in my ankle joint when I try to stand on it and walk', 'confidence': 0.97088724}, {'transcript': 'I have a sharp pain and clicking sound in my ankle joint when I tried to stand on it and walk', 'confidence': 0.9497689}, {'transcript': 'I have a sharp pain and clicking sound in my ankle joint when I try to stand on it and Wok', 'confidence': 0.97088724}, {'transcript': 'I have a sharp pain and clicking sound in my ankle joint when I tried to stand on it and Wok', 'confidence': 0.9497689}, {'transcript': 'I have a sharp pain and clicking sound in my ankle joint when I try to stand on it and Wolk', 'confidence': 0.97088724}], 'final': True}\n",
      "\n",
      "Filename: 1249120_42210938_81518541.wav\n",
      "Text: {'alternative': [{'transcript': 'I have a poopy off of running 500', 'confidence': 0.8135289}, {'transcript': 'I have a pooping off of running 500'}, {'transcript': 'I have a poopy off of Rummy 500'}, {'transcript': 'I have a prepaid off of running 500'}, {'transcript': 'I have a poopy a running 500'}], 'final': True}\n",
      "\n",
      "Filename: 1249120_43856216_34239729.wav\n",
      "Text: {'alternative': [{'transcript': 'my acne itches and oozes', 'confidence': 0.9536745}, {'transcript': 'my acne itches and chooses'}, {'transcript': 'my Acme itches and oozes'}, {'transcript': 'my acne itches and loses'}, {'transcript': 'my acne itches and losses'}], 'final': True}\n",
      "\n",
      "Filename: 1249120_43883861_39922447.wav\n",
      "Text: {'alternative': [{'transcript': 'I have a feeling like my whole body is complaining', 'confidence': 0.98762906}], 'final': True}\n",
      "\n",
      "Filename: 1249120_43172391_30380825.wav\n",
      "Text: {'alternative': [{'transcript': 'when I tried to answer the phone call I found that I can hear the voice of the speaker', 'confidence': 0.96111852}, {'transcript': \"when I tried to answer the phone call I found that I can't hear the voice of the speaker\"}], 'final': True}\n",
      "\n",
      "Filename: 1249120_43898158_15743759.wav\n",
      "Text: {'alternative': [{'transcript': 'making cold when the Night Comes', 'confidence': 0.51366204}, {'transcript': 'I can hold when the Night Comes'}, {'transcript': 'taking cold when the Night Comes'}, {'transcript': 'cold when the Night Comes'}, {'transcript': 'I can call when the Night Comes'}], 'final': True}\n",
      "\n",
      "Filename: 1249120_36505751_14589629.wav\n",
      "Text: {'alternative': [{'transcript': 'there is an injured person', 'confidence': 0.98454058}, {'transcript': 'there is an injured'}], 'final': True}\n",
      "\n",
      "Filename: 1249120_36505751_62916331.wav\n",
      "Text: {'alternative': [{'transcript': 'I broke my ankle while doing rock climbing in the carpathians', 'confidence': 0.97112232}, {'transcript': 'I broke my ankle while doing the rock climbing in the carpathians'}, {'transcript': 'I broke my ankle while doing rock-climbing in the carpathians'}], 'final': True}\n",
      "\n",
      "Filename: 1249120_43402738_55341162.wav\n",
      "Text: {'alternative': [{'transcript': 'when I get out of bed in the morning my body feels very weak', 'confidence': 0.987629}], 'final': True}\n",
      "\n",
      "Filename: 1249120_30766630_34980228.wav\n",
      "Text: {'alternative': [{'transcript': \"my back hurts me and I can't bend it or walk\", 'confidence': 0.987629}], 'final': True}\n",
      "\n",
      "Filename: 1249120_43898158_47673409.wav\n",
      "Text: {'alternative': [{'transcript': 'I feel like I have always called something in my', 'confidence': 0.91839743}, {'transcript': 'I feel like I have always called something in my eye'}, {'transcript': 'I feel like I have always got something in my eye'}, {'transcript': 'I feel like I have always got something in my'}, {'transcript': 'I feel like I have always called something in mind'}], 'final': True}\n",
      "\n",
      "Filename: 1249120_18172663_63908618.wav\n",
      "Text: {'alternative': [{'transcript': \"I tried to put my glasses to see more clear but can't find any change\", 'confidence': 0.96147782}, {'transcript': \"I tried to put my glasses to see more clearer but can't find any change\"}, {'transcript': \"I tried to put my glasses to see more clear but can't find any chain\"}, {'transcript': \"I tried to put my glasses to see more clearer but can't find any chain\"}, {'transcript': \"I tried to put my glasses to see more clear-cut can't find any change\"}], 'final': True}\n",
      "\n",
      "Filename: 1249120_29289135_42853161.wav\n",
      "Text: {'alternative': [{'transcript': 'I have a back pain since I fell on the floor', 'confidence': 0.987629}], 'final': True}\n",
      "\n",
      "Filename: 1249120_43453425_80161144.wav\n",
      "Text: {'alternative': [{'transcript': 'there is pain in my joints I cannot be', 'confidence': 0.72746873}, {'transcript': 'there is pain in my joints I cannot B', 'confidence': 0.72746873}, {'transcript': 'there is pain in my joints I cannot bear', 'confidence': 0.68672889}, {'transcript': 'there is pain in my joints I cannot', 'confidence': 0.73034918}, {'transcript': 'there is pain in my joints I cannot bee', 'confidence': 0.72746873}], 'final': True}\n",
      "\n",
      "Filename: 1249120_44101988_61635386.wav\n",
      "Text: {'alternative': [{'transcript': 'stomach pain after drinking milk', 'confidence': 0.98762906}], 'final': True}\n",
      "\n",
      "Filename: 1249120_42557795_34172863.wav\n",
      "Text: {'alternative': [{'transcript': 'I have pain in my stomach', 'confidence': 0.7943716}, {'transcript': 'I have been in my stomach'}], 'final': True}\n",
      "\n",
      "Filename: 1249120_19425875_54714144.wav\n",
      "Text: {'alternative': [{'transcript': 'when I move my shoulder pain shoots down my arm', 'confidence': 0.98762906}], 'final': True}\n",
      "\n",
      "Filename: 1249120_43453425_24440771.wav\n",
      "Text: {'alternative': [{'transcript': '8/3 when I raise my arm up', 'confidence': 0.72718197}, {'transcript': '8/3 when I raise my arm', 'confidence': 0.76173562}, {'transcript': '8/3 when I raise my arm off', 'confidence': 0.67983043}, {'transcript': '8/3 when I raise my armor', 'confidence': 0.6432094}, {'transcript': '8/3 when I erase my arm up', 'confidence': 0.67737263}], 'final': True}\n",
      "\n",
      "Filename: 1249120_15004831_91661588.wav\n",
      "Text: {'alternative': [{'transcript': 'my neck feels stiff', 'confidence': 0.88270277}, {'transcript': 'my neck feel stiff'}, {'transcript': 'my net feel stiff'}, {'transcript': 'mynet feel stiff'}, {'transcript': 'my net feels stiff'}], 'final': True}\n",
      "\n",
      "Filename: 1249120_41956733_21612769.wav\n",
      "Text: {'alternative': [{'transcript': 'breakup I feel something strange in me', 'confidence': 0.82438809}, {'transcript': 'break up I feel something strange in me'}], 'final': True}\n",
      "\n",
      "Filename: 1249120_13842059_99243745.wav\n",
      "Text: {'alternative': [{'transcript': 'discomfort or pain that is felt at some point along the front of the body between the neck and upper abdomen', 'confidence': 0.98762906}], 'final': True}\n",
      "\n",
      "Filename: 1249120_43856216_27834732.wav\n",
      "Text: {'alternative': [{'transcript': 'I have a headache pain every single day', 'confidence': 0.81443685}, {'transcript': 'I have a head pain every single day'}, {'transcript': 'I have a headband every single day'}], 'final': True}\n",
      "\n",
      "Filename: 1249120_38202325_59711134.wav\n",
      "Text: {'alternative': [{'transcript': \"I just can't seem to get warm even when everyone around me is warm I always feel cold\", 'confidence': 0.98006016}, {'transcript': \"I just can't seem to get warm even when everyone around me as warm I always feel cold\"}, {'transcript': \"I just can't seem to get warm even one everyone around me is warm I always feel cold\"}, {'transcript': \"I just can't seem to get warm even one everyone around me as warm I always feel cold\"}], 'final': True}\n",
      "\n",
      "Filename: 1249120_41841195_99383904.wav\n",
      "Text: {'alternative': [{'transcript': 'I feel pain in my back', 'confidence': 0.987629}], 'final': True}\n",
      "\n",
      "Filename: 1249120_43883861_78111941.wav\n",
      "Text: {'alternative': [{'transcript': 'I have a cut on my foot that became infected from using the showers at the gym', 'confidence': 0.93758112}, {'transcript': 'I have a cut on my foot. Became infected from using the showers at the gym'}, {'transcript': 'I have a cut on my foot that became infected from using the shallows at the gym'}, {'transcript': 'I have a cut on my foot that became infected from using the showers at the'}, {'transcript': 'I have a cut on my foot that became infected from using the shower is at the gym'}], 'final': True}\n",
      "\n",
      "Filename: 1249120_43758322_43843678.wav\n",
      "Text: {'alternative': [{'transcript': 'I feel a pain in my back when I sit on a chair for lunch', 'confidence': 0.87956119}, {'transcript': 'I feel a pain in my back when I sit on a chair for long', 'confidence': 0.90519947}, {'transcript': 'I feel a pain in my back when I sit on a chair for lawn', 'confidence': 0.88589531}, {'transcript': 'I feel a pain in my back when I sit on a chair for loan', 'confidence': 0.89968419}, {'transcript': 'I feel a pain in my back when I sit on a chair for luong', 'confidence': 0.90519947}], 'final': True}\n",
      "\n",
      "Filename: 1249120_39142299_92889379.wav\n",
      "Text: {'alternative': [{'transcript': 'I feel strange and Powerful pain inside my rib cage', 'confidence': 0.73917288}, {'transcript': 'I feel a strange and Powerful pain inside my rib cage'}, {'transcript': 'I feel is strange and Powerful pain inside my rib cage'}, {'transcript': \"I feel it's strange and Powerful pain inside my rib cage\"}, {'transcript': 'I feel strange and Powerful pain inside my ribcage'}], 'final': True}\n",
      "\n",
      "Filename: 1249120_42210938_45820130.wav\n",
      "Text: {'alternative': [{'transcript': 'my throat is so sore', 'confidence': 0.98762906}], 'final': True}\n",
      "\n",
      "Filename: 1249120_44027675_95447214.wav\n",
      "Text: {'alternative': [{'transcript': 'Myon login', 'confidence': 0.50007045}, {'transcript': 'Mayon Volcano'}, {'transcript': 'my own login'}, {'transcript': 'my own looking at my'}, {'transcript': 'my own broken up my'}], 'final': True}\n",
      "\n",
      "Filename: 1249120_43402738_24077097.wav\n",
      "Text: {'alternative': [{'transcript': 'my skin is very dry and peeling', 'confidence': 0.987629}], 'final': True}\n",
      "\n",
      "Filename: 1249120_39142299_88581774.wav\n",
      "Text: {'alternative': [{'transcript': 'I was very active in sport but now my body is feeling pain', 'confidence': 0.76944059}, {'transcript': 'I was very active in sports but now my body is feeling pain'}, {'transcript': \"I was very active in sport but now my body's feeling pain\"}, {'transcript': 'I was very active in sport but now my body is healing pain'}, {'transcript': 'I was very active sport but now my body is feeling pain'}], 'final': True}\n",
      "\n",
      "Filename: 1249120_44093933_29940321.wav\n",
      "Text: {'alternative': [{'transcript': 'every morning when I wake up my neck feels like I slept on it wrong', 'confidence': 0.94547564}, {'transcript': 'every morning when I wake up my neck please like I slept on it wrong'}, {'transcript': 'every morning when I wake up my necklace like I slept on it wrong'}], 'final': True}\n",
      "\n",
      "Filename: 1249120_44093933_18035754.wav\n",
      "Text: {'alternative': [{'transcript': \"I have escaped on the back of my hand that just won't go away\", 'confidence': 0.75265175}, {'transcript': \"I have escaped from the back of my hand that just won't go away\"}, {'transcript': \"I have escaped down the back of my hand that just won't go away\"}, {'transcript': \"I have escaped when the back of my hand that just won't go away\"}, {'transcript': \"I have escaped on the back of my hand. Just won't go away\"}], 'final': True}\n",
      "\n",
      "Filename: 1249120_43883861_22755094.wav\n",
      "Text: {'alternative': [{'transcript': \"when I move my shoulder it's like lightning it's being sent through my shoulder\", 'confidence': 0.87064475}, {'transcript': \"when I move my shoulder it's like lightning is being sent through my shoulder\"}, {'transcript': \"when I move my shoulder it's like lightening is being sent through my shoulder\"}, {'transcript': \"when I move my shoulder it's like lightening it's being sent through my shoulder\"}], 'final': True}\n",
      "\n",
      "Filename: 1249120_6338946_13298292.wav\n",
      "Text: {'alternative': [{'transcript': \"you won't believe me but this infected wound on my hand is from a paper cut I didn't take seriously\", 'confidence': 0.89803249}, {'transcript': \"you won't believe me but this infected wound on my hand is from a Papercut I didn't take seriously\"}, {'transcript': \"you won't believe me but this infected wound on my hand is for my paper cut I didn't take seriously\"}, {'transcript': \"you won't believe me but this infected wound or my hand is from a paper cut I didn't take seriously\"}, {'transcript': \"you won't believe me but this infected wound or my hand is from a Papercut I didn't take seriously\"}], 'final': True}\n",
      "\n",
      "Filename: 1249120_39154234_68844285.wav\n",
      "Text: {'alternative': [{'transcript': 'when I play sports I have some burning sensation in my spine', 'confidence': 0.96299344}, {'transcript': 'when I play sports I have some burning sensation in my spy'}, {'transcript': 'can I play sports I have some burning sensation in my spine'}, {'transcript': 'then I play sports I have some burning sensation in my spine'}, {'transcript': 'can I play sports I have some burning sensation in my spy'}], 'final': True}\n",
      "\n",
      "Filename: 1249120_2171654_81550022.wav\n",
      "Text: {'alternative': [{'transcript': \"I don't do anything at home and still I feel exhausted\", 'confidence': 0.987629}], 'final': True}\n",
      "\n",
      "Filename: 1249120_43918153_60951031.wav\n",
      "Text: {'alternative': [{'transcript': 'I have a Smith on my phone that will not he', 'confidence': 0.92374682}, {'transcript': 'I have a split on my phone that will not he'}, {'transcript': 'I have a Smith on my phone that will not heed'}, {'transcript': 'I have a Smith on my phone that will not heal'}, {'transcript': 'I have a Smith on my phone that will not heating'}], 'final': True}\n",
      "\n",
      "Filename: 1249120_43604449_95204963.wav\n",
      "Text: {'alternative': [{'transcript': 'I feel tingling when I touch icon followed by bed sensation', 'confidence': 0.80607069}, {'transcript': 'I feel tingling when I touch icon followed by bad sensation'}, {'transcript': 'I feel tingling when I touch icon followed by bat sensation'}, {'transcript': 'I feel tingling when I touch action followed by bed sensation'}, {'transcript': 'I feel the tingling when I touch icon followed by bed sensation'}], 'final': True}\n",
      "\n",
      "Filename: 1249120_21665495_27953532.wav\n",
      "Text: {'alternative': [{'transcript': \"I don't have the energy to do the things that I used to\", 'confidence': 0.98288196}, {'transcript': \"I don't have the energy to do the things that I used two\"}], 'final': True}\n",
      "\n",
      "Filename: 1249120_14353703_73504522.wav\n",
      "Text: {'alternative': [{'transcript': 'I have a pain in my stomach', 'confidence': 0.95955151}, {'transcript': 'have a pain in my stomach'}], 'final': True}\n",
      "\n",
      "Filename: 1249120_41956733_75725033.wav\n",
      "Text: {'alternative': [{'transcript': 'myectomy e-juice and hoses', 'confidence': 0.62318957}, {'transcript': 'myectomy YouTube and hoses'}, {'transcript': 'myectomy e-juice and losses'}, {'transcript': 'myectomy pictures and hoses'}, {'transcript': 'myectomy YouTube and losses'}], 'final': True}\n",
      "\n",
      "Filename: 1249120_41221824_39631813.wav\n",
      "Text: {'alternative': [{'transcript': \"if I feel pain in my legs muscle asaram yesterday I took some painkillers but it isn't\", 'confidence': 0.61856204}, {'transcript': \"I feel pain in my legs muscle asaram yesterday I took some painkillers but it isn't\"}, {'transcript': \"if I feel pain in my legs muscle aside from yesterday I took some painkillers but it isn't\"}, {'transcript': \"I feel pain in my legs muscle aside from yesterday I took some painkillers but it isn't\"}, {'transcript': \"if I feel pain in my legs muscle after run yesterday I took some painkillers but it isn't\"}], 'final': True}\n",
      "\n",
      "Filename: 1249120_36505751_66909282.wav\n",
      "Text: {'alternative': [{'transcript': 'what helps Cuts heal faster', 'confidence': 0.98439389}, {'transcript': 'what helps scars heal faster'}, {'transcript': 'what helps cats heal faster'}, {'transcript': 'what help scabs heal faster'}], 'final': True}\n",
      "\n",
      "Filename: 1249120_44142156_59256275.wav\n",
      "Text: {'alternative': [{'transcript': \"Miami's ending\", 'confidence': 0.57109374}, {'transcript': 'Miami raining'}, {'transcript': 'Miami'}, {'transcript': \"Miami's Indy\"}, {'transcript': \"Miami's Indian\"}], 'final': True}\n",
      "\n",
      "Filename: 1249120_35154350_99982814.wav\n",
      "Text: {'alternative': [{'transcript': 'I was kicked in the head playing soccer last night', 'confidence': 0.99485672}, {'transcript': 'I was kicked in the head playing soccer Last Knight', 'confidence': 0.99485672}, {'transcript': 'I was kicked in the head playing soccer last Nite', 'confidence': 0.99485672}, {'transcript': 'I wuz kicked in the head playing soccer last night', 'confidence': 0.99485672}, {'transcript': 'I was kicked in the head playing sacher last night', 'confidence': 0.99485672}], 'final': True}\n",
      "\n",
      "Filename: 1249120_29672643_75261138.wav\n",
      "Text: {'alternative': [{'transcript': 'I have a back pain since I turned 70 years old', 'confidence': 0.95908064}, {'transcript': 'I have a back pain since I turned 17 years old'}, {'transcript': 'I have a back pain since I turned 70 years-old'}, {'transcript': 'I have a back pain since I turned seventy years old'}, {'transcript': 'I have a back pain since I turned Seventeen years old'}], 'final': True}\n",
      "\n",
      "Filename: 1249120_36505751_87883658.wav\n",
      "Text: {'alternative': [{'transcript': 'and aches all over', 'confidence': 0.80631399}, {'transcript': 'identity and aches all over'}, {'transcript': 'petite and aches all over'}, {'transcript': 'I guess and aches all over'}, {'transcript': 'I get tequila and aches all over'}], 'final': True}\n",
      "\n",
      "Filename: 1249120_13842059_83673903.wav\n",
      "Text: {'alternative': [{'transcript': \"I can't move my leg there is a pain in the joint\", 'confidence': 0.77679366}, {'transcript': \"I can't move my leg that is a pain in the joint\"}, {'transcript': \"I can't move my like there is a pain in the joint\"}, {'transcript': \"I can't move my like that is a pain in the joint\"}, {'transcript': \"I can't move my leg there is a pain in the joints\"}], 'final': True}\n",
      "\n",
      "Filename: 1249120_41221824_31683897.wav\n",
      "Text: {'alternative': [{'transcript': 'I feel pain in my body', 'confidence': 0.987629}], 'final': True}\n",
      "\n",
      "Filename: 1249120_15004831_68744262.wav\n",
      "Text: {'alternative': [{'transcript': \"I got a divorce last year and I just can't stop dwelling on how to get revenge on my ex-husband\", 'confidence': 0.98762906}], 'final': True}\n",
      "\n",
      "Filename: 1249120_41841195_44742217.wav\n",
      "Text: {'alternative': [{'transcript': 'the knee feels like it rusted and I suddenly cannot bend it anymore', 'confidence': 0.91681898}, {'transcript': 'the knee feels like it rustad and I suddenly cannot bend it anymore', 'confidence': 0.91681898}, {'transcript': 'the knee feels like it russted and I suddenly cannot bend it anymore', 'confidence': 0.91681898}, {'transcript': 'the knee feels like it rusted and I suddenly cannot bende it anymore', 'confidence': 0.91681898}], 'final': True}\n",
      "\n",
      "Filename: 1249120_41336418_67421543.wav\n",
      "Text: {'alternative': [{'transcript': 'when I stand up', 'confidence': 0.97903162}, {'transcript': 'when I stand up.'}, {'transcript': 'when I stand up comedy ideas'}, {'transcript': 'when I stand up comedy'}, {'transcript': 'when I stand'}], 'final': True}\n",
      "\n",
      "Filename: 1249120_44101988_82484443.wav\n",
      "Text: {'alternative': [{'transcript': 'I have pain in my cologne in my stomach like something cutting it', 'confidence': 0.82697493}, {'transcript': 'I have pain in my cologne and my stomach like something cutting it'}, {'transcript': 'I have pain in my phone and my stomach like something cutting it'}, {'transcript': 'I have pain in my phone in my stomach like something cutting it'}, {'transcript': 'I have pain in my cologne and my stomach feel like something cutting it'}], 'final': True}\n",
      "\n",
      "Filename: 1249120_43918153_29828731.wav\n",
      "Text: {'alternative': [{'transcript': \"I'm having a hard time reading because the lessons are also they\", 'confidence': 0.94799441}, {'transcript': \"I'm having a hard time reading because the messenger also they\"}, {'transcript': \"I'm having a hard time reading because the lessons are also day\"}, {'transcript': \"I'm having a hard time reading because the lessons are also thanks\"}, {'transcript': \"I'm having a hard time reading because the lessons are all so they\"}], 'final': True}\n",
      "\n",
      "Filename: 1249120_42554554_88181306.wav\n",
      "Text: {'alternative': [{'transcript': 'hearing any love songs makes my ear aches', 'confidence': 0.83451426}, {'transcript': 'pairing any love songs makes my ear aches'}, {'transcript': 'hearing any love-songs makes my ear aches'}, {'transcript': 'hearing any love songs makes my earaches'}, {'transcript': 'Herring any love songs makes my ear aches'}], 'final': True}\n",
      "\n",
      "Filename: 1249120_43855932_58390718.wav\n",
      "Text: {'alternative': [{'transcript': 'I have a headache almost everyday', 'confidence': 0.97682518}, {'transcript': 'I have a headache almost every day'}], 'final': True}\n",
      "\n",
      "Filename: 1249120_29289135_48196636.wav\n",
      "Text: {'alternative': [{'transcript': \"I've had this cough for 2 weeks\", 'confidence': 0.95670688}, {'transcript': \"I've had this car for two weeks\"}, {'transcript': \"I've had this car for 2 weeks\"}], 'final': True}\n",
      "\n",
      "Filename: 1249120_35154350_31170738.wav\n",
      "Text: {'alternative': [{'transcript': 'my knees ache on cold and rainy days', 'confidence': 0.92883039}, {'transcript': 'my niece Akon cold and rainy days'}, {'transcript': 'my niece egg on cold and rainy days'}, {'transcript': 'my knees ache on cold and rainy Dayz'}, {'transcript': 'my knees Akon cold and rainy days'}], 'final': True}\n",
      "\n",
      "Filename: 1249120_42210938_104510218.wav\n",
      "Text: {'alternative': [{'transcript': 'I feel like something is squeezing my lungs', 'confidence': 0.91038936}, {'transcript': 'feel like something is squeezing my lungs'}], 'final': True}\n",
      "\n",
      "Filename: 1249120_35170334_68667704.wav\n",
      "Text: {'alternative': [{'transcript': 'times along the wall abdomen', 'confidence': 0.63565928}, {'transcript': 'times along the whole abdomen'}, {'transcript': 'times along the word abdomen'}, {'transcript': 'times along the board abdomen'}, {'transcript': 'X along the wall abdomen'}], 'final': True}\n",
      "\n",
      "Filename: 1249120_43898158_77462207.wav\n",
      "Text: {'alternative': [{'transcript': 'Alice like I am interested', 'confidence': 0.69105184}, {'transcript': 'Alice like I am'}, {'transcript': 'Ellis like I am interested'}, {'transcript': 'Dallas like I am interested'}, {'transcript': 'jealous like I am interested'}], 'final': True}\n",
      "\n",
      "Filename: 1249120_29289135_86967980.wav\n",
      "Text: {'alternative': [{'transcript': 'I have a dry throat', 'confidence': 0.98762906}], 'final': True}\n",
      "\n",
      "Filename: 1249120_40419625_96383787.wav\n",
      "Text: {'alternative': [{'transcript': 'I have a hot mustard pain since I went to the gym', 'confidence': 0.69785863}, {'transcript': 'I have a hot Mister pain since I went to the gym'}, {'transcript': 'I have a hot Mr pain since I went to the gym'}, {'transcript': 'I have a hot mr. pain since I went to the gym'}, {'transcript': 'I have a hot muscular pain since I went to the gym'}], 'final': True}\n",
      "\n",
      "Filename: 1249120_43883861_108482930.wav\n",
      "Text: {'alternative': [{'transcript': 'I feel suicidal', 'confidence': 0.95943767}, {'transcript': 'I feel societal', 'confidence': 0.94380015}, {'transcript': 'igh feel suicidal', 'confidence': 0.95943767}, {'transcript': 'I Fiel suicidal', 'confidence': 0.95943767}, {'transcript': 'I Fiel societal', 'confidence': 0.94380015}], 'final': True}\n",
      "\n",
      "Filename: 1249120_17632529_98635389.wav\n",
      "Text: {'alternative': [{'transcript': \"I'm not feeling good I Can't Take My Breath\", 'confidence': 0.98762906}], 'final': True}\n",
      "\n",
      "Filename: 1249120_35832653_96949436.wav\n",
      "Text: {'alternative': [{'transcript': 'I have a foot ache in the winter or when it feels cold why', 'confidence': 0.97737634}, {'transcript': 'I have a foot ache in the winter or when it feels cold y'}, {'transcript': 'I have a foot ache in the winner or when it feels cold why'}, {'transcript': 'I have a foot ache in the winner or when it feels cold y'}], 'final': True}\n",
      "\n",
      "Filename: 1249120_14353703_49287804.wav\n",
      "Text: {'alternative': [{'transcript': 'I love to Garden but I get a terrible twinge in my lower back when I lean over', 'confidence': 0.98244178}, {'transcript': 'I love to Garden but I get a terrible twinge in my lower back when I leaned over'}, {'transcript': 'I love to Garden but I get a terrible twins in my lower back when I lean over'}, {'transcript': 'I love to Garden but I get a terrible twins in my lower back when I leaned over'}], 'final': True}\n",
      "\n",
      "Filename: 1249120_42554554_37267934.wav\n",
      "Text: {'alternative': [{'transcript': 'I finished shopping in my head when I think too hard', 'confidence': 0.5927937}, {'transcript': 'Athena shop being in my head when I think too hard'}, {'transcript': 'Athena shopping in my head when I think too hard'}, {'transcript': 'I see the shopping in my head when I think too hard'}, {'transcript': 'I finished shopping in my head but I think too hard'}], 'final': True}\n",
      "\n",
      "Filename: 1249120_6338946_44801358.wav\n",
      "Text: {'alternative': [{'transcript': \"I can't stop coughing\", 'confidence': 0.98762906}], 'final': True}\n",
      "\n",
      "Filename: 1249120_41203338_36315776.wav\n",
      "Text: {'alternative': [{'transcript': 'I have throbbing in my shoulder', 'confidence': 0.987629}, {'transcript': 'ihave throbbing in my shoulder'}], 'final': True}\n",
      "\n",
      "Filename: 1249120_22345789_25657194.wav\n",
      "Text: {'alternative': [{'transcript': 'I have an earache when I go to the pool', 'confidence': 0.91808814}, {'transcript': 'I have a earache when I go to the pool', 'confidence': 0.96787041}, {'transcript': 'I have a ear ache when I go to the pool', 'confidence': 0.87668782}, {'transcript': 'I have a earache when I go to the Poole', 'confidence': 0.96787041}, {'transcript': 'I have an earache when I go to the Poole', 'confidence': 0.91808814}], 'final': True}\n",
      "\n",
      "Filename: 1249120_18985376_38968782.wav\n",
      "Text: {'alternative': [{'transcript': 'I feel pain in my foot', 'confidence': 0.987629}], 'final': True}\n",
      "\n",
      "Filename: 1249120_43898158_75837960.wav\n",
      "Text: {'alternative': [{'transcript': 'when I drink a lot', 'confidence': 0.92831469}, {'transcript': 'when I drink a latte'}, {'transcript': 'when I drink a lot I get'}, {'transcript': 'when I drink a lot of'}, {'transcript': 'when I drink a lot again'}], 'final': True}\n",
      "\n",
      "Filename: 1249120_35350617_38688024.wav\n",
      "Text: {'alternative': [{'transcript': 'I am feeling so dizzy body is so fragile', 'confidence': 0.98762906}], 'final': True}\n",
      "\n",
      "Filename: 1249120_40184183_54731660.wav\n",
      "Text: {'alternative': [{'transcript': 'I have a sharp pain in my abdomen', 'confidence': 0.987629}], 'final': True}\n",
      "\n",
      "Filename: 1249120_43350908_29742137.wav\n",
      "Text: {'alternative': [{'transcript': 'Kanki Focus', 'confidence': 0.66058254}, {'transcript': 'can keep Focus'}, {'transcript': \"can't keep Focus\"}, {'transcript': 'gone keep Focus'}, {'transcript': 'gon keep Focus'}], 'final': True}\n",
      "\n",
      "Filename: 1249120_43951421_11744825.wav\n",
      "Text: {'alternative': [{'transcript': 'I have a break in the skin inside one of my nostrils that has become infected and is not filled with pus', 'confidence': 0.85338396}, {'transcript': 'I have a break in the skin inside one of my nostrils that has become infected and is my filled with pus'}, {'transcript': 'I have a break in the skin inside one of my nostrils that has become infected and if my filled with pus'}, {'transcript': \"I have a break in the skin inside one of my nostrils that has become infected and it's not filled with pus\"}, {'transcript': 'I have a break in the skin inside of my nostrils that has become infected and is not filled with pus'}], 'final': True}\n",
      "\n",
      "Filename: 1249120_34824899_82321207.wav\n",
      "Text: {'alternative': [{'transcript': 'I got acne when I ate chili', 'confidence': 0.987629}], 'final': True}\n",
      "\n",
      "Filename: 1249120_43604449_28676857.wav\n",
      "Text: {'alternative': [{'transcript': 'I feel severe itching in the skin with redness', 'confidence': 0.92150879}, {'transcript': 'Highfield severe itching in the skin with redness'}, {'transcript': 'highfields severe itching in the skin with redness'}, {'transcript': 'how I feel severe itching in the skin with redness'}, {'transcript': 'highfill severe itching in the skin with redness'}], 'final': True}\n",
      "\n",
      "Filename: 1249120_42210938_21879387.wav\n",
      "Text: {'alternative': [{'transcript': 'my foot is hurting so much', 'confidence': 0.60994887}, {'transcript': 'my food'}, {'transcript': 'my food is hurting so much'}, {'transcript': 'my food is having so much'}], 'final': True}\n",
      "\n",
      "Filename: 1249120_44142156_16464884.wav\n",
      "Text: {'alternative': [{'transcript': 'I feel a strange and Powerful pain inside my rib cage', 'confidence': 0.82492119}, {'transcript': 'I peel a strange and Powerful pain inside my rib cage'}, {'transcript': 'I feel strange and Powerful pain inside my rib cage'}, {'transcript': 'I feel a strange and Powerful pain inside my ribcage'}, {'transcript': 'I peel a strange and Powerful pain inside my ribcage'}], 'final': True}\n",
      "\n",
      "Filename: 1249120_43172391_91610595.wav\n",
      "Text: {'alternative': [{'transcript': 'my cut yellow or greenish color', 'confidence': 0.87109929}, {'transcript': 'my cut yellow or greenish colored Puff'}, {'transcript': 'my cut yellow or greenish colored puffs'}, {'transcript': 'my cut yellow or greenish colored part'}, {'transcript': 'my cut yellow or greenish colored'}], 'final': True}\n",
      "\n",
      "Filename: 1249120_35154350_80152109.wav\n",
      "Text: {'alternative': [{'transcript': 'my heart hurts me', 'confidence': 0.9931429}, {'transcript': 'my heart hurts Emmy', 'confidence': 0.9931429}, {'transcript': 'my heart hurts Emmie', 'confidence': 0.9931429}, {'transcript': 'my heart hurts Emy', 'confidence': 0.9931429}, {'transcript': 'my heart hurts Emme', 'confidence': 0.9931429}], 'final': True}\n",
      "\n",
      "Filename: 1249120_43665783_15543541.wav\n",
      "Text: {'alternative': [{'transcript': 'when are you triggered I noticed my Vision Plus', 'confidence': 0.69372016}, {'transcript': 'when are you so glad I noticed my Vision Plus'}, {'transcript': 'when are you single I noticed my Vision Plus'}, {'transcript': 'when are you triggered I notice my Vision Plus'}, {'transcript': 'when are you true girl I noticed my Vision Plus'}], 'final': True}\n",
      "\n",
      "Filename: 1249120_43995026_40788900.wav\n",
      "Text: {'alternative': [{'transcript': 'I can hardly move my neck it hurt', 'confidence': 0.97752321}, {'transcript': 'I can hardly move my neck hurts'}, {'transcript': 'I can hardly move my neck hurt'}], 'final': True}\n",
      "\n",
      "Filename: 1249120_43402738_24146272.wav\n",
      "Text: {'alternative': [{'transcript': 'I get tooth and aches all over', 'confidence': 0.88268423}, {'transcript': 'I get tools and aches all over'}, {'transcript': 'I get toothpaste and aches all over'}, {'transcript': 'I get tooth and eggs all over'}, {'transcript': 'I get to Annex all over'}], 'final': True}\n",
      "\n",
      "Filename: 1249120_41221824_49398342.wav\n",
      "Text: {'alternative': [{'transcript': 'after playing football I have muscle pain with my boss life', 'confidence': 0.96110082}, {'transcript': 'after playing football I have muscle pain with my boss like'}, {'transcript': 'after playing football I have muscle pain with my bus life'}, {'transcript': 'after playing football I have muscle pain with my boss likes'}, {'transcript': 'after playing football I have muscle pain with my best life'}], 'final': True}\n",
      "\n",
      "Filename: 1249120_36929821_78902345.wav\n",
      "Text: {'alternative': [{'transcript': 'I was playing soccer and I twisted my ankle', 'confidence': 0.98275781}, {'transcript': 'I was playing soccer and I twisted my uncle'}], 'final': True}\n",
      "\n",
      "Filename: 1249120_43918153_109595997.wav\n",
      "Text: {'alternative': [{'transcript': 'I have a delete in my head', 'confidence': 0.77766222}, {'transcript': 'I have adult in my head'}, {'transcript': 'I have it in my head'}, {'transcript': 'I have a do in my head'}, {'transcript': 'I have a doe in my head'}], 'final': True}\n",
      "\n",
      "Filename: 1249120_33251186_62591889.wav\n",
      "Text: {'alternative': [{'transcript': \"it's Cardinal stand up slowly\", 'confidence': 0.67898607}, {'transcript': \"it's cartoon estando animal a lovely\"}, {'transcript': \"it's cartoon the stand up slowly\"}, {'transcript': \"it's cartoonist stand-up animal a lovely\"}, {'transcript': \"it's cartoonist and do a lovely\"}], 'final': True}\n",
      "\n",
      "Filename: 1249120_38042052_67922468.wav\n",
      "Text: {'alternative': [{'transcript': \"my head hurts when I'm doing this\", 'confidence': 0.987629}], 'final': True}\n",
      "\n",
      "Filename: 1249120_42554554_91878727.wav\n",
      "Text: {'alternative': [{'transcript': 'my ankle is hurting', 'confidence': 0.98762906}], 'final': True}\n",
      "\n",
      "Filename: 1249120_22345789_46921961.wav\n",
      "Text: {'alternative': [{'transcript': \"it's at front and center of scalp\", 'confidence': 0.80320942}, {'transcript': 'each at front and center of scalp'}, {'transcript': \"it's at front-and-center of scalp\"}, {'transcript': \"it's at front and Centre of scalp\"}, {'transcript': 'each at front and Centre of scalp'}], 'final': True}\n",
      "\n",
      "Filename: 1249120_43918153_23345397.wav\n",
      "Text: {'alternative': [{'transcript': 'I have a pain in my joints', 'confidence': 0.91984522}, {'transcript': 'I have a pain in my joint'}], 'final': True}\n",
      "\n",
      "Filename: 1249120_31349958_47405776.wav\n",
      "Text: {'alternative': [{'transcript': 'I feel like', 'confidence': 0.98762912}, {'transcript': 'I feel like a'}, {'transcript': 'I Feel Like a Woman'}, {'transcript': 'I feel like I'}, {'transcript': \"I feel like I'm\"}], 'final': True}\n",
      "\n",
      "Filename: 1249120_43698316_58649901.wav\n",
      "Text: {'alternative': [{'transcript': 'I have the impression of having no strength in my body', 'confidence': 0.987629}], 'final': True}\n",
      "\n",
      "Filename: 1249120_40401830_61773020.wav\n",
      "Text: {'alternative': [{'transcript': \"that's a sharp pain in my biceps I've tried to apply pain relief cream but it doesn't hurt\", 'confidence': 0.86415291}, {'transcript': \"that's a sharp pain in my biceps I've tried to apply pain relief cream but it does not hurt\"}, {'transcript': \"that's a sharp pain in my biceps I've tried to apply pain relief cream but it doesn't help\"}, {'transcript': \"that's a sharp pain in my biceps I've tried to apply pain relief cream but it does not help\"}, {'transcript': \"that's a sharp pain in my biceps tried to apply pain relief cream but it doesn't hurt\"}], 'final': True}\n",
      "\n",
      "Filename: 1249120_41203338_50563689.wav\n",
      "Text: {'alternative': [{'transcript': 'when I move on my shoulder pain shoots down my arm', 'confidence': 0.94301492}, {'transcript': 'when a move on my shoulder pain shoots down my arm'}], 'final': True}\n",
      "\n",
      "Filename: 1249120_36929821_11877392.wav\n",
      "Text: {'alternative': [{'transcript': 'I have tried to make massage on my foot but they still pay me', 'confidence': 0.93244445}, {'transcript': 'I have tried to make massage on my foot but they still paying me'}, {'transcript': 'I have tried to make massage on my foot but they still pain me'}, {'transcript': 'I have tried to make massage on my foot but they still paid me'}, {'transcript': 'I have tried to make massage on my foots but they still pay me'}], 'final': True}\n",
      "\n",
      "Filename: 1249120_40017708_70290260.wav\n",
      "Text: {'alternative': [{'transcript': 'I have a sharp pain in my stomach', 'confidence': 0.68567437}, {'transcript': 'I had a sharp pain in my stomach'}], 'final': True}\n",
      "\n",
      "Filename: 1249120_43665783_81206122.wav\n",
      "Text: {'alternative': [{'transcript': 'I have a side band my lower stomach', 'confidence': 0.77280295}, {'transcript': 'I have a lot of pain my lower stomach'}, {'transcript': \"I have a side band m'lord,\"}, {'transcript': \"I haven't stopped and my lower stomach\"}, {'transcript': 'I have a side band milord coming'}], 'final': True}\n",
      "\n",
      "Filename: 1249120_21665495_53956451.wav\n",
      "Text: {'alternative': [{'transcript': \"I think being in my leg muscles after I ran yesterday I took some painkillers but it doesn't tell\", 'confidence': 0.59800798}, {'transcript': \"I think thin in my leg muscles after I ran yesterday I took some painkillers but it doesn't tell\"}, {'transcript': \"I think laying in my leg muscles after I ran yesterday I took some painkillers but it doesn't tell\"}, {'transcript': \"I think seen in my leg muscles after I ran yesterday I took some painkillers but it doesn't tell\"}, {'transcript': \"I think rain in my leg muscles after I ran yesterday I took some painkillers but it doesn't tell\"}], 'final': True}\n",
      "\n",
      "Filename: 1249120_38042052_14768117.wav\n",
      "Text: {'alternative': [{'transcript': 'I have a headache everytime I eat ice cream', 'confidence': 0.96406311}, {'transcript': 'I have a headache everytime I eat ice-cream'}, {'transcript': 'I have a headache every time I eat ice cream'}], 'final': True}\n",
      "\n",
      "Filename: 1249120_44093303_28714152.wav\n",
      "Text: {'alternative': [{'transcript': 'I feel increased heart rate with prick', 'confidence': 0.987629}], 'final': True}\n",
      "\n",
      "Filename: 1249120_44093933_16550485.wav\n",
      "Text: {'alternative': [{'transcript': 'they are swelling in my neck and it hurts', 'confidence': 0.77221406}, {'transcript': 'they are selling in my neck and it hurts', 'confidence': 0.76529348}, {'transcript': 'thay are swelling in my neck and it hurts', 'confidence': 0.77221406}, {'transcript': 'they are swelling Inn my neck and it hurts', 'confidence': 0.77221406}, {'transcript': 'they are swelling in my neck and it hurt', 'confidence': 0.67289531}], 'final': True}\n",
      "\n",
      "Filename: 1249120_43788827_44653617.wav\n",
      "Text: {'alternative': [{'transcript': 'I think my old is infected', 'confidence': 0.8453607}, {'transcript': 'I think my own is infected', 'confidence': 0.85101986}, {'transcript': 'I think my aunt is infected', 'confidence': 0.83701849}, {'transcript': 'I think my Olde is infected', 'confidence': 0.8453607}, {'transcript': 'I think my owned is infected', 'confidence': 0.85101986}], 'final': True}\n",
      "\n",
      "Filename: 1249120_43577102_41407241.wav\n",
      "Text: {'alternative': [{'transcript': 'all my body is in a bad case and I need a good treatment', 'confidence': 0.68803388}, {'transcript': 'all my body is in the Batcave and I need a good treatment'}, {'transcript': 'all my bodies in the Batcave and I need a good treatment'}, {'transcript': 'are my body is in a bad case and I need a good treatment'}, {'transcript': 'are my body is in the Batcave and I need a good treatment'}], 'final': True}\n",
      "\n",
      "Filename: 1249120_39438102_21408921.wav\n",
      "Text: {'alternative': [{'transcript': 'my knee hurts when I walk', 'confidence': 0.987629}], 'final': True}\n",
      "\n",
      "Filename: 1249120_38202325_87911469.wav\n",
      "Text: {'alternative': [{'transcript': \"I don't know why I'm constantly sad\", 'confidence': 0.98239094}, {'transcript': \"I don't know why I'm constantly said\"}], 'final': True}\n",
      "\n",
      "Filename: 1249120_43577102_42454349.wav\n",
      "Text: {'alternative': [{'transcript': 'I have a lot of mucus when I cough', 'confidence': 0.98530048}, {'transcript': 'I have a lot of mucus when I get off'}], 'final': True}\n",
      "\n",
      "Filename: 1249120_43995026_33790463.wav\n",
      "Text: {'alternative': [{'transcript': 'shopping and heavy breathing', 'confidence': 0.9803617}, {'transcript': 'shopping in heavy breathing'}], 'final': True}\n",
      "\n",
      "Filename: 1249120_1853182_72433040.wav\n",
      "Text: {'alternative': [{'transcript': \"I'm feeling cold though the temperature is high\", 'confidence': 0.98686922}, {'transcript': \"I'm feeling cold though the temperature is hi\", 'confidence': 0.98686922}, {'transcript': \"I'm feeling cold though the temperature is Hai\", 'confidence': 0.98686922}, {'transcript': \"I'm feeling cold though the temperature is Rai\", 'confidence': 0.98686922}, {'transcript': \"I'm feeling cold though the temprature is high\", 'confidence': 0.98686922}], 'final': True}\n",
      "\n",
      "Filename: 1249120_35444693_19709454.wav\n",
      "Text: {'alternative': [{'transcript': 'I feel sad', 'confidence': 0.62050253}, {'transcript': \"I've been sad\", 'confidence': 0.43744794}, {'transcript': 'I feel sadd', 'confidence': 0.62050253}, {'transcript': 'I feel sadderday', 'confidence': 0.62050253}, {'transcript': 'igh feel sad', 'confidence': 0.62050253}], 'final': True}\n",
      "\n",
      "Filename: 1249120_36214391_15796959.wav\n",
      "Text: {'alternative': [{'transcript': 'my stomach itches when I eat hot food why', 'confidence': 0.97261691}, {'transcript': 'my stomach itches when I eat hot food y'}], 'final': True}\n",
      "\n",
      "Filename: 1249120_43612961_88147084.wav\n",
      "Text: {'alternative': [{'transcript': \"I've been feeling very sad lately\", 'confidence': 0.88411516}, {'transcript': \"I've been feeling really sad lately\"}], 'final': True}\n",
      "\n",
      "Filename: 1249120_15004831_53829738.wav\n",
      "Text: {'alternative': [{'transcript': 'my skin is itching', 'confidence': 0.98762906}], 'final': True}\n",
      "\n",
      "Filename: 1249120_43453425_108454167.wav\n",
      "Text: {'alternative': [{'transcript': 'I get an erection when it is cool', 'confidence': 0.92705542}, {'transcript': 'I get an erection when it is cold'}, {'transcript': 'I get an erection when it is School'}, {'transcript': 'I get an erection when it is'}, {'transcript': 'I get an erection when it is called'}], 'final': True}\n",
      "\n",
      "Filename: 1249120_41221824_39975866.wav\n",
      "Text: {'alternative': [{'transcript': 'my back is hurting so much', 'confidence': 0.88093638}, {'transcript': 'my back is arching so much'}, {'transcript': 'my back is out eating so much'}], 'final': True}\n",
      "\n",
      "Filename: 1249120_43856216_70090066.wav\n",
      "Text: {'alternative': [{'transcript': 'after a breakup I feel something strange in me', 'confidence': 0.82370633}, {'transcript': 'after a break-up I feel something strange in me'}, {'transcript': 'after a breakup I see something strange in me'}], 'final': True}\n",
      "\n",
      "Filename: 1249120_42554554_47762376.wav\n",
      "Text: {'alternative': [{'transcript': \"I can't stop coughing\", 'confidence': 0.87741017}, {'transcript': 'icon Stop Cafe'}, {'transcript': 'Ikon Stop Cafe'}, {'transcript': \"I Can't Stop Cafe\"}, {'transcript': 'I can stop by'}], 'final': True}\n",
      "\n",
      "Filename: 1249120_35154350_93021236.wav\n",
      "Text: {'alternative': [{'transcript': \"I can't get a girlfriend because of my acne\", 'confidence': 0.98762906}], 'final': True}\n",
      "\n",
      "Filename: 1249120_43951421_100033144.wav\n",
      "Text: {'alternative': [{'transcript': 'when I try to be warm and wear more clothes I find the obvious still cold', 'confidence': 0.80653411}, {'transcript': 'when I try to be warm and wear more clothes I find that I was still cold'}, {'transcript': 'when I try to be warm and wear more clothes I find the August still cold'}, {'transcript': 'when I try to be warm and wear more clothes I find the are you still cold'}, {'transcript': 'when I try to be warm and wear more clothes I find the I was still cold'}], 'final': True}\n",
      "\n",
      "Filename: 1249120_2171654_61801014.wav\n",
      "Text: {'alternative': [{'transcript': 'I feel dizzy when I sit in front of my laptop for an hour or two what possibly could be the reason', 'confidence': 0.90233493}, {'transcript': 'I feel dizzy when I set in front of my laptop for an hour or two what possibly could be the reason'}, {'transcript': 'I feel dizzy when I sit in front of my laptop for an hour or two but possibly could be the reason'}, {'transcript': 'I feel dizzy when I sit in front of my laptop for an hour or 2 what possibly could be the reason'}, {'transcript': 'I feel dizzy when I set in front of my laptop for an hour or two but possibly could be the reason'}], 'final': True}\n",
      "\n",
      "Filename: 1249120_18172663_53225387.wav\n",
      "Text: {'alternative': [{'transcript': \"I'm always cold even when I'm wearing layers\", 'confidence': 0.98131114}, {'transcript': \"I'm always cold even when I am wearing layers\"}, {'transcript': \"I'm always cold even when I wearing layers\"}], 'final': True}\n",
      "\n",
      "Filename: 1249120_43577102_83835534.wav\n",
      "Text: {'alternative': [{'transcript': 'I broke my ankle while doing rock climbing in the carpathians', 'confidence': 0.94474417}, {'transcript': 'I broke my anger while doing rock climbing in the carpathians'}, {'transcript': 'I broke my angle while doing rock climbing in the carpathians'}, {'transcript': 'I broke my angle while doing rock-climbing in the carpathians'}], 'final': True}\n",
      "\n",
      "Filename: 1249120_40419625_104705598.wav\n",
      "Text: {'alternative': [{'transcript': 'I feel dizzy when I sit in front of my laptop for an hour or two but possibly could be the reason', 'confidence': 0.74219012}, {'transcript': 'I feel dizzy when I sat in front of my laptop for an hour or two but possibly could be the reason'}, {'transcript': 'I feel dizzy when I set in front of my laptop for an hour or two but possibly could be the reason'}, {'transcript': 'I feel dizzy when I sit in front of my laptop for an hour or two what possibly could be the reason'}, {'transcript': 'I feel dizzy when I said in front of my laptop for an hour or two but possibly could be the reason'}], 'final': True}\n",
      "\n",
      "Filename: 1249120_43918153_73150135.wav\n",
      "Text: {'alternative': [{'transcript': 'my upper back has been sore for a week', 'confidence': 0.94314641}, {'transcript': 'my upper back have been sore for a week'}, {'transcript': 'my upper back to be sore for a week'}, {'transcript': 'my upper body has been sore for a week'}, {'transcript': 'my upper back would be sore for a week'}], 'final': True}\n",
      "\n",
      "Filename: 1249120_43951421_60254225.wav\n",
      "Text: {'alternative': [{'transcript': 'my halfway aunt', 'confidence': 0.41864634}, {'transcript': 'mahafali aunt'}, {'transcript': \"mahafali aren't\"}, {'transcript': \"my halfway aren't\"}, {'transcript': \"my halfling aren't\"}], 'final': True}\n",
      "\n",
      "Filename: 1249120_31349958_45296716.wav\n",
      "Text: []\n",
      "\n",
      "Filename: 1249120_43855932_31560005.wav\n",
      "Text: {'alternative': [{'transcript': 'my son had a root canal and the dentist accidentally cut the inside of his cheek and now it will not heal', 'confidence': 0.73178405}, {'transcript': 'my son had a root canal and a dentist accidentally cut the inside of his cheek and now it will not heal'}, {'transcript': 'my son had a root canal and the dentist accidentally cut the inside of his chicken orbit will not heal'}, {'transcript': 'my son had a root canal and a dentist accidentally cut the inside of his chicken orbit will not heal'}, {'transcript': 'my son had a root canal and the dentist accidentally cut the inside of his cheek and it will not heal'}], 'final': True}\n",
      "\n",
      "Filename: 1249120_41221824_67451204.wav\n",
      "Text: {'alternative': [{'transcript': 'I think I overdid it when I kind of that Lumber hungry out my lower back is killing me', 'confidence': 0.85236299}, {'transcript': 'I think I overdid it when I cried out of that Lumber hungry out my lower back is killing me'}, {'transcript': 'I think I overdid it when I kind of that Lumber Foundry out my lower back is killing me'}, {'transcript': 'I think I overdid it when I kind of that Lumber Hungary out my lower back is killing me'}, {'transcript': 'I think I overdid it when I kind of that lumber from the real my lower back is killing me'}], 'final': True}\n",
      "\n",
      "Filename: 1249120_34824899_32864383.wav\n",
      "Text: {'alternative': [{'transcript': 'I complain a lot with my neck pain and I really need to be better', 'confidence': 0.987629}], 'final': True}\n",
      "\n",
      "Filename: 1249120_38202325_107785735.wav\n",
      "Text: {'alternative': [{'transcript': \"I'm injured I can't play sports\", 'confidence': 0.987629}], 'final': True}\n",
      "\n",
      "Filename: 1249120_39154234_75827629.wav\n",
      "Text: {'alternative': [{'transcript': 'I feel really sad all the time', 'confidence': 0.987629}], 'final': True}\n",
      "\n",
      "Filename: 1249120_17632529_103030558.wav\n",
      "Text: {'alternative': [{'transcript': 'laceration Rapture or opening in the skin', 'confidence': 0.83646435}, {'transcript': 'laceration rupture or opening in the skin'}, {'transcript': 'laceration ruptured or opening in the skin'}], 'final': True}\n",
      "\n",
      "Filename: 1249120_13842059_15629457.wav\n",
      "Text: {'alternative': [{'transcript': 'I have a hair shortage', 'confidence': 0.86133111}, {'transcript': 'I have a shortage'}, {'transcript': 'Barber hair shortage'}], 'final': True}\n",
      "\n",
      "Filename: 1249120_44093303_81123357.wav\n",
      "Text: {'alternative': [{'transcript': \"I'm not feeling good I Can't Take My Breath\", 'confidence': 0.98762906}], 'final': True}\n",
      "\n",
      "Filename: 1249120_38042052_40633230.wav\n",
      "Text: {'alternative': [{'transcript': 'I feel pain when passing loved ones', 'confidence': 0.88085508}, {'transcript': 'I feel pain when parting loved ones'}, {'transcript': 'I feel pain when potting loved ones'}, {'transcript': 'I feel pain when palting loved ones'}, {'transcript': 'I feel pain when poaching loved ones'}], 'final': True}\n",
      "\n",
      "Filename: 1249120_41841195_50277467.wav\n",
      "Text: {'alternative': [{'transcript': 'I have a sharp pain and clicking sound in my ankle joint when I try to sand on it and walk', 'confidence': 0.98830587}, {'transcript': 'I have a sharp pain and clicking sound in my ankle joint when I try to stand on it and walk', 'confidence': 0.98865891}, {'transcript': 'I have a sharp pain and clicking sound in my ankle joint when I try to sand on it and Wok', 'confidence': 0.98830587}, {'transcript': 'I have a sharp pain and clicking sound in my ankle joint when I try to Sande on it and walk', 'confidence': 0.98830587}, {'transcript': 'I have a sharp pain in clicking sound in my ankle joint when I try to sand on it and walk', 'confidence': 0.96895427}], 'final': True}\n",
      "\n",
      "Filename: 1249120_34824899_80106247.wav\n",
      "Text: {'alternative': [{'transcript': 'I have acne all over my face', 'confidence': 0.987629}], 'final': True}\n",
      "\n",
      "Filename: 1249120_44111844_29830362.wav\n",
      "Text: {'alternative': [{'transcript': 'sort of hurts when I try to read something', 'confidence': 0.55609864}, {'transcript': 'sort of hurts when I try to read something about'}, {'transcript': 'Richard hurts when I try to read something'}, {'transcript': 'start hurts when I try to read something'}, {'transcript': 'sort of hurts when I try to read something about my'}], 'final': True}\n",
      "\n",
      "Filename: 1249120_43951421_94414655.wav\n",
      "Text: {'alternative': [{'transcript': 'my stomach aches after drinking any soda drink why', 'confidence': 0.82942528}, {'transcript': 'my stomach aches after drinking any soda to drink why'}, {'transcript': 'my stomach aches after drinking any soda drink y'}, {'transcript': 'my stomach ache after drinking any soda drink why'}, {'transcript': 'my stomach ache after drinking any soda to drink why'}], 'final': True}\n",
      "\n",
      "Filename: 1249120_35408915_12349691.wav\n",
      "Text: {'alternative': [{'transcript': 'I fell a stiffness in my elbow and shoulders', 'confidence': 0.97361904}, {'transcript': 'I fell a stiffness in my elbow in shoulders'}], 'final': True}\n",
      "\n",
      "Filename: 1249120_43951421_64057539.wav\n",
      "Text: {'alternative': [{'transcript': \"I can't get girlfriends because matney\", 'confidence': 0.8393774}, {'transcript': \"I can't get girlfriends because Matt me\"}, {'transcript': 'I cannot get girlfriends because matney'}, {'transcript': 'I can get girlfriends because matney'}, {'transcript': \"I can't get girlfriends because Matt knee\"}], 'final': True}\n",
      "\n",
      "Filename: 1249120_43620482_72232687.wav\n",
      "Text: {'alternative': [{'transcript': \"oh my heart hurts me I tried to be calm and I can't\", 'confidence': 0.93167251}, {'transcript': \"oh my heart hurts me I tried to be common I can't\"}, {'transcript': \"oh my heart hurts me I tried to be, now I can't\"}, {'transcript': \"oh my heart hurts me I try to be calm and I can't\"}, {'transcript': \"oh my heart hurts me I tried to be, and I can't\"}], 'final': True}\n",
      "\n",
      "Filename: 1249120_41203338_96666537.wav\n",
      "Text: {'alternative': [{'transcript': 'bring it up I found that I have a stomach ache and I tried to take medicine but my stomach still hurting me', 'confidence': 0.66046238}, {'transcript': 'bring get up I found that I have a stomach ache and I tried to take medicine but my stomach still hurting me'}, {'transcript': 'when get up I found that I have a stomach ache and I tried to take medicine but my stomach still hurting me'}, {'transcript': 'bring it up I found that I have a stomachache and I tried to take medicine but my stomach still hurting me'}, {'transcript': 'bring it up I found that I have a stomach ache and I try to take medicine but my stomach still hurting me'}], 'final': True}\n",
      "\n",
      "Filename: 1249120_13842059_13041979.wav\n",
      "Text: {'alternative': [{'transcript': 'my shoulder hurts me so much', 'confidence': 0.987629}], 'final': True}\n",
      "\n",
      "Filename: 1249120_40663048_70883977.wav\n",
      "Text: []\n",
      "\n",
      "Filename: 1249120_36929821_59841321.wav\n",
      "Text: {'alternative': [{'transcript': 'the acne was causing me to feel embarrassed', 'confidence': 0.94792849}, {'transcript': 'the achne was causing me to feel embarrassed'}], 'final': True}\n",
      "\n",
      "Filename: 1249120_44111844_75801045.wav\n",
      "Text: {'alternative': [{'transcript': 'I was very active in sports but now my body is getting pain', 'confidence': 0.95924956}, {'transcript': 'I was very active in sports but now my body is getting paint'}, {'transcript': 'I was very active in sports but now my body is getting paid'}, {'transcript': 'I was very active in sports but now my body is getting faint'}, {'transcript': \"I was very active in sports but now my body's getting pain\"}], 'final': True}\n",
      "\n",
      "Filename: 1249120_43755034_80659950.wav\n",
      "Text: {'alternative': [{'transcript': 'I have a headache every time I eat ice cream', 'confidence': 0.95492208}, {'transcript': 'I have a headache every time I eat ice creme', 'confidence': 0.95492208}, {'transcript': 'I have a headache every time I eat ice Kreme', 'confidence': 0.95492208}, {'transcript': 'I have a headache every thyme I eat ice cream', 'confidence': 0.95492208}, {'transcript': 'I have a headach every time I eat ice cream', 'confidence': 0.95492208}], 'final': True}\n",
      "\n",
      "Filename: 1249120_41956733_63007449.wav\n",
      "Text: {'alternative': [{'transcript': 'is the real embarrassing sourate', 'confidence': 0.4825882}, {'transcript': \"it's a really embarrassing so rate\"}, {'transcript': 'is the real embarrassing so rate'}, {'transcript': 'Acme is the real embarrassing so rate'}, {'transcript': \"it's a real embarrassing sourate\"}], 'final': True}\n",
      "\n",
      "Filename: 1249120_38202325_48631172.wav\n",
      "Text: {'alternative': [{'transcript': 'I feel a clicking sensation in my knee each time I step', 'confidence': 0.97417569}, {'transcript': 'I feel a clicking sensation in my knee each time I stepped'}, {'transcript': 'I feel a cooking sensation in my knee each time I step'}, {'transcript': 'I feel like waking sensation in my knee each time I step'}, {'transcript': 'I feel a cooking sensation in my knee each time I stepped'}], 'final': True}\n",
      "\n",
      "Filename: 1249120_33251186_17453236.wav\n",
      "Text: {'alternative': [{'transcript': \"Michael's feel like the real thing or not I know it's drawing\", 'confidence': 0.76535398}, {'transcript': \"Michael's feel like the right thing or not I know it's drawing\"}, {'transcript': \"Michael's feel like the real thing or not I know it's growing\"}, {'transcript': \"Michael's feel like the right thing or not I know it's growing\"}, {'transcript': \"Michael's feel like the right thing or not throwing\"}], 'final': True}\n",
      "\n",
      "Filename: 1249120_17632529_91024852.wav\n",
      "Text: {'alternative': [{'transcript': 'I feel like the room is spinning', 'confidence': 0.987629}], 'final': True}\n",
      "\n",
      "Filename: 1249120_39142299_55254699.wav\n",
      "Text: {'alternative': [{'transcript': \"my sore is not healing oil and it's been like this for 2 weeks\", 'confidence': 0.65821177}, {'transcript': \"my sore is not healing oil and it's been like this for two weeks\"}, {'transcript': \"Mysore is not healing oil and it's been like this for 2 weeks\"}, {'transcript': \"my soul is not healing oil and it's been like this for 2 weeks\"}, {'transcript': \"Mysore is not healing oil and it's been like this for two weeks\"}], 'final': True}\n",
      "\n",
      "Filename: 1249120_41221824_45781484.wav\n",
      "Text: {'alternative': [{'transcript': 'when I eat I feel my stomach', 'confidence': 0.85791177}, {'transcript': 'when I eat I feel my stomache', 'confidence': 0.85791177}, {'transcript': 'when I eat I feel much to make', 'confidence': 0.83979261}, {'transcript': 'when I eat I feel my stomack', 'confidence': 0.85791177}, {'transcript': 'wwhen I eat I feel my stomach', 'confidence': 0.85791177}], 'final': True}\n",
      "\n",
      "Filename: 1249120_42557795_13402195.wav\n",
      "Text: {'alternative': [{'transcript': 'where is the meaning of incense specially when I wash it', 'confidence': 0.74926358}, {'transcript': 'where is the meaning of enchants specially when I wash it'}, {'transcript': 'where is the meaning of enchants especially when I wash it'}, {'transcript': 'where is the meaning of incense especially when I wash it'}, {'transcript': 'where is the meaning of enchantments specially when I wash it'}], 'final': True}\n",
      "\n",
      "Filename: 1249120_43856216_22536969.wav\n",
      "Text: {'alternative': [{'transcript': 'my knee feels weak and it gave away the other day at the top of the stairs luckily there was a real to hold onto', 'confidence': 0.94177079}, {'transcript': 'my knee feels weak and it gave away the other day at the top of the stairs luckily there was a real to hold on to'}, {'transcript': 'my knee feels weak and it gave away the other day at the top of the stairs luckily it was a real to hold onto'}, {'transcript': 'my knee feels weak and it gave away the other day at the top of the stairs likely there was a real to hold onto'}, {'transcript': 'my knee feels weak and it gave away the other day at the top of the stairs luckily it was a real to hold on to'}], 'final': True}\n",
      "\n",
      "Filename: 1249120_29289135_47668254.wav\n",
      "Text: {'alternative': [{'transcript': \"I can't sleep because of cough\", 'confidence': 0.987629}], 'final': True}\n",
      "\n",
      "Filename: 1249120_6338946_73782556.wav\n",
      "Text: {'alternative': [{'transcript': 'hearing any loud sounds makes my ear aches', 'confidence': 0.90782386}, {'transcript': 'hearing any loud sounds makes my ear ache', 'confidence': 0.85885268}, {'transcript': 'Heering any loud sounds makes my ear aches', 'confidence': 0.90782386}, {'transcript': 'hiering any loud sounds makes my ear aches', 'confidence': 0.90782386}, {'transcript': 'hearing any loude sounds makes my ear aches', 'confidence': 0.90782386}], 'final': True}\n",
      "\n",
      "Filename: 1249120_42557795_20387329.wav\n",
      "Text: {'alternative': [{'transcript': 'Matagorda hard time to breath am I having a heart attack', 'confidence': 0.56615931}, {'transcript': 'agharta hard time to breath am I having a heart attack'}, {'transcript': 'Matagorda hard time to breathe am I having a heart attack'}, {'transcript': 'agharta hard time to breathe am I having a heart attack'}, {'transcript': 'Arigato hard time to breath am I having a heart attack'}], 'final': True}\n",
      "\n",
      "Filename: 1249120_35350617_88420508.wav\n",
      "Text: {'alternative': [{'transcript': \"I'm not feeling good I Can't Take My Breath\", 'confidence': 0.87779802}, {'transcript': \"I not feeling good I Can't Take My Breath\"}, {'transcript': \"are not feeling good I Can't Take My Breath\"}], 'final': True}\n",
      "\n",
      "Filename: 1249120_15004831_103019463.wav\n",
      "Text: {'alternative': [{'transcript': 'I have acne all over my face', 'confidence': 0.987629}], 'final': True}\n",
      "\n",
      "Filename: 1249120_44093303_39908025.wav\n",
      "Text: {'alternative': [{'transcript': 'I have a foot ache in Winter or when it feels cold why', 'confidence': 0.95157754}, {'transcript': 'I have a foot Aiken winter or when it feels cold why'}, {'transcript': 'I have a foot ache in Winter or when it feels cold y'}, {'transcript': 'I have a foot ache in Winter or when it feels cold fly'}, {'transcript': 'I have a foot Aiken winter or when it feels cold y'}], 'final': True}\n",
      "\n",
      "Filename: 1249120_30766630_88003280.wav\n",
      "Text: {'alternative': [{'transcript': 'I feel pain in my shoulders when I write on a keyboard', 'confidence': 0.96119207}, {'transcript': 'I feel pain in my shoulders when I write on the keyboard'}, {'transcript': 'I feel pain in my shoulders when I ride on a keyboard'}], 'final': True}\n",
      "\n",
      "Filename: 1249120_39142299_25984231.wav\n",
      "Text: {'alternative': [{'transcript': 'I cannot turn my neck to the left without feeling is traveling pain', 'confidence': 0.88836724}, {'transcript': 'I cannot turn my neck to the left without feeling pain', 'confidence': 0.91428417}, {'transcript': 'I cannot turn my neck to the left without feeling is travelling pain', 'confidence': 0.88836724}, {'transcript': 'I cannot turn my neck to the left without feeling is traveling Payne', 'confidence': 0.88836724}, {'transcript': 'I cannot turn my neck to the left without feeling is travelling Payne', 'confidence': 0.88836724}], 'final': True}\n",
      "\n",
      "Filename: 1249120_40725179_64417126.wav\n",
      "Text: {'alternative': [{'transcript': 'why do heart exercises I feel great pain in my muscles', 'confidence': 0.72505951}, {'transcript': 'why do hard exercises I feel great pain in my muscles'}, {'transcript': 'why do her exercises I feel great pain in my muscles'}, {'transcript': 'why do heart exercises I feel great pain in my Maltese'}, {'transcript': 'where do her exercises I feel great pain in my muscles'}], 'final': True}\n",
      "\n",
      "Filename: 1249120_38042052_22650668.wav\n",
      "Text: {'alternative': [{'transcript': 'I feel something hurts me in taking breath and like almost take my breath', 'confidence': 0.73009151}, {'transcript': 'I feel something hurts me in taking breath and like on to take my breath'}, {'transcript': 'I feel something hurts me in taking breath and like Aunt take my breath'}, {'transcript': \"I feel something hurts me in taking breath I'd like Aunt take my breath\"}, {'transcript': 'I feel something hurts me and taking breath and like almost take my breath'}], 'final': True}\n",
      "\n",
      "Filename: 1249120_40401830_74177678.wav\n",
      "Text: {'alternative': [{'transcript': \"I don't do anything at home instead of your exhaust\", 'confidence': 0.98762906}], 'final': True}\n",
      "\n",
      "Filename: 1249120_40401830_26857179.wav\n",
      "Text: {'alternative': [{'transcript': 'the nurse will so damaged during operation on my ankle that I cannot send intestines', 'confidence': 0.68072796}, {'transcript': 'the nurse will so damaged during operation on my ankle that I cannot send Intouchables'}, {'transcript': 'the nurse will so damaged during the operational my ankle that I cannot send intestines'}, {'transcript': 'the nurse will so damaged during the operation on my ankle that I cannot send intestines'}, {'transcript': 'the nurse will so damaged during the operational my ankle that I cannot send Intouchables'}], 'final': True}\n",
      "\n",
      "Filename: 1249120_35408915_27401114.wav\n",
      "Text: {'alternative': [{'transcript': 'I have a hair shortage', 'confidence': 0.98762906}], 'final': True}\n",
      "\n",
      "Filename: 1249120_43453425_44751344.wav\n",
      "Text: {'alternative': [{'transcript': 'my daughter had her ears pierced and one ovary are clothes is bright-eyed and burning hot', 'confidence': 0.80849361}, {'transcript': 'my daughter had her ears pierced and one of our ear plugs is bright-eyed and burning hot'}, {'transcript': 'my daughter had her ears pierced and one of our ear tubes is bright-eyed and burning hot'}, {'transcript': 'my daughter had her ears pierced and one of our ear lobes is bright-eyed and burning hot'}, {'transcript': 'my daughter had her ears pierced and one of our clothes is bright-eyed and burning hot'}], 'final': True}\n",
      "\n",
      "Filename: 1249120_43402738_23165785.wav\n",
      "Text: {'alternative': [{'transcript': 'is pimples a skin disease', 'confidence': 0.91133624}, {'transcript': \"it's pimples a skin disease\"}, {'transcript': 'this pimples a skin disease'}, {'transcript': \"is people's a skin disease\"}, {'transcript': 'is pimples skin disease'}], 'final': True}\n",
      "\n",
      "Filename: 1249120_36929821_102780105.wav\n",
      "Text: {'alternative': [{'transcript': 'I am having problem seeing things feel like a cloud on my eyes everything gets blurry', 'confidence': 0.74370319}, {'transcript': 'I am having problems seeing things feel like a cloud on my eyes everything gets blurry'}, {'transcript': 'I am having problem seeing things feel like a cloud on my eyes everything is blurry'}, {'transcript': 'I am having problems seeing things feel like a cloud on my eyes everything is blurry'}], 'final': True}\n",
      "\n",
      "Filename: 1249120_17632529_75962639.wav\n",
      "Text: {'alternative': [{'transcript': 'I have acne in my face and other problems in my Derma like itching', 'confidence': 0.94941711}, {'transcript': 'I have acne in my face and other problems in my dermal like itching'}, {'transcript': 'I have acne in my face and other problems in myderma like itching'}, {'transcript': 'I have acne in my face and other problems and my Derma like itching'}], 'final': True}\n",
      "\n",
      "Filename: 1249120_41203338_97588964.wav\n",
      "Text: {'alternative': [{'transcript': 'I have an internal pain I cannot describe', 'confidence': 0.987629}], 'final': True}\n",
      "\n",
      "Filename: 1249120_43788827_21002015.wav\n",
      "Text: {'alternative': [{'transcript': \"I'm in severe itching in the skin with redness\", 'confidence': 0.87813431}, {'transcript': 'I did severe itching in the skin with redness'}, {'transcript': \"I'm in severe itching in the screen with redness\"}, {'transcript': \"I'm in severe itching under skin with redness\"}, {'transcript': \"I've been severe itching in the skin with redness\"}], 'final': True}\n",
      "\n",
      "Filename: 1249120_35444693_11610684.wav\n",
      "Text: []\n",
      "\n",
      "Filename: 1249120_43995026_60748987.wav\n",
      "Text: {'alternative': [{'transcript': \"I was very active in sports but now my body's feeling pain\", 'confidence': 0.95176792}, {'transcript': \"I was very active in sports but now my body's feeling faint\"}, {'transcript': \"I was very active in spots but now my body's feeling pain\"}, {'transcript': \"I was very active in spots but now my body's feeling faint\"}], 'final': True}\n",
      "\n",
      "Filename: 1249120_36505751_63071014.wav\n",
      "Text: {'alternative': [{'transcript': 'when I am awake in the morning I feel strange and help vertigo', 'confidence': 0.81163561}, {'transcript': 'when I am awake in the morning I feel strange and to help vertigo'}, {'transcript': 'then I am awake in the morning I feel strange and help vertigo'}, {'transcript': 'then I am awake in the morning I feel strange and to help vertigo'}, {'transcript': 'when I am awake in the morning I feel strange in The Help vertigo'}], 'final': True}\n",
      "\n",
      "Filename: 1249120_43898158_89098903.wav\n",
      "Text: {'alternative': [{'transcript': 'in high school I got a lot of', 'confidence': 0.987629}], 'final': True}\n",
      "\n",
      "Filename: 1249120_43995026_72350848.wav\n",
      "Text: {'alternative': [{'transcript': \"I can't turn my neck to the left without feeling a stabbing pain\", 'confidence': 0.91218531}, {'transcript': \"I can't turn my neck to the left without feeling of stabbing pain\"}, {'transcript': \"I can't turn my neck to the left without feeling is stabbing pain\"}, {'transcript': \"I can't turn my neck to the left without feeling as stabbing pain\"}, {'transcript': \"I can't turn my neck to the left without finding a stabbing pain\"}], 'final': True}\n",
      "\n",
      "Filename: 1249120_44140394_44613817.wav\n",
      "Text: {'alternative': [{'transcript': \"I can't ride my car at night because I have blurry vision\", 'confidence': 0.987629}], 'final': True}\n",
      "\n",
      "Filename: 1249120_40401830_68923329.wav\n",
      "Text: {'alternative': [{'transcript': 'I have blurry vision after I use the wrong man', 'confidence': 0.8786068}, {'transcript': 'I have blurry vision after I use the wrong mans'}, {'transcript': 'I have blurry vision after I use the wrong'}, {'transcript': 'I have blurry vision after I used the wrong'}, {'transcript': 'I have blurry vision after I used the wrong man'}], 'final': True}\n",
      "\n",
      "Filename: 1249120_41203338_39064361.wav\n",
      "Text: {'alternative': [{'transcript': \"I was diagnosed with pneumonia I can't breathe easily\", 'confidence': 0.95967412}, {'transcript': \"I was diagnosed with pneumoniae I can't breathe easily\", 'confidence': 0.95967412}, {'transcript': \"I was diagnosed with neumonia I can't breathe easily\", 'confidence': 0.95967412}, {'transcript': \"I was diagnosed with pneumonia I can't breathe easelly\", 'confidence': 0.95967412}, {'transcript': \"I was diagnosed with pneumonia I can't breathe EAS\", 'confidence': 0.86648703}], 'final': True}\n",
      "\n",
      "Filename: 1249120_33905644_81980299.wav\n",
      "Text: {'alternative': [{'transcript': \"when I'm tired I feel my head heavy\", 'confidence': 0.98010874}, {'transcript': \"when I'm tired I fill my head heavy\"}, {'transcript': \"when I'm tired I filled my head heavy\"}], 'final': True}\n",
      "\n",
      "Filename: 1249120_42557795_85098796.wav\n",
      "Text: {'alternative': [{'transcript': 'thermal pane in the year', 'confidence': 0.84392488}, {'transcript': 'thermal pain in the year'}, {'transcript': 'Selma pain in the year'}], 'final': True}\n",
      "\n",
      "Filename: 1249120_43402738_81825705.wav\n",
      "Text: {'alternative': [{'transcript': \"my soul isn't healing well and it's been like this for 2 weeks\", 'confidence': 0.94248974}, {'transcript': \"my soul isn't feeling well and it's been like this for 2 weeks\", 'confidence': 0.93117869}, {'transcript': \"my soul isn't healing well and its been like this for 2 weeks\", 'confidence': 0.94248974}, {'transcript': \"my soul isn't heeling well and it's been like this for 2 weeks\", 'confidence': 0.94248974}, {'transcript': \"my soul isn't feeling well and its been like this for 2 weeks\", 'confidence': 0.93117869}], 'final': True}\n",
      "\n",
      "Filename: 1249120_35832653_15159684.wav\n",
      "Text: {'alternative': [{'transcript': 'my chest break out with red pimples and whiteheads', 'confidence': 0.91880673}, {'transcript': 'my chest breakout with red pimples and whiteheads'}, {'transcript': 'my chest break out with red pimples and white heads'}, {'transcript': 'my chest breakout with red pimples and white heads'}], 'final': True}\n",
      "\n",
      "Filename: 1249120_41087148_22068383.wav\n",
      "Text: {'alternative': [{'transcript': 'in the morning I feel dizzy', 'confidence': 0.72033715}, {'transcript': 'goodnight in the morning I feel dizzy'}, {'transcript': 'midnight in the morning I feel dizzy'}, {'transcript': 'tonight in the morning I feel dizzy'}, {'transcript': 'the night in the morning I feel dizzy'}], 'final': True}\n",
      "\n",
      "Filename: 1249120_43995026_48220450.wav\n",
      "Text: {'alternative': [{'transcript': 'I get an ear ache when it is cold', 'confidence': 0.87841767}, {'transcript': 'I get an earache when it is cold', 'confidence': 0.91551477}, {'transcript': 'I get an earache when it is kold', 'confidence': 0.91551477}, {'transcript': 'I get an ear ache when it is kold', 'confidence': 0.87841767}, {'transcript': 'I gett an earache when it is cold', 'confidence': 0.91551477}], 'final': True}\n",
      "\n",
      "Filename: 1249120_39740177_63212039.wav\n",
      "Text: {'alternative': [{'transcript': 'accountsd under I feel my brain is moving inside my skull', 'confidence': 0.71459961}, {'transcript': 'accountsd under I feel my brain is moving inside my school'}, {'transcript': 'accounts under I feel my brain is moving inside my skull'}, {'transcript': 'account stunder I feel my brain is moving inside my skull'}, {'transcript': 'accountsd under-eye feel my brain is moving inside my skull'}], 'final': True}\n",
      "\n",
      "Filename: 1249120_40401830_50106689.wav\n",
      "Text: {'alternative': [{'transcript': \"I'm not got something so cold\", 'confidence': 0.8536014}, {'transcript': \"I'm not good something so cold\"}, {'transcript': \"I'm not God something so cold\"}, {'transcript': \"I'm not good at something so cold\"}, {'transcript': 'unlock code something so cold'}], 'final': True}\n",
      "\n",
      "Filename: 1249120_6338946_32528486.wav\n",
      "Text: {'alternative': [{'transcript': 'my knee is hurting so badly', 'confidence': 0.98342484}, {'transcript': 'my knee is hurting sew badly', 'confidence': 0.98342484}, {'transcript': 'my knee is hurting Sol badly', 'confidence': 0.98342484}, {'transcript': 'my knee is hurting sow badly', 'confidence': 0.98342484}, {'transcript': 'my knee is hurting Sao badly', 'confidence': 0.98342484}], 'final': True}\n",
      "\n",
      "Filename: 1249120_35350617_98366622.wav\n",
      "Text: {'alternative': [{'transcript': 'I feel headache', 'confidence': 0.97098321}, {'transcript': 'I feel headach', 'confidence': 0.97098321}, {'transcript': 'I feal headache', 'confidence': 0.97098321}, {'transcript': 'I Fiel headache', 'confidence': 0.97098321}, {'transcript': 'I Fiel headach', 'confidence': 0.97098321}], 'final': True}\n",
      "\n",
      "Filename: 1249120_39438102_39617985.wav\n",
      "Text: {'alternative': [{'transcript': 'I had this car for two weeks', 'confidence': 0.77045661}, {'transcript': 'I had this car for 2 weeks'}, {'transcript': \"I've had this car for two weeks\"}, {'transcript': 'I had this off for 2 weeks'}, {'transcript': 'I have this off for 2 weeks'}], 'final': True}\n",
      "\n",
      "Filename: 1249120_36929821_82535990.wav\n",
      "Text: {'alternative': [{'transcript': 'my television on computers seem out of five fast even though I have new glasses', 'confidence': 0.66605133}, {'transcript': 'my television on computers seem out of 5 fast even though I have new glasses'}, {'transcript': 'my television on computers seem out of five fast even though I have many glasses'}, {'transcript': 'my television on computer steam out of five fast even though I have new glasses'}, {'transcript': 'my television on computer steam out of 5 fast even though I have new glasses'}], 'final': True}\n",
      "\n",
      "Filename: 1249120_43856216_50622604.wav\n",
      "Text: {'alternative': [{'transcript': 'my mind feels very sad as if it hurts the way I feel it in my head is awful and when I think about my break-up I cry with sadness', 'confidence': 0.72317886}, {'transcript': 'my mind feels very sad as if it hurt the way I feel it in my head is awful and when I think about my break-up I cry with sadness'}, {'transcript': 'my mind feels very sad as of it hurt the way I feel it in my head is awful and when I think about my break-up I cry with sadness'}, {'transcript': 'my mind feels very sad as if it hurts the way I feel in my head is awful and when I think about my break-up I cry with sadness'}, {'transcript': 'my mind feels very sad as if it hurt the way I feel in my head is awful and when I think about my break-up I cry with sadness'}], 'final': True}\n",
      "\n",
      "Filename: 1249120_44140394_87943109.wav\n",
      "Text: {'alternative': [{'transcript': \"you won't believe me but this infected wound on my hand is from a paper cut I didn't take seriously\", 'confidence': 0.84411538}, {'transcript': \"you won't believe me but this infected wound on my hand is from a Papercut I didn't take seriously\"}, {'transcript': \"you won't believe me but just infected wound on my hand is from a paper cut I didn't take seriously\"}, {'transcript': \"you won't believe me but just infected wound on my hand is from a Papercut I didn't take seriously\"}, {'transcript': \"you won't believe me that this infected wound on my hand is from a paper cut I didn't take seriously\"}], 'final': True}\n",
      "\n",
      "Filename: 1249120_41203338_96720748.wav\n",
      "Text: {'alternative': [{'transcript': 'crushing sensation on my heart leaves me Breathless', 'confidence': 0.98088837}, {'transcript': 'crushing sensation on my heart lift new Breathless'}], 'final': True}\n",
      "\n",
      "Filename: 1249120_30766630_91159589.wav\n",
      "Text: {'alternative': [{'transcript': \"I can't do anything I feel all weak in my body\", 'confidence': 0.82629275}, {'transcript': \"I can't do anything I feel weak in my body\"}, {'transcript': 'I can do anything I feel all weak in my body'}, {'transcript': 'I can do anything I feel weak in my body'}, {'transcript': \"I can't do anything I feel a week in my body\"}], 'final': True}\n",
      "\n",
      "Filename: 1249120_33905644_81189616.wav\n",
      "Text: {'alternative': [{'transcript': 'I have shooting pains up and down my back', 'confidence': 0.97530925}, {'transcript': 'I have shooting pains up and down my Bak', 'confidence': 0.97530925}, {'transcript': 'I have shooting pains up and down my bacc', 'confidence': 0.97530925}, {'transcript': 'I have shooting pains up and down my bakkt', 'confidence': 0.97530925}, {'transcript': 'I have shooting pains up and down my bakk', 'confidence': 0.97530925}], 'final': True}\n",
      "\n",
      "Filename: 1249120_44101988_86517694.wav\n",
      "Text: {'alternative': [{'transcript': \"I can't breathe because of fall\", 'confidence': 0.9153598}, {'transcript': \"I can't breathe because of Paul\"}, {'transcript': \"I can't breathe because of\"}, {'transcript': \"I can't breathe because of fog\"}, {'transcript': \"I can't breathe because of Bob\"}], 'final': True}\n",
      "\n",
      "Filename: 1249120_41150153_63451844.wav\n",
      "Text: {'alternative': [{'transcript': 'I finished strange and Powerful pain inside my rib cage', 'confidence': 0.9749198}, {'transcript': 'I finished strange and Powerful pain inside my ribcage'}], 'final': True}\n",
      "\n",
      "Filename: 1249120_44111844_50718404.wav\n",
      "Text: {'alternative': [{'transcript': 'my stomach feels full and upset and bloating after', 'confidence': 0.93721557}, {'transcript': 'my stomach feels full and upset and bloating'}, {'transcript': 'my stomach feels full and bloating after'}, {'transcript': 'my stomach feels full and bloating'}, {'transcript': 'my stomach feels full and object and bloating'}], 'final': True}\n",
      "\n",
      "Filename: 1249120_41203338_19960479.wav\n",
      "Text: {'alternative': [{'transcript': 'I am feeling so dizzy body is so fragile', 'confidence': 0.95772964}, {'transcript': \"I'm feeling so dizzy body is so fragile\"}], 'final': True}\n",
      "\n",
      "Filename: 1249120_1853182_39620016.wav\n",
      "Text: {'alternative': [{'transcript': 'I cannot exercise because of my knee pain', 'confidence': 0.8796382}, {'transcript': 'I cannot exercise because of my pain'}, {'transcript': 'I could not exercise because of my knee pain'}, {'transcript': 'I could not exercise because of my pain'}], 'final': True}\n",
      "\n",
      "Filename: 1249120_43350908_87872469.wav\n",
      "Text: {'alternative': [{'transcript': 'I feel down', 'confidence': 0.87324351}, {'transcript': 'I fell down', 'confidence': 0.75045991}, {'transcript': 'I feel dumb', 'confidence': 0.74030322}, {'transcript': 'I feel downe', 'confidence': 0.87324351}], 'final': True}\n",
      "\n",
      "Filename: 1249120_43612961_69975544.wav\n",
      "Text: {'alternative': [{'transcript': 'when I stand up too quickly I start to feel dizzy and lightheaded', 'confidence': 0.97109634}, {'transcript': 'when I stand up too quickly I started to feel dizzy and lightheaded'}, {'transcript': 'when I stand up too quickly I start to feel dizzy or lightheaded'}], 'final': True}\n",
      "\n",
      "Filename: 1249120_43855932_67821798.wav\n",
      "Text: {'alternative': [{'transcript': 'I feel hurt in my heart', 'confidence': 0.78150272}, {'transcript': 'I feel hurts in my heart'}, {'transcript': 'I feel Hertz in my heart'}, {'transcript': 'I feel hot in my heart'}, {'transcript': 'I feel Hudson my heart'}], 'final': True}\n",
      "\n",
      "Filename: 1249120_19425875_35754120.wav\n",
      "Text: {'alternative': [{'transcript': 'Bell skull is cracked like nuts', 'confidence': 0.72865397}, {'transcript': 'spell skull is cracked like nuts'}, {'transcript': 'Belle skull is cracked like nuts'}, {'transcript': 'Bel skull is cracked like nuts'}, {'transcript': 'bail skull is cracked like nuts'}], 'final': True}\n",
      "\n",
      "Filename: 1249120_40571337_81504869.wav\n",
      "Text: {'alternative': [{'transcript': 'I feel like great pain in my shoulder when I try to lift something heavy', 'confidence': 0.82918417}, {'transcript': 'I feel like greet pain in my shoulder when I try to lift something heavy'}, {'transcript': 'I feel like three pain in my shoulder when I try to lift something heavy'}, {'transcript': 'I feel like Greek pain in my shoulder when I try to lift something heavy'}, {'transcript': 'I feel aggrieved pain in my shoulder when I try to lift something heavy'}], 'final': True}\n",
      "\n",
      "Filename: 1249120_22423108_11537446.wav\n",
      "Text: {'alternative': [{'transcript': 'I have an open wound in my arm', 'confidence': 0.96122038}, {'transcript': 'I have an open wound do my arm'}, {'transcript': 'I have an open wound on my arm'}, {'transcript': 'I have an open wound in my arms'}], 'final': True}\n",
      "\n",
      "Filename: 1249120_18172663_30653032.wav\n",
      "Text: {'alternative': [{'transcript': \"I was diagnosed with pneumonia I can't breathe easily\", 'confidence': 0.99011874}, {'transcript': \"I was diagnosed with pneumoniae I can't breathe easily\", 'confidence': 0.99011874}, {'transcript': \"I was diagnosed with neumonia I can't breathe easily\", 'confidence': 0.99011874}, {'transcript': \"I was diagnosed with pneumonia I can't breathe easelly\", 'confidence': 0.99011874}, {'transcript': \"igh was diagnosed with pneumonia I can't breathe easily\", 'confidence': 0.99011874}], 'final': True}\n",
      "\n",
      "Filename: 1249120_1853182_31786018.wav\n",
      "Text: {'alternative': [{'transcript': 'heavy breath with fatigue', 'confidence': 0.97235745}, {'transcript': 'heavy breaths with fatigue'}], 'final': True}\n",
      "\n",
      "Filename: 1249120_44093303_77397638.wav\n",
      "Text: {'alternative': [{'transcript': 'my knees hurt so bad to walk that I stay sitting more than I should', 'confidence': 0.987629}], 'final': True}\n",
      "\n",
      "Filename: 1249120_36505751_38049993.wav\n",
      "Text: {'alternative': [{'transcript': 'I have a lot of mucus when I cough', 'confidence': 0.98160702}, {'transcript': 'I have a lot of mucus when I go'}, {'transcript': 'I have a lot of mucus when I cup'}, {'transcript': 'I have a lot of mucus when I come'}, {'transcript': 'I have a lot of mucus when I get off'}], 'final': True}\n",
      "\n",
      "Filename: 1249120_42557795_81995463.wav\n",
      "Text: {'alternative': [{'transcript': 'I feel like there is something swollen and inflamed at the back of my knee', 'confidence': 0.82306015}, {'transcript': 'I feel like there is something swollen and inflamed pet the back of my knee'}, {'transcript': 'I feel like there is something swollen and inflamed pad the back of my knee'}, {'transcript': 'I feel like there is something swollen and inflamed the back of my knee'}, {'transcript': 'I feel like there is something swollen and inflamed but the back of my knee'}], 'final': True}\n",
      "\n",
      "Filename: 1249120_22423108_66969371.wav\n",
      "Text: {'alternative': [{'transcript': 'I hate my acne', 'confidence': 0.98762906}], 'final': True}\n",
      "\n",
      "Filename: 1249120_42210938_44313159.wav\n",
      "Text: {'alternative': [{'transcript': \"I don't work good I have\", 'confidence': 0.76127529}, {'transcript': 'icon work good I have'}, {'transcript': \"I can't work good I have\"}, {'transcript': \"I don't work good I have to\"}, {'transcript': \"I don't work good I have a\"}], 'final': True}\n",
      "\n",
      "Filename: 1249120_28006404_28326999.wav\n",
      "Text: {'alternative': [{'transcript': 'I feel joint pain everytime I move', 'confidence': 0.83901209}, {'transcript': 'I feel joint pain every time I move'}, {'transcript': 'I feel going to pay him every time I move'}], 'final': True}\n",
      "\n",
      "Filename: 1249120_43755034_15969790.wav\n",
      "Text: {'alternative': [{'transcript': \"I can't stand up or sit down I have pain in my back that annoys me\", 'confidence': 0.98913413}, {'transcript': \"I can't stand up Oar sit down I have pain in my back that annoys me\", 'confidence': 0.98913413}, {'transcript': \"I can't stand up ore sit down I have pain in my back that annoys me\", 'confidence': 0.98913413}, {'transcript': \"I can't stand up Aur sit down I have pain in my back that annoys me\", 'confidence': 0.98913413}, {'transcript': \"I can't stand up Orr sit down I have pain in my back that annoys me\", 'confidence': 0.98913413}], 'final': True}\n",
      "\n",
      "Filename: 1249120_33251186_63315557.wav\n",
      "Text: {'alternative': [{'transcript': \"there is so much pain when I'm on my arm\", 'confidence': 0.85328406}, {'transcript': \"there is so much pain when I'm on my armed\", 'confidence': 0.85328406}, {'transcript': \"their is so much pain when I'm on my arm\", 'confidence': 0.85328406}, {'transcript': \"there is so much pain when I'm on my arms\", 'confidence': 0.75686443}, {'transcript': \"there is so much Payne when I'm on my arm\", 'confidence': 0.85328406}], 'final': True}\n",
      "\n",
      "Filename: 1249120_40663048_38350022.wav\n",
      "Text: {'alternative': [{'transcript': \"stand up and I'm moving very slowly\", 'confidence': 0.56492221}, {'transcript': \"stand up and I'm moving very slow\"}, {'transcript': 'stand up moving very slowly'}, {'transcript': 'stand up and moving very slowly'}, {'transcript': 'stand up'}], 'final': True}\n",
      "\n",
      "Filename: 1249120_42554554_20827076.wav\n",
      "Text: {'alternative': [{'transcript': 'I have pain like needles in my joints', 'confidence': 0.9385637}, {'transcript': 'I have been like needles in my joints', 'confidence': 0.90564412}, {'transcript': 'I have pain like needles in my joint', 'confidence': 0.84462088}, {'transcript': 'I have been like needles in my joint', 'confidence': 0.8103916}, {'transcript': 'I have Payne like needles in my joints', 'confidence': 0.9385637}], 'final': True}\n",
      "\n",
      "Filename: 1249120_36505751_34140486.wav\n",
      "Text: {'alternative': [{'transcript': '19 chili like an ice cube my sister said that she needs several blankets to cover her so that she is warm enough', 'confidence': 0.95895493}, {'transcript': 'I feel silly like an ice cube my sister said that she needs several blankets to cover her so that she is warm enough'}, {'transcript': '19 chili like an ice cube my sister said that she need several blankets to cover her so that she is warm enough'}, {'transcript': '19 chili like an ice-cube my sister said that she needs several blankets to cover her so that she is warm enough'}, {'transcript': 'I feel silly like an ice-cube my sister said that she needs several blankets to cover her so that she is warm enough'}], 'final': True}\n",
      "\n",
      "Filename: 1249120_18386513_92122999.wav\n",
      "Text: {'alternative': [{'transcript': \"I've tried to make massage on my foot but they still pain me\", 'confidence': 0.79357558}, {'transcript': \"I've tried to make massage on my foot but they still paying me\"}, {'transcript': 'I have tried to make massage on my foot but they still pain me'}, {'transcript': 'I have tried to make massage on my foot but they still paying me'}, {'transcript': \"I've tried to make massage on my foot but they still pay me\"}], 'final': True}\n",
      "\n",
      "Filename: 1249120_6338946_60974534.wav\n",
      "Text: {'alternative': [{'transcript': \"my body feels weak and I think that my face is fade and I can't sleep well\", 'confidence': 0.95162416}, {'transcript': \"my body feels week and I think that my face is fade and I can't sleep well\"}], 'final': True}\n",
      "\n",
      "Filename: 1249120_43453425_17325213.wav\n",
      "Text: {'alternative': [{'transcript': 'when I stand up too quickly my vision is blurry', 'confidence': 0.76870883}, {'transcript': 'when I stand up too quick my vision is blurry'}, {'transcript': 'when I stand up to quit my vision is blurry'}, {'transcript': 'when I stand up to Quick my vision is blurry'}, {'transcript': 'when I stand up too quickly my vision is blurred'}], 'final': True}\n",
      "\n",
      "Filename: 1249120_35408915_43303311.wav\n",
      "Text: {'alternative': [{'transcript': 'I complain a lot with my neck pain and I really need to be better', 'confidence': 0.96863925}, {'transcript': 'I complain a lot with my neck pain that I really need to be better'}], 'final': True}\n",
      "\n",
      "Filename: 1249120_43350908_69648261.wav\n",
      "Text: {'alternative': [{'transcript': 'I must see a doctor I have an open wound', 'confidence': 0.46455416}, {'transcript': 'imma see a doctor I have an open wound'}, {'transcript': \"I'm SE a doctor I have an open wound\"}, {'transcript': \"I'm a see a doctor I have an open wound\"}, {'transcript': \"I'ma see a doctor I have an open wound\"}], 'final': True}\n",
      "\n",
      "Filename: 1249120_42783052_89816369.wav\n",
      "Text: {'alternative': [{'transcript': 'when I do hot exercises I feel great pain in my muscles', 'confidence': 0.84882694}, {'transcript': 'when I do hot exercise I feel great pain in my muscles'}, {'transcript': 'when I do heart exercises I feel great pain in my muscles'}, {'transcript': 'when I do heart exercise I feel great pain in my muscles'}, {'transcript': 'when I do hot exercising I feel great pain in my muscles'}], 'final': True}\n",
      "\n",
      "Filename: 1249120_36929821_58817919.wav\n",
      "Text: {'alternative': [{'transcript': 'I have cut my finger because of playing football and I to apply pain relief cream but it does not help', 'confidence': 0.89510208}, {'transcript': \"I have cut my finger because we're playing football and I to apply pain relief cream but it does not help\"}, {'transcript': 'I have cut my finger because with playing football and I to apply pain relief cream but it does not help'}, {'transcript': 'I have cut my fingers because of playing football and I to apply pain relief cream but it does not help'}, {'transcript': \"I have cut my finger because they're playing football and I to apply pain relief cream but it does not help\"}], 'final': True}\n",
      "\n",
      "Filename: 1249120_39142299_63553776.wav\n",
      "Text: {'alternative': [{'transcript': \"I feel like I just cannot copy anymore I feel overwhelmed and like I just can't get a break\", 'confidence': 0.95435756}, {'transcript': \"I feel like I just cannot copy anymore I feel overwhelming and like I just can't get a break\"}, {'transcript': \"I feel like I just cannot coffee anymore I feel overwhelmed and like I just can't get a break\"}, {'transcript': \"I feel like I just cannot copy any more I feel overwhelmed and like I just can't get a break\"}, {'transcript': \"I feel like I just cannot coffee anymore I feel overwhelming and like I just can't get a break\"}], 'final': True}\n",
      "\n",
      "Filename: 1249120_43453425_30468991.wav\n",
      "Text: {'alternative': [{'transcript': 'I feel pain in my knee', 'confidence': 0.987629}], 'final': True}\n",
      "\n",
      "Filename: 1249120_28006404_96211306.wav\n",
      "Text: {'alternative': [{'transcript': 'redness swelling and difficulty in walking', 'confidence': 0.987629}], 'final': True}\n",
      "\n",
      "Filename: 1249120_18985376_26805534.wav\n",
      "Text: {'alternative': [{'transcript': 'what if I stand up I feel dizzy', 'confidence': 0.52778077}, {'transcript': 'whenever I stand up I feel dizzy'}, {'transcript': 'but if I stand up I feel dizzy'}, {'transcript': 'if I stand up I feel dizzy'}, {'transcript': 'when if I stand up I feel dizzy'}], 'final': True}\n",
      "\n",
      "Filename: 1249120_43857865_42871507.wav\n",
      "Text: {'alternative': [{'transcript': 'it hurts when I bend my arm', 'confidence': 0.987629}], 'final': True}\n",
      "\n",
      "Filename: 1249120_2171654_58828948.wav\n",
      "Text: {'alternative': [{'transcript': 'the warming system of my house is broken and feel so cold', 'confidence': 0.9451986}, {'transcript': 'the warming system of my house is broken and feels so cold'}, {'transcript': 'the worming system of my house is broken and feel so cold'}, {'transcript': 'the worming system of my house is broken and feels so cold'}], 'final': True}\n",
      "\n",
      "Filename: 1249120_35197064_70291778.wav\n",
      "Text: {'alternative': [{'transcript': 'even though I am an adult my face keeps breaking out in pimples', 'confidence': 0.92428029}, {'transcript': 'even though I am an adult my Pace keeps breaking out in pimples'}, {'transcript': 'even though I am an adult mypace keeps breaking out in pimples'}, {'transcript': 'even though I am an adult my paste keeps breaking out in pimples'}, {'transcript': 'even though I am an added my face keeps breaking out in pimples'}], 'final': True}\n",
      "\n",
      "Filename: 1249120_39740177_66733352.wav\n",
      "Text: {'alternative': [{'transcript': \"I feel pain in my legs muscles after I run yesterday I took some painkillers but it doesn't help\", 'confidence': 0.98762906}], 'final': True}\n",
      "\n",
      "Filename: 1249120_40401830_97123173.wav\n",
      "Text: {'alternative': [{'transcript': \"I was diagnosed with pneumonia I can't breathe easily\", 'confidence': 0.98762906}], 'final': True}\n",
      "\n",
      "Filename: 1249120_43665783_25889547.wav\n",
      "Text: {'alternative': [{'transcript': 'my temperature dropped and my body gets a nose', 'confidence': 0.84834164}, {'transcript': 'my temperature drop and my body gets a nose'}, {'transcript': 'my temperature dropped and my body get cyanosis'}, {'transcript': 'my temperature dropped and my body gets I knows'}, {'transcript': 'my temperature drop and my body get cyanosis'}], 'final': True}\n",
      "\n",
      "Filename: 1249120_21665495_50475556.wav\n",
      "Text: {'alternative': [{'transcript': \"I'm not feeling good I get infection on\", 'confidence': 0.83483273}, {'transcript': \"I'm not feeling good I get infection home\"}, {'transcript': \"I'm not feeling good. I get infection on\"}, {'transcript': \"I'm not feeling good by get infection on\"}, {'transcript': \"I'm not feeling good I get infection room\"}], 'final': True}\n",
      "\n",
      "Filename: 1249120_35444693_104749267.wav\n",
      "Text: {'alternative': [{'transcript': 'sometimes', 'confidence': 0.91648906}, {'transcript': 'sometimes movie'}, {'transcript': 'sometimes Milwaukee'}, {'transcript': 'sometimes mobile'}, {'transcript': 'sometimes move'}], 'final': True}\n",
      "\n",
      "Filename: 1249120_35444693_109120076.wav\n",
      "Text: {'alternative': [{'transcript': 'I have balls', 'confidence': 0.98762912}, {'transcript': 'I have bones'}, {'transcript': 'I have four'}, {'transcript': 'I have bought'}, {'transcript': 'I have'}], 'final': True}\n",
      "\n",
      "Filename: 1249120_43172391_33951280.wav\n",
      "Text: {'alternative': [{'transcript': 'I think my wound is infected', 'confidence': 0.987629}], 'final': True}\n",
      "\n",
      "Filename: 1249120_44101988_55744861.wav\n",
      "Text: {'alternative': [{'transcript': 'I can hardly breathe', 'confidence': 0.90067434}, {'transcript': 'I can hardly breath'}, {'transcript': 'I can hardly breathe.'}, {'transcript': 'I can hardly braids'}, {'transcript': \"I've been hardly Birds\"}], 'final': True}\n",
      "\n",
      "Filename: 1249120_43898158_73709711.wav\n",
      "Text: {'alternative': [{'transcript': \"can't work where I have in my phone\", 'confidence': 0.3999325}, {'transcript': 'and what will I have in my phone'}, {'transcript': \"can't walk where I have in my phone\"}, {'transcript': 'I have in my phone'}, {'transcript': 'and walk will I have in my phone'}], 'final': True}\n",
      "\n",
      "Filename: 1249120_39438102_55439102.wav\n",
      "Text: {'alternative': [{'transcript': 'my husband has a spot on his lip all day', 'confidence': 0.88356811}, {'transcript': 'my husband has a spot on his list all day'}, {'transcript': 'my husband has a spot on his all day'}, {'transcript': 'my husband has a spot on his lips all day'}, {'transcript': 'my husband has a spot on this list all day'}], 'final': True}\n",
      "\n",
      "Filename: 1249120_43788827_73386473.wav\n",
      "Text: {'alternative': [{'transcript': 'I feel deep tingling when I touch acne followed by bad sensor', 'confidence': 0.94127965}, {'transcript': 'I feel deep tingling when I touched acne followed by bad sensor'}, {'transcript': 'I feel deep tingling when I touch acne followed by bed census'}, {'transcript': 'I feel deep tingling when I touch acne followed by bed senses'}, {'transcript': 'I feel deep tingling when I touch acne followed by bad senses'}], 'final': True}\n",
      "\n",
      "Filename: 1249120_43883861_105187263.wav\n",
      "Text: {'alternative': [{'transcript': 'I feel a sharp pain in my ankle joint when I stand', 'confidence': 0.987629}], 'final': True}\n",
      "\n",
      "Filename: 1249120_43758322_22806981.wav\n",
      "Text: {'alternative': [{'transcript': 'I feel pain when the party loved ones', 'confidence': 0.92731458}, {'transcript': 'I feel pain when the party Lovett ones'}, {'transcript': 'I feel pain when the party lovers ones'}, {'transcript': 'I feel pain when the party Lovitt ones'}, {'transcript': 'I feel pain when the Battle of advance'}], 'final': True}\n",
      "\n",
      "Filename: 1249120_35832653_47439698.wav\n",
      "Text: {'alternative': [{'transcript': 'I have blurred vision', 'confidence': 0.98762906}], 'final': True}\n",
      "\n",
      "Filename: 1249120_41203338_16801830.wav\n",
      "Text: {'alternative': [{'transcript': 'I have a blurry vision during my swimming training in the pool y', 'confidence': 0.95523202}, {'transcript': 'I have a blurry vision during my swimming training in the pool why'}, {'transcript': 'I have a blurry vision during my swimming training in the pool while I'}], 'final': True}\n",
      "\n",
      "Filename: 1249120_28006404_41904035.wav\n",
      "Text: {'alternative': [{'transcript': 'I used to be out of breath after going up a dozen of stairs but now I struggle to breathe even when I sit down', 'confidence': 0.97470361}, {'transcript': 'I used to be out of breath after going up a dozen of stares but now I struggle to breathe even when I sit down', 'confidence': 0.97470361}, {'transcript': 'I used to be out of breathe after going up a dozen of stairs but now I struggle to breathe even when I sit down', 'confidence': 0.97470361}, {'transcript': 'I used to B out of breath after going up a dozen of stairs but now I struggle to breathe even when I sit down', 'confidence': 0.97470361}, {'transcript': 'I used to be out of breath after goin up a dozen of stairs but now I struggle to breathe even when I sit down', 'confidence': 0.97470361}], 'final': True}\n",
      "\n",
      "Filename: 1249120_41150153_22120851.wav\n",
      "Text: {'alternative': [{'transcript': \"I feel like I just can't cope anymore I feel overwhelmed and like I just can't get a break\", 'confidence': 0.96267438}, {'transcript': \"I feel like I just can't cope anymore I feel overwhelming and like I just can't get a break\"}, {'transcript': \"I feel like I just can't cope anymore I feel overwhelmed and like I just don't get a break\"}, {'transcript': \"I feel like I just can't cope anymore I feel overwhelming and like I just don't get a break\"}], 'final': True}\n",
      "\n",
      "Filename: 1249120_35350617_109716520.wav\n",
      "Text: {'alternative': [{'transcript': 'I have throbbing in my shoulder', 'confidence': 0.987629}, {'transcript': 'ihave throbbing in my shoulder'}], 'final': True}\n",
      "\n",
      "Filename: 1249120_43883861_70865848.wav\n",
      "Text: {'alternative': [{'transcript': \"sometimes I called because I'm a smoker\", 'confidence': 0.96357495}, {'transcript': \"sometimes I call because I'm a smoker\"}], 'final': True}\n",
      "\n",
      "Filename: 1249120_38202325_106074244.wav\n",
      "Text: {'alternative': [{'transcript': 'when I get up I see my skin bag', 'confidence': 0.98554164}, {'transcript': 'when I get up I see my skin bagged', 'confidence': 0.98554164}, {'transcript': 'when I get up I C my skin bag', 'confidence': 0.98554164}, {'transcript': 'when I get up I see my skinned bag', 'confidence': 0.98554164}, {'transcript': 'when I get up I see my skin bagg', 'confidence': 0.98554164}], 'final': True}\n",
      "\n",
      "Filename: 1249120_43402738_41402952.wav\n",
      "Text: {'alternative': [{'transcript': \"what's the symptoms of appendicitis\", 'confidence': 0.98762906}], 'final': True}\n",
      "\n",
      "Filename: 1249120_36505751_42230782.wav\n",
      "Text: {'alternative': [{'transcript': 'then I stand up too quickly I start to feel dizzy and lightheaded', 'confidence': 0.88541514}, {'transcript': 'when I stand up too quickly I start to feel dizzy and lightheaded'}], 'final': True}\n",
      "\n",
      "Filename: 1249120_44027675_55913661.wav\n",
      "Text: {'alternative': [{'transcript': 'my hair is pulling up in the Hood song', 'confidence': 0.58536154}, {'transcript': 'my hair is pulling up in the hood'}, {'transcript': 'my head is pulling up in the Hood song'}, {'transcript': 'my head is pulling up in the hood'}, {'transcript': 'my hair is falling out female song'}], 'final': True}\n",
      "\n",
      "Filename: 1249120_43758322_18196987.wav\n",
      "Text: {'alternative': [{'transcript': 'I have a pain internal', 'confidence': 0.83347881}, {'transcript': 'I have a pay internal'}, {'transcript': 'I have a pain into now'}, {'transcript': 'I have a pay into now'}, {'transcript': 'I have a pee into now'}], 'final': True}\n",
      "\n",
      "Filename: 1249120_29289135_42191739.wav\n",
      "Text: {'alternative': [{'transcript': 'glass broken and wound my leg badly the wound is so wide', 'confidence': 0.86500311}, {'transcript': 'glass broken and wound my leg badly the wind is so wide'}, {'transcript': 'glass broken and wound my leg badly but wound is so wide'}, {'transcript': 'glass broken and mooned my leg badly the wind is so wide'}, {'transcript': 'glass broken and mooned my leg badly the wound is so wide'}], 'final': True}\n",
      "\n",
      "Filename: 1249120_41956733_43168402.wav\n",
      "Text: {'alternative': [{'transcript': \"my husband left me for another woman my heart hurts so badly to the point I can't eat or sleep\", 'confidence': 0.89756709}, {'transcript': \"my husband left me for another woman my heart hurt so badly to the point I can't eat or sleep\"}, {'transcript': 'my husband left me for another woman my heart hurts so badly to the point I can eat or sleep'}, {'transcript': 'my husband left me for another woman my heart hurt so badly to the point I can eat or sleep'}, {'transcript': \"my husband left me for another woman my heart hurts so badly for the point I can't eat or sleep\"}], 'final': True}\n",
      "\n",
      "Filename: 1249120_35448024_80496524.wav\n",
      "Text: []\n",
      "\n",
      "Filename: 1249120_15004831_19178925.wav\n",
      "Text: {'alternative': [{'transcript': 'my foot hurts me a lot of playing football', 'confidence': 0.98762906}], 'final': True}\n",
      "\n",
      "Filename: 1249120_38548574_35678770.wav\n",
      "Text: {'alternative': [{'transcript': \"I can't move my there is pain in the butt\", 'confidence': 0.91787708}, {'transcript': \"I can't move my there is pain in the\"}, {'transcript': \"I can't move my there is pain in\"}, {'transcript': \"I can't move there is pain in the butt\"}, {'transcript': \"I can't move my their is pain in the butt\"}], 'final': True}\n",
      "\n",
      "Filename: 1249120_43918153_80780292.wav\n",
      "Text: {'alternative': [{'transcript': 'I complain a lot of skin allergy', 'confidence': 0.80781651}, {'transcript': 'I complain a lot in Ellijay'}, {'transcript': 'I complain a lot of skin allergies'}], 'final': True}\n",
      "\n",
      "Filename: 1249120_36505751_105268460.wav\n",
      "Text: {'alternative': [{'transcript': 'I am struggling to bear weight on my knee when I stand straight I feel and hear a loud popping noise', 'confidence': 0.92652357}, {'transcript': 'I am struggling to Bare weight on my knee when I stand straight I feel and hear a loud popping noise', 'confidence': 0.92652357}, {'transcript': 'I am struggling to Barre weight on my knee when I stand straight I feel and hear a loud popping noise', 'confidence': 0.92652357}, {'transcript': 'I am struggling to Bayer weight on my knee when I stand straight I feel and hear a loud popping noise', 'confidence': 0.92652357}, {'transcript': 'I am struggling to bear weight on my knee when I stand straight I feel and hear allowed popping noise', 'confidence': 0.92366731}], 'final': True}\n",
      "\n",
      "Filename: 1249120_17632529_24541156.wav\n",
      "Text: {'alternative': [{'transcript': 'I have a dry throat', 'confidence': 0.9858982}, {'transcript': 'I have a dri throat', 'confidence': 0.9858982}, {'transcript': 'I have a dree throat', 'confidence': 0.9858982}, {'transcript': 'I haves a dry throat', 'confidence': 0.9858982}, {'transcript': 'I have a drye throat', 'confidence': 0.9858982}], 'final': True}\n",
      "\n",
      "Filename: 1249120_41956733_14386884.wav\n",
      "Text: {'alternative': [{'transcript': 'Wendy for the forest I have a pain on my ear', 'confidence': 0.70405048}, {'transcript': 'Wendy to the forest I have a pain on my ear'}, {'transcript': 'Wendy for the forest I have a pain on my year'}, {'transcript': 'navigate to the forest I have a pain on my ear'}, {'transcript': 'ranking for the forest I have a pain on my ear'}], 'final': True}\n",
      "\n",
      "Filename: 1249120_18386513_13590200.wav\n",
      "Text: {'alternative': [{'transcript': 'my skin is itching', 'confidence': 0.98762906}], 'final': True}\n",
      "\n",
      "Filename: 1249120_43918153_99962989.wav\n",
      "Text: {'alternative': [{'transcript': 'I feel a tightness in my chest', 'confidence': 0.95544297}, {'transcript': 'I feel tightness in my chest'}], 'final': True}\n",
      "\n",
      "Filename: 1249120_2171654_48514077.wav\n",
      "Text: {'alternative': [{'transcript': 'my shoulder has a great pain', 'confidence': 0.987629}], 'final': True}\n",
      "\n",
      "Filename: 1249120_39675900_25967632.wav\n",
      "Text: []\n",
      "\n",
      "Filename: 1249120_20518958_89490366.wav\n",
      "Text: {'alternative': [{'transcript': 'I feel so sore in my stomach.', 'confidence': 0.96240801}, {'transcript': 'I feel so sore in my stomach area'}, {'transcript': 'I feel so sore in my stomach'}], 'final': True}\n",
      "\n",
      "Filename: 1249120_43604449_92374177.wav\n",
      "Text: {'alternative': [{'transcript': \"Sam's along the whole abdomen\", 'confidence': 0.51546186}, {'transcript': 'fence along the whole abdomen'}, {'transcript': \"Bam's along the whole abdomen\"}, {'transcript': 'G along the whole abdomen'}, {'transcript': 'Famsa long the whole abdomen'}], 'final': True}\n",
      "\n",
      "Filename: 1249120_43620482_107449389.wav\n",
      "Text: {'alternative': [{'transcript': 'I was kicked in the head and playing soccer last night', 'confidence': 0.7875998}, {'transcript': 'it was kicked in the head and playing soccer last night'}], 'final': True}\n",
      "\n",
      "Filename: 1249120_40184183_95046457.wav\n",
      "Text: {'alternative': [{'transcript': \"mushroom look like it's not healing well\", 'confidence': 0.74744803}, {'transcript': \"mushroom look like that's not healing well\"}, {'transcript': 'mushroom look like tits not healing well'}, {'transcript': 'mushroom look like this not healing well'}, {'transcript': \"mushroom look like it's not healing\"}], 'final': True}\n",
      "\n",
      "Filename: 1249120_41221824_54896504.wav\n",
      "Text: {'alternative': [{'transcript': 'hearing any loose stools make my erection', 'confidence': 0.84782606}, {'transcript': 'hearing any loose stools make my ear itchy'}, {'transcript': 'hearing any loose stools make Maria Archie'}, {'transcript': 'hearing any loose stools make Mariachis'}, {'transcript': 'hearing any loose stools make mariachi'}], 'final': True}\n",
      "\n",
      "Filename: 1249120_35154350_20321660.wav\n",
      "Text: {'alternative': [{'transcript': 'my hair is falling when I am combing it', 'confidence': 0.94255012}, {'transcript': \"my hair is falling when I'm combing it\"}, {'transcript': \"my hair is falling what I'm combing it\"}, {'transcript': 'my hair is falling when I M combing it'}, {'transcript': 'my hair is falling what I am combing it'}], 'final': True}\n",
      "\n",
      "Filename: 1249120_35350617_82701281.wav\n",
      "Text: {'alternative': [{'transcript': 'I feel pain in the lower back', 'confidence': 0.987629}], 'final': True}\n",
      "\n",
      "Filename: 1249120_43665783_46864976.wav\n",
      "Text: {'alternative': [{'transcript': \"can't keep Focus\", 'confidence': 0.68816876}, {'transcript': 'County Focus'}, {'transcript': 'count keep Focus'}, {'transcript': 'count sheep Focus'}, {'transcript': 'count key Focus'}], 'final': True}\n",
      "\n",
      "Filename: 1249120_36505751_14170693.wav\n",
      "Text: {'alternative': [{'transcript': \"my knee doesn't want to bend well\", 'confidence': 0.9097079}, {'transcript': \"my knee doesn't want to bend welle\", 'confidence': 0.9097079}, {'transcript': \"my knee doesn't want to bend wehl\", 'confidence': 0.9097079}, {'transcript': \"my knee doesn't want to bend welll\", 'confidence': 0.9097079}, {'transcript': \"my knee doesn't want to bende well\", 'confidence': 0.9097079}], 'final': True}\n",
      "\n",
      "Filename: 1249120_17632529_91281502.wav\n",
      "Text: {'alternative': [{'transcript': 'I feel dizzy after severe diarrhea', 'confidence': 0.987629}], 'final': True}\n",
      "\n",
      "Filename: 1249120_35444693_87289216.wav\n",
      "Text: {'alternative': [{'transcript': 'no', 'confidence': 0.54915249}, {'transcript': 'no no'}, {'transcript': 'knowing'}, {'transcript': 'Young'}], 'final': True}\n",
      "\n",
      "Filename: 1249120_18172663_86712699.wav\n",
      "Text: {'alternative': [{'transcript': 'Cucina stand up or sit down I have a pain in my back that annoys me', 'confidence': 0.63516057}, {'transcript': 'Christian stand up or sit down I have a pain in my back that annoys me'}, {'transcript': \"I can't stand up or sit down I have a pain in my back that annoys me\"}, {'transcript': 'ATF stand up or sit down I have a pain in my back that annoys me'}, {'transcript': 'stand up or sit down I have a pain in my back that annoys me'}], 'final': True}\n",
      "\n",
      "Filename: 1249120_15004831_26452554.wav\n",
      "Text: {'alternative': [{'transcript': 'I have a split on my thumb that will not heal', 'confidence': 0.987629}], 'final': True}\n",
      "\n",
      "Filename: 1249120_43856216_17275772.wav\n",
      "Text: {'alternative': [{'transcript': \"I feel like I just can't cope anymore I feel overwhelmed and like I just can't take a break\", 'confidence': 0.97789484}, {'transcript': \"I feel like I just can't cope anymore I feel overwhelmed and like I just come take a break\"}], 'final': True}\n",
      "\n",
      "Filename: 1249120_41841195_25770419.wav\n",
      "Text: {'alternative': [{'transcript': 'I have an internal pain whenever I come down with a cold', 'confidence': 0.987629}], 'final': True}\n",
      "\n",
      "Filename: 1249120_43604449_103116849.wav\n",
      "Text: {'alternative': [{'transcript': \"my skin color on my back is red I don't know why\", 'confidence': 0.80897635}, {'transcript': \"my skin color on my back is great I don't know why\"}, {'transcript': \"my skin dealer on my back is red I don't know why\"}, {'transcript': \"my skin dealer on my back is great I don't know why\"}, {'transcript': \"my skin color on my back is rate I don't know why\"}], 'final': True}\n",
      "\n",
      "Filename: 1249120_43453425_36297310.wav\n",
      "Text: {'alternative': [{'transcript': 'my heart is beating fast and it is scares me', 'confidence': 0.97796905}, {'transcript': 'my heart is beating fast and it is scarce me'}, {'transcript': 'my heart is beating fast and it is scarce MI'}, {'transcript': 'my heart is beating fast and it is scarce mean'}], 'final': True}\n",
      "\n",
      "Filename: 1249120_44111844_70529548.wav\n",
      "Text: {'alternative': [{'transcript': 'skin is very dry and peeling', 'confidence': 0.987629}], 'final': True}\n",
      "\n",
      "Filename: 1249120_44111844_11944621.wav\n",
      "Text: {'alternative': [{'transcript': 'in the morning my respiration is', 'confidence': 0.88698035}, {'transcript': 'good morning my respiration is', 'confidence': 0.81063282}, {'transcript': 'in the morning my respiration is loud', 'confidence': 0.85441637}, {'transcript': 'in the morning my respiracion is', 'confidence': 0.88698035}, {'transcript': 'in the morning my respiration Iz', 'confidence': 0.88698035}], 'final': True}\n",
      "\n",
      "Filename: 1249120_44140394_87725441.wav\n",
      "Text: {'alternative': [{'transcript': 'when I play football I have muscle pain', 'confidence': 0.96912801}, {'transcript': 'when I played football I have muscle pain'}], 'final': True}\n",
      "\n",
      "Filename: 1249120_15004831_53846275.wav\n",
      "Text: {'alternative': [{'transcript': 'I had a cold the last time I traveled by plane and I still have a discomfort in my ears', 'confidence': 0.90473425}, {'transcript': 'I had a cold the last time I travelled by plane and I still have a discomfort in my ears'}, {'transcript': 'I had a cold the last time I traveled biplane and I still have a discomfort in my ears'}, {'transcript': 'I had a cold the last time I traveled by plain and I still have a discomfort in my ears'}, {'transcript': 'I had a cold the last time I travelled biplane and I still have a discomfort in my ears'}], 'final': True}\n",
      "\n",
      "Filename: 1249120_44140394_62148812.wav\n",
      "Text: {'alternative': [{'transcript': 'I have pimples on my back', 'confidence': 0.987629}], 'final': True}\n",
      "\n",
      "Filename: 1249120_21665495_67224500.wav\n",
      "Text: {'alternative': [{'transcript': \"my back hurts me and I can't bend it or walk\", 'confidence': 0.9033978}, {'transcript': 'my back hurts me and I can bend it or walk'}, {'transcript': \"my back hurts me and I can't bend it OVA\"}, {'transcript': 'my back hurts me and I can bend it over'}, {'transcript': 'my back hurts me and I can bend it OVA'}], 'final': True}\n",
      "\n",
      "Filename: 1249120_35350617_79852662.wav\n",
      "Text: []\n",
      "\n",
      "Filename: 1249120_22345789_20105875.wav\n",
      "Text: {'alternative': [{'transcript': 'I had an accident in my wound was open when I arrive to hospital', 'confidence': 0.96697026}, {'transcript': 'I had an accident in my wound was open when I arrived to hospital'}, {'transcript': 'I had an accident in my wound was open when I arrive at the hospital'}, {'transcript': 'I had an accident in my wound was open when I arrive 2 Hospital'}], 'final': True}\n",
      "\n",
      "Filename: 1249120_22345789_81720117.wav\n",
      "Text: {'alternative': [{'transcript': 'I started taking swimming lessons and I guess I swallow too much water through my nose because this sign your sinus is killing me now', 'confidence': 0.84776014}, {'transcript': 'I started taking swimming lessons and I guess I swallowed too much water through my nose because this sign your sinus is killing me now'}, {'transcript': 'I started taking swimming lessons and I guess I swallow too much water through my nose because this sign you sinus is killing me now'}, {'transcript': 'I started taking swimming lessons and I guess I swallowed too much water through my nose because this sign you sinus is killing me now'}, {'transcript': 'I started taking swimming lessons and I guess I swallow too much water through my nose because this sinus sinus is killing me now'}], 'final': True}\n",
      "\n",
      "Filename: 1249120_43612961_68102932.wav\n",
      "Text: {'alternative': [{'transcript': 'I have a dull ache in my lower back which makes it difficult to move', 'confidence': 0.92468923}, {'transcript': 'I have a dull ache in my lower back which makes it difficult to moov', 'confidence': 0.92468923}, {'transcript': 'I have a dull ache in my lower back which makes it difficult to moove', 'confidence': 0.92468923}, {'transcript': 'I have a dull ache in my lower back which makes it difficult to Muve', 'confidence': 0.92468923}, {'transcript': 'I have a dull ache in my lower Bak which makes it difficult to move', 'confidence': 0.92468923}], 'final': True}\n",
      "\n",
      "Filename: 1249120_35448024_31763813.wav\n",
      "Text: {'alternative': [{'transcript': 'my ankle is hurting me', 'confidence': 0.98762906}], 'final': True}\n",
      "\n",
      "Filename: 1249120_29289135_74049944.wav\n",
      "Text: {'alternative': [{'transcript': 'my face break out badly every month around my cycle', 'confidence': 0.8312456}, {'transcript': 'my face breakout badly every month around my cycle'}], 'final': True}\n",
      "\n",
      "Filename: 1249120_38548574_31841221.wav\n",
      "Text: {'alternative': [{'transcript': 'I have pimples in patches along with a lot of redness on my face', 'confidence': 0.987629}], 'final': True}\n",
      "\n",
      "Filename: 1249120_19425875_56371974.wav\n",
      "Text: {'alternative': [{'transcript': 'when I wake up I am feeling cold', 'confidence': 0.987629}], 'final': True}\n",
      "\n",
      "Filename: 1249120_43172391_87064421.wav\n",
      "Text: {'alternative': [{'transcript': 'having sharp pain in my ear', 'confidence': 0.95672673}, {'transcript': 'I having sharp pain in my ear'}], 'final': True}\n",
      "\n",
      "Filename: 1249120_18172663_51661758.wav\n",
      "Text: {'alternative': [{'transcript': 'my knee swell right below the kneecap and hurt when I put weight on them', 'confidence': 0.80287862}, {'transcript': 'my niece is swell right below the kneecap and hurt when I put weight on them'}, {'transcript': 'my niece is well right below the kneecap and hurt when I put weight on them'}, {'transcript': 'my niece well right below the kneecap and hurt when I put weight on them'}, {'transcript': 'my niece is 12 right below the kneecap and hurt when I put weight on them'}], 'final': True}\n",
      "\n",
      "Filename: 1249120_41221824_38190576.wav\n",
      "Text: {'alternative': [{'transcript': 'I can stop coaching', 'confidence': 0.91440189}, {'transcript': 'I can step coaching'}, {'transcript': 'I can stop cooking'}], 'final': True}\n",
      "\n",
      "Filename: 1249120_41150153_91801944.wav\n",
      "Text: {'alternative': [{'transcript': 'my niece Instagram as I go up and down stairs', 'confidence': 0.5627538}, {'transcript': 'my niece is to grin as I go up and down stairs'}, {'transcript': 'my niece is to bring as I go up and down stairs'}, {'transcript': 'my niece Instagram as I go up and down the stairs'}, {'transcript': 'my niece Instagram as I go up and downstairs'}], 'final': True}\n",
      "\n",
      "Filename: 1249120_43620482_33700185.wav\n",
      "Text: {'alternative': [{'transcript': 'I have cut my finger because of playing football and I to apply pain relief cream but it does not help', 'confidence': 0.7910558}, {'transcript': \"I've cut my finger because of playing football and I to apply pain relief cream but it does not help\"}], 'final': True}\n",
      "\n",
      "Filename: 1249120_43856216_25689439.wav\n",
      "Text: {'alternative': [{'transcript': 'when I get out of bed in the morning my body feels very weak', 'confidence': 0.98367006}, {'transcript': 'when I get out of bed in the morning my body feel is very weak'}], 'final': True}\n",
      "\n",
      "Filename: 1249120_31349958_99012976.wav\n",
      "Text: {'alternative': [{'transcript': 'like this', 'confidence': 0.396954}, {'transcript': 'like this song'}, {'transcript': 'exist'}, {'transcript': 'I like this'}], 'final': True}\n",
      "\n",
      "Filename: 1249120_43105396_26624858.wav\n",
      "Text: []\n",
      "\n",
      "Filename: 1249120_43604449_10399858.wav\n",
      "Text: {'alternative': [{'transcript': 'the arches of my feet hurt when I wear heels', 'confidence': 0.97886497}, {'transcript': 'the arches of my foot hurt when I wear heels'}, {'transcript': 'the artist of my feet hurt when I wear heels'}, {'transcript': 'the artists of my feet hurt when I wear heels'}], 'final': True}\n",
      "\n",
      "Filename: 1249120_43612961_102846835.wav\n",
      "Text: {'alternative': [{'transcript': 'the pain in my back dress like a sharp knife in it', 'confidence': 0.87745541}, {'transcript': 'pain in my back dress like a sharp knife in it'}, {'transcript': 'the pain in my back dressed like a sharp knife in it'}, {'transcript': 'the pain in my back dress like a sharp knife and it'}, {'transcript': 'the pain in my back just like a sharp knife in it'}], 'final': True}\n",
      "\n",
      "Filename: 1249120_38042052_95883093.wav\n",
      "Text: {'alternative': [{'transcript': 'I have shooting pain in my knee cap after working out', 'confidence': 0.97745299}, {'transcript': 'I have shooting pain in my knee cap off to working out'}, {'transcript': 'I have shooting pain in my knee cap off two working out'}], 'final': True}\n",
      "\n",
      "Filename: 1249120_42783052_97121097.wav\n",
      "Text: {'alternative': [{'transcript': \"a good groom's tears of pimples on my face that never go away\", 'confidence': 0.56254715}, {'transcript': 'are good Gloom stairs of pimples on my face that never go away'}, {'transcript': 'are good Gloom status of pimples on my face that never go away'}, {'transcript': 'a good Gloom status of pimples on my face that never go away'}, {'transcript': 'are good Grooms tears of pimples on my face that never go away'}], 'final': True}\n",
      "\n",
      "Filename: 1249120_17632529_22635091.wav\n",
      "Text: {'alternative': [{'transcript': 'I feel pain in the lower back', 'confidence': 0.987629}], 'final': True}\n",
      "\n",
      "Filename: 1249120_43604449_65875441.wav\n",
      "Text: {'alternative': [{'transcript': 'when I stand up too quickly I start to feel dizzy and lightheaded', 'confidence': 0.987629}], 'final': True}\n",
      "\n",
      "Filename: 1249120_38042052_43622678.wav\n",
      "Text: {'alternative': [{'transcript': 'I have blurry vision after I used a wrong medicine', 'confidence': 0.94789898}, {'transcript': 'or I have blurry vision after I used a wrong medicine'}, {'transcript': 'or have blurry vision after I used a wrong medicine'}, {'transcript': 'I have blurry vision after I used the wrong medicine'}, {'transcript': 'or I have blurry vision after I used the wrong medicine'}], 'final': True}\n",
      "\n",
      "Filename: 1249120_43788827_64434079.wav\n",
      "Text: {'alternative': [{'transcript': 'all of a sudden I felt dizzy when I stood up', 'confidence': 0.94457662}, {'transcript': 'all of the sudden I felt dizzy when I stood up'}], 'final': True}\n",
      "\n",
      "Filename: 1249120_6338946_86910481.wav\n",
      "Text: {'alternative': [{'transcript': 'every time I look to left I feel a sharp pain in my neck', 'confidence': 0.95962375}, {'transcript': 'every time I look to laugh I feel a sharp pain in my neck', 'confidence': 0.92387855}, {'transcript': 'every time I look Tio left I feel a sharp pain in my neck', 'confidence': 0.95962375}, {'transcript': 'every time I look Teo left I feel a sharp pain in my neck', 'confidence': 0.95962375}, {'transcript': 'every time I look to lefte I feel a sharp pain in my neck', 'confidence': 0.95962375}], 'final': True}\n",
      "\n",
      "Filename: 1249120_39740177_38735249.wav\n",
      "Text: {'alternative': [{'transcript': 'I had a pain in my knee when I was swimming', 'confidence': 0.987629}], 'final': True}\n",
      "\n",
      "Filename: 1249120_6338946_85710292.wav\n",
      "Text: {'alternative': [{'transcript': 'the last time I clipped my toenails I cut them too short and now I have an infected nail', 'confidence': 0.98762906}], 'final': True}\n",
      "\n",
      "Filename: 1249120_2171654_11877331.wav\n",
      "Text: {'alternative': [{'transcript': 'I feel muscle pain everytime I make an extra effort', 'confidence': 0.82831782}, {'transcript': 'I feel muscle pain every time I make an extra effort'}], 'final': True}\n",
      "\n",
      "Filename: 1249120_43612961_28076189.wav\n",
      "Text: {'alternative': [{'transcript': 'I have a shopping in my abdomen', 'confidence': 0.987629}], 'final': True}\n",
      "\n",
      "Filename: 1249120_21665495_15270363.wav\n",
      "Text: {'alternative': [{'transcript': 'they spin in the muscles I do not know code', 'confidence': 0.79730684}, {'transcript': \"they spin in the muscles I do not know Kohl's\"}, {'transcript': 'they spin in the muscles I do not know whose'}, {'transcript': 'they spin in the mussels I do not know code'}, {'transcript': \"they spin in the muscles I do not know who's\"}], 'final': True}\n",
      "\n",
      "Filename: 1249120_39154234_35585696.wav\n",
      "Text: {'alternative': [{'transcript': 'I cut myself and I am bleeding', 'confidence': 0.9744094}, {'transcript': 'I cut myself and I mm bleeding', 'confidence': 0.9744094}, {'transcript': 'I cut myself and I mmm bleeding', 'confidence': 0.9744094}, {'transcript': 'I cut myself and I am bleading', 'confidence': 0.9744094}, {'transcript': 'I cut myself and I am bleedimg', 'confidence': 0.9744094}], 'final': True}\n",
      "\n",
      "Filename: 1249120_41203338_82292132.wav\n",
      "Text: {'alternative': [{'transcript': 'my bicep started aching after I went to the gym', 'confidence': 0.82988149}, {'transcript': 'my biceps started aching after I went to the gym'}], 'final': True}\n",
      "\n",
      "Filename: 1249120_22423108_99422083.wav\n",
      "Text: {'alternative': [{'transcript': \"it's hard to stand up and I'm moving very slowly\", 'confidence': 0.98762906}], 'final': True}\n",
      "\n",
      "Filename: 1249120_41841195_30821827.wav\n",
      "Text: {'alternative': [{'transcript': 'longitudinal learning line across back with hard respiratory movements', 'confidence': 0.806481}, {'transcript': 'longitudinal learning light across back with hard respiratory movements'}, {'transcript': 'longitudinal learning lie across back with hard respiratory movements'}, {'transcript': 'longitudinal learning lines across back with hard respiratory movements'}, {'transcript': 'longitudinal burning line across back with hard respiratory movements'}], 'final': True}\n",
      "\n",
      "Filename: 1249120_41221824_65587012.wav\n",
      "Text: {'alternative': [{'transcript': 'I have a pain in my trips', 'confidence': 0.98065728}, {'transcript': 'I have a pain in my traipse'}], 'final': True}\n",
      "\n",
      "Filename: 1249120_42557795_64041675.wav\n",
      "Text: {'alternative': [{'transcript': 'I have a strong shoulder pain', 'confidence': 0.78646106}, {'transcript': 'I am a strong shoulder pain'}, {'transcript': 'I am a strong Philippine'}, {'transcript': 'I am a strong Philippines'}], 'final': True}\n",
      "\n",
      "Filename: 1249120_39142299_63920067.wav\n",
      "Text: {'alternative': [{'transcript': 'I have something pains up and down my back', 'confidence': 0.98310119}, {'transcript': 'I have something pains up and down my bag'}, {'transcript': 'I have something fence up and down my back'}, {'transcript': 'I have something fans up and down my back'}, {'transcript': 'I have something pains up and down on my back'}], 'final': True}\n",
      "\n",
      "Filename: 1249120_40663048_59137120.wav\n",
      "Text: []\n",
      "\n",
      "Filename: 1249120_43402738_26313855.wav\n",
      "Text: {'alternative': [{'transcript': 'my ear is ringing', 'confidence': 0.98762906}], 'final': True}\n",
      "\n",
      "Filename: 1249120_20518958_107552103.wav\n",
      "Text: {'alternative': [{'transcript': 'sharp pain and heavy bleeding', 'confidence': 0.68128788}, {'transcript': 'surfing and heavy bleeding'}, {'transcript': 'sardine and heavy bleeding'}, {'transcript': 'serpine and heavy bleeding'}], 'final': True}\n",
      "\n",
      "Filename: 1249120_29672643_77754939.wav\n",
      "Text: {'alternative': [{'transcript': 'I have a sharp pain and clicking sound in my ankle joint when I try to stand on it and walk', 'confidence': 0.98712695}, {'transcript': 'I have a sharp pain and clicking sound in my ankle joint when I try to stand on it and Wok', 'confidence': 0.98712695}, {'transcript': 'I have a sharp pain and clicking sound in my ankle joint when I try to stand on it and work', 'confidence': 0.97305506}, {'transcript': 'I have a sharp pain and clicking sound in my ankle joint when I try to stand on it and Wolk', 'confidence': 0.98712695}, {'transcript': 'I have a sharp pain and clicking sound in my ankle joint when I try to stand on it and walke', 'confidence': 0.98712695}], 'final': True}\n",
      "\n",
      "Filename: 1249120_18386513_32736522.wav\n",
      "Text: {'alternative': [{'transcript': 'I was kicked in the head playing soccer last night', 'confidence': 0.98762906}], 'final': True}\n",
      "\n",
      "Filename: 1249120_43951421_50783550.wav\n",
      "Text: {'alternative': [{'transcript': 'myocardium listening to music', 'confidence': 0.64276958}, {'transcript': \"Maya, I'm listening to music\"}, {'transcript': \"my echo I'm listening to music\"}, {'transcript': \"my AAA car I'm listening to music\"}, {'transcript': \"myHR I'm listening to music\"}], 'final': True}\n",
      "\n",
      "Filename: 1249120_44142156_10833572.wav\n",
      "Text: {'alternative': [{'transcript': 'dad is soiling in my neck and it hurts', 'confidence': 0.98762906}], 'final': True}\n",
      "\n",
      "Filename: 1249120_39154234_37284828.wav\n",
      "Text: {'alternative': [{'transcript': 'examples of a skin disease', 'confidence': 0.68321741}, {'transcript': 'examples of skin disease'}, {'transcript': 'examples of skin diseases'}, {'transcript': 'is compulsory skin disease'}, {'transcript': 'examples of the skin disease'}], 'final': True}\n",
      "\n",
      "Filename: 1249120_43620482_59681420.wav\n",
      "Text: {'alternative': [{'transcript': \"I don't know why I'm constantly sad\", 'confidence': 0.94582242}, {'transcript': \"I don't know why I'm constantly said\"}], 'final': True}\n",
      "\n",
      "Filename: 1249120_29672643_64758791.wav\n",
      "Text: {'alternative': [{'transcript': 'is there a cure for acne', 'confidence': 0.987629}], 'final': True}\n",
      "\n",
      "Filename: 1249120_39438102_82319549.wav\n",
      "Text: {'alternative': [{'transcript': 'I do not feel better in my muscles', 'confidence': 0.97721678}, {'transcript': 'I do not feel better in my mussels', 'confidence': 0.97721678}, {'transcript': 'I do not feel better Inn my muscles', 'confidence': 0.97721678}, {'transcript': 'I do not feel better in my musles', 'confidence': 0.97721678}, {'transcript': 'I do not feel better een my muscles', 'confidence': 0.97721678}], 'final': True}\n",
      "\n",
      "Filename: 1249120_18386513_43428617.wav\n",
      "Text: {'alternative': [{'transcript': 'I have an internal pain I cannot describe', 'confidence': 0.987629}], 'final': True}\n",
      "\n",
      "Filename: 1249120_43951421_21502151.wav\n",
      "Text: {'alternative': [{'transcript': 'I feel a tightness in my chest', 'confidence': 0.87594539}, {'transcript': 'I feel tightness in my chest'}, {'transcript': 'I feel the tightness in my chest'}], 'final': True}\n",
      "\n",
      "Filename: 1249120_35154350_45084314.wav\n",
      "Text: {'alternative': [{'transcript': 'I feel suicidal', 'confidence': 0.98762912}], 'final': True}\n",
      "\n",
      "Filename: 1249120_30937687_15305633.wav\n",
      "Text: {'alternative': [{'transcript': 'my body feels weak although I eat a lot why', 'confidence': 0.92346227}, {'transcript': 'my body feels week although I eat a lot why'}, {'transcript': 'my body feels because although I eat a lot why'}, {'transcript': 'my body feels weak although I ate a lot why'}, {'transcript': 'my body feels weak all do I eat a lot why'}], 'final': True}\n",
      "\n",
      "Filename: 1249120_41087148_83155366.wav\n",
      "Text: []\n",
      "\n",
      "Filename: 1249120_21665495_105629373.wav\n",
      "Text: {'alternative': [{'transcript': 'I feel a pain in my back', 'confidence': 0.85563666}, {'transcript': 'I eat a pain in my back'}, {'transcript': 'I feel pain in my back'}, {'transcript': 'I need a pain in my back'}, {'transcript': 'I ate a pain in my back'}], 'final': True}\n",
      "\n",
      "Filename: 1249120_40571337_34139299.wav\n",
      "Text: {'alternative': [{'transcript': 'I have a pain in my stomach', 'confidence': 0.987629}], 'final': True}\n",
      "\n",
      "Filename: 1249120_36505751_87095457.wav\n",
      "Text: {'alternative': [{'transcript': 'my temperature. And my bodyguards I noticed', 'confidence': 0.63177156}, {'transcript': 'my temperature. And My Bodyguard signage'}, {'transcript': 'my temperature. End of my bodyguard signage'}, {'transcript': 'my temperature. And My Bodyguard scientist'}, {'transcript': 'my temperature. End of my bodyguard scientist'}], 'final': True}\n",
      "\n",
      "Filename: 1249120_28006404_89306044.wav\n",
      "Text: {'alternative': [{'transcript': 'I have the strange rash on my arm', 'confidence': 0.9510771}, {'transcript': 'I have this strange rash on my arm'}], 'final': True}\n",
      "\n",
      "Filename: 1249120_39438102_81695217.wav\n",
      "Text: {'alternative': [{'transcript': 'I hate my acne', 'confidence': 0.98762906}], 'final': True}\n",
      "\n",
      "Filename: 1249120_29289135_24451651.wav\n",
      "Text: {'alternative': [{'transcript': 'there is acne on my face', 'confidence': 0.95810729}, {'transcript': \"there's acne on my face\"}, {'transcript': 'there is Acme on my face'}, {'transcript': \"they're is acne on my face\"}, {'transcript': 'where is Acme on my face'}], 'final': True}\n",
      "\n",
      "Filename: 1249120_6338946_33732438.wav\n",
      "Text: {'alternative': [{'transcript': 'I get breakouts on my chest with red patches that get more intense when I get hot', 'confidence': 0.98943663}, {'transcript': 'I get breakouts on my chest with read patches that get more intense when I get hot', 'confidence': 0.98943663}, {'transcript': 'I get breakouts on my chests with red patches that get more intense when I get hot', 'confidence': 0.98943663}, {'transcript': 'I get breakouts on my chest with Redd patches that get more intense when I get hot', 'confidence': 0.98943663}, {'transcript': 'I get breakouts on my chest with red patches that get more intense when I get Hott', 'confidence': 0.98943663}], 'final': True}\n",
      "\n",
      "Filename: 1249120_30937687_58237833.wav\n",
      "Text: {'alternative': [{'transcript': 'I feel cold when the Night Comes', 'confidence': 0.987629}], 'final': True}\n",
      "\n",
      "Filename: 1249120_44093303_75550383.wav\n",
      "Text: {'alternative': [{'transcript': 'my face break out badly every month around my cycle', 'confidence': 0.81546307}, {'transcript': 'my face breakout badly every month around my cycle'}], 'final': True}\n",
      "\n",
      "Filename: 1249120_42210938_97700327.wav\n",
      "Text: []\n",
      "\n",
      "Filename: 1249120_39438102_33652887.wav\n",
      "Text: {'alternative': [{'transcript': \"I'm feeling nauseous\", 'confidence': 0.98762912}], 'final': True}\n",
      "\n",
      "Filename: 1249120_41150153_45017248.wav\n",
      "Text: {'alternative': [{'transcript': 'I have a cat that is red and swollen', 'confidence': 0.94159168}, {'transcript': 'I have dad that is red and swollen'}, {'transcript': 'I have a dad that is red and swollen'}, {'transcript': 'I have Dad Dad is red and swollen'}, {'transcript': 'I had a cat that is red and swollen'}], 'final': True}\n",
      "\n",
      "Filename: 1249120_42210938_68900643.wav\n",
      "Text: {'alternative': [{'transcript': 'I have General discomfort', 'confidence': 0.95017296}, {'transcript': 'I have General discomfort in my toes'}, {'transcript': 'I have General discomfort in my'}, {'transcript': 'I have General discovery'}, {'transcript': 'I have General discomfort in my toast'}], 'final': True}\n",
      "\n",
      "Filename: 1249120_20518958_96198873.wav\n",
      "Text: {'alternative': [{'transcript': 'I do like that is something swollen and inflamed at the back of my knee', 'confidence': 0.73277223}, {'transcript': \"I didn't like that is something swollen and inflamed at the back of my knee\"}, {'transcript': '18 like that is something swollen and inflamed at the back of my knee'}, {'transcript': \"I didn't like that it's something swollen and inflamed at the back of my knee\"}, {'transcript': 'I do like that is something swollen and inflamed at the back of my name'}], 'final': True}\n",
      "\n",
      "Filename: 1249120_35154350_86104942.wav\n",
      "Text: {'alternative': [{'transcript': 'my chest hurts when I smoke', 'confidence': 0.98520595}, {'transcript': 'my chest hurts when I spoke'}], 'final': True}\n",
      "\n",
      "Filename: 1249120_43172391_88347770.wav\n",
      "Text: {'alternative': [{'transcript': 'feels like pins and needles sticking in my joints', 'confidence': 0.86844182}, {'transcript': 'fix like pins and needles sticking in my joints'}, {'transcript': 'beats like pins and needles sticking in my joints'}, {'transcript': 'freaks like pins and needles sticking in my joints'}, {'transcript': 'fix like that on pins and needles sticking in my joints'}], 'final': True}\n",
      "\n",
      "Filename: 1249120_15004831_72284888.wav\n",
      "Text: {'alternative': [{'transcript': 'my chest hurts when I smoke', 'confidence': 0.987629}], 'final': True}\n",
      "\n",
      "Filename: 1249120_35154350_103199506.wav\n",
      "Text: {'alternative': [{'transcript': \"I'm suffering from sharp cough accompanied by phlegm\", 'confidence': 0.9462868}, {'transcript': \"I'm suffering from Sharpe cough accompanied by phlegm\"}, {'transcript': \"I'm suffering from sharp cough accompanied by Flem\"}, {'transcript': \"I'm suffering from sharp cough accompany by phlegm\"}, {'transcript': \"I'm suffering from Sharpe cough accompany by phlegm\"}], 'final': True}\n",
      "\n",
      "Filename: 1249120_40401830_55276482.wav\n",
      "Text: {'alternative': [{'transcript': 'every time I cut my hair there are so many', 'confidence': 0.86530244}, {'transcript': 'every time I cut my hair there are so many hair', 'confidence': 0.84366965}, {'transcript': 'everytime I cut my hair there are so many', 'confidence': 0.80561101}, {'transcript': 'every time I cut my hair there are so many Hare', 'confidence': 0.84366965}, {'transcript': 'every time I cut my Hare there are so many', 'confidence': 0.86530244}], 'final': True}\n",
      "\n",
      "Filename: 1249120_43402738_106409407.wav\n",
      "Text: {'alternative': [{'transcript': \"I'm struggling to bear weight on my knee when I stand straight I feel and hear a loud popping noise\", 'confidence': 0.97993135}, {'transcript': \"I'm struggling to bear weight on my knee when I stand Street I feel and hear a loud popping noise\"}, {'transcript': \"I'm struggling to bear weight on my knee when it stands straight I feel and hear a loud popping noise\"}], 'final': True}\n",
      "\n",
      "Filename: 1249120_43172391_66808089.wav\n",
      "Text: {'alternative': [{'transcript': 'it started Demeter today the pain is throbbing and unbearable', 'confidence': 0.71981841}, {'transcript': 'started Demeter today the pain is throbbing and unbearable'}, {'transcript': 'it started as a teenager today the pain is throbbing and unbearable'}, {'transcript': 'it started today the pain is throbbing and unbearable'}, {'transcript': 'it started as a m today the pain is throbbing and unbearable'}], 'final': True}\n",
      "\n",
      "Filename: 1249120_17632529_10666453.wav\n",
      "Text: {'alternative': [{'transcript': 'I have difficulty in breathing in crowded places', 'confidence': 0.91178375}, {'transcript': 'I have difficulty in breathing and crowded places'}], 'final': True}\n",
      "\n",
      "Filename: 1249120_22345789_73595252.wav\n",
      "Text: {'alternative': [{'transcript': 'the crushing sensation on my heart leaves me Breathless', 'confidence': 0.94477773}, {'transcript': 'depression sensation on my heart leaves me Breathless'}], 'final': True}\n",
      "\n",
      "Filename: 1249120_22345789_49988378.wav\n",
      "Text: {'alternative': [{'transcript': \"my neck is annoying me I can't sleep because of it\", 'confidence': 0.987629}], 'final': True}\n",
      "\n",
      "Filename: 1249120_43883861_58321083.wav\n",
      "Text: {'alternative': [{'transcript': \"the pain feels like it's right below the skin\", 'confidence': 0.98762906}], 'final': True}\n",
      "\n",
      "Filename: 1249120_30937687_97698429.wav\n",
      "Text: {'alternative': [{'transcript': 'I think my phone is infected', 'confidence': 0.80667639}, {'transcript': 'I think my mom is infected', 'confidence': 0.82136887}, {'transcript': 'I think my bound is infected', 'confidence': 0.86198163}, {'transcript': 'igh think my phone is infected', 'confidence': 0.80667639}, {'transcript': 'I thinq my phone is infected', 'confidence': 0.80667639}], 'final': True}\n",
      "\n",
      "Filename: 1249120_22345789_82495867.wav\n",
      "Text: {'alternative': [{'transcript': 'I feel a soreness in my knees when I walk', 'confidence': 0.94714057}, {'transcript': 'I feel a soreness and my knees when I walk', 'confidence': 0.93724233}, {'transcript': 'I feel a soreness in my knees when I Wok', 'confidence': 0.94714057}, {'transcript': 'I feel a soreness in my knees when I Wolk', 'confidence': 0.94714057}, {'transcript': 'I feel a sorness in my knees when I walk', 'confidence': 0.94714057}], 'final': True}\n",
      "\n",
      "Filename: 1249120_15830408_45907625.wav\n",
      "Text: {'alternative': [{'transcript': 'I feel a soreness in my knees when I walk', 'confidence': 0.98186076}, {'transcript': 'I feel a soreness in my knees when I walked'}], 'final': True}\n",
      "\n",
      "Filename: 1249120_43883861_46955000.wav\n",
      "Text: {'alternative': [{'transcript': 'I called move my legs there is a pain in the joint', 'confidence': 0.58043426}, {'transcript': 'icon move my legs there is a pain in the joint'}, {'transcript': 'I called move my leg there is a pain in the joint'}, {'transcript': 'I can move my legs there is a pain in the joint'}, {'transcript': 'Icahn move my legs there is a pain in the joint'}], 'final': True}\n",
      "\n",
      "Filename: 1249120_41841195_80324388.wav\n",
      "Text: {'alternative': [{'transcript': 'I feel pain in my shoulders when I write on the keyboard', 'confidence': 0.93973237}, {'transcript': 'I feel pain in my shoulders when I right on the keyboard'}, {'transcript': 'I feel pain in my shoulders when I ride on the keyboard'}], 'final': True}\n",
      "\n",
      "Filename: 1249120_41087148_41229173.wav\n",
      "Text: {'alternative': [{'transcript': '5e legendary online inside', 'confidence': 0.5197618}, {'transcript': 'Ivy Legend Online inside'}, {'transcript': '5e legendary on my inside'}, {'transcript': 'IV legendary online inside'}, {'transcript': 'HyVee Legend Online inside'}], 'final': True}\n",
      "\n",
      "Filename: 1249120_43951421_11464219.wav\n",
      "Text: {'alternative': [{'transcript': \"when I stand up I feel like I'm getting food and instantly\", 'confidence': 0.8529523}, {'transcript': \"when I stand up I feel like I'm going to food and instantly\"}, {'transcript': \"when I stand up I feel like I'm going to Fudan instantly\"}, {'transcript': \"when I stand up I feel like I'm going to futon instantly\"}, {'transcript': \"when I stand up I feel like I'm getting two food and instantly\"}], 'final': True}\n",
      "\n",
      "Filename: 1249120_44111844_29731855.wav\n",
      "Text: {'alternative': [{'transcript': 'is ringing', 'confidence': 0.54048967}, {'transcript': 'swinging'}, {'transcript': 'is winging'}, {'transcript': 'where is ringing'}, {'transcript': 'is winning'}], 'final': True}\n",
      "\n",
      "Filename: 1249120_44101988_88775464.wav\n",
      "Text: {'alternative': [{'transcript': 'it hurts when I bend my arm', 'confidence': 0.987629}], 'final': True}\n",
      "\n",
      "Filename: 1249120_35408915_52036297.wav\n",
      "Text: {'alternative': [{'transcript': 'my hair is falling when I am coming it', 'confidence': 0.98762906}], 'final': True}\n",
      "\n",
      "Filename: 1249120_36505751_20826154.wav\n",
      "Text: {'alternative': [{'transcript': 'all my body is in a bad case and I need a good treatment', 'confidence': 0.56747645}, {'transcript': 'hug my body is in a bad case and I need a good treatment'}, {'transcript': \"how's my body is in a bad case and I need a good treatment\"}, {'transcript': 'call my body is in a bad case and I need a good treatment'}, {'transcript': 'well my body is in a bad case and I need a good treatment'}], 'final': True}\n",
      "\n",
      "Filename: 1249120_43577102_86704705.wav\n",
      "Text: {'alternative': [{'transcript': 'when I eat sugar I noticed my vision gloves', 'confidence': 0.79868102}, {'transcript': 'when I eat sugar I noticed my Vision Glass'}, {'transcript': 'when I eat sugar I noticed my vision blog'}, {'transcript': 'when I eat sugar I noticed my vision blocks'}, {'transcript': 'when I eat sugar I noticed my vision block'}], 'final': True}\n",
      "\n",
      "Filename: 1249120_35408915_75021699.wav\n",
      "Text: {'alternative': [{'transcript': 'I feel dizzy and out of sight', 'confidence': 0.97010243}, {'transcript': 'I feel Dizzee and out of sight', 'confidence': 0.97010243}, {'transcript': 'I feel dizzi and out of sight', 'confidence': 0.97010243}, {'transcript': 'igh feel dizzy and out of sight', 'confidence': 0.97010243}, {'transcript': 'I feel dizzy and oudt of sight', 'confidence': 0.97010243}], 'final': True}\n",
      "\n",
      "Filename: 1249120_44101988_15966646.wav\n",
      "Text: {'alternative': [{'transcript': 'doctors Pakistan find the right treatment to get my hair back', 'confidence': 0.69430822}, {'transcript': 'agitated many doctors Pakistan find the right treatment to get my hair back'}, {'transcript': 'ismaily doctors Pakistan find the right treatment to get my hair back'}, {'transcript': 'anticipated money doctors Pakistan find the right treatment to get my hair back'}, {'transcript': 'agitated money doctors Pakistan find the right treatment to get my hair back'}], 'final': True}\n",
      "\n",
      "Filename: 1249120_41203338_79174522.wav\n",
      "Text: {'alternative': [{'transcript': 'I have an open wound in my arm', 'confidence': 0.95346206}, {'transcript': 'I have an open wound in my are'}, {'transcript': 'I have an open wound in my AR'}, {'transcript': 'I have an open wound in my r'}, {'transcript': 'I have an open wound on my arm'}], 'final': True}\n",
      "\n",
      "Filename: 1249120_35170334_104105892.wav\n",
      "Text: {'alternative': [{'transcript': 'I toppled over while jumping to catch the ball', 'confidence': 0.96064103}, {'transcript': 'I toppled over while jumping to get the ball'}, {'transcript': 'I toppled over while jumping to get the board'}], 'final': True}\n",
      "\n",
      "Filename: 1249120_1853182_41518759.wav\n",
      "Text: {'alternative': [{'transcript': 'money cat feels like it is grading bone on bone when I walk', 'confidence': 0.92678517}, {'transcript': 'money cat feels like it is grating bone on bone when I walk', 'confidence': 0.92316288}, {'transcript': 'money cap feels like it is grading bone on bone when I walk', 'confidence': 0.90598935}, {'transcript': 'money Kat feels like it is grading bone on bone when I walk', 'confidence': 0.92678517}, {'transcript': 'money cap feels like it is grating bone on bone when I walk', 'confidence': 0.90271145}], 'final': True}\n",
      "\n",
      "Filename: 1249120_44023395_11319081.wav\n",
      "Text: {'alternative': [{'transcript': 'Idaho holding reindeer', 'confidence': 0.65994853}, {'transcript': 'volume'}, {'transcript': 'Idaho bowling lanes'}, {'transcript': 'Idaho holieway New York'}, {'transcript': 'Idaho holding rain'}], 'final': True}\n",
      "\n",
      "Filename: 1249120_43604449_77397403.wav\n",
      "Text: {'alternative': [{'transcript': 'laceration Rapture or opening in the skin', 'confidence': 0.91904038}, {'transcript': 'laceration Rapture are opening in the skin'}], 'final': True}\n",
      "\n",
      "Filename: 1249120_29289135_97419173.wav\n",
      "Text: {'alternative': [{'transcript': 'when I sneeze very hard I feel earache', 'confidence': 0.97015315}, {'transcript': 'when I sneeze very hard I feel ear ache'}], 'final': True}\n",
      "\n",
      "Filename: 1249120_44093933_103745670.wav\n",
      "Text: {'alternative': [{'transcript': \"my heart feels like it's going to explode\", 'confidence': 0.92845738}, {'transcript': \"my head feels like it's going to explode\"}], 'final': True}\n",
      "\n",
      "Filename: 1249120_30766630_79293833.wav\n",
      "Text: {'alternative': [{'transcript': 'my headache since I woke up this morning', 'confidence': 0.92665142}, {'transcript': 'my headaches since I woke up this morning'}], 'final': True}\n",
      "\n",
      "Filename: 1249120_43665783_101422665.wav\n",
      "Text: {'alternative': [{'transcript': 'I feel pain in my joints after an injury in the last football match I played', 'confidence': 0.7790904}, {'transcript': 'I feel pain in my joint after an injury in the last football match I played'}, {'transcript': 'I feel pain in my joints after an injury in the lab football match I played'}, {'transcript': 'I feel pain in my joint after an injury in the lab football match I played'}, {'transcript': 'I feel pain in my joints after an injury in the lock football match I played'}], 'final': True}\n",
      "\n",
      "Filename: 1249120_43855932_104821230.wav\n",
      "Text: {'alternative': [{'transcript': 'I feel cold when the Night Comes', 'confidence': 0.987629}], 'final': True}\n",
      "\n",
      "Filename: 1249120_29289135_23229716.wav\n",
      "Text: {'alternative': [{'transcript': 'I have a cold and it makes me cough a lot', 'confidence': 0.987629}], 'final': True}\n",
      "\n",
      "Filename: 1249120_35832653_69020380.wav\n",
      "Text: {'alternative': [{'transcript': 'I have an open wound in my arm', 'confidence': 0.987629}], 'final': True}\n",
      "\n",
      "Filename: 1249120_43604449_68658518.wav\n",
      "Text: {'alternative': [{'transcript': 'there is a constant tickle in my throat', 'confidence': 0.987629}, {'transcript': 'there is a constant tickle in my throat.'}], 'final': True}\n",
      "\n",
      "Filename: 1249120_38202325_72751015.wav\n",
      "Text: {'alternative': [{'transcript': \"I have an earache that won't go away I don't have a cold or headache or any other symptoms just an earache\", 'confidence': 0.97801989}, {'transcript': \"I have an earache that won't go away I don't have a cold or headache or any other symptoms Justin earache\"}], 'final': True}\n",
      "\n",
      "Filename: 1249120_28006404_48756924.wav\n",
      "Text: {'alternative': [{'transcript': 'when I was washing my hair it was falling out heavily', 'confidence': 0.95077091}, {'transcript': 'when I was washing my hair it was falling-out heavily'}], 'final': True}\n",
      "\n",
      "Filename: 1249120_43620482_70322775.wav\n",
      "Text: {'alternative': [{'transcript': 'I walk everyday but now I get short of breath after only going a short way', 'confidence': 0.94340408}, {'transcript': 'I walk every day but now I get short of breath after only going a short way'}], 'final': True}\n",
      "\n",
      "Filename: 1249120_42082009_54451824.wav\n",
      "Text: {'alternative': [{'transcript': 'when I stand up too quickly I start to feel dizzy and lightheaded', 'confidence': 0.94988513}, {'transcript': 'when I stand up too quickly I start to feel dizzy and light-headed', 'confidence': 0.94539475}, {'transcript': 'when I stand up too quickly I start Tio feel dizzy and lightheaded', 'confidence': 0.94988513}, {'transcript': 'when I stand up too quickly I start Teo feel dizzy and lightheaded', 'confidence': 0.94988513}, {'transcript': 'when I stand up too quickly I start to Fiel dizzy and lightheaded', 'confidence': 0.94988513}], 'final': True}\n",
      "\n",
      "Filename: 1249120_44101988_41866995.wav\n",
      "Text: {'alternative': [{'transcript': 'I feel you trying to, planning Falls', 'confidence': 0.82209861}, {'transcript': 'I feel you trying to, planning fall'}, {'transcript': 'I feel for you trying to, planning Falls'}, {'transcript': 'I feel few trying to, planning Falls'}, {'transcript': 'I filled you trying to, planning Falls'}], 'final': True}\n",
      "\n",
      "Filename: 1249120_35154350_100172744.wav\n",
      "Text: {'alternative': [{'transcript': 'I have a mental suffering', 'confidence': 0.99014223}, {'transcript': 'I have a mentel suffering', 'confidence': 0.99014223}, {'transcript': 'I have a mentul suffering', 'confidence': 0.99014223}, {'transcript': 'I have a mentele suffering', 'confidence': 0.99014223}, {'transcript': 'I have a mentale suffering', 'confidence': 0.99014223}], 'final': True}\n",
      "\n",
      "Filename: 1249120_40663048_42741720.wav\n",
      "Text: []\n",
      "\n",
      "Filename: 1249120_1853182_67194097.wav\n",
      "Text: {'alternative': [{'transcript': 'I have a dull ache in my head', 'confidence': 0.987629}, {'transcript': 'I have a doll 8-in my head'}], 'final': True}\n",
      "\n",
      "Filename: 1249120_43995026_43424132.wav\n",
      "Text: {'alternative': [{'transcript': 'I have an indigestion', 'confidence': 0.92895418}, {'transcript': 'I have an in digestion'}, {'transcript': \"I haven't in digestion\"}, {'transcript': 'I have been in digestion'}], 'final': True}\n",
      "\n",
      "Filename: 1249120_43577102_16417178.wav\n",
      "Text: {'alternative': [{'transcript': 'I had a card that was stitched together but it is not heating it is oozing green pus and burns', 'confidence': 0.72298795}, {'transcript': 'I had a card that was stitched together but it is not hearing it is oozing green pus and burns'}, {'transcript': 'I had a cut that was stitched together but it is not heating it is oozing green pus and burns'}, {'transcript': 'I had a card that was stitched together but it is not heating it is oozing green pus and burn'}, {'transcript': 'I had a cut that was stitched together but it is not hearing it is oozing green pus and burns'}], 'final': True}\n",
      "\n",
      "Filename: 1249120_29713479_42913440.wav\n",
      "Text: {'alternative': [{'transcript': 'I noticed a lot more hair coming out than usual when I brush my hair', 'confidence': 0.95350319}, {'transcript': 'I noticed a lot more here coming out than usual when I brush my hair'}, {'transcript': 'I noticed a lot more hair coming out then usual when I brush my hair'}, {'transcript': 'I noticed a lot more here coming out then usual when I brush my hair'}, {'transcript': 'I noticed a lot of moisture coming out than usual when I brush my hair'}], 'final': True}\n",
      "\n",
      "Filename: 1249120_33905644_65909811.wav\n",
      "Text: {'alternative': [{'transcript': 'I feel really sad all the time', 'confidence': 0.987629}], 'final': True}\n",
      "\n",
      "Filename: 1249120_13842059_95116374.wav\n",
      "Text: {'alternative': [{'transcript': \"I'm not good I feel dizzy\", 'confidence': 0.987629}], 'final': True}\n",
      "\n",
      "Filename: 1249120_42210938_34058782.wav\n",
      "Text: {'alternative': [{'transcript': 'constant tickle in my throat', 'confidence': 0.48053598}, {'transcript': 'Vincent constant tickle in my throat'}, {'transcript': 'this constant tickle in my throat'}, {'transcript': 'basic constant tickle in my throat'}, {'transcript': 'vintage constant tickle in my throat'}], 'final': True}\n",
      "\n",
      "Filename: 1249120_31349958_97765614.wav\n",
      "Text: {'alternative': [{'transcript': 'I have an internal pain I cannot describe', 'confidence': 0.987629}], 'final': True}\n",
      "\n",
      "Filename: 1249120_29672643_10522271.wav\n",
      "Text: {'alternative': [{'transcript': 'when I wake up in the morning I feel dizzy', 'confidence': 0.90528077}, {'transcript': 'wake up in the morning I feel dizzy'}], 'final': True}\n",
      "\n",
      "Filename: 1249120_44091626_20273364.wav\n",
      "Text: {'alternative': [{'transcript': 'I get an ear patch when it is cold', 'confidence': 0.87193036}, {'transcript': 'I get an ear patch when it is called'}, {'transcript': 'I get an erection it is called'}, {'transcript': 'I get an erection when it is cold'}, {'transcript': 'I get and ear patch when it is cold'}], 'final': True}\n",
      "\n",
      "Filename: 1249120_36214391_74880546.wav\n",
      "Text: {'alternative': [{'transcript': 'I can stand up I feel my brain is moving inside my school', 'confidence': 0.76788306}, {'transcript': 'Aiken Standard I feel my brain is moving inside my school'}, {'transcript': \"I can't stand up I feel my brain is moving inside my school\"}, {'transcript': 'Aiken stand up I feel my brain is moving inside my school'}, {'transcript': 'I can spend it by feel my brain is moving inside my school'}], 'final': True}\n",
      "\n",
      "Filename: 1249120_20518958_63508619.wav\n",
      "Text: {'alternative': [{'transcript': 'my skin is itchy and inflamed', 'confidence': 0.9813053}, {'transcript': 'my skin is itchy and in Flint'}, {'transcript': 'my skin is itchy and implant'}], 'final': True}\n",
      "\n",
      "Filename: 1249120_35444693_25548768.wav\n",
      "Text: {'alternative': [{'transcript': 'my food is hurting so much', 'confidence': 0.76057667}, {'transcript': 'my food is hurting so hard', 'confidence': 0.76072598}, {'transcript': 'my food is hurting so long', 'confidence': 0.7802009}, {'transcript': 'my food is hurting so hot', 'confidence': 0.76971143}, {'transcript': 'my food is herting so much', 'confidence': 0.76057667}], 'final': True}\n",
      "\n",
      "Filename: 1249120_30937687_96177761.wav\n",
      "Text: {'alternative': [{'transcript': 'I feel like the world goes round and round', 'confidence': 0.98762906}], 'final': True}\n",
      "\n",
      "Filename: 1249120_42557795_25258545.wav\n",
      "Text: {'alternative': [{'transcript': 'I have adult HD in my lower back which makes it difficult', 'confidence': 0.95966411}, {'transcript': 'I have adult HD in my lower back which makes it difficult to move'}, {'transcript': 'I have adult HD in my lower back which makes it difficult to'}, {'transcript': 'I have addled HD in my lower back which makes it difficult'}, {'transcript': 'I have adult HD in my lower back which makes it difficult to me'}], 'final': True}\n",
      "\n",
      "Filename: 1249120_39142299_67548099.wav\n",
      "Text: {'alternative': [{'transcript': \"I hate myself and the word doesn't want to heal\", 'confidence': 0.93571693}, {'transcript': \"I hate myself and the world doesn't want to heal\"}, {'transcript': \"I hate myself and the word doesn't want to hear\"}, {'transcript': \"I hate myself and the world doesn't want to hear\"}], 'final': True}\n",
      "\n",
      "Filename: 1249120_43788827_109800566.wav\n",
      "Text: {'alternative': [{'transcript': 'McCarty law or greenish colored Force', 'confidence': 0.94485378}, {'transcript': 'McCarty law or greenish colored first'}, {'transcript': 'McCarty law or greenish colored fuss'}, {'transcript': 'McCarty law or greenish colored for'}, {'transcript': 'McCarty law or greenish color Force'}], 'final': True}\n",
      "\n",
      "Filename: 1249120_43402738_28597708.wav\n",
      "Text: {'alternative': [{'transcript': 'after playing tennis I had a powerful sensation close to my neck', 'confidence': 0.97961426}, {'transcript': 'after playing tennis I had a powerful sensation clothes to my neck', 'confidence': 0.97961426}, {'transcript': 'after playing tennis I had a powerful sensation closed to my neck', 'confidence': 0.97961426}, {'transcript': 'after playing tennis I had a powerful sensation close to my nek', 'confidence': 0.97961426}, {'transcript': 'after playing tennis I had a powerful sensation Klose to my neck', 'confidence': 0.97961426}], 'final': True}\n",
      "\n",
      "Filename: 1249120_41150153_28691888.wav\n",
      "Text: {'alternative': [{'transcript': 'India Stoudemire', 'confidence': 0.5921973}, {'transcript': 'Indian Stoudemire'}, {'transcript': 'India Stoudamire'}, {'transcript': 'Indian food in my area'}, {'transcript': 'Indian Stoudamire'}], 'final': True}\n",
      "\n",
      "Filename: 1249120_35832653_46816907.wav\n",
      "Text: {'alternative': [{'transcript': 'I walk everyday but now I get short of breath after going only a short way', 'confidence': 0.94946277}, {'transcript': 'I walk every day but now I get short of breath after going only a short way'}], 'final': True}\n",
      "\n",
      "Filename: 1249120_40401830_63436396.wav\n",
      "Text: {'alternative': [{'transcript': 'retinas swelling and difficulty walking', 'confidence': 0.70537466}, {'transcript': 'redness swelling and difficulty walking'}], 'final': True}\n",
      "\n",
      "Filename: 1249120_39675900_66580047.wav\n",
      "Text: []\n",
      "\n",
      "Filename: 1249120_43453425_15894712.wav\n",
      "Text: {'alternative': [{'transcript': 'iconic stand with this horrible feeling in my shoe', 'confidence': 0.72272861}, {'transcript': 'I kinda stand with this horrible feeling in my shoe'}, {'transcript': 'iconic stand with this horrible feeling in my show'}, {'transcript': 'iconic stand with this horrible feeling in my shoes'}, {'transcript': 'iconic stand with this horrible feeling in my soul'}], 'final': True}\n",
      "\n",
      "Filename: 1249120_35832653_57235917.wav\n",
      "Text: {'alternative': [{'transcript': 'I have difficulty in breathing and crowded places', 'confidence': 0.83093709}, {'transcript': 'I have difficulty in breathing in crowded places'}, {'transcript': 'I have difficulty and breathing and crowded places'}], 'final': True}\n",
      "\n",
      "Filename: 1249120_44093933_60464353.wav\n",
      "Text: {'alternative': [{'transcript': 'I have been in my chest that saddens me', 'confidence': 0.88485771}, {'transcript': 'I have been in my chest that settings me'}, {'transcript': 'I had been in my chest that saddens me'}], 'final': True}\n",
      "\n",
      "Filename: 1249120_21665495_96666261.wav\n",
      "Text: {'alternative': [{'transcript': 'I suffered a deep wound in my hand I cannot stop the bleeding', 'confidence': 0.88261741}, {'transcript': 'I suffered the deep wound in my hand I cannot stop the bleeding'}], 'final': True}\n",
      "\n",
      "Filename: 1249120_39142299_54414723.wav\n",
      "Text: {'alternative': [{'transcript': 'what time in the morning I feel strange and have vertigo', 'confidence': 0.53621751}, {'transcript': 'one arm in the morning I feel strange and have vertigo'}, {'transcript': '1 in the morning I feel strange and have vertigo'}, {'transcript': 'what time in the morning I feel strange and have party go'}, {'transcript': 'one arm in the morning I feel strange and have party go'}], 'final': True}\n",
      "\n",
      "Filename: 1249120_43453425_61499887.wav\n",
      "Text: {'alternative': [{'transcript': 'IV been in my joint after an injury in the last football match I play', 'confidence': 0.65783882}, {'transcript': 'IV pain in my joint after an injury in the last football match I play'}, {'transcript': 'IV been in my joint after an injury in the last football match I played'}, {'transcript': 'IV pain in my joint after an injury in the last football match I played'}, {'transcript': 'Ivy been in my joint after an injury in the last football match I play'}], 'final': True}\n",
      "\n",
      "Filename: 1249120_39142299_56962445.wav\n",
      "Text: {'alternative': [{'transcript': 'there are lots of hair on my pillow in the morning', 'confidence': 0.94935417}, {'transcript': 'there are lots of here on my pillow in the morning'}], 'final': True}\n",
      "\n",
      "Filename: 1249120_15004831_49995030.wav\n",
      "Text: {'alternative': [{'transcript': \"I'm not good I feel dizzy\", 'confidence': 0.78249311}, {'transcript': 'I am not good I feel dizzy'}], 'final': True}\n",
      "\n",
      "Filename: 1249120_43402738_60382098.wav\n",
      "Text: {'alternative': [{'transcript': 'since I went into the forest I have pain on my year', 'confidence': 0.97563958}, {'transcript': 'since I went into the forest I have pain on my ear'}], 'final': True}\n",
      "\n",
      "Filename: 1249120_38042052_97527138.wav\n",
      "Text: {'alternative': [{'transcript': 'when I lift my arms up I have a soreness in my shoulders', 'confidence': 0.987629}], 'final': True}\n",
      "\n",
      "Filename: 1249120_22345789_43309990.wav\n",
      "Text: {'alternative': [{'transcript': 'I have terrible pain in my heart', 'confidence': 0.987629}], 'final': True}\n",
      "\n",
      "Filename: 1249120_43665783_63383398.wav\n",
      "Text: {'alternative': [{'transcript': 'my head hurts and I lost the sensation in my face then lost sight in my eye', 'confidence': 0.9028452}, {'transcript': 'my head hurts and I lost the sensation in my face then lost sight in my I', 'confidence': 0.9028452}, {'transcript': 'my head hurts and I lost the sensation in my face then lost sight in my aye', 'confidence': 0.9028452}, {'transcript': 'my head hurts and I lost the sensation in my face then lost sight in my AI', 'confidence': 0.9028452}, {'transcript': 'my head hurts and I lost the sensation in my faced then lost sight in my eye', 'confidence': 0.9028452}], 'final': True}\n",
      "\n",
      "Filename: 1249120_43612961_103278167.wav\n",
      "Text: {'alternative': [{'transcript': \"when I stand up too quickly I feel as though I'm going to faint\", 'confidence': 0.97387296}, {'transcript': \"when is stand up too quickly I feel as though I'm going to faint\"}], 'final': True}\n",
      "\n",
      "Filename: 1249120_6338946_45821188.wav\n",
      "Text: {'alternative': [{'transcript': \"I can't stand up I feel my brain is moving inside my skull\", 'confidence': 0.98411971}, {'transcript': \"I can't stand up I feel my brain is moving inside my scull\", 'confidence': 0.98411971}, {'transcript': \"I can't stand up I feel my brain is moving inside my skul\", 'confidence': 0.98411971}, {'transcript': \"I can't stand up I feel my brain is muving inside my skull\", 'confidence': 0.98411971}, {'transcript': \"I can't stand up I feel my brain is moveing inside my skull\", 'confidence': 0.98411971}], 'final': True}\n",
      "\n",
      "Filename: 1249120_42557795_49921159.wav\n",
      "Text: {'alternative': [{'transcript': 'I cut my finger opening again', 'confidence': 0.93970895}, {'transcript': 'I cut my finger open again'}, {'transcript': 'I cut my finger open in hurricane'}, {'transcript': 'I cut my finger up meaning again'}], 'final': True}\n",
      "\n",
      "Filename: 1249120_42557795_59890846.wav\n",
      "Text: {'alternative': [{'transcript': 'shopping in heavy breathing', 'confidence': 0.78825843}, {'transcript': 'shopping and heavy breathing'}, {'transcript': 'champagne and heavy breathing'}, {'transcript': 'shop in and heavy breathing'}, {'transcript': 'shop in in heavy breathing'}], 'final': True}\n",
      "\n",
      "Filename: 1249120_43883861_107328848.wav\n",
      "Text: {'alternative': [{'transcript': 'I feel pain in my eyes I can see.', 'confidence': 0.98068357}, {'transcript': 'I feel pain in my eyes I can see full'}], 'final': True}\n",
      "\n",
      "Filename: 1249120_43951421_19474414.wav\n",
      "Text: {'alternative': [{'transcript': \"I'm suffering from shock cough accompanied by phlegm\", 'confidence': 0.75013316}, {'transcript': \"I'm suffering from a shop cough accompanied by phlegm\"}, {'transcript': \"I'm suffering from the shop cough accompanied by phlegm\"}, {'transcript': \"I'm suffering through shop cough accompanied by phlegm\"}, {'transcript': \"I'm suffering from shop cough accompanied by phlegm\"}], 'final': True}\n",
      "\n",
      "Filename: 1249120_14353703_87680860.wav\n",
      "Text: {'alternative': [{'transcript': \"I don't have full range of motion with my arms\", 'confidence': 0.98762906}], 'final': True}\n",
      "\n",
      "Filename: 1249120_30766630_104162207.wav\n",
      "Text: {'alternative': [{'transcript': 'I feel a sharp pain in my head when I think too hard', 'confidence': 0.97226053}, {'transcript': 'I feel a sharp pain in my head when I thinq too hard', 'confidence': 0.97226048}, {'transcript': 'igh feel a sharp pain in my head when I think too hard', 'confidence': 0.97226053}, {'transcript': 'I feel a sharp pain in my head when I think too hot', 'confidence': 0.91150755}, {'transcript': 'I feel a sharp pain Inn my head when I think too hard', 'confidence': 0.97226053}], 'final': True}\n",
      "\n",
      "Filename: 1249120_17632529_48151722.wav\n",
      "Text: {'alternative': [{'transcript': 'I feel pain in my heart when I wake up', 'confidence': 0.98762906}], 'final': True}\n",
      "\n",
      "Filename: 1249120_35832653_41112837.wav\n",
      "Text: {'alternative': [{'transcript': 'I feel dizzy after doing a muscular effort', 'confidence': 0.987629}], 'final': True}\n",
      "\n",
      "Filename: 1249120_38042052_79525488.wav\n",
      "Text: {'alternative': [{'transcript': 'I have a pain internal', 'confidence': 0.98762906}], 'final': True}\n",
      "\n",
      "Filename: 1249120_22423108_39530740.wav\n",
      "Text: {'alternative': [{'transcript': 'when I raise my hand I feel pain in my shoulder', 'confidence': 0.95872134}, {'transcript': 'when I raised my hand I feel pain in my shoulder'}], 'final': True}\n",
      "\n",
      "Filename: 1249120_44091626_46444953.wav\n",
      "Text: {'alternative': [{'transcript': 'Rasmussen Doctor Albany Industries', 'confidence': 0.69837773}, {'transcript': 'Rasmussen doctor or opening in the skin'}, {'transcript': 'Rasmussen doctor or opening in the sky'}, {'transcript': 'Rasmussen dr. Albany Industries'}, {'transcript': 'Rasmussen doctor or opening industry'}], 'final': True}\n",
      "\n",
      "Filename: 1249120_33251186_69845893.wav\n",
      "Text: {'alternative': [{'transcript': \"Dirty cerreta's Diamond skin\", 'confidence': 0.6438573}, {'transcript': 'Dirty sirenis Diamond skin'}, {'transcript': \"Daddy's arrest a Mexican\"}, {'transcript': \"dirty Serena's Diamond skin\"}, {'transcript': \"dirty Cirella's Diamond skin\"}], 'final': True}\n",
      "\n",
      "Filename: 1249120_43918153_51392205.wav\n",
      "Text: {'alternative': [{'transcript': 'my skin is itching', 'confidence': 0.98762906}], 'final': True}\n",
      "\n",
      "Filename: 1249120_21665495_109967936.wav\n",
      "Text: {'alternative': [{'transcript': 'there must be something wrong with my blood circulation I have to wear socks even on the hottest days my toes are frozen', 'confidence': 0.9677971}, {'transcript': 'there must be something wrong with my blood circulation I have to wear socks even on the hottest days my daughter Frozen'}, {'transcript': 'there must be something wrong with my blood circulation I have to wear socks even on the hottest days my doors are frozen'}, {'transcript': 'there must be something wrong with my blood circulation I have to wear socks even on the hottest day my toes are frozen'}, {'transcript': 'there must be something wrong with my blood circulation I have to wear socks even on the hottest day in my toes are frozen'}], 'final': True}\n",
      "\n",
      "Filename: 1249120_33905644_46448316.wav\n",
      "Text: {'alternative': [{'transcript': 'the swelling in my neck and it hurts', 'confidence': 0.77859324}, {'transcript': 'there is swelling in my neck and it hurts', 'confidence': 0.73563397}, {'transcript': 'their swelling in my neck and it hurts', 'confidence': 0.78571707}, {'transcript': 'their is swelling in my neck and it hurts', 'confidence': 0.73563397}, {'transcript': 'ther is swelling in my neck and it hurts', 'confidence': 0.73563397}], 'final': True}\n",
      "\n",
      "Filename: 1249120_29713479_39617116.wav\n",
      "Text: {'alternative': [{'transcript': 'I have a problem in Rome Italy year made by infection', 'confidence': 0.97756296}, {'transcript': 'I have a problem in Rome Italy year made by an infection'}, {'transcript': 'I have a problem immediately year made by infection'}, {'transcript': 'I have a problem immediately year made by an infection'}], 'final': True}\n",
      "\n",
      "Filename: 1249120_41203338_22956465.wav\n",
      "Text: {'alternative': [{'transcript': 'my face break out badly every month around my cycle', 'confidence': 0.83624709}, {'transcript': 'my face breakout badly every month around my cycle'}], 'final': True}\n",
      "\n",
      "Filename: 1249120_2171654_20198863.wav\n",
      "Text: {'alternative': [{'transcript': \"I don't have full range of motion with my arms\", 'confidence': 0.98762906}], 'final': True}\n",
      "\n",
      "Filename: 1249120_43316708_39080035.wav\n",
      "Text: {'alternative': [{'transcript': 'I feel aching on my insides', 'confidence': 0.95630097}, {'transcript': 'I feel taking on my insides'}, {'transcript': 'I feel decking on my insides'}, {'transcript': 'I feel waking on my insides'}, {'transcript': 'I feel making on my insides'}], 'final': True}\n",
      "\n",
      "Filename: 1249120_30937687_53202285.wav\n",
      "Text: {'alternative': [{'transcript': 'I have noticed my hair falling out a lot lately', 'confidence': 0.92282659}, {'transcript': 'I have noticed my hair falling out alot lately'}, {'transcript': 'I have notice my hair falling out a lot lately'}, {'transcript': 'I have notice my hair falling out alot lately'}], 'final': True}\n",
      "\n",
      "Filename: 1249120_35197064_65220529.wav\n",
      "Text: {'alternative': [{'transcript': 'I feel dizzy whenever I stand up', 'confidence': 0.92350674}, {'transcript': 'I feel dizzy whenever I stand out'}, {'transcript': \"I've been busy whenever I stand up\"}, {'transcript': \"I've been busy whenever I stand out\"}], 'final': True}\n",
      "\n",
      "Filename: 1249120_35448024_67086226.wav\n",
      "Text: {'alternative': [{'transcript': 'I feel sad', 'confidence': 0.98762912}], 'final': True}\n",
      "\n",
      "Filename: 1249120_15004831_12021665.wav\n",
      "Text: {'alternative': [{'transcript': 'I feel a stiffness in my elbows and shoulders', 'confidence': 0.96173584}, {'transcript': 'I fill a stiffness in my elbows and shoulders'}], 'final': True}\n",
      "\n",
      "Filename: 1249120_29289135_63197565.wav\n",
      "Text: {'alternative': [{'transcript': 'my arm hurts when I stretch', 'confidence': 0.987629}], 'final': True}\n",
      "\n",
      "Filename: 1249120_38202325_82531512.wav\n",
      "Text: {'alternative': [{'transcript': 'I noticed an important decrease in my vision when I try to look at things up close', 'confidence': 0.97180086}, {'transcript': 'I noticed an important decrease in my vision when I try to look at things up clothes', 'confidence': 0.97180086}, {'transcript': 'I noticed an important decrease in my vision when I try to look at things up closed', 'confidence': 0.97180086}, {'transcript': 'I noticed an important decrease in my vision when I tried to look at things up close', 'confidence': 0.92959619}, {'transcript': 'I noticed an important decrease in my vision when I try to look at things up KLOS', 'confidence': 0.97180086}], 'final': True}\n",
      "\n",
      "Filename: 1249120_43577102_14469778.wav\n",
      "Text: {'alternative': [{'transcript': 'I have a great pain in my foot like throbbing pain with relaxing my pain relief', 'confidence': 0.9794873}, {'transcript': 'I have a great pain in my foot like throbbing pain with the relaxing my pain relief'}, {'transcript': 'I have a great pain in my foot like throwing pain with relaxing my pain relief'}, {'transcript': 'I have a great pain in my foot like tromping pain with relaxing my pain relief'}], 'final': True}\n",
      "\n",
      "Filename: 1249120_6338946_15712228.wav\n",
      "Text: {'alternative': [{'transcript': 'when I get up I see my skin vague', 'confidence': 0.97708237}, {'transcript': 'when I get up I see my skin Vega'}, {'transcript': 'when I get up I see my skin Vegas'}], 'final': True}\n",
      "\n",
      "Filename: 1249120_1853182_86923401.wav\n",
      "Text: {'alternative': [{'transcript': 'my face break out badly every month around my cycle', 'confidence': 0.80540836}, {'transcript': 'my face breakout badly every month around my cycle'}], 'final': True}\n",
      "\n",
      "Filename: 1249120_40184183_29470813.wav\n",
      "Text: {'alternative': [{'transcript': 'I have a head pain every single day', 'confidence': 0.65572035}, {'transcript': 'I have a headache pain every single day'}, {'transcript': 'I have a husband every single day'}, {'transcript': 'I have been every single day'}, {'transcript': 'I have a heart pain every single day'}], 'final': True}\n",
      "\n",
      "Filename: 1249120_42554554_15678155.wav\n",
      "Text: {'alternative': [{'transcript': 'I feel sad', 'confidence': 0.98080498}, {'transcript': 'I feel sadd', 'confidence': 0.98080498}, {'transcript': 'I feel sadderday', 'confidence': 0.98080498}, {'transcript': 'igh feel sad', 'confidence': 0.98080498}, {'transcript': 'I Fiel sad', 'confidence': 0.98080498}], 'final': True}\n",
      "\n",
      "Filename: 1249120_41150153_33363301.wav\n",
      "Text: {'alternative': [{'transcript': 'my face is all broken out with pimples', 'confidence': 0.94933939}, {'transcript': 'my face is always broken out with pimples'}], 'final': True}\n",
      "\n",
      "Filename: 1249120_43453425_25937712.wav\n",
      "Text: {'alternative': [{'transcript': 'need to scratch my skin every minute', 'confidence': 0.94297057}, {'transcript': 'I need to scratch my skin every minute'}], 'final': True}\n",
      "\n",
      "Filename: 1249120_39142299_29450850.wav\n",
      "Text: {'alternative': [{'transcript': 'I have some terrible problems when I am breathing during the night', 'confidence': 0.94941807}, {'transcript': 'I have some terrible problems when I am breathing during the Knight', 'confidence': 0.94941807}, {'transcript': 'I have some terrible problems when I am breathing during the Nite', 'confidence': 0.94941807}, {'transcript': 'I have sum terrible problems when I am breathing during the night', 'confidence': 0.94941807}, {'transcript': 'I have some terrible problems when I mm breathing during the night', 'confidence': 0.94941807}], 'final': True}\n",
      "\n",
      "Filename: 1249120_43402738_28842796.wav\n",
      "Text: {'alternative': [{'transcript': 'there is a tingling sensation in my neck', 'confidence': 0.987629}], 'final': True}\n",
      "\n",
      "Filename: 1249120_42557795_101789670.wav\n",
      "Text: {'alternative': [{'transcript': 'ibtz whenever I stand up', 'confidence': 0.82456684}, {'transcript': 'ivylee whenever I stand up'}, {'transcript': 'Ivy Lee whenever I stand up'}, {'transcript': 'I believe whenever I stand up'}, {'transcript': 'ivylea whenever I stand up'}], 'final': True}\n",
      "\n",
      "Filename: 1249120_42783052_46413924.wav\n",
      "Text: {'alternative': [{'transcript': 'I feel discomfort to draw the body in general', 'confidence': 0.87686616}, {'transcript': 'I feel discomfort to draw zabadi in general'}, {'transcript': 'I feel discomfort through the body in general'}, {'transcript': 'I feel discomfort to the body in general'}, {'transcript': 'I feel discomfort draw the body in general'}], 'final': True}\n",
      "\n",
      "Filename: 1249120_6338946_14309885.wav\n",
      "Text: {'alternative': [{'transcript': 'my ear need badly', 'confidence': 0.68884224}, {'transcript': 'my Eyrie badly'}, {'transcript': 'my ear he badly'}, {'transcript': 'my ear a badly'}, {'transcript': 'meiaer he badly'}], 'final': True}\n",
      "\n",
      "Filename: 1249120_43995026_11460681.wav\n",
      "Text: {'alternative': [{'transcript': 'I have a rash and it itches really bad', 'confidence': 0.91680187}, {'transcript': 'I have a rash and itchy spider bite'}, {'transcript': 'I have a rash and right'}, {'transcript': 'I have a rash and playwright'}, {'transcript': 'I have attached and it itches really bad'}], 'final': True}\n",
      "\n",
      "Filename: 1249120_43794413_81803214.wav\n",
      "Text: {'alternative': [{'transcript': 'Haier ice so much', 'confidence': 0.61015826}, {'transcript': 'hair ice so much'}, {'transcript': 'hair Ace so much'}, {'transcript': 'are ice so much'}, {'transcript': 'hair so much'}], 'final': True}\n",
      "\n",
      "Filename: 1249120_39142299_89637426.wav\n",
      "Text: {'alternative': [{'transcript': 'every morning when I wake up my neck feels like I slept on it wrong', 'confidence': 0.90365797}, {'transcript': 'every morning when I wake up my neck feels like I slept on in wrong', 'confidence': 0.93623942}, {'transcript': 'every morning when I wake up my neck feels like I slept on in the wrong', 'confidence': 0.88000941}, {'transcript': 'every morning when I wake up my neck feels like I slept on Inn wrong', 'confidence': 0.93623942}, {'transcript': 'every morning when I wake up my neck feels like I slept on in Rong', 'confidence': 0.93623942}], 'final': True}\n",
      "\n",
      "Filename: 1249120_41150153_58791958.wav\n",
      "Text: {'alternative': [{'transcript': 'what is falling on just like one being it', 'confidence': 0.6446082}, {'transcript': 'what is falling out just like one being it'}, {'transcript': 'what is falling off just like one being it'}, {'transcript': 'my aunt is falling out just like one being it'}, {'transcript': 'what is falling up just like one being it'}], 'final': True}\n",
      "\n",
      "Filename: 1249120_44142156_14661521.wav\n",
      "Text: {'alternative': [{'transcript': \"I hate myself and that doesn't want to heal\", 'confidence': 0.78337234}, {'transcript': \"I hate myself and that doesn't want to him\", 'confidence': 0.83345228}, {'transcript': \"I hate myself and that doesn't want to hear\", 'confidence': 0.76863497}, {'transcript': \"I hate myself and that doesn't want to help\", 'confidence': 0.79073262}, {'transcript': \"I hate myself and I would doesn't want to hear\", 'confidence': 0.73562098}], 'final': True}\n",
      "\n",
      "Filename: 1249120_43951421_54435218.wav\n",
      "Text: {'alternative': [{'transcript': \"I have a cut for his become red and he's his puss\", 'confidence': 0.65947264}, {'transcript': \"I have a cut has become red and he's his puss\"}, {'transcript': \"I have a cup that has become red and he's his puss\"}, {'transcript': \"I have a cut for has become red and he's his puss\"}, {'transcript': \"I have a couple has become red and he's his puss\"}], 'final': True}\n",
      "\n",
      "Filename: 1249120_18386513_101350002.wav\n",
      "Text: {'alternative': [{'transcript': \"I'm suffering from sharp cough accompanied by phlegm\", 'confidence': 0.89963907}, {'transcript': \"I'm suffering from sharp cough accompany by phlegm\"}, {'transcript': \"I'm suffering from Sharpe cough accompanied by phlegm\"}, {'transcript': \"I'm suffering from Sharpe cough accompany by phlegm\"}, {'transcript': \"I'm suffering from sharp cough accompany buy phlegm\"}], 'final': True}\n",
      "\n",
      "Filename: 1249120_41087148_81217812.wav\n",
      "Text: {'alternative': [{'transcript': 'very good constant tickle in throat', 'confidence': 0.6045742}, {'transcript': 'very good constant tickle in my throat'}, {'transcript': 'very good constant tickle in your throat'}, {'transcript': 'very good constant tickle in the throat'}, {'transcript': 'Daddy just constant tickle in my throat'}], 'final': True}\n",
      "\n",
      "Filename: 1249120_41203338_75100570.wav\n",
      "Text: {'alternative': [{'transcript': 'annoying start suddenly often after an injury or exercise', 'confidence': 0.62666154}, {'transcript': 'annoyance starts suddenly often after an injury or exercise'}, {'transcript': 'annoying starts suddenly often after an injury or exercise'}, {'transcript': 'annoyance start suddenly often after an injury or exercise'}, {'transcript': 'annoying start suddenly often after an injury or excercise'}], 'final': True}\n",
      "\n",
      "Filename: 1249120_18985376_37445027.wav\n",
      "Text: {'alternative': [{'transcript': 'my name is a common cold and rainy days', 'confidence': 0.74914539}, {'transcript': 'my name is Akon cold and rainy days'}, {'transcript': 'my name is a Time cold and rainy days'}, {'transcript': 'my name is aegon cold and rainy days'}, {'transcript': 'my name is a can cold and rainy days'}], 'final': True}\n",
      "\n",
      "Filename: 1249120_43788827_70377319.wav\n",
      "Text: {'alternative': [{'transcript': \"I am worried how cold intolerant iron I'm always cheering even out in the sun\", 'confidence': 0.72514713}, {'transcript': \"I am worried how cold intolerant I am I'm always cheering even out in the sun\"}, {'transcript': \"I am worried how cold intolerant Ian I'm always cheering even out in the sun\"}, {'transcript': \"I am worried how cold intolerant iron I'm always searing even out in the sun\"}, {'transcript': \"I am worried how cold intolerant I am I'm always searing even out in the sun\"}], 'final': True}\n",
      "\n",
      "Filename: 1249120_44111844_87514143.wav\n",
      "Text: {'alternative': [{'transcript': 'I have constant stomach pain and bloating', 'confidence': 0.89644134}, {'transcript': 'I have a constant stomach pain and bloating'}, {'transcript': 'constant stomach pain and bloating'}, {'transcript': 'I hope constant stomach pain and bloating'}], 'final': True}\n",
      "\n",
      "Filename: 1249120_30937687_78638968.wav\n",
      "Text: {'alternative': [{'transcript': 'I had internal pain and gases when I add Indian spicy food yesterday', 'confidence': 0.84492993}, {'transcript': 'I have internal pain and gases when I add Indian spicy food yesterday'}, {'transcript': 'I had internal pain and gases when I are Indian spicy food yesterday'}, {'transcript': 'I had internal pain and gas is when I add Indian spicy food yesterday'}, {'transcript': 'I had internal pain and gases when I ate Indian spicy food yesterday'}], 'final': True}\n",
      "\n",
      "Filename: 1249120_41841195_75369794.wav\n",
      "Text: {'alternative': [{'transcript': 'I feel cold chills even though my clothes are heavy', 'confidence': 0.98762906}], 'final': True}\n",
      "\n",
      "Filename: 1249120_43794413_19014819.wav\n",
      "Text: {'alternative': [{'transcript': 'I feel sick', 'confidence': 0.83412147}, {'transcript': 'I feel suck'}, {'transcript': 'I feel sex'}, {'transcript': 'I feel sexy'}, {'transcript': 'ifuse suck'}], 'final': True}\n",
      "\n",
      "Filename: 1249120_40401830_41718390.wav\n",
      "Text: {'alternative': [{'transcript': 'acute something her to mean taking breath and I can take my breath', 'confidence': 0.58123308}, {'transcript': 'acute something her to mean taking breath and I contact my breath'}, {'transcript': 'I feel something hard to mean taking breath and I can take my breath'}, {'transcript': 'a few something her to mean taking breath and I can take my breath'}, {'transcript': 'I shoot something her to mean taking breath and I can take my breath'}], 'final': True}\n",
      "\n",
      "Filename: 1249120_29713479_55240615.wav\n",
      "Text: {'alternative': [{'transcript': 'the worst headache was during a hangover in my twenties I was only going to die from brain inflammation', 'confidence': 0.85614192}, {'transcript': 'the worst headache was during a hangover in my twenties I was only going to die from being inflammation'}, {'transcript': 'the worst headache was during a hangover in my 20s I was only going to die from brain inflammation'}, {'transcript': 'the worst headache was during a hangover in my twenties I was unwilling to die from brain inflammation'}, {'transcript': 'the worst headache was during a hangover in my 20s I was only going to die from being inflammation'}], 'final': True}\n",
      "\n",
      "Filename: 1249120_44027675_23803799.wav\n",
      "Text: {'alternative': [{'transcript': 'the feeling of driving today', 'confidence': 0.63958472}, {'transcript': 'the reading of driving today'}, {'transcript': 'the meaning of driving today'}, {'transcript': 'the building of driving today'}, {'transcript': 'the shooting of driving today'}], 'final': True}\n",
      "\n",
      "Filename: 1249120_42554554_20974820.wav\n",
      "Text: {'alternative': [{'transcript': 'my lungs feel heavy like they are filled with Marcus', 'confidence': 0.92474985}, {'transcript': 'my lungs feel heavy like they are filled with mucus'}, {'transcript': 'my lungs feel heavy like they are filled with Marcos'}, {'transcript': 'my lungs feel heavy like they are filled with markers'}, {'transcript': \"my lungs feel heavy like they're filled with markers\"}], 'final': True}\n",
      "\n",
      "Filename: 1249120_44140394_20655588.wav\n",
      "Text: {'alternative': [{'transcript': 'after playing football and muscle pain with both my legs', 'confidence': 0.79341799}, {'transcript': 'after playing football as muscle pain with both my legs'}, {'transcript': 'after playing football at muscle pain with both my legs'}, {'transcript': 'after playing football a muscle pain with both my legs'}], 'final': True}\n",
      "\n",
      "Filename: 1249120_44140394_102992524.wav\n",
      "Text: {'alternative': [{'transcript': 'my headache since I woke up this morning', 'confidence': 0.97087586}, {'transcript': 'my headaches since I woke up this morning'}], 'final': True}\n",
      "\n",
      "Filename: 1249120_40401830_100374415.wav\n",
      "Text: {'alternative': [{'transcript': 'my nose is congested all the time and descloux secretion of my throat it makes it impossible for me to sleep I often after nap sitting down', 'confidence': 0.70219314}, {'transcript': 'my nose is congested all the time and descloux secretion in my throat it makes it impossible for me to sleep I often after nap sitting down'}, {'transcript': 'my nose is congested all the time and descloux secretion in my throat that makes it impossible for me to sleep I often after nap sitting down'}, {'transcript': 'my nose is congested all the time and descloux secretion of my throat that makes it impossible for me to sleep I often after nap sitting down'}, {'transcript': 'my nose is congested all the time and desks glue secretion of my throat it makes it impossible for me to sleep I often after nap sitting down'}], 'final': True}\n",
      "\n",
      "Filename: 1249120_33251186_93867567.wav\n",
      "Text: {'alternative': [{'transcript': 'when I get done my league I need joint', 'confidence': 0.66038746}, {'transcript': 'when I get done my leg I need joint'}, {'transcript': 'when I get done my league I need Giant'}, {'transcript': 'when I get done my leg I need Giant'}, {'transcript': 'when is done my league I need joint'}], 'final': True}\n",
      "\n",
      "Filename: 1249120_44093303_18686987.wav\n",
      "Text: {'alternative': [{'transcript': 'I feel pain in my knee when I climb the stairs', 'confidence': 0.987629}], 'final': True}\n",
      "\n",
      "Filename: 1249120_44140394_58611766.wav\n",
      "Text: {'alternative': [{'transcript': 'when I tried to be warm and wear more clothes I found that I was still cold', 'confidence': 0.98762906}], 'final': True}\n",
      "\n",
      "Filename: 1249120_33905644_51038630.wav\n",
      "Text: {'alternative': [{'transcript': 'doctor it feels like someone is hitting my head with a hammer I seen pain on the top of my head and it rubs', 'confidence': 0.70044971}, {'transcript': 'doctor it feels like someone is hitting my head with a hammer I seen pain on the top of my head and it throbs'}, {'transcript': 'doctor it feels like someone is hitting my head with a hammer I seen pain on the top of my head and it traps'}, {'transcript': 'doctor it feels like someone is hitting my head with a hammer I seen pain on the top of my head and it trumps'}, {'transcript': 'dr. it feels like someone is hitting my head with a hammer I seen pain on the top of my head and it rubs'}], 'final': True}\n",
      "\n",
      "Filename: 1249120_35170334_60768809.wav\n",
      "Text: {'alternative': [{'transcript': 'I feel abdominal pain', 'confidence': 0.98762906}], 'final': True}\n",
      "\n",
      "Filename: 1249120_39740177_60466503.wav\n",
      "Text: {'alternative': [{'transcript': 'I think I overdid it when I carried all that lumber from the yard my lower back is killing me', 'confidence': 0.87751311}, {'transcript': 'I think I overdid it when I covered all that lumber from the yard my lower back is killing me'}, {'transcript': 'I think I overdid it when I copied all that lumber from the yard my lower back is killing me'}, {'transcript': \"I think I overdid it when I can't read all that lumber from the yard my lower back is killing me\"}], 'final': True}\n",
      "\n",
      "Filename: 1249120_35350617_39399369.wav\n",
      "Text: {'alternative': [{'transcript': 'Glass Broken In Bloom my leg badly the wound is so wide', 'confidence': 0.79372334}, {'transcript': 'Glass Broken in Boone my leg badly the wound is so wide'}, {'transcript': 'Glass Broken in blue my leg badly the wound is so wide'}, {'transcript': 'glass broken and blew my leg badly the wound is so wide'}, {'transcript': 'glass broken and blue my leg badly the wound is so wide'}], 'final': True}\n",
      "\n",
      "Filename: 1249120_41956733_53952011.wav\n",
      "Text: {'alternative': [{'transcript': 'I have a scab on the back of my hand but just agave', 'confidence': 0.84371501}, {'transcript': \"I have a scab on the back of my hand that just won't go away\"}, {'transcript': \"I have a scab on the back of my hand but just don't go away\"}, {'transcript': 'I have a scab on the back of my hand that just all go away'}, {'transcript': 'I have a scab on the back of my hand but just Agaves'}], 'final': True}\n",
      "\n",
      "Filename: 1249120_42554554_13003208.wav\n",
      "Text: {'alternative': [{'transcript': 'I have issue with my skin', 'confidence': 0.92996639}, {'transcript': 'I have issue with my skinned', 'confidence': 0.92996639}, {'transcript': 'I have issue with my skyn', 'confidence': 0.92996639}, {'transcript': 'I have issue with my skinn', 'confidence': 0.92996639}, {'transcript': 'I have issue with my zkin', 'confidence': 0.92996639}], 'final': True}\n",
      "\n",
      "Filename: 1249120_22423108_40848483.wav\n",
      "Text: {'alternative': [{'transcript': 'I fell off my bike and since then I had hard knee pain', 'confidence': 0.91052496}, {'transcript': 'I fell off my bike and sense then I had hard knee pain'}, {'transcript': \"I fell off my bike and since then I've had hard knee pain\"}, {'transcript': 'I fell off my bike and since then I had hardly pain'}, {'transcript': 'I fell off my bike and since then I had hardly any pain'}], 'final': True}\n",
      "\n",
      "Filename: 1249120_38548574_23324087.wav\n",
      "Text: {'alternative': [{'transcript': 'my stomach aches after I drink any soda drink wine', 'confidence': 0.90593213}, {'transcript': 'my stomach ache after I drink any soda drink wine', 'confidence': 0.89957649}, {'transcript': 'my stomach aches after I drink any soda drink why', 'confidence': 0.96431506}, {'transcript': 'my stomach aches after I drink any soda drink whine', 'confidence': 0.90593213}, {'transcript': 'my stomach aches after I drink any sode drink wine', 'confidence': 0.90593213}], 'final': True}\n",
      "\n",
      "Filename: 1249120_22345789_66819910.wav\n",
      "Text: {'alternative': [{'transcript': 'my calves feel like they are tight as knots and are throbbing', 'confidence': 0.80639392}, {'transcript': \"my calves feel like they're tight as knots and are throbbing\"}, {'transcript': 'my calves feel like they are Titus Knotts and are throbbing'}, {'transcript': 'my calves feel like they are tight as knots and are thriving'}, {'transcript': \"my calves feel like they're Titus Knotts and are throbbing\"}], 'final': True}\n",
      "\n",
      "Filename: 1249120_43857865_104892900.wav\n",
      "Text: {'alternative': [{'transcript': 'the wound is still open', 'confidence': 0.79388481}, {'transcript': 'no one is still open'}, {'transcript': 'no wound is still open'}, {'transcript': 'no-one is still open'}], 'final': True}\n",
      "\n",
      "Filename: 1249120_1853182_100689643.wav\n",
      "Text: {'alternative': [{'transcript': 'I feel a burning sensation in my shoulder muscle', 'confidence': 0.98762906}], 'final': True}\n",
      "\n",
      "Filename: 1249120_43898272_56130547.wav\n",
      "Text: []\n",
      "\n",
      "Filename: 1249120_35350617_41222190.wav\n",
      "Text: {'alternative': [{'transcript': 'my arm hurts when I stretch', 'confidence': 0.987629}], 'final': True}\n",
      "\n",
      "Filename: 1249120_18172663_45961223.wav\n",
      "Text: {'alternative': [{'transcript': 'it feels like a swollen knot at my shoulder blade with pain shooting from that', 'confidence': 0.78087628}, {'transcript': 'there feels like a swollen knot at my shoulder blade with pain shooting from that'}, {'transcript': 'their feels like a swollen knot at my shoulder blade with pain shooting from that'}, {'transcript': \"they're feels like a swollen knot at my shoulder blade with pain shooting from that\"}, {'transcript': 'are feels like a swollen knot at my shoulder blade with pain shooting from that'}], 'final': True}\n",
      "\n",
      "Filename: 1249120_38202325_48371991.wav\n",
      "Text: {'alternative': [{'transcript': 'I feel shoulder pain at intervals of time', 'confidence': 0.987629}], 'final': True}\n",
      "\n",
      "Filename: 1249120_40184183_44553797.wav\n",
      "Text: {'alternative': [{'transcript': 'how do you stop Sports because I get injury from Sports', 'confidence': 0.71638435}, {'transcript': 'I stopped Sports because I get injury from Sports'}, {'transcript': 'I stop Sports because I get injury from Sports'}, {'transcript': 'highest top sports because I get injury from Sports'}, {'transcript': 'highest talk sports because I get injury from Sports'}], 'final': True}\n",
      "\n",
      "Filename: 1249120_2171654_90588092.wav\n",
      "Text: {'alternative': [{'transcript': 'I felt my heart hurts when I ran for a long distance', 'confidence': 0.9541285}, {'transcript': 'I felt my heart hurts when I ran for a long-distance'}], 'final': True}\n",
      "\n",
      "Filename: 1249120_13842059_19016138.wav\n",
      "Text: {'alternative': [{'transcript': 'when I move my shoulder it is like lightning is being sent through my shoulder', 'confidence': 0.96807659}, {'transcript': 'when I move my shoulder it is like lightening is being sent through my shoulder'}], 'final': True}\n",
      "\n",
      "Filename: 1249120_42554554_19517953.wav\n",
      "Text: {'alternative': [{'transcript': 'my headache since I woke up this morning', 'confidence': 0.987629}], 'final': True}\n",
      "\n",
      "Filename: 1249120_36929821_54691727.wav\n",
      "Text: {'alternative': [{'transcript': \"sometimes I cough because I'm a smoker\", 'confidence': 0.9318586}, {'transcript': \"sometimes I cough because I'm a smooth ER\"}, {'transcript': \"sometimes I cough because I'm a smooth though\"}], 'final': True}\n",
      "\n",
      "Filename: 1249120_43620482_80114632.wav\n",
      "Text: {'alternative': [{'transcript': 'sometimes I feel like a claw on my chest that leaves me Breathless', 'confidence': 0.98876882}, {'transcript': 'sometimes I feel like a claw on my chests that leaves me Breathless', 'confidence': 0.98876882}, {'transcript': 'sometimes I feel like a klaw on my chest that leaves me Breathless', 'confidence': 0.98876882}, {'transcript': 'sometimes I feel like a Clau on my chest that leaves me Breathless', 'confidence': 0.98876882}, {'transcript': 'sometimes I feel like a klah on my chest that leaves me Breathless', 'confidence': 0.98876882}], 'final': True}\n",
      "\n",
      "Filename: 1249120_20518958_102076059.wav\n",
      "Text: {'alternative': [{'transcript': 'I have an interjection', 'confidence': 0.80781865}, {'transcript': 'I have an indentation'}, {'transcript': 'I have an indigestion'}], 'final': True}\n",
      "\n",
      "Filename: 1249120_36929821_22587599.wav\n",
      "Text: {'alternative': [{'transcript': 'my hair is falling without a reason I can see a lot of hair on my working desk', 'confidence': 0.99452615}, {'transcript': 'my hair is falling without a reason I can see a lot of hair on my workin desk', 'confidence': 0.99452615}, {'transcript': 'my hair is falling without a reason I can see a lot of hair on my working desc', 'confidence': 0.99452615}, {'transcript': 'my hair is falling without a reason I can see a lot of hair on my woking desk', 'confidence': 0.99452615}, {'transcript': 'my hair is falling without a reason I kin see a lot of hair on my working desk', 'confidence': 0.99452615}], 'final': True}\n",
      "\n",
      "Filename: 1249120_43995026_40143020.wav\n",
      "Text: {'alternative': [{'transcript': \"my soul looks like it's not healing well\", 'confidence': 0.78190124}, {'transcript': \"my phone looks like it's not healing well\"}, {'transcript': \"my so looks like it's not healing well\"}, {'transcript': \"looks like it's not healing well\"}, {'transcript': \"my soul looks like it's not eating well\"}], 'final': True}\n",
      "\n",
      "Filename: 1249120_41087148_84065638.wav\n",
      "Text: {'alternative': [{'transcript': 'my body feels weak although I take my vitamins regularly', 'confidence': 0.94518983}, {'transcript': 'my body feels weak although I take my vitamines regularly', 'confidence': 0.94518983}, {'transcript': 'my body feels weak although igh take my vitamins regularly', 'confidence': 0.94518983}, {'transcript': 'my badi feels weak although I take my vitamins regularly', 'confidence': 0.94518983}, {'transcript': 'my boddie feels weak although I take my vitamins regularly', 'confidence': 0.94518983}], 'final': True}\n",
      "\n",
      "Filename: 1249120_43620482_91315028.wav\n",
      "Text: {'alternative': [{'transcript': 'I feel it clicking sensation in my knee each time I step', 'confidence': 0.86838013}, {'transcript': 'I feel it clicking sensation and my knee each time I step'}, {'transcript': 'I feel like waking sensation in my knee each time I step'}, {'transcript': 'I feel like waking sensation and my knee each time I step'}], 'final': True}\n",
      "\n",
      "Filename: 1249120_43918153_57663971.wav\n",
      "Text: {'alternative': [{'transcript': \"I cut my hand a couple of days ago on the low I didn't think I needed it stitches it hasn't closed up\", 'confidence': 0.95797956}, {'transcript': \"I cut my hand a couple of days ago on the lo I didn't think I needed it stitches it hasn't closed up\", 'confidence': 0.95797956}, {'transcript': \"I cut my hand a couple of days ago on the Lowe I didn't think I needed it stitches it hasn't closed up\", 'confidence': 0.95797956}, {'transcript': \"I cut my hand a couple of days ago on the Lough I didn't think I needed it stitches it hasn't closed up\", 'confidence': 0.95797956}, {'transcript': \"I cut my hand a couple of days ago on the LOE I didn't think I needed it stitches it hasn't closed up\", 'confidence': 0.95797956}], 'final': True}\n",
      "\n",
      "Filename: 1249120_35444693_83039517.wav\n",
      "Text: {'alternative': [{'transcript': 'I hardly have enough strength to get up', 'confidence': 0.66019928}, {'transcript': 'I hardly have enough strength to get oop', 'confidence': 0.66019928}, {'transcript': 'I hardly have enough strengths to get up', 'confidence': 0.66019928}, {'transcript': 'I hardly have enough strength to get Upp', 'confidence': 0.66019928}, {'transcript': 'I hardly have enough strength to get yoop', 'confidence': 0.66019928}], 'final': True}\n",
      "\n",
      "Filename: 1249120_43604449_95051665.wav\n",
      "Text: {'alternative': [{'transcript': 'my son Nick to his neck with an old razor and dead spot has become infirm and looks like it is infected', 'confidence': 0.74586332}, {'transcript': 'my son Nick to his neck with an old razor and dead spot has become inflamed and looks like it is infected'}, {'transcript': 'my son knocked his neck with an old razor and dead spot has become infirm and looks like it is infected'}, {'transcript': 'my son knocked his neck with an old razor and dead spot has become inflamed and looks like it is infected'}, {'transcript': 'my son Nick to his name with an old razor and dead spot has become infirm and looks like it is infected'}], 'final': True}\n",
      "\n",
      "Filename: 1249120_38202325_103175792.wav\n",
      "Text: {'alternative': [{'transcript': 'using hair tonic', 'confidence': 0.98762912}], 'final': True}\n",
      "\n",
      "Filename: 1249120_39154234_64570055.wav\n",
      "Text: {'alternative': [{'transcript': 'my hair is coming out in chunks especially when I was it', 'confidence': 0.86903983}, {'transcript': 'my hair is coming out in chunks especially when I use it'}, {'transcript': 'my hair is coming out in chunks especially when I was'}, {'transcript': \"my hair is coming out in chunks especially when I wasn't\"}, {'transcript': \"my hair is coming out in chunks especially when you're sick\"}], 'final': True}\n",
      "\n",
      "Filename: 1249120_43855932_43810831.wav\n",
      "Text: {'alternative': [{'transcript': 'my hair always calls out and I have lost a lot of hair lately', 'confidence': 0.89713925}, {'transcript': 'my father always calls out and I have lost a lot of hair lately'}, {'transcript': 'my head always calls out and I have lost a lot of hair lately'}, {'transcript': 'my hair always calls out and I have lost a lot of her lately'}, {'transcript': 'my father always calls out and I have lost a lot of her lately'}], 'final': True}\n",
      "\n",
      "Filename: 1249120_44093933_101211929.wav\n",
      "Text: {'alternative': [{'transcript': \"what's the symptoms of appendicitis\", 'confidence': 0.98762906}], 'final': True}\n",
      "\n",
      "Filename: 1249120_43918153_72811039.wav\n",
      "Text: {'alternative': [{'transcript': 'I was playing football and injured was 19', 'confidence': 0.88779414}, {'transcript': 'I was playing football and injured with 19'}, {'transcript': 'I was playing football and injured with nineteen'}, {'transcript': 'I was playing football and injured was Nineteen'}], 'final': True}\n",
      "\n",
      "Filename: 1249120_38202325_34322074.wav\n",
      "Text: {'alternative': [{'transcript': 'I have a pain in my traps', 'confidence': 0.97158515}, {'transcript': 'I have a pain in my traipse', 'confidence': 0.99065799}, {'transcript': 'I have a pain in my trapps', 'confidence': 0.97158515}, {'transcript': 'I have a pain in my trapes', 'confidence': 0.99065799}, {'transcript': 'I have a pain in my trapz', 'confidence': 0.97158515}], 'final': True}\n",
      "\n",
      "Filename: 1249120_31349958_81558426.wav\n",
      "Text: {'alternative': [{'transcript': 'I have a baby', 'confidence': 0.95129234}, {'transcript': 'I have a baby boy'}, {'transcript': 'I have baby'}], 'final': True}\n",
      "\n",
      "Filename: 1249120_13842059_64943737.wav\n",
      "Text: {'alternative': [{'transcript': 'I get terrible headaches every few months and why not got down my vision is affected', 'confidence': 0.80910951}, {'transcript': 'I get terrible headaches every few months and why not get down my vision is affected'}, {'transcript': 'I get terrible headaches every few months and whatnot. Down my vision is affected'}, {'transcript': 'I get terrible headaches every few months and one not get down my vision is affected'}, {'transcript': 'I get terrible headaches every few months and why not. Down my vision is affected'}], 'final': True}\n",
      "\n",
      "Filename: 1249120_43105396_87785249.wav\n",
      "Text: {'alternative': [{'transcript': 'I have cloudy eyes', 'confidence': 0.98762906}], 'final': True}\n",
      "\n",
      "Filename: 1249120_29289135_66741607.wav\n",
      "Text: {'alternative': [{'transcript': 'my back got injured while I was lifting at the gym', 'confidence': 0.987629}], 'final': True}\n",
      "\n",
      "Filename: 1249120_41221824_14788823.wav\n",
      "Text: {'alternative': [{'transcript': 'I feel pain in my shoulders when I write on the keyboard', 'confidence': 0.88589782}, {'transcript': 'I feel pain in my shoulders when I right on the keyboard'}, {'transcript': 'I feel pain in my Shooters when I write on the keyboard'}, {'transcript': 'I feel pain in my shoulder when I write on the keyboard'}, {'transcript': 'I feel pain in my Shooters when I right on the keyboard'}], 'final': True}\n",
      "\n",
      "Filename: 1249120_15004831_71961366.wav\n",
      "Text: {'alternative': [{'transcript': 'sometimes I cough because I am a smoker', 'confidence': 0.987629}], 'final': True}\n",
      "\n",
      "Filename: 1249120_30766630_23240821.wav\n",
      "Text: {'alternative': [{'transcript': 'I feel pain in my neck after waking up', 'confidence': 0.98762906}], 'final': True}\n",
      "\n",
      "Filename: 1249120_13842059_21836537.wav\n",
      "Text: {'alternative': [{'transcript': 'I feel cold', 'confidence': 0.97067744}, {'transcript': 'I feel code'}], 'final': True}\n",
      "\n",
      "Filename: 1249120_18172663_21113669.wav\n",
      "Text: {'alternative': [{'transcript': 'I had a lot of exercise yesterday so I feel sharp muscle pains', 'confidence': 0.99033993}, {'transcript': 'I had a lot of exercised yesterday so I feel sharp muscle pains', 'confidence': 0.99033993}, {'transcript': 'I had a lot of excercise yesterday so I feel sharp muscle pains', 'confidence': 0.99033993}, {'transcript': 'I had a lot of excersise yesterday so I feel sharp muscle pains', 'confidence': 0.99033993}, {'transcript': 'I had a lot of exercise yesterday so I feel Sharpe muscle pains', 'confidence': 0.99033993}], 'final': True}\n",
      "\n",
      "Filename: 1249120_43620482_80148367.wav\n",
      "Text: {'alternative': [{'transcript': \"my back hurts so much that I can't bend down to tie my shoelaces\", 'confidence': 0.97908956}, {'transcript': \"my back hurts so much that I can't bend down to tie my shoe laces\", 'confidence': 0.97701859}, {'transcript': \"my back hurts so much that I can't bend down Tio tie my shoelaces\", 'confidence': 0.97908956}, {'transcript': \"my back hurts so much that I can't bend down Teo tie my shoelaces\", 'confidence': 0.97908956}, {'transcript': \"my back hurts so much that I can't bende down to tie my shoelaces\", 'confidence': 0.97908956}], 'final': True}\n",
      "\n",
      "Filename: 1249120_44101988_56672117.wav\n",
      "Text: {'alternative': [{'transcript': 'everytime I take a deep breath I start coughing', 'confidence': 0.71463472}, {'transcript': 'every time I take a deep breath I start coughing'}, {'transcript': 'everytime I take a deep breath I started coughing'}, {'transcript': 'every time I take a deep breath I started coughing'}], 'final': True}\n",
      "\n",
      "Filename: 1249120_35832653_35215279.wav\n",
      "Text: {'alternative': [{'transcript': 'my bicep started aching after I went to the gym', 'confidence': 0.64402831}, {'transcript': 'my biceps started aching after I went to the gym'}, {'transcript': 'my bicep started 18 after I went to the gym'}, {'transcript': 'my biceps started shaking after I went to the gym'}, {'transcript': 'my bicep started shaking after I went to the gym'}], 'final': True}\n",
      "\n",
      "Filename: 1249120_18172663_28170809.wav\n",
      "Text: {'alternative': [{'transcript': 'my lower back hurts but it improves if I stretch it', 'confidence': 0.987629}], 'final': True}\n",
      "\n",
      "Filename: 1249120_43172391_27408805.wav\n",
      "Text: {'alternative': [{'transcript': 'my son has a lot of acting', 'confidence': 0.93189877}, {'transcript': 'my son has a lot of acne'}], 'final': True}\n",
      "\n",
      "Filename: 1249120_44088493_48146375.wav\n",
      "Text: {'alternative': [{'transcript': 'I feel great pressure in my chest', 'confidence': 0.94254267}, {'transcript': 'I feel great pressure and my chest'}], 'final': True}\n",
      "\n",
      "Filename: 1249120_41087148_73041006.wav\n",
      "Text: {'alternative': [{'transcript': 'my muscles feel tired', 'confidence': 0.97831094}, {'transcript': 'my muscles feel tight'}], 'final': True}\n",
      "\n",
      "Filename: 1249120_41087148_105066937.wav\n",
      "Text: {'alternative': [{'transcript': 'my foot been asking since plus plus', 'confidence': 0.73671997}, {'transcript': 'my foot been asking since + 12'}, {'transcript': 'my foot been asking since plus plus.'}, {'transcript': 'my foot been asking since last Wednesday'}, {'transcript': 'my food been asking since + 12'}], 'final': True}\n",
      "\n",
      "Filename: 1249120_43719934_22444850.wav\n",
      "Text: []\n",
      "\n",
      "Filename: 1249120_31349958_47200536.wav\n",
      "Text: []\n",
      "\n",
      "Filename: 1249120_39438102_15270901.wav\n",
      "Text: {'alternative': [{'transcript': 'when I move my shoulder is like older', 'confidence': 0.75629467}, {'transcript': 'when I leave my shoulder is like older'}, {'transcript': 'when I move my folder is like older'}, {'transcript': 'when I move my shoulder is like a shoulder'}, {'transcript': 'when I leave my shoulder is like a shoulder'}], 'final': True}\n",
      "\n",
      "Filename: 1249120_44027675_73120896.wav\n",
      "Text: {'alternative': [{'transcript': \"I don't know why\", 'confidence': 0.82208222}, {'transcript': \"I think I don't know why\"}, {'transcript': \"I don't know how\"}, {'transcript': \"I think I don't know how\"}], 'final': True}\n",
      "\n",
      "Filename: 1249120_33251186_66008404.wav\n",
      "Text: {'alternative': [{'transcript': \"7th pain in upper left side of my chest and mayhap ain't back\", 'confidence': 0.77145767}, {'transcript': '7th pain in upper left side of my chest and mayhap paint back'}, {'transcript': \"Sarah pain in upper left side of my chest and mayhap ain't back\"}, {'transcript': \"seventh pain in upper left side of my chest and mayhap ain't back\"}, {'transcript': 'Sarah pain in upper left side of my chest and mayhap paint back'}], 'final': True}\n",
      "\n",
      "Filename: 1249120_36505751_96125011.wav\n",
      "Text: {'alternative': [{'transcript': 'it was injured during football match I was diagnosed with cruciate ligament', 'confidence': 0.987629}], 'final': True}\n",
      "\n",
      "Filename: 1249120_43758322_47702690.wav\n",
      "Text: {'alternative': [{'transcript': 'my abdominal muscle have a real pain since I was a gene', 'confidence': 0.83109754}, {'transcript': 'my abdominal muscle have a real pain since I was a Jinn'}, {'transcript': 'my abdominal muscle have a real pain since I was a Djinn'}, {'transcript': 'my abdominal muscle have a real pain since I was a gin'}, {'transcript': 'my abdominal muscle half a real pain since I was a gene'}], 'final': True}\n",
      "\n",
      "Filename: 1249120_20518958_36066076.wav\n",
      "Text: {'alternative': [{'transcript': 'my daughter had her ears pierced earlobes is bright red and burning hot', 'confidence': 0.87671983}, {'transcript': 'my daughter had her ears pierced earlobes and burning hot'}, {'transcript': 'my daughter had her ears pierced earlobes straight and burning hot'}, {'transcript': 'my daughter had her ears pierced earlobes trait and burning hot'}, {'transcript': 'my daughter had her ears pierced is bright red and burning hot'}], 'final': True}\n",
      "\n",
      "Filename: 1249120_19425875_87748420.wav\n",
      "Text: {'alternative': [{'transcript': 'I have a headache everytime I eat ice cream', 'confidence': 0.96405083}, {'transcript': 'I have a headache everytime I eat ice-cream'}, {'transcript': 'I have a headache every time I eat ice cream'}], 'final': True}\n",
      "\n",
      "Filename: 1249120_40725179_67475742.wav\n",
      "Text: {'alternative': [{'transcript': \"my back hurts so much I can't bend down to tie my shoelaces\", 'confidence': 0.9463467}, {'transcript': \"my back hurts so much I can't bend down to tie my shoe laces\"}, {'transcript': \"I begged her so much I can't bend down to tie my shoelaces\"}, {'transcript': \"my back hurts so much I can't bend down to tie my shoe lights\"}, {'transcript': \"I meant her so much I can't bend down to tie my shoelaces\"}], 'final': True}\n",
      "\n",
      "Filename: 1249120_41841195_68862121.wav\n",
      "Text: {'alternative': [{'transcript': \"I'm not feeling good I get infection\", 'confidence': 0.97850692}, {'transcript': \"I'm not feeling good I get infections\"}], 'final': True}\n",
      "\n",
      "Filename: 1249120_28006404_10831028.wav\n",
      "Text: {'alternative': [{'transcript': 'there is acne on my face', 'confidence': 0.97006017}, {'transcript': 'there is actually on my face'}, {'transcript': 'there is Acme on my face'}, {'transcript': \"they're is acne on my face\"}], 'final': True}\n",
      "\n",
      "Filename: 1249120_40725179_94714806.wav\n",
      "Text: {'alternative': [{'transcript': 'I complain a lot because Kim allergy', 'confidence': 0.81344455}, {'transcript': 'I complain a lot allergy'}, {'transcript': 'I complain a lot to skim allergy'}, {'transcript': 'I complain a lot allergies'}, {'transcript': 'I complain a lot to skim allergies'}], 'final': True}\n",
      "\n",
      "Filename: 1249120_22345789_61447933.wav\n",
      "Text: {'alternative': [{'transcript': 'I usually have a bad cough when I get flu', 'confidence': 0.98762906}], 'final': True}\n",
      "\n",
      "Filename: 1249120_43172391_101105809.wav\n",
      "Text: {'alternative': [{'transcript': 'the feeling of caffeine increases in Winter switch', 'confidence': 0.8819378}, {'transcript': 'the feeling of caffeine increases in window switch'}, {'transcript': 'the feeling of caffeine increases in Windsor switch'}, {'transcript': 'the feeling of caffeine increases in winner switch'}, {'transcript': 'the feeling of caffeine increases in Windsor Street'}], 'final': True}\n",
      "\n",
      "Filename: 1249120_44111844_10697606.wav\n",
      "Text: {'alternative': [{'transcript': 'hi Heather Dale taking my stomach', 'confidence': 0.6240952}, {'transcript': 'hi Heather Dale making my stomach'}, {'transcript': 'I have a dollar in my stomach'}, {'transcript': 'I have a dog in my stomach'}, {'transcript': 'hi Heather. Making my stomach'}], 'final': True}\n",
      "\n",
      "Filename: 1249120_43951421_61827450.wav\n",
      "Text: {'alternative': [{'transcript': 'my neck feels stiff', 'confidence': 0.94969255}, {'transcript': 'my neck feel stiff'}, {'transcript': 'when it feels stiff'}, {'transcript': 'Winnetka feel stiff'}], 'final': True}\n",
      "\n",
      "Filename: 1249120_40663048_80874146.wav\n",
      "Text: []\n",
      "\n",
      "Filename: 1249120_41087148_54268577.wav\n",
      "Text: {'alternative': [{'transcript': 'I feel that has great pain in my left foot', 'confidence': 0.7309345}, {'transcript': 'I feel that it is great pain in my left foot'}, {'transcript': 'I feel dirty is great pain in my left foot'}, {'transcript': 'I feel that she is great pain in my left foot'}, {'transcript': 'I feel that has great pain in my left'}], 'final': True}\n",
      "\n",
      "Filename: 1249120_43898158_80241709.wav\n",
      "Text: {'alternative': [{'transcript': 'back hurts a lot when I bend', 'confidence': 0.62395459}, {'transcript': 'my back hurts a lot when I bend'}, {'transcript': 'back hurts a lot when I burned'}, {'transcript': 'my back hurts a lot when I burned'}, {'transcript': 'back hair salon in Edmond'}], 'final': True}\n",
      "\n",
      "Filename: 1249120_38042052_63129926.wav\n",
      "Text: {'alternative': [{'transcript': 'I have muscle pain at my left leg', 'confidence': 0.97362828}, {'transcript': \"I have muscle pain that's my left leg\"}], 'final': True}\n",
      "\n",
      "Filename: 1249120_30766630_102787798.wav\n",
      "Text: {'alternative': [{'transcript': 'I have internal pain whenever I come down with a cold', 'confidence': 0.987629}], 'final': True}\n",
      "\n",
      "Filename: 1249120_43612961_46598529.wav\n",
      "Text: {'alternative': [{'transcript': 'front hip pain and the light bothers me', 'confidence': 0.59960693}, {'transcript': 'front hip pain and when I get the light bothers me'}, {'transcript': 'I have front hip pain and the light bothers me'}, {'transcript': 'I have front hip pain and when I get the light bothers me'}, {'transcript': 'front hip pain and when the light bothers me'}], 'final': True}\n",
      "\n",
      "Filename: 1249120_43719934_90277655.wav\n",
      "Text: []\n",
      "\n",
      "Filename: 1249120_18386513_85583004.wav\n",
      "Text: {'alternative': [{'transcript': 'I was playing football and injury with joint pain', 'confidence': 0.94822383}, {'transcript': 'I was playing football and injuried with joint pain'}, {'transcript': 'I was playing football and injuries with joint pain'}], 'final': True}\n",
      "\n",
      "Filename: 1249120_41221824_102289849.wav\n",
      "Text: {'alternative': [{'transcript': 'I feel pain in my neck after waking up', 'confidence': 0.98762906}], 'final': True}\n",
      "\n",
      "Filename: 1249120_18985376_22170590.wav\n",
      "Text: {'alternative': [{'transcript': 'I have cut my finger because of playing football and I to apply pain relief cream but it does not help', 'confidence': 0.93947667}, {'transcript': \"I have cut my finger because I'm playing football and I to apply pain relief cream but it does not help\"}, {'transcript': \"I have cut my finger because they're playing football and I to apply pain relief cream but it does not help\"}, {'transcript': \"I have cut my finger because it's playing football and I to apply pain relief cream but it does not help\"}, {'transcript': \"I've cut my finger because of playing football and I to apply pain relief cream but it does not help\"}], 'final': True}\n",
      "\n",
      "Filename: 1249120_40663048_24625644.wav\n",
      "Text: []\n",
      "\n",
      "Filename: 1249120_43855932_61136931.wav\n",
      "Text: {'alternative': [{'transcript': 'I feel cold and chills even though my clothes are heavy', 'confidence': 0.96925884}, {'transcript': 'I feel cold and chills even do my clothes are heavy'}, {'transcript': 'I feel cold and chills even though my clothes or heavy'}, {'transcript': 'I feel cold and chills even do my clothes are heavier'}, {'transcript': 'I feel cold and chills even do my clothes or heavy'}], 'final': True}\n",
      "\n",
      "Filename: 1249120_22345789_32856302.wav\n",
      "Text: {'alternative': [{'transcript': 'when I force my eyes to view I have blurry vision', 'confidence': 0.87683678}, {'transcript': 'when I force my eyes to be why a blurry vision'}, {'transcript': 'when I force my eyes to view Aya blurry vision'}, {'transcript': 'when I forced my eyes to view I have blurry vision'}, {'transcript': 'when I force my eyes to Vue I have blurry vision'}], 'final': True}\n",
      "\n",
      "Filename: 1249120_43604449_22723006.wav\n",
      "Text: {'alternative': [{'transcript': 'I feel like I have always got something in my throat', 'confidence': 0.98612022}, {'transcript': 'I feel like I have always got something in my throat.'}, {'transcript': 'I feel like I have always got something in my prod'}, {'transcript': 'I feel like I have always got something in my prod.'}], 'final': True}\n",
      "\n",
      "Filename: 1249120_29672643_81835950.wav\n",
      "Text: {'alternative': [{'transcript': 'my chest hurts when I go to take a breath', 'confidence': 0.9502883}, {'transcript': 'my chest hurts when I go take a breath'}], 'final': True}\n",
      "\n",
      "Filename: 1249120_28006404_24411920.wav\n",
      "Text: {'alternative': [{'transcript': 'I had a lot of exercise yesterday so I feel sharp muscle pains', 'confidence': 0.96290869}, {'transcript': 'I had a lot of exercise yesterday so I feel shop muscle pains'}, {'transcript': 'I had a lot of exercise yesterday so I feel the shop muscle pains'}, {'transcript': 'I had a lot of exercise yesterday so I feel shot muscle pains'}, {'transcript': 'I had a lot of exercise yesterday so I feel Shoppe muscle pains'}], 'final': True}\n",
      "\n",
      "Filename: 1249120_43855932_84234434.wav\n",
      "Text: {'alternative': [{'transcript': 'I feel emotionally crushed', 'confidence': 0.8633132}, {'transcript': 'I feel emotionally crust', 'confidence': 0.84599215}, {'transcript': 'I feel emotionally Krust', 'confidence': 0.84599215}, {'transcript': 'I feel emotionally crusts', 'confidence': 0.84599215}, {'transcript': 'I feel emotionally krushed', 'confidence': 0.8633132}], 'final': True}\n",
      "\n",
      "Filename: 1249120_44093933_39915148.wav\n",
      "Text: {'alternative': [{'transcript': 'I have been over my cold for weeks but it still come everyday', 'confidence': 0.78064978}, {'transcript': 'I have been over my cold for weeks but still come everyday'}, {'transcript': 'I have been over my cold for weeks but it still come every day'}, {'transcript': 'I have been over my cold for weeks but still call everyday'}, {'transcript': 'I have been over my cold for weeks but still come every day'}], 'final': True}\n",
      "\n",
      "Filename: 1249120_28006404_29192822.wav\n",
      "Text: {'alternative': [{'transcript': 'I have shooting pain in my knee cap after working out', 'confidence': 0.98023754}, {'transcript': 'I have shooting pain in my knee kept after working out'}], 'final': True}\n",
      "\n",
      "Filename: 1249120_43898272_26591695.wav\n",
      "Text: []\n",
      "\n",
      "Filename: 1249120_14353703_23465450.wav\n",
      "Text: {'alternative': [{'transcript': \"I don't do anything at home and I still feel exhausted\", 'confidence': 0.99561709}, {'transcript': 'I dont do anything at home and I still feel exhausted', 'confidence': 0.99561709}, {'transcript': \"I don't do anything at Holm and I still feel exhausted\", 'confidence': 0.99561709}, {'transcript': \"I don't do anything at Homme and I still feel exhausted\", 'confidence': 0.99561709}, {'transcript': \"I don't do anything at hom and I still feel exhausted\", 'confidence': 0.99561709}], 'final': True}\n",
      "\n",
      "Filename: 1249120_44142156_59762241.wav\n",
      "Text: {'alternative': [{'transcript': 'it feels like someone is hitting my head with a hammer I feel pain on the top of my head and it throbs', 'confidence': 0.8944903}, {'transcript': 'it feels like someone is hitting my head with a hammer I feel pain on the top of my head and it throws', 'confidence': 0.91010469}, {'transcript': 'it feels like someone is hitting my head with a hammer I feel pain on the top of my head and it drops', 'confidence': 0.9045397}, {'transcript': 'it feels like someone is hitting my head with a hamre I feel pain on the top of my head and it throws', 'confidence': 0.91010469}, {'transcript': 'it feels like someone is hittin my head with a hammer I feel pain on the top of my head and it throws', 'confidence': 0.91010469}], 'final': True}\n",
      "\n",
      "Filename: 1249120_21665495_15162333.wav\n",
      "Text: {'alternative': [{'transcript': 'my headache since I woke up this morning', 'confidence': 0.95138389}, {'transcript': 'my headaches since I woke up this morning'}], 'final': True}\n",
      "\n",
      "Filename: 1249120_21665495_68519089.wav\n",
      "Text: {'alternative': [{'transcript': 'he was discovered to have an open wound', 'confidence': 0.90605557}, {'transcript': 'it was discovered to have an open wound'}], 'final': True}\n",
      "\n",
      "Filename: 1249120_15004831_85268007.wav\n",
      "Text: {'alternative': [{'transcript': 'I have pimples and patches along with a lot of redness on my face', 'confidence': 0.99591321}, {'transcript': 'I have pimples and paches along with a lot of redness on my face', 'confidence': 0.99591321}, {'transcript': 'I have pimples and patches alongs with a lot of redness on my face', 'confidence': 0.99591321}, {'transcript': 'I have pimples and patches along with a lot of redniss on my face', 'confidence': 0.99591321}, {'transcript': 'I have pimples and patches along with a lot of redness on my faced', 'confidence': 0.99591321}], 'final': True}\n",
      "\n",
      "Filename: 1249120_31349958_109769396.wav\n",
      "Text: []\n",
      "\n",
      "Filename: 1249120_35832653_93792829.wav\n",
      "Text: {'alternative': [{'transcript': 'chronic disease of hair follicles and sebaceous glands', 'confidence': 0.95005834}, {'transcript': 'chronic diseases of hair follicles and sebaceous glands'}, {'transcript': 'chronic disease of hair follicles in sebaceous glands'}, {'transcript': 'chronic diseases of hair follicles in sebaceous glands'}, {'transcript': 'chronic disease of hair follicles & sebaceous glands'}], 'final': True}\n",
      "\n",
      "Filename: 1249120_42554554_99823922.wav\n",
      "Text: {'alternative': [{'transcript': 'my knee hurts when I play Squash', 'confidence': 0.987629}], 'final': True}\n",
      "\n",
      "Filename: 1249120_38548574_11252773.wav\n",
      "Text: {'alternative': [{'transcript': 'I feel pain in my right shoulder after the tennis match', 'confidence': 0.7525925}, {'transcript': 'tennis match', 'confidence': 0.9008795}, {'transcript': 'I feel pain in my write shoulder after the tennis match', 'confidence': 0.7525925}, {'transcript': 'I feel pain in my alright shoulder after the tennis match', 'confidence': 0.7525925}], 'final': True}\n",
      "\n",
      "Filename: 1249120_43883861_104861503.wav\n",
      "Text: {'alternative': [{'transcript': 'I feel shoulder pain at intervals of time', 'confidence': 0.96392864}, {'transcript': 'I feel so the pain at intervals of time'}, {'transcript': 'I feel so numb the pain at intervals of time'}], 'final': True}\n",
      "\n",
      "Filename: 1249120_22345789_31539634.wav\n",
      "Text: {'alternative': [{'transcript': 'I have a headache everytime I eat ice cream', 'confidence': 0.9640559}, {'transcript': 'I have a headache everytime I eat ice-cream'}, {'transcript': 'I have a headache every time I eat ice cream'}], 'final': True}\n",
      "\n",
      "Filename: 1249120_35444693_49195384.wav\n",
      "Text: {'alternative': [{'transcript': 'mysam', 'confidence': 0.92435175}, {'transcript': 'mycelium'}, {'transcript': 'my son'}], 'final': True}\n",
      "\n",
      "Filename: 1249120_30766630_24243395.wav\n",
      "Text: {'alternative': [{'transcript': \"I feel pain in my legs muscles after I rang yesterday I took some painkillers but it doesn't help\", 'confidence': 0.85610873}, {'transcript': \"I feel pain in my legs muscles after I ran yesterday I took some painkillers but it doesn't help\"}, {'transcript': \"I feel pain in my legs muscles after I run yesterday I took some painkillers but it doesn't help\"}, {'transcript': \"I feel pain in my legs muscles after I ring yesterday I took some painkillers but it doesn't help\"}, {'transcript': \"I feel pain in my legs muscles after Iran yesterday I took some painkillers but it doesn't help\"}], 'final': True}\n",
      "\n",
      "Filename: 1249120_33251186_15708195.wav\n",
      "Text: {'alternative': [{'transcript': 'when I lift my arms up I have soreness in my shoulder', 'confidence': 0.92154855}, {'transcript': 'when I lift my arms up I have soreness in my soul'}, {'transcript': 'when I lift my arms up I had soreness in my shoulder'}, {'transcript': 'when I lift my arms up I have soreness in my shell'}, {'transcript': 'when I lift my arms I have soreness in my shoulder'}], 'final': True}\n",
      "\n",
      "Filename: 1249120_34824899_77988824.wav\n",
      "Text: {'alternative': [{'transcript': 'my hair falling out', 'confidence': 0.98762906}], 'final': True}\n",
      "\n",
      "Filename: 1249120_41203338_45999087.wav\n",
      "Text: {'alternative': [{'transcript': 'my shoulder has a great', 'confidence': 0.99115789}, {'transcript': 'my scholder has a great', 'confidence': 0.99115789}, {'transcript': 'my sholder has a great', 'confidence': 0.99115789}, {'transcript': \"my shoulder he-he's a great\", 'confidence': 0.99115789}, {'transcript': 'my shoulder hozh a great', 'confidence': 0.99115789}], 'final': True}\n",
      "\n",
      "Filename: 1249120_43172391_88402302.wav\n",
      "Text: {'alternative': [{'transcript': 'I feel great pain in the head', 'confidence': 0.987629}], 'final': True}\n",
      "\n",
      "Filename: 1249120_41150153_99702052.wav\n",
      "Text: {'alternative': [{'transcript': 'I feel really sad all the time', 'confidence': 0.95049107}, {'transcript': 'I feel really said all the time'}, {'transcript': 'I still really said all the time'}], 'final': True}\n",
      "\n",
      "Filename: 1249120_38548574_93813972.wav\n",
      "Text: {'alternative': [{'transcript': 'I have a great night and I thought extra Bart injury', 'confidence': 0.72348255}, {'transcript': 'I have a great night my Throwbacks from injury'}, {'transcript': 'I have a great night and I thought extra bark injury'}, {'transcript': 'I have a great night my Throwbacks from Bart injury'}, {'transcript': 'I have a great day my Throwbacks from injury'}], 'final': True}\n",
      "\n",
      "Filename: 1249120_15004831_74682993.wav\n",
      "Text: {'alternative': [{'transcript': 'I feel like tightness in my chest', 'confidence': 0.987629}], 'final': True}\n",
      "\n",
      "Filename: 1249120_33905644_76629429.wav\n",
      "Text: {'alternative': [{'transcript': 'I have the impression of having no strength in my body', 'confidence': 0.7263788}, {'transcript': 'have the impression of having no strength in my body'}], 'final': True}\n",
      "\n",
      "Filename: 1249120_31349958_38435653.wav\n",
      "Text: {'alternative': [{'transcript': 'my neck hurts me a downer up', 'confidence': 0.70579499}, {'transcript': 'my neck hurt me a downer up'}, {'transcript': 'networking a downer up'}, {'transcript': 'my neck hurts and a downer up'}, {'transcript': 'my neck hurts me a downer'}], 'final': True}\n",
      "\n",
      "Filename: 1249120_43665783_19119431.wav\n",
      "Text: {'alternative': [{'transcript': 'standing less than 5 minutes and my bag start wag', 'confidence': 0.89437282}, {'transcript': 'standing less than five minutes and my bag start wag'}, {'transcript': 'standing less than 5 minutes and my bags start wag'}, {'transcript': 'standing less than 5 minutes and my bag start work'}, {'transcript': 'standing less than 5 minutes and my bag start with'}], 'final': True}\n",
      "\n",
      "Filename: 1249120_43665783_70580849.wav\n",
      "Text: {'alternative': [{'transcript': 'severe pain in my ear', 'confidence': 0.98762906}], 'final': True}\n",
      "\n",
      "Filename: 1249120_43918153_12929625.wav\n",
      "Text: {'alternative': [{'transcript': 'when I brush my hair I noticed the Performing Arts in the brush', 'confidence': 0.90754741}, {'transcript': 'when I brush my hair I noticed in the brush'}, {'transcript': 'when I brush my hair I noticed the Performing Arts in the breast'}, {'transcript': 'when I brush my hair I noticed was the Performing Arts in the brush'}, {'transcript': 'when I brush my hair I noticed was the Performing Arts in the breast'}], 'final': True}\n",
      "\n",
      "Filename: 1249120_40419625_68261839.wav\n",
      "Text: {'alternative': [{'transcript': \"I don't have full range of motion with my arms\", 'confidence': 0.98275411}, {'transcript': \"I don't have full range of motion with my alarms\"}], 'final': True}\n",
      "\n",
      "Filename: 1249120_43898158_62849522.wav\n",
      "Text: []\n",
      "\n",
      "Filename: 1249120_43995026_92307300.wav\n",
      "Text: {'alternative': [{'transcript': 'my stomach feels full and upset and bloating after big meals', 'confidence': 0.98721594}, {'transcript': 'my stomach feels full and upset and bloating after big means'}, {'transcript': 'my stomach feels full and upset and plotting after big meals'}, {'transcript': 'my stomach feels full and upset and bloating after Pig memes'}], 'final': True}\n",
      "\n",
      "Filename: 1249120_21665495_100904838.wav\n",
      "Text: {'alternative': [{'transcript': \"I guess breakouts on my sister's right batches that get more intense when I get help\", 'confidence': 0.81017882}, {'transcript': \"I guess breakouts on my sister's right batches that get more intense when I get home\"}, {'transcript': \"I guess breakouts on my sister's right back she's that get more intense when I get help\"}, {'transcript': \"I guess breakouts on my sister's right batches the get more intense when I get help\"}, {'transcript': \"I guess breakouts on my sister's right back she's that get more intense when I get home\"}], 'final': True}\n",
      "\n",
      "Filename: 1249120_42557795_43160696.wav\n",
      "Text: {'alternative': [{'transcript': 'how do you know if you have a torn meniscus in your knee', 'confidence': 0.987629}], 'final': True}\n",
      "\n",
      "Filename: 1249120_36505751_22236714.wav\n",
      "Text: {'alternative': [{'transcript': \"it's hard to see things\", 'confidence': 0.98762906}], 'final': True}\n",
      "\n",
      "Filename: 1249120_38202325_12826467.wav\n",
      "Text: {'alternative': [{'transcript': \"you won't believe me but this infected wound on my hand is from a paper cut I didn't take seriously\", 'confidence': 0.88931453}, {'transcript': \"you won't believe me but this infected wound on my hand is from a Papercut I didn't take seriously\"}, {'transcript': \"you might believe me but this infected wound on my hand is from a paper cut I didn't take seriously\"}, {'transcript': \"you might believe me but this infected wound on my hand is from a Papercut I didn't take seriously\"}], 'final': True}\n",
      "\n",
      "Filename: 1249120_41087148_107682506.wav\n",
      "Text: {'alternative': [{'transcript': 'my niece is swollen and infected bone', 'confidence': 0.65386695}, {'transcript': 'my niece is swollen and infected'}, {'transcript': 'my niece is swelling which indicates I have an infected bone'}, {'transcript': 'my niece is swelling I have an infected bone'}, {'transcript': 'my niece is swollen and infected burn'}], 'final': True}\n",
      "\n",
      "Filename: 1249120_40184183_51205515.wav\n",
      "Text: {'alternative': [{'transcript': 'my hair is falling out in huge amount', 'confidence': 0.97553521}, {'transcript': 'my hair is falling out in huge amounts'}], 'final': True}\n",
      "\n",
      "Filename: 1249120_15830408_20446817.wav\n",
      "Text: {'alternative': [{'transcript': 'I feel my heart hurts when I run for a long distance', 'confidence': 0.96063513}, {'transcript': 'I feel my heart hurts when I run for a long-distance'}, {'transcript': 'I feel my heart hurts when I ran for a long distance'}, {'transcript': 'I feel my heart hurts when I ran for a long-distance'}], 'final': True}\n",
      "\n",
      "Filename: 1249120_43402738_53493083.wav\n",
      "Text: {'alternative': [{'transcript': 'when I play sports I have some burning sensation in my spine', 'confidence': 0.9875176}, {'transcript': 'when I play sports I have sum burning sensation in my spine', 'confidence': 0.9875176}, {'transcript': 'when I play Sportz I have some burning sensation in my spine', 'confidence': 0.9875176}, {'transcript': 'when I play sports I have Som burning sensation in my spine', 'confidence': 0.9875176}, {'transcript': 'when I play sports I have Somme burning sensation in my spine', 'confidence': 0.9875176}], 'final': True}\n",
      "\n",
      "Filename: 1249120_39740177_37893942.wav\n",
      "Text: {'alternative': [{'transcript': 'Monday is hurting so badly', 'confidence': 0.98762906}], 'final': True}\n",
      "\n",
      "Filename: 1249120_44093933_103235229.wav\n",
      "Text: {'alternative': [{'transcript': \"my husband left me for another woman my heart hurts so badly to the point I can't eat or sleep\", 'confidence': 0.96915084}, {'transcript': \"my husband left me for another woman my heart hurts so badly To the Pointe I can't eat or sleep\", 'confidence': 0.96915084}, {'transcript': \"my husband left me for another woman my heart hurts so badly to the poynt I can't eat or sleep\", 'confidence': 0.96915084}, {'transcript': \"my husband left me for another womon my heart hurts so badly to the point I can't eat or sleep\", 'confidence': 0.96915084}], 'final': True}\n",
      "\n",
      "Filename: 1249120_44140394_59374960.wav\n",
      "Text: {'alternative': [{'transcript': 'the knee feels like a trusted and I suddenly cannot bend it anymore', 'confidence': 0.82807469}, {'transcript': 'Denis feels like a trusted and I suddenly cannot bend it anymore'}, {'transcript': 'the knee feels like it rusted and I suddenly cannot bend it anymore'}, {'transcript': 'then he feels like a trusted and I suddenly cannot bend it anymore'}, {'transcript': 'Danny feels like a trusted and I suddenly cannot bend it anymore'}], 'final': True}\n",
      "\n",
      "Filename: 1249120_43951421_35397851.wav\n",
      "Text: {'alternative': [{'transcript': \"I feel pain in my legs muscles off my run yesterday I took some painkillers but it doesn't help\", 'confidence': 0.94184566}, {'transcript': \"I feel pain in my legs muscles off by Ron yesterday I took some painkillers but it doesn't help\"}, {'transcript': \"I feel pain in my leg muscles off my run yesterday I took some painkillers but it doesn't help\"}], 'final': True}\n",
      "\n",
      "Filename: 1249120_39142299_106407425.wav\n",
      "Text: {'alternative': [{'transcript': 'Daddy G tingling sensation in my neck', 'confidence': 0.61004746}, {'transcript': 'derogate tingling sensation in my neck'}, {'transcript': 'daddy ji tingling sensation in my neck'}, {'transcript': 'daddy jet tingling sensation in my neck'}, {'transcript': 'ddg tingling sensation in my neck'}], 'final': True}\n",
      "\n",
      "Filename: 1249120_44091626_15292165.wav\n",
      "Text: {'alternative': [{'transcript': 'all of a sudden I feel dizzy when I stood up', 'confidence': 0.95122987}, {'transcript': 'all of a sudden I feel dizzy when I issue tap'}, {'transcript': 'all of a sudden I feel dizzy when I stand up'}, {'transcript': 'all of a sudden I feel dizzy when our issue tap'}, {'transcript': 'all of a sudden I feel lazy one art institute app'}], 'final': True}\n",
      "\n",
      "Filename: 1249120_39740177_107164507.wav\n",
      "Text: {'alternative': [{'transcript': 'does severe pain in the stomach I feel', 'confidence': 0.89076573}, {'transcript': 'is severe pain in the stomach I feel', 'confidence': 0.83467263}, {'transcript': 'does Sevier pain in the stomach I feel', 'confidence': 0.89076573}, {'transcript': 'does severe pain in the stomach I Fiel', 'confidence': 0.89076573}, {'transcript': 'Iz severe pain in the stomach I feel', 'confidence': 0.83467263}], 'final': True}\n",
      "\n",
      "Filename: 1249120_41841195_24269718.wav\n",
      "Text: {'alternative': [{'transcript': \"I'm disappointed\", 'confidence': 0.98762906}], 'final': True}\n",
      "\n",
      "Filename: 1249120_44140394_42550429.wav\n",
      "Text: {'alternative': [{'transcript': 'there is pain in the muscles I do not know caused', 'confidence': 0.97141242}, {'transcript': 'there is pain in the mussels I do not know caused'}, {'transcript': 'there is pain in the muscle I do not know caused'}], 'final': True}\n",
      "\n",
      "Filename: 1249120_38202325_39643496.wav\n",
      "Text: {'alternative': [{'transcript': 'my knee hurts when I walk', 'confidence': 0.987629}], 'final': True}\n",
      "\n",
      "Filename: 1249120_41150153_58083690.wav\n",
      "Text: {'alternative': [{'transcript': \"I have some terrible problems when I'm drinking during the night\", 'confidence': 0.87662715}, {'transcript': \"I have some terrible problems when I'm braking during the night\", 'confidence': 0.89885217}, {'transcript': 'I have some terrible problems when people doing the night', 'confidence': 0.92784369}, {'transcript': 'I have some terrible problems when people during the night', 'confidence': 0.93500602}, {'transcript': \"I have some terrible problems when I'm breaking during the night\", 'confidence': 0.89885217}], 'final': True}\n",
      "\n",
      "Filename: 1249120_33905644_33487903.wav\n",
      "Text: {'alternative': [{'transcript': \"doctor I feel like I just can't cope anymore I feel overwhelmed and like I just can't get a break\", 'confidence': 0.84758484}, {'transcript': \"dr. I feel like I just can't cope anymore I feel overwhelmed and like I just can't get a break\"}, {'transcript': \"Dr I feel like I just can't cope anymore I feel overwhelmed and like I just can't get a break\"}], 'final': True}\n",
      "\n",
      "Filename: 1249120_43665783_26212169.wav\n",
      "Text: {'alternative': [{'transcript': 'I am in need for a treatment for my hair phone', 'confidence': 0.94860691}, {'transcript': 'I am in need for a treatment for my hair for'}, {'transcript': 'I am in need for a treatment for my airport'}, {'transcript': 'I am in need for a treatment for my hair forum'}, {'transcript': 'I am in need for a treatment for my hair foam'}], 'final': True}\n",
      "\n",
      "Filename: 1249120_22345789_89763800.wav\n",
      "Text: {'alternative': [{'transcript': 'when I move on my shoulder pain shoots down my arm', 'confidence': 0.987629}], 'final': True}\n",
      "\n",
      "Filename: 1249120_1853182_83347773.wav\n",
      "Text: {'alternative': [{'transcript': \"I can't sleep because of cough\", 'confidence': 0.987629}], 'final': True}\n",
      "\n",
      "Filename: 1249120_36929821_71763250.wav\n",
      "Text: {'alternative': [{'transcript': 'I had a cold the last time I travel by plane and I still have a discomfort in my ears', 'confidence': 0.77723432}, {'transcript': 'I had a cold the last time I traveled by playing and I still have a discomfort in my ears'}, {'transcript': 'I had a cold the last time I travel by plane and I still have discomfort in my ears'}, {'transcript': 'I had a cold the last time I travel by playing and I still have a discomfort in my ears'}, {'transcript': 'I had a code the last time I travel by plane and I still have a discomfort in my ears'}], 'final': True}\n",
      "\n",
      "Filename: 1249120_42554554_107876214.wav\n",
      "Text: {'alternative': [{'transcript': 'my ear hurts when I touch it', 'confidence': 0.97889125}, {'transcript': 'my ear hurts when I touch you'}, {'transcript': 'my ear hurts when I touch'}], 'final': True}\n",
      "\n",
      "Filename: 1249120_18386513_73296026.wav\n",
      "Text: {'alternative': [{'transcript': 'my foot hurts me a lot of playing football', 'confidence': 0.98762906}], 'final': True}\n",
      "\n",
      "Filename: 1249120_41203338_99746712.wav\n",
      "Text: {'alternative': [{'transcript': 'glass broken and wound my leg so badly the wound is so wide', 'confidence': 0.69032359}, {'transcript': 'plus broken and wound my leg so badly the wound is so wide'}, {'transcript': 'glass broken and wound my leg so badly the wound is civilized'}, {'transcript': 'bus broken and wound my leg so badly the wound is so wide'}, {'transcript': 'plus broken and wound my leg so badly the wound is civilized'}], 'final': True}\n",
      "\n",
      "Filename: 1249120_18172663_15515265.wav\n",
      "Text: {'alternative': [{'transcript': \"there's so much pain when I move my arm\", 'confidence': 0.98007268}, {'transcript': \"there's so much pain when I move my armed\", 'confidence': 0.98007268}, {'transcript': \"there's so much Payne when I move my arm\", 'confidence': 0.98007268}, {'transcript': \"there's so much pane when I move my arm\", 'confidence': 0.98007268}, {'transcript': \"there's so much Paine when I move my arm\", 'confidence': 0.98007268}], 'final': True}\n",
      "\n",
      "Filename: 1249120_29289135_60949903.wav\n",
      "Text: {'alternative': [{'transcript': 'I could not exercise because of my knee pain', 'confidence': 0.73270971}, {'transcript': 'I could have exercised because of my knee pain'}, {'transcript': 'I cannot exercise because of my knee pain'}, {'transcript': 'exercise because of my knee pain'}, {'transcript': 'equipment exercise because of my knee pain'}], 'final': True}\n",
      "\n",
      "Filename: 1249120_43453425_50442547.wav\n",
      "Text: {'alternative': [{'transcript': 'surgical wounds and firing post.', 'confidence': 0.50807106}, {'transcript': 'surgical wounds and fighting force.'}, {'transcript': 'surgical wounds red firing post.'}, {'transcript': 'surgical wounds that firing post.'}, {'transcript': 'surgical wounds land firing post.'}], 'final': True}\n",
      "\n",
      "Filename: 1249120_35350617_91642268.wav\n",
      "Text: {'alternative': [{'transcript': 'I do not feel better my muscles', 'confidence': 0.89925295}, {'transcript': 'I do not feel better in my muscles'}, {'transcript': 'I do not feel better and my muscles'}], 'final': True}\n",
      "\n",
      "Filename: 1249120_41087148_75471240.wav\n",
      "Text: {'alternative': [{'transcript': \"I haven't been eating my muscle\", 'confidence': 0.63419873}, {'transcript': 'I have a pain in my muscle'}, {'transcript': \"I haven't been in my muscle\"}, {'transcript': \"I haven't been eating my muscles\"}, {'transcript': \"I haven't been in my muscles\"}], 'final': True}\n",
      "\n",
      "Filename: 1249120_40184183_103345219.wav\n",
      "Text: {'alternative': [{'transcript': \"my husband left me for another woman my heart hurts so badly to the point I can't eat or sleep\", 'confidence': 0.89578503}, {'transcript': \"my husband left me for another woman my heart hurt so badly to the point I can't eat or sleep\"}], 'final': True}\n",
      "\n",
      "Filename: 1249120_28006404_83683544.wav\n",
      "Text: {'alternative': [{'transcript': 'I have shoulder pain when I try to carry my groceries', 'confidence': 0.95503902}, {'transcript': 'I have shoulder pain when I tried to carry my groceries'}], 'final': True}\n",
      "\n",
      "Filename: 1249120_42557795_23958540.wav\n",
      "Text: {'alternative': [{'transcript': 'Michael Jackson like Antonette', 'confidence': 0.85079944}, {'transcript': 'Michael Jackson like Antonette Rogan'}, {'transcript': 'Michael Jackson like Antonette broken'}, {'transcript': 'Michael Jackson a continent'}, {'transcript': \"Michael Jackson I can't Annette Rogan\"}], 'final': True}\n",
      "\n",
      "Filename: 1249120_14353703_13615707.wav\n",
      "Text: {'alternative': [{'transcript': \"sometimes when it's cold outside with a third expect around the pimples that are ready to pop\", 'confidence': 0.78331435}, {'transcript': \"sometimes when it's cold outside with a terrific background of pimples that are ready to pop\"}, {'transcript': \"sometimes when it's cold outside with a surge expect around the pimples that are ready to pop\"}, {'transcript': \"sometimes when it's cold outside with a third expect around of pimples that are ready to pop\"}, {'transcript': \"sometimes when it's cold outside with a third expect around a pimples that are ready to pop\"}], 'final': True}\n",
      "\n",
      "Filename: 1249120_18985376_81550626.wav\n",
      "Text: {'alternative': [{'transcript': 'I feel cold', 'confidence': 0.83847904}, {'transcript': 'feel cold'}], 'final': True}\n",
      "\n",
      "Filename: 1249120_35448024_23762843.wav\n",
      "Text: {'alternative': [{'transcript': 'I have a hot plate in my stomach', 'confidence': 0.64303499}, {'transcript': 'I had the hot plate in my stomach'}, {'transcript': 'I had to have pain in my stomach'}, {'transcript': 'I have the hot plate in my stomach'}, {'transcript': 'I had a hot plate in my stomach'}], 'final': True}\n",
      "\n",
      "Filename: 1249120_30937687_23676583.wav\n",
      "Text: {'alternative': [{'transcript': 'the worst headache was during a hangover in my twenties I sincerely through I was going to die when brain inflammation', 'confidence': 0.79223984}, {'transcript': 'the worst headache was during a hangover in my twenties I sincerely through I was going to die when brain implementation', 'confidence': 0.80364883}, {'transcript': 'the worst headache was during a hangover in my twenties I sincerely through I was going to die when braen inflammation', 'confidence': 0.79223984}, {'transcript': 'the worst headache wuz during a hangover in my twenties I sincerely through I was going to die when brain inflammation', 'confidence': 0.79223984}, {'transcript': 'the worst headache was during a hangover Inn my twenties I sincerely through I was going to die when brain inflammation', 'confidence': 0.79223984}], 'final': True}\n",
      "\n",
      "Filename: 1249120_35408915_48231399.wav\n",
      "Text: {'alternative': [{'transcript': 'I feel cold', 'confidence': 0.98762912}], 'final': True}\n",
      "\n",
      "Filename: 1249120_35170334_16041086.wav\n",
      "Text: {'alternative': [{'transcript': \"I can't hardly wait\", 'confidence': 0.84301299}, {'transcript': 'I can hardly wait'}], 'final': True}\n",
      "\n",
      "Filename: 1249120_30766630_22759667.wav\n",
      "Text: {'alternative': [{'transcript': 'my knee is hurting so badly', 'confidence': 0.987629}], 'final': True}\n",
      "\n",
      "Filename: 1249120_43995026_101759300.wav\n",
      "Text: {'alternative': [{'transcript': 'when I play sports I have some burning sensation in my spine', 'confidence': 0.987629}], 'final': True}\n",
      "\n",
      "Filename: 1249120_43758322_79887682.wav\n",
      "Text: {'alternative': [{'transcript': 'I cannot breathe because of the eggs and Bill of my left shoulder', 'confidence': 0.88887817}, {'transcript': 'I cannot believe because of the eggs and Bill of my left shoulder'}, {'transcript': 'I cannot breathe because of the eggs and be loved my left shoulder'}, {'transcript': 'I cannot breathe because of the eggs and Below of my left shoulder'}, {'transcript': 'I cannot breathe because of the eggs and be love my left shoulder'}], 'final': True}\n",
      "\n",
      "Filename: 1249120_41956733_71871005.wav\n",
      "Text: {'alternative': [{'transcript': 'I have been over my cold for weeks but still coughing everyday', 'confidence': 0.86055088}, {'transcript': 'I have been over my cold for weeks but still cough every day'}, {'transcript': 'I have been over my cold for weeks but still cough everyday'}, {'transcript': 'I have been over my cold for weeks but still coffee everyday'}, {'transcript': 'I have been over my cold for weeks but still coughing every day'}], 'final': True}\n",
      "\n",
      "Filename: 1249120_15004831_93767590.wav\n",
      "Text: {'alternative': [{'transcript': \"my back hurts so much I can't bend down to tie my shoelaces\", 'confidence': 0.98004377}, {'transcript': \"my back hurts so much I can't bend down to tie my shoe laces\"}], 'final': True}\n",
      "\n",
      "Filename: 1249120_43951421_65977380.wav\n",
      "Text: {'alternative': [{'transcript': 'my heart hurts me', 'confidence': 0.98762906}], 'final': True}\n",
      "\n",
      "Filename: 1249120_44142156_11724067.wav\n",
      "Text: {'alternative': [{'transcript': \"I was very active in sports but now my body's feeling pain\", 'confidence': 0.86589527}, {'transcript': 'I was very active in sports right now my body is feeling pain'}, {'transcript': \"I was very active in sports right now my body's feeling pain\"}, {'transcript': 'I was really active in sports right now my body is feeling pain'}, {'transcript': \"I was really active in sports right now my body's feeling pain\"}], 'final': True}\n",
      "\n",
      "Filename: 1249120_42210938_51111620.wav\n",
      "Text: []\n",
      "\n",
      "Filename: 1249120_35408915_89476454.wav\n",
      "Text: {'alternative': [{'transcript': 'my stomach feels starts hurting but then it feels better after I eat something mild', 'confidence': 0.85844105}, {'transcript': 'my stomach feels starts hurting but that it feels better after I eat something mild'}, {'transcript': 'my stomach feels starts hurting but then it feels better after I eat something mile'}, {'transcript': 'my stomach feels starts hurting but then it feels better after I eat something MI'}, {'transcript': 'my stomach feels starts hurting but that it feels better after I eat something mile'}], 'final': True}\n",
      "\n",
      "Filename: 1249120_15004831_91499716.wav\n",
      "Text: {'alternative': [{'transcript': 'I feel pain in my right shoulder after the tennis match', 'confidence': 0.987629}], 'final': True}\n",
      "\n",
      "Filename: 1249120_35154350_74303326.wav\n",
      "Text: {'alternative': [{'transcript': 'I have a dry skin', 'confidence': 0.99183083}, {'transcript': 'I have a dry skinned', 'confidence': 0.99183083}, {'transcript': 'I have a dri skin', 'confidence': 0.99183083}, {'transcript': 'I have a dry skyn', 'confidence': 0.99183083}, {'transcript': 'I have a dree skin', 'confidence': 0.99183083}], 'final': True}\n",
      "\n",
      "Filename: 1249120_22345789_76885003.wav\n",
      "Text: {'alternative': [{'transcript': 'I have a throbbing in my joints', 'confidence': 0.987629}], 'final': True}\n",
      "\n",
      "Filename: 1249120_42783052_109255431.wav\n",
      "Text: {'alternative': [{'transcript': \"I have a split on my Sims. He'll\", 'confidence': 0.78315395}, {'transcript': 'I have a split on my Sims. Heal'}, {'transcript': \"I save a split on my Sims. He'll\"}, {'transcript': 'I save a split on my Sims. Heal'}, {'transcript': 'I have a split on my heel'}], 'final': True}\n",
      "\n",
      "Filename: 1249120_18985376_58479179.wav\n",
      "Text: {'alternative': [{'transcript': 'the pain in my ear is unbearable', 'confidence': 0.91896003}, {'transcript': 'the pain in my Eire is unbearable', 'confidence': 0.91896003}, {'transcript': 'the pain Inn my ear is unbearable', 'confidence': 0.91896003}, {'transcript': 'the Payne Inn my ear is unbearable', 'confidence': 0.91896003}, {'transcript': 'the pain in my ear Iz unbearable', 'confidence': 0.91896003}], 'final': True}\n",
      "\n",
      "Filename: 1249120_19425875_101260536.wav\n",
      "Text: {'alternative': [{'transcript': 'when I force my eyes to view I have blurry vision', 'confidence': 0.92337453}, {'transcript': 'when I forced my eyes to view I have blurry vision'}, {'transcript': 'when I force my eyes to Vue I have blurry vision'}, {'transcript': 'when I force my eyes to veiw I have blurry vision'}, {'transcript': 'when I forced my eyes to Vue I have blurry vision'}], 'final': True}\n",
      "\n",
      "Filename: 1249120_44091626_14837156.wav\n",
      "Text: {'alternative': [{'transcript': 'I made lots and lots of analysis to not the main reason for my stomach h', 'confidence': 0.75810188}, {'transcript': 'I made lots and lots of analysis to know the main reason for my stomach h'}, {'transcript': 'I made lots and lots of analysis to not the main reason for my stomach Ash'}, {'transcript': 'I made lots and lots of analysis do not the main reason for my stomach h'}, {'transcript': 'I made lots and lots of analysis to not the main reason for my stomach Edge'}], 'final': True}\n",
      "\n",
      "Filename: 1249120_44027675_83852969.wav\n",
      "Text: {'alternative': [{'transcript': 'I feel Satellite Auto', 'confidence': 0.58387232}, {'transcript': 'I feel satelite Auto', 'confidence': 0.58387232}, {'transcript': 'I feel satellite Otto', 'confidence': 0.58387232}, {'transcript': 'I feel satellite Oto', 'confidence': 0.58387232}, {'transcript': 'I feel satellite oughta', 'confidence': 0.58387232}], 'final': True}\n",
      "\n",
      "Filename: 1249120_38202325_66152395.wav\n",
      "Text: {'alternative': [{'transcript': \"the pain feels like it's right below the skin\", 'confidence': 0.98762906}], 'final': True}\n",
      "\n",
      "Filename: 1249120_21665495_84890117.wav\n",
      "Text: {'alternative': [{'transcript': \"I can't do anything I feel weak in my body\", 'confidence': 0.90801299}, {'transcript': 'I can do anything I feel weak in my body'}, {'transcript': \"I can't do anything I feel weak and my body\"}, {'transcript': 'I can do anything I feel weak and my body'}, {'transcript': \"I can't do anything until we can my body\"}], 'final': True}\n",
      "\n",
      "Filename: 1249120_43612961_95318810.wav\n",
      "Text: {'alternative': [{'transcript': 'there is an injured person', 'confidence': 0.98762906}], 'final': True}\n",
      "\n",
      "Filename: 1249120_44111844_26377097.wav\n",
      "Text: {'alternative': [{'transcript': 'feels like my heart is going to LEAP out of my body hurts', 'confidence': 0.95053571}, {'transcript': 'feels like my heart is going to leave out of my body hurts', 'confidence': 0.92208284}, {'transcript': 'feels like my heart is going to Leep out of my body hurts', 'confidence': 0.95053571}, {'transcript': 'feels like my heart is goin to LEAP out of my body hurts', 'confidence': 0.95053571}, {'transcript': 'feels like my heart is going to Leve out of my body hurts', 'confidence': 0.92208284}], 'final': True}\n",
      "\n",
      "Filename: 1249120_41956733_70118255.wav\n",
      "Text: {'alternative': [{'transcript': 'in the morning my respiration is loud', 'confidence': 0.87315887}, {'transcript': 'in the morning my restoration is loud'}, {'transcript': 'in the morning my registration is loud'}, {'transcript': 'in the morning by respiration is loud'}, {'transcript': 'in the morning by restoration is loud'}], 'final': True}\n",
      "\n",
      "Filename: 1249120_40725179_35382909.wav\n",
      "Text: {'alternative': [{'transcript': 'my head gets dizzy when I try to get', 'confidence': 0.87112832}, {'transcript': 'my head gets dizzy when I try to get up', 'confidence': 0.86942565}, {'transcript': 'my head gets busy when I try to get', 'confidence': 0.89629734}, {'transcript': 'my head gets busy when I try to get up', 'confidence': 0.89206475}, {'transcript': \"my head gets dizzy when I'm trying to get\", 'confidence': 0.86315435}], 'final': True}\n",
      "\n",
      "Filename: 1249120_43620482_82354549.wav\n",
      "Text: {'alternative': [{'transcript': 'I have a dry skin', 'confidence': 0.98571789}, {'transcript': 'I have a dry skinned', 'confidence': 0.98571789}, {'transcript': 'I have a dri skin', 'confidence': 0.98571789}, {'transcript': 'I have a dry skyn', 'confidence': 0.98571789}, {'transcript': 'I have a dree skin', 'confidence': 0.98571789}], 'final': True}\n",
      "\n",
      "Filename: 1249120_44091626_105576267.wav\n",
      "Text: {'alternative': [{'transcript': 'ipd strong pain in my knee after it was hit during the football match', 'confidence': 0.69609916}, {'transcript': 'ipg strong pain in my knee after it was hit during the football match'}, {'transcript': 'ipv strong pain in my knee after it was hit during the football match'}, {'transcript': 'ipt strong pain in my knee after it was hit during the football match'}, {'transcript': 'ipd strong pain in my knee after it was hit during the football game'}], 'final': True}\n",
      "\n",
      "Filename: 1249120_43453425_18606455.wav\n",
      "Text: {'alternative': [{'transcript': 'I feel so sore in my stomach area', 'confidence': 0.97967744}, {'transcript': 'I feel so sore in my stomach'}, {'transcript': 'I feel so sore in my stomach.'}], 'final': True}\n",
      "\n",
      "Filename: 1249120_13842059_44664241.wav\n",
      "Text: {'alternative': [{'transcript': 'I have a cut that has become right and hoses puss', 'confidence': 0.742284}, {'transcript': 'I have a cut that has become red and has pus'}, {'transcript': 'I have a cut that has become red and Roses purse'}, {'transcript': 'I have a cut that has become right and loses pus'}, {'transcript': 'I have a cut that has become right and losses puss'}], 'final': True}\n",
      "\n",
      "Filename: 1249120_43719934_59715186.wav\n",
      "Text: []\n",
      "\n",
      "Filename: 1249120_39142299_85002300.wav\n",
      "Text: {'alternative': [{'transcript': 'I got myself and I am bleeding', 'confidence': 0.93134588}, {'transcript': \"I got myself and I'm bleeding\"}, {'transcript': 'I got Myself & I am bleeding'}], 'final': True}\n",
      "\n",
      "Filename: 1249120_21665495_14674033.wav\n",
      "Text: {'alternative': [{'transcript': \"when I stand up I feel like I'm going to fall down instantly\", 'confidence': 0.9040097}, {'transcript': \"when I stand up I feel like I'm going to pull down instantly\"}, {'transcript': \"when I stand up I feel like I'm going to full down instantly\"}, {'transcript': \"when I stand up I feel like I'm going to fold down instantly\"}, {'transcript': \"when I stand up I feel like I'm going to fool down instantly\"}], 'final': True}\n",
      "\n",
      "Filename: 1249120_38042052_70315226.wav\n",
      "Text: {'alternative': [{'transcript': 'I was diagnosed with pneumonia account breathe easily', 'confidence': 0.96246183}, {'transcript': 'I was diagnosed with pneumonia I called breathe easily'}, {'transcript': 'I was diagnosed with pneumonia a comment breathe easily'}, {'transcript': 'I was diagnosed with pneumonia a called breathe easily'}], 'final': True}\n",
      "\n",
      "Filename: 1249120_43577102_10751030.wav\n",
      "Text: {'alternative': [{'transcript': \"I haven't ate in my lower back which makes it difficult to move\", 'confidence': 0.85897201}, {'transcript': 'I have a dialect in my lower back which makes it difficult to move'}, {'transcript': 'I have a day late in my lower back which makes it difficult to move'}, {'transcript': 'I have adult take in my lower back which makes it difficult to move'}, {'transcript': 'I have a derelict in my lower back which makes it difficult to move'}], 'final': True}\n",
      "\n",
      "Filename: 1249120_43951421_60184519.wav\n",
      "Text: {'alternative': [{'transcript': 'my knees I can cold and rainy days', 'confidence': 0.65895021}, {'transcript': 'my niece I can cold and rainy days'}, {'transcript': 'money taken cold and rainy days'}, {'transcript': \"money's I can cold and rainy days\"}, {'transcript': 'my niece icon cold and rainy days'}], 'final': True}\n",
      "\n",
      "Filename: 1249120_41956733_102181257.wav\n",
      "Text: {'alternative': [{'transcript': \"I think there's a fluid in my ears\", 'confidence': 0.89630377}, {'transcript': 'I think there is a fluid in my ears'}, {'transcript': \"I think there's a flood in my ears\"}, {'transcript': \"I think there's a flute in my ears\"}], 'final': True}\n",
      "\n",
      "Filename: 1249120_35448024_72612859.wav\n",
      "Text: {'alternative': [{'transcript': \"my heart hurts while I'm set why\", 'confidence': 0.89988822}, {'transcript': \"my heart hurts while I'm set\"}, {'transcript': \"my heart hurts while I'm said why\"}, {'transcript': \"my heart hurts while I'm sad\"}], 'final': True}\n",
      "\n",
      "Filename: 1249120_13842059_11964685.wav\n",
      "Text: {'alternative': [{'transcript': 'I feel suicidal', 'confidence': 0.98762912}], 'final': True}\n",
      "\n",
      "Filename: 1249120_30766630_83919463.wav\n",
      "Text: {'alternative': [{'transcript': 'when I play football I have muscle pain', 'confidence': 0.987629}], 'final': True}\n",
      "\n",
      "Filename: 1249120_30937687_58370986.wav\n",
      "Text: {'alternative': [{'transcript': 'I have a heart pain in my stomach', 'confidence': 0.93433392}, {'transcript': 'I have a heart Payne in my stomach', 'confidence': 0.93433392}, {'transcript': 'I have a heart pain in my storage', 'confidence': 0.83191377}, {'transcript': 'I have a heart Paine in my stomach', 'confidence': 0.93433392}, {'transcript': 'I have a heart pane in my stomach', 'confidence': 0.93433392}], 'final': True}\n",
      "\n",
      "Filename: 1249120_30766630_16792776.wav\n",
      "Text: {'alternative': [{'transcript': 'the last time I clip my toenails I cut them too short and now I have an infected nail', 'confidence': 0.82188755}, {'transcript': 'the last time I clipped my toenails I cut them too short and now I have an infected nail'}, {'transcript': 'the last time I clip my toenails so I cut them too short and now I have an infected nail'}, {'transcript': 'the last time I clip my toenails I cut them too short and now I have an infected now'}, {'transcript': 'the last time I clipped my toenails I cut them too short and now I have an infected now'}], 'final': True}\n",
      "\n",
      "Filename: 1249120_40419625_82128582.wav\n",
      "Text: {'alternative': [{'transcript': 'I got injured exercising', 'confidence': 0.97443867}, {'transcript': 'I got injured with exercising'}], 'final': True}\n",
      "\n",
      "Filename: 1249120_42210938_84025774.wav\n",
      "Text: {'alternative': [{'transcript': 'my head hurts me back', 'confidence': 0.96252966}, {'transcript': 'my head hurts me back.'}, {'transcript': 'my head hurts me back to'}, {'transcript': 'my head hurts you back'}, {'transcript': 'my head hurts the back'}], 'final': True}\n",
      "\n",
      "Filename: 1249120_41336418_93234685.wav\n",
      "Text: {'alternative': [{'transcript': 'his look it up in Senegal sticking in my joints', 'confidence': 0.64129382}, {'transcript': 'is look it up in Senegal sticking in my joints'}, {'transcript': 'his look it up in Senegal sticking in my dreams'}, {'transcript': 'is look it up in Senegal sticking in my dreams'}, {'transcript': 'his look it up in San Diego sticking in my joints'}], 'final': True}\n",
      "\n",
      "Filename: 1249120_36505751_88944553.wav\n",
      "Text: {'alternative': [{'transcript': 'I have got a hard time to breathe am I having a heart attack', 'confidence': 0.987629}], 'final': True}\n",
      "\n",
      "Filename: 1249120_34824899_104680780.wav\n",
      "Text: {'alternative': [{'transcript': 'I feel congestion in my chest', 'confidence': 0.97906804}, {'transcript': 'I steal congestion in my chest'}, {'transcript': 'I still congestion in my chest'}], 'final': True}\n",
      "\n",
      "Filename: 1249120_40663048_23338294.wav\n",
      "Text: {'alternative': [{'transcript': \"my head hurts what I'm doing this\", 'confidence': 0.87092465}, {'transcript': \"my head hurts what I'm doing\"}, {'transcript': \"my head hurts when I'm doing this\"}, {'transcript': \"my head hurts what I'm doing good\"}, {'transcript': \"my head hurts what I'm doing.\"}], 'final': True}\n",
      "\n",
      "Filename: 1249120_44093303_39503128.wav\n",
      "Text: {'alternative': [{'transcript': 'I feel hurt lot of pain in my heart', 'confidence': 0.91650081}, {'transcript': 'I feel hurt a lot of pain in my heart'}, {'transcript': 'I still hurt a lot of pain in my heart'}], 'final': True}\n",
      "\n",
      "Filename: 1249120_43577102_33518582.wav\n",
      "Text: {'alternative': [{'transcript': 'I have a pain that radiates up from my right hip to my age it is at its worst when I urinate', 'confidence': 0.842246}, {'transcript': 'I have a pain that radiates up from my right hip to my gauge it is at its worst when I urinate'}, {'transcript': 'I have a pain that radiates up from my right hip to my cage it is at its worst when I urinate'}, {'transcript': 'I have a pain that radiates up from my right hip to my ears gauged it is at its worst when I urinate'}, {'transcript': 'I have a pain that radiates up from my right hip to my case it is at its worst when I urinate'}], 'final': True}\n",
      "\n",
      "Filename: 1249120_19425875_108827017.wav\n",
      "Text: {'alternative': [{'transcript': \"my head hurts when I'm doing this\", 'confidence': 0.987629}], 'final': True}\n",
      "\n",
      "Filename: 1249120_13842059_36985247.wav\n",
      "Text: {'alternative': [{'transcript': 'I feel dizzy and out of sight', 'confidence': 0.94360095}, {'transcript': 'I feel dizzy and out-of-sight'}], 'final': True}\n",
      "\n",
      "Filename: 1249120_2171654_15700530.wav\n",
      "Text: {'alternative': [{'transcript': 'yesterday I had shoulder pain', 'confidence': 0.98762906}], 'final': True}\n",
      "\n",
      "Filename: 1249120_40663048_53363963.wav\n",
      "Text: []\n",
      "\n",
      "Filename: 1249120_43105396_64428201.wav\n",
      "Text: []\n",
      "\n",
      "Filename: 1249120_40571337_83326144.wav\n",
      "Text: {'alternative': [{'transcript': 'I have acne in my face and other problem in my thermal like itching', 'confidence': 0.89046431}, {'transcript': 'I have acne in my face and other problem in my Derma like itching', 'confidence': 0.89821512}, {'transcript': 'I have acne in my face and other problem in my Therma like itching', 'confidence': 0.92313462}, {'transcript': 'I have acne in my face and other problem in my thermal liked itching', 'confidence': 0.89046431}, {'transcript': 'I have acne in my face and other problem in my Derma liked itching', 'confidence': 0.89821512}], 'final': True}\n",
      "\n",
      "Filename: 1249120_43577102_29848441.wav\n",
      "Text: {'alternative': [{'transcript': \"I cut my finger opening a can it won't stop bleeding and the wound is gaping and open\", 'confidence': 0.86392796}, {'transcript': \"I got my finger opening a can it won't stop bleeding and the wound is gaping and open\"}, {'transcript': \"I cut my finger opening a can it won't stop bleeding and the wound is gapping and open\"}, {'transcript': \"I got my finger opening a can it won't stop bleeding and the wound is gapping and open\"}, {'transcript': \"I cut my finger opening a can it won't stop bleeding and the ground is gaping and open\"}], 'final': True}\n",
      "\n",
      "Filename: 1249120_43665783_68535658.wav\n",
      "Text: {'alternative': [{'transcript': 'I have a sore pain in my ear', 'confidence': 0.75261658}, {'transcript': 'I have a sharp pain in my ear'}], 'final': True}\n",
      "\n",
      "Filename: 1249120_29672643_11732494.wav\n",
      "Text: {'alternative': [{'transcript': 'my back is hurting so much', 'confidence': 0.97920412}, {'transcript': 'my back is hurting so mutch', 'confidence': 0.97920412}, {'transcript': 'my back is hurting sew much', 'confidence': 0.97920412}, {'transcript': 'my back is hurting Sol much', 'confidence': 0.97920412}, {'transcript': 'my back is hurting sow much', 'confidence': 0.97920412}], 'final': True}\n",
      "\n",
      "Filename: 1249120_44093933_40505123.wav\n",
      "Text: {'alternative': [{'transcript': \"my knee doesn't want to bend Bell\", 'confidence': 0.93393517}, {'transcript': \"my knee doesn't want to bend bail\"}, {'transcript': \"my knee doesn't want to bend Belle\"}, {'transcript': \"my knee doesn't want to Bent Bell\"}, {'transcript': \"my niece doesn't want to bend Bell\"}], 'final': True}\n",
      "\n",
      "Filename: 1249120_44111844_26830903.wav\n",
      "Text: []\n",
      "\n",
      "Filename: 1249120_43105396_81563216.wav\n",
      "Text: []\n",
      "\n",
      "Filename: 1249120_41221824_34931566.wav\n",
      "Text: {'alternative': [{'transcript': 'when I go to stand my head starts feeling', 'confidence': 0.85731024}, {'transcript': 'when I go to stand my head fast feeling'}, {'transcript': 'when I go to stand my head. Feeling'}, {'transcript': 'when I go to stand my head swelling'}, {'transcript': 'when I go to scan my head starts feeling'}], 'final': True}\n",
      "\n",
      "Filename: 1249120_40725179_84485488.wav\n",
      "Text: {'alternative': [{'transcript': 'I was playing football and injured with joint pain', 'confidence': 0.86529899}, {'transcript': 'I was playing football and injury with joint pain'}, {'transcript': 'I was playing football in injury with joint pain'}, {'transcript': 'I was playing football in injured with joint pain'}, {'transcript': 'I was playing football and injured with joint pains'}], 'final': True}\n",
      "\n",
      "Filename: 1249120_30766630_71207683.wav\n",
      "Text: {'alternative': [{'transcript': 'when I get up I see my skin vague', 'confidence': 0.86303258}, {'transcript': 'when I get off I see my skin vague'}, {'transcript': 'when I get up I see my skin bake'}, {'transcript': 'when I get up I see my skin baked'}, {'transcript': 'when I get off I see my skin bake'}], 'final': True}\n",
      "\n",
      "Filename: 1249120_41087148_52298481.wav\n",
      "Text: {'alternative': [{'transcript': \"iron magazine is I've been alone but I doesn't have to\", 'confidence': 0.67523736}, {'transcript': \"Iron Man I've been alone but I doesn't have to\"}, {'transcript': \"iron magazine is I've been alone but I doesn't hurt to\"}, {'transcript': \"iron magazine is I've been alone but I does not do\"}, {'transcript': \"iron magazine is I've been alone but I doesn't hurt too\"}], 'final': True}\n",
      "\n",
      "Filename: 1249120_41203338_109622987.wav\n",
      "Text: {'alternative': [{'transcript': 'my chest break out with red pimples and whiteheads', 'confidence': 0.91871846}, {'transcript': 'my chest breakout with red pimples and whiteheads'}, {'transcript': 'my chest break out with red pimples and white heads'}, {'transcript': 'my chest breakout with red pimples and white heads'}, {'transcript': 'my chest breakup with red pimples and whiteheads'}], 'final': True}\n",
      "\n",
      "Filename: 1249120_36505751_80281628.wav\n",
      "Text: {'alternative': [{'transcript': 'standing less than 5 minutes and my back start to ache', 'confidence': 0.88195211}, {'transcript': 'standing less than five minutes and my back start to ache'}, {'transcript': '10 less than 5 minutes and my back start to ache'}, {'transcript': 'standing less than 5 minutes and my back start to kick'}, {'transcript': 'stand in less than 5 minutes and my back start to ache'}], 'final': True}\n",
      "\n",
      "Filename: 1249120_44140394_103273156.wav\n",
      "Text: {'alternative': [{'transcript': 'I cost a lot when I smell perfume what is wrong with my lungs', 'confidence': 0.65730101}, {'transcript': 'I cough a lot when I smell perfume what is wrong with my lungs'}, {'transcript': 'I coughed a lot when I smell perfume what is wrong with my lungs'}, {'transcript': 'I caught a lot when I smell perfume what is wrong with my lungs'}, {'transcript': 'I cost alot when I smell perfume what is wrong with my lungs'}], 'final': True}\n",
      "\n",
      "Filename: 1249120_43857865_36787086.wav\n",
      "Text: {'alternative': [{'transcript': 'delete a sharp pain in my car', 'confidence': 0.57360685}, {'transcript': 'did he say sharp pain in my car'}, {'transcript': 'did EJ sharp pain in my car'}, {'transcript': 'delete a sharper pain in my car'}, {'transcript': 'did he say sharper pain in my car'}], 'final': True}\n",
      "\n",
      "Filename: 1249120_43883861_82541371.wav\n",
      "Text: {'alternative': [{'transcript': 'I feel a lot of pain in the joints', 'confidence': 0.84734619}, {'transcript': 'I seen a lot of pain in the joints'}], 'final': True}\n",
      "\n",
      "Filename: 1249120_43788827_79200909.wav\n",
      "Text: {'alternative': [{'transcript': 'I have a problem in my bag I cannot extend it', 'confidence': 0.90897083}, {'transcript': 'I have a problem in my bag I cannot exchange it'}, {'transcript': 'I have a problem in my bag I can understand it'}, {'transcript': 'I have a problem in my back I cannot extend it'}, {'transcript': 'I have a problem in my bag I cannot Exchange'}], 'final': True}\n",
      "\n",
      "Filename: 1249120_42783052_46709457.wav\n",
      "Text: {'alternative': [{'transcript': 'put on induces of higher and Sebastian glands', 'confidence': 0.75070494}, {'transcript': 'put on induces of higher fully closed and Sebastian glands'}, {'transcript': 'put on induces of higher. And Sebastian glands'}, {'transcript': 'put on induces of hire fully closed and Sebastian glands'}, {'transcript': 'put on induces of higher and Sebastian glantz'}], 'final': True}\n",
      "\n",
      "Filename: 1249120_42783052_98657696.wav\n",
      "Text: {'alternative': [{'transcript': 'I could have difficulty moving my neck', 'confidence': 0.93774974}, {'transcript': 'I could have difficult moving my neck'}, {'transcript': 'I could have difficulty moving my Mac'}, {'transcript': 'I could difficult move in my neck'}, {'transcript': \"I could've difficult move in my neck\"}], 'final': True}\n",
      "\n",
      "Filename: 1249120_43951421_20760650.wav\n",
      "Text: {'alternative': [{'transcript': 'I feel cold', 'confidence': 0.98762912}], 'final': True}\n",
      "\n",
      "Filename: 1249120_36929821_103042724.wav\n",
      "Text: {'alternative': [{'transcript': 'I feel pain in my back', 'confidence': 0.987629}], 'final': True}\n",
      "\n",
      "Filename: 1249120_30766630_43191589.wav\n",
      "Text: {'alternative': [{'transcript': 'hearing any loud sounds make my ear aches', 'confidence': 0.97141987}, {'transcript': 'hearing any loud sounds make my earaches'}, {'transcript': 'during any loud sounds make my ear aches'}, {'transcript': 'during any loud sounds make my earaches'}], 'final': True}\n",
      "\n",
      "Filename: 1249120_44101988_60223164.wav\n",
      "Text: {'alternative': [{'transcript': 'I feel pain in my joint after an injury in the last football match I played', 'confidence': 0.91982824}, {'transcript': 'I feel pain in my joint after an injury in the last Futbol match I played', 'confidence': 0.91982824}, {'transcript': 'I feel pain in my joint after an injury in the lasts football match I played', 'confidence': 0.91982824}, {'transcript': 'I feel pain in my joint after an injury Inn the last football match I played', 'confidence': 0.91982824}, {'transcript': 'I feel pain in my joint after an injury in the last football match I play', 'confidence': 0.86582422}], 'final': True}\n",
      "\n",
      "Filename: 1249120_31349958_101101241.wav\n",
      "Text: []\n",
      "\n",
      "Filename: 1249120_43788827_107346843.wav\n",
      "Text: {'alternative': [{'transcript': 'at first it feels really numb but then 1,000 noodles start to breathe through my phone', 'confidence': 0.79875159}, {'transcript': 'at first it feels really numb but then 1,000 noodles start to break through my phone'}, {'transcript': 'at first it feels really numb but then 1000 start to breathe through my phone'}, {'transcript': 'at first it feels really numb but then 1000 start to break through my phone'}, {'transcript': 'at first it feels really numb but then 1,000 noodles start to freak through my phone'}], 'final': True}\n",
      "\n",
      "Filename: 1249120_43105396_67010788.wav\n",
      "Text: []\n",
      "\n"
     ]
    },
    {
     "name": "stderr",
     "output_type": "stream",
     "text": [
      "\n"
     ]
    }
   ],
   "source": [
    "# Create a recognizer object\n",
    "r = sr.Recognizer()\n",
    "\n",
    "# Create empty lists to store text and filename\n",
    "text_list = []\n",
    "filename_list = []\n",
    "\n",
    "# Process each audio file\n",
    "for audio_file in tqdm(audio_files, desc=\"Processing\"):\n",
    "    try:\n",
    "        audio_path = os.path.join(dir_path, audio_file)\n",
    "\n",
    "        # Open the audio file\n",
    "        with sr.AudioFile(audio_path) as source:\n",
    "            # Read the audio data\n",
    "            audio_data = r.record(source)\n",
    "\n",
    "        # Convert speech to text\n",
    "        text = r.recognize_google(audio_data, show_all=True)\n",
    "\n",
    "        # Append text and filename to lists\n",
    "        text_list.append(text)\n",
    "        filename_list.append(audio_file)\n",
    "\n",
    "    except sr.RequestError as e:\n",
    "        print(f\"Error processing audio file: {audio_file} - {e}\")\n",
    "        continue\n",
    "    except sr.UnknownValueError:\n",
    "        print(f\"No speech detected in audio file: {audio_file}\")\n",
    "        continue\n",
    "\n",
    "# Print the extracted texts and filenames\n",
    "for text, filename in zip(text_list, filename_list):\n",
    "    print(\"Filename:\", filename)\n",
    "    print(\"Text:\", text)\n",
    "    print()"
   ]
  },
  {
   "cell_type": "code",
   "execution_count": 30,
   "id": "027af25e",
   "metadata": {},
   "outputs": [],
   "source": [
    "# Create DataFrame\n",
    "data = {\"Text\": text_list, \"Filename\": filename_list}\n",
    "df_test_p3 = pd.DataFrame(data)\n",
    "df_test_p3.tail()\n",
    "\n",
    "\n",
    "df_test_p3.to_csv(\"df_test_part3.csv\", index=False)"
   ]
  },
  {
   "cell_type": "code",
   "execution_count": null,
   "id": "c8f4aaf9",
   "metadata": {},
   "outputs": [],
   "source": [
    "# Load "
   ]
  },
  {
   "cell_type": "code",
   "execution_count": null,
   "id": "61fb393b",
   "metadata": {},
   "outputs": [],
   "source": [
    "df "
   ]
  }
 ],
 "metadata": {
  "kernelspec": {
   "display_name": "Python 3 (ipykernel)",
   "language": "python",
   "name": "python3"
  },
  "language_info": {
   "codemirror_mode": {
    "name": "ipython",
    "version": 3
   },
   "file_extension": ".py",
   "mimetype": "text/x-python",
   "name": "python",
   "nbconvert_exporter": "python",
   "pygments_lexer": "ipython3",
   "version": "3.9.13"
  }
 },
 "nbformat": 4,
 "nbformat_minor": 5
}
