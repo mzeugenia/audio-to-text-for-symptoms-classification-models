{
 "cells": [
  {
   "cell_type": "code",
   "execution_count": null,
   "id": "b15cfde8",
   "metadata": {},
   "outputs": [],
   "source": [
    "# setting up google-cloud:\n",
    "# installing and initializing: https://cloud.google.com/sdk/docs/install\n",
    "# https://cloud.google.com/docs/authentication/provide-credentials-adc#how-to\n",
    "\n",
    "#pip install google-cloud-speech"
   ]
  },
  {
   "cell_type": "code",
   "execution_count": null,
   "id": "e868edaf",
   "metadata": {},
   "outputs": [],
   "source": [
    "from google.cloud import speech_v1p1beta1 as speech\n",
    "import pandas as pd\n",
    "from tqdm import tqdm\n",
    "\n",
    "credential_path = \"/usr/local/home/.config/gcloud/application_default_credentials.json\"\n",
    "os.environ['GOOGLE_APPLICATION_CREDENTIALS'] = credential_path\n",
    "\n",
    "\n",
    "# Create a client\n",
    "client = speech.SpeechClient()\n",
    "\n",
    "# Load the audio files\n",
    "audio_files = [\"/Users/admin/Documents/BC#2/Labs/Week10/speech-recognition/1249120_44142156_61923550.wav\", \n",
    "               \"/Users/admin/Documents/BC#2/Labs/Week10/speech-recognition/1249120_44246595_76562955.wav\"]\n",
    "\n",
    "# Create empty lists to store text and filename\n",
    "text_list = []\n",
    "filename_list = []\n",
    "\n",
    "# Process each audio file with progress indicator\n",
    "for audio_file in tqdm(audio_files, desc=\"Processing\"):\n",
    "    # Read the audio file\n",
    "    with open(audio_file, \"rb\") as audio_data:\n",
    "        # Configure the audio source\n",
    "        audio_source = speech.RecognitionAudio(content=audio_data.read())\n",
    "\n",
    "    # Configure the speech recognition request\n",
    "    config = speech.RecognitionConfig(\n",
    "        encoding=speech.RecognitionConfig.AudioEncoding.LINEAR16,\n",
    "        sample_rate_hertz=16000,\n",
    "        language_code=\"en-US\",\n",
    "    )\n",
    "\n",
    "    # Perform the speech recognition\n",
    "    response = client.recognize(config=config, audio=audio_source)\n",
    "\n",
    "    # Retrieve the transcriptions\n",
    "    transcriptions = [result.alternatives[0].transcript for result in response.results]\n",
    "    text = \" \".join(transcriptions)\n",
    "\n",
    "    # Append text and filename to lists\n",
    "    text_list.append(text)\n",
    "    filename_list.append(audio_file)\n",
    "\n",
    "# Create DataFrame\n",
    "data = {\"Text\": text_list, \"Filename\": filename_list}\n",
    "df = pd.DataFrame(data)\n",
    "\n",
    "# Print the DataFrame\n",
    "print(df)\n"
   ]
  }
 ],
 "metadata": {
  "kernelspec": {
   "display_name": "Python 3 (ipykernel)",
   "language": "python",
   "name": "python3"
  },
  "language_info": {
   "codemirror_mode": {
    "name": "ipython",
    "version": 3
   },
   "file_extension": ".py",
   "mimetype": "text/x-python",
   "name": "python",
   "nbconvert_exporter": "python",
   "pygments_lexer": "ipython3",
   "version": "3.9.13"
  }
 },
 "nbformat": 4,
 "nbformat_minor": 5
}
