{
 "cells": [
  {
   "cell_type": "markdown",
   "id": "c8a8f63e",
   "metadata": {},
   "source": [
    "## Fitting models _1 and _2 to unseen data"
   ]
  },
  {
   "cell_type": "code",
   "execution_count": 43,
   "id": "fceb4e2d",
   "metadata": {},
   "outputs": [],
   "source": [
    "import pandas as pd"
   ]
  },
  {
   "cell_type": "code",
   "execution_count": 44,
   "id": "13939feb",
   "metadata": {},
   "outputs": [],
   "source": [
    "import os"
   ]
  },
  {
   "cell_type": "code",
   "execution_count": 45,
   "id": "d4d5340a",
   "metadata": {},
   "outputs": [],
   "source": [
    "os.chdir(\"/Users/admin/Documents/BC#2/Labs/Week10/speech-recognition\")"
   ]
  },
  {
   "cell_type": "code",
   "execution_count": 46,
   "id": "db548305",
   "metadata": {},
   "outputs": [
    {
     "data": {
      "text/plain": [
       "'/Users/admin/Documents/BC#2/Labs/Week10/speech-recognition'"
      ]
     },
     "execution_count": 46,
     "metadata": {},
     "output_type": "execute_result"
    }
   ],
   "source": [
    "os.getcwd()"
   ]
  },
  {
   "cell_type": "code",
   "execution_count": 47,
   "id": "83c29b24",
   "metadata": {},
   "outputs": [
    {
     "name": "stdout",
     "output_type": "stream",
     "text": [
      "LICENSE                           \u001b[1m\u001b[36mfigures\u001b[m\u001b[m/\r\n",
      "README.md                         fit model on external data.ipynb\r\n",
      "ailments_model1_deploy.csv        model_1\r\n",
      "app.py                            model_2\r\n",
      "\u001b[1m\u001b[36mdata\u001b[m\u001b[m/                             speech-recognition_v1.ipynb\r\n",
      "\u001b[1m\u001b[36menv\u001b[m\u001b[m/\r\n"
     ]
    }
   ],
   "source": [
    "ls"
   ]
  },
  {
   "cell_type": "code",
   "execution_count": 48,
   "id": "7f0b273f",
   "metadata": {},
   "outputs": [],
   "source": [
    "df = {\"sentence\": [\"I have been feeling extremely anxious and panicky.\",\n",
    "\"I accidentally ingested a toxic substance.\",\n",
    "\"I have been experiencing severe headaches and dizziness.\",\n",
    "\"I have a deep cut on my hand that won't stop bleeding.\",\n",
    "\"I have a persistent cough with blood in my phlegm.\",\n",
    "\"I woke up with severe chest pain and difficulty breathing.\",\n",
    "\"I have a severe allergic reaction with hives all over my body.\",\n",
    "\"I fell down the stairs and twisted my ankle.\",\n",
    "\"I accidentally touched a hot stove and burned my hand pretty badly.\",\n",
    "\"I have been having intense stomach pains and vomiting after eating certain foods.\",\n",
    "\"I got a deep splinter in my finger, and it's starting to get infected.\",\n",
    "\"I have had a high fever for several days, and it's not responding to over-the-counter medication.\",\n",
    "\"I was bitten by an unknown insect, and the area is swelling and getting more painful.\",\n",
    "\"I am experiencing blurred vision and eye pain, and it's affecting my ability to see clearly.\",\n",
    "\"I was in a car accident, and I'm experiencing neck and back pain.\",\n",
    "\"I cut my finger while cooking, and the bleeding doesn't seem to be stopping.\",\n",
    "\"I have a painful toothache that's been keeping me up at night.\",\n",
    "\"I slipped and hit my head, and now I have a severe headache and nausea.\",\n",
    "\"I have a deep bruise on my leg from a fall, and it's getting more painful and swollen.\",\n",
    "\"I accidentally stepped on a rusty nail, and I'm worried about tetanus.\"]}"
   ]
  },
  {
   "cell_type": "code",
   "execution_count": 49,
   "id": "ab1141f9",
   "metadata": {},
   "outputs": [],
   "source": [
    "df = pd.DataFrame.from_dict(df)"
   ]
  },
  {
   "cell_type": "code",
   "execution_count": 50,
   "id": "ba7190f2",
   "metadata": {},
   "outputs": [
    {
     "data": {
      "text/html": [
       "<div>\n",
       "<style scoped>\n",
       "    .dataframe tbody tr th:only-of-type {\n",
       "        vertical-align: middle;\n",
       "    }\n",
       "\n",
       "    .dataframe tbody tr th {\n",
       "        vertical-align: top;\n",
       "    }\n",
       "\n",
       "    .dataframe thead th {\n",
       "        text-align: right;\n",
       "    }\n",
       "</style>\n",
       "<table border=\"1\" class=\"dataframe\">\n",
       "  <thead>\n",
       "    <tr style=\"text-align: right;\">\n",
       "      <th></th>\n",
       "      <th>sentence</th>\n",
       "    </tr>\n",
       "  </thead>\n",
       "  <tbody>\n",
       "    <tr>\n",
       "      <th>0</th>\n",
       "      <td>I have been feeling extremely anxious and pani...</td>\n",
       "    </tr>\n",
       "    <tr>\n",
       "      <th>1</th>\n",
       "      <td>I accidentally ingested a toxic substance.</td>\n",
       "    </tr>\n",
       "    <tr>\n",
       "      <th>2</th>\n",
       "      <td>I have been experiencing severe headaches and ...</td>\n",
       "    </tr>\n",
       "    <tr>\n",
       "      <th>3</th>\n",
       "      <td>I have a deep cut on my hand that won't stop b...</td>\n",
       "    </tr>\n",
       "    <tr>\n",
       "      <th>4</th>\n",
       "      <td>I have a persistent cough with blood in my phl...</td>\n",
       "    </tr>\n",
       "    <tr>\n",
       "      <th>5</th>\n",
       "      <td>I woke up with severe chest pain and difficult...</td>\n",
       "    </tr>\n",
       "    <tr>\n",
       "      <th>6</th>\n",
       "      <td>I have a severe allergic reaction with hives a...</td>\n",
       "    </tr>\n",
       "    <tr>\n",
       "      <th>7</th>\n",
       "      <td>I fell down the stairs and twisted my ankle.</td>\n",
       "    </tr>\n",
       "    <tr>\n",
       "      <th>8</th>\n",
       "      <td>I accidentally touched a hot stove and burned ...</td>\n",
       "    </tr>\n",
       "    <tr>\n",
       "      <th>9</th>\n",
       "      <td>I have been having intense stomach pains and v...</td>\n",
       "    </tr>\n",
       "    <tr>\n",
       "      <th>10</th>\n",
       "      <td>I got a deep splinter in my finger, and it's s...</td>\n",
       "    </tr>\n",
       "    <tr>\n",
       "      <th>11</th>\n",
       "      <td>I have had a high fever for several days, and ...</td>\n",
       "    </tr>\n",
       "    <tr>\n",
       "      <th>12</th>\n",
       "      <td>I was bitten by an unknown insect, and the are...</td>\n",
       "    </tr>\n",
       "    <tr>\n",
       "      <th>13</th>\n",
       "      <td>I am experiencing blurred vision and eye pain,...</td>\n",
       "    </tr>\n",
       "    <tr>\n",
       "      <th>14</th>\n",
       "      <td>I was in a car accident, and I'm experiencing ...</td>\n",
       "    </tr>\n",
       "    <tr>\n",
       "      <th>15</th>\n",
       "      <td>I cut my finger while cooking, and the bleedin...</td>\n",
       "    </tr>\n",
       "    <tr>\n",
       "      <th>16</th>\n",
       "      <td>I have a painful toothache that's been keeping...</td>\n",
       "    </tr>\n",
       "    <tr>\n",
       "      <th>17</th>\n",
       "      <td>I slipped and hit my head, and now I have a se...</td>\n",
       "    </tr>\n",
       "    <tr>\n",
       "      <th>18</th>\n",
       "      <td>I have a deep bruise on my leg from a fall, an...</td>\n",
       "    </tr>\n",
       "    <tr>\n",
       "      <th>19</th>\n",
       "      <td>I accidentally stepped on a rusty nail, and I'...</td>\n",
       "    </tr>\n",
       "  </tbody>\n",
       "</table>\n",
       "</div>"
      ],
      "text/plain": [
       "                                             sentence\n",
       "0   I have been feeling extremely anxious and pani...\n",
       "1          I accidentally ingested a toxic substance.\n",
       "2   I have been experiencing severe headaches and ...\n",
       "3   I have a deep cut on my hand that won't stop b...\n",
       "4   I have a persistent cough with blood in my phl...\n",
       "5   I woke up with severe chest pain and difficult...\n",
       "6   I have a severe allergic reaction with hives a...\n",
       "7        I fell down the stairs and twisted my ankle.\n",
       "8   I accidentally touched a hot stove and burned ...\n",
       "9   I have been having intense stomach pains and v...\n",
       "10  I got a deep splinter in my finger, and it's s...\n",
       "11  I have had a high fever for several days, and ...\n",
       "12  I was bitten by an unknown insect, and the are...\n",
       "13  I am experiencing blurred vision and eye pain,...\n",
       "14  I was in a car accident, and I'm experiencing ...\n",
       "15  I cut my finger while cooking, and the bleedin...\n",
       "16  I have a painful toothache that's been keeping...\n",
       "17  I slipped and hit my head, and now I have a se...\n",
       "18  I have a deep bruise on my leg from a fall, an...\n",
       "19  I accidentally stepped on a rusty nail, and I'..."
      ]
     },
     "execution_count": 50,
     "metadata": {},
     "output_type": "execute_result"
    }
   ],
   "source": [
    "df"
   ]
  },
  {
   "cell_type": "code",
   "execution_count": 51,
   "id": "630b732e",
   "metadata": {},
   "outputs": [],
   "source": [
    "X = df.copy()"
   ]
  },
  {
   "cell_type": "code",
   "execution_count": 52,
   "id": "c63b8fb6",
   "metadata": {},
   "outputs": [],
   "source": [
    "from cleantext import clean\n",
    "\n",
    "def do_clean(text):\n",
    "    \"\"\"The string (text) is converted to lowercase, it is stripped, and the punctualization is removed.\"\"\"\n",
    "    return clean(text, lowercase=True, extra_spaces=False, punct=True)\n",
    "\n",
    "import nltk\n",
    "from nltk.tag import pos_tag\n",
    "import string\n",
    "from nltk.corpus import stopwords\n",
    "\n",
    "def text_process(text):\n",
    "    text = text.translate(str.maketrans('', '', string.punctuation))\n",
    "    text = [word for word in text.split() if word.lower() not in stopwords.words('english')]\n",
    "    return \" \".join(text)\n",
    "\n",
    "# Stemming words \n",
    "from nltk.stem import PorterStemmer\n",
    "from nltk.tokenize import word_tokenize\n",
    "from functools import reduce\n",
    "\n",
    "def stemmer(sentence):\n",
    "    ps = PorterStemmer()\n",
    "    words = word_tokenize(sentence)\n",
    "    # using reduce to apply stemmer to each word and join them back into a string\n",
    "    stemmed_sentence = reduce(lambda x, y: x + \" \" + ps.stem(y), words, \"\")\n",
    "    return stemmed_sentence"
   ]
  },
  {
   "cell_type": "code",
   "execution_count": 53,
   "id": "c79c1701",
   "metadata": {},
   "outputs": [],
   "source": [
    "X.sentence = X.sentence.apply(do_clean).apply(text_process).apply(stemmer)"
   ]
  },
  {
   "cell_type": "code",
   "execution_count": null,
   "id": "aea9fc9e",
   "metadata": {},
   "outputs": [],
   "source": []
  },
  {
   "cell_type": "code",
   "execution_count": 54,
   "id": "96914f1d",
   "metadata": {},
   "outputs": [],
   "source": [
    "# Preprocessing\n",
    "from sklearn.pipeline import make_pipeline\n",
    "import pickle "
   ]
  },
  {
   "cell_type": "markdown",
   "id": "246a7730",
   "metadata": {},
   "source": [
    "## Fitting model_1 to unseen data"
   ]
  },
  {
   "cell_type": "code",
   "execution_count": 55,
   "id": "f6d977bc",
   "metadata": {},
   "outputs": [],
   "source": [
    "# import model\n",
    "with open('model_1', 'rb') as tm:\n",
    "    new_pipe_1 = pickle.load(tm)\n",
    "\n",
    "output = new_pipe_1.predict(X.sentence)\n",
    "df[\"output_model_1\"] = output"
   ]
  },
  {
   "cell_type": "code",
   "execution_count": 56,
   "id": "b3ef412e",
   "metadata": {},
   "outputs": [
    {
     "data": {
      "text/html": [
       "<div>\n",
       "<style scoped>\n",
       "    .dataframe tbody tr th:only-of-type {\n",
       "        vertical-align: middle;\n",
       "    }\n",
       "\n",
       "    .dataframe tbody tr th {\n",
       "        vertical-align: top;\n",
       "    }\n",
       "\n",
       "    .dataframe thead th {\n",
       "        text-align: right;\n",
       "    }\n",
       "</style>\n",
       "<table border=\"1\" class=\"dataframe\">\n",
       "  <thead>\n",
       "    <tr style=\"text-align: right;\">\n",
       "      <th></th>\n",
       "      <th>sentence</th>\n",
       "      <th>output_model_1</th>\n",
       "    </tr>\n",
       "  </thead>\n",
       "  <tbody>\n",
       "    <tr>\n",
       "      <th>0</th>\n",
       "      <td>I have been feeling extremely anxious and pani...</td>\n",
       "      <td>mild</td>\n",
       "    </tr>\n",
       "    <tr>\n",
       "      <th>1</th>\n",
       "      <td>I accidentally ingested a toxic substance.</td>\n",
       "      <td>severe</td>\n",
       "    </tr>\n",
       "    <tr>\n",
       "      <th>2</th>\n",
       "      <td>I have been experiencing severe headaches and ...</td>\n",
       "      <td>severe</td>\n",
       "    </tr>\n",
       "    <tr>\n",
       "      <th>3</th>\n",
       "      <td>I have a deep cut on my hand that won't stop b...</td>\n",
       "      <td>severe</td>\n",
       "    </tr>\n",
       "    <tr>\n",
       "      <th>4</th>\n",
       "      <td>I have a persistent cough with blood in my phl...</td>\n",
       "      <td>severe</td>\n",
       "    </tr>\n",
       "    <tr>\n",
       "      <th>5</th>\n",
       "      <td>I woke up with severe chest pain and difficult...</td>\n",
       "      <td>severe</td>\n",
       "    </tr>\n",
       "    <tr>\n",
       "      <th>6</th>\n",
       "      <td>I have a severe allergic reaction with hives a...</td>\n",
       "      <td>severe</td>\n",
       "    </tr>\n",
       "    <tr>\n",
       "      <th>7</th>\n",
       "      <td>I fell down the stairs and twisted my ankle.</td>\n",
       "      <td>severe</td>\n",
       "    </tr>\n",
       "    <tr>\n",
       "      <th>8</th>\n",
       "      <td>I accidentally touched a hot stove and burned ...</td>\n",
       "      <td>severe</td>\n",
       "    </tr>\n",
       "    <tr>\n",
       "      <th>9</th>\n",
       "      <td>I have been having intense stomach pains and v...</td>\n",
       "      <td>mild</td>\n",
       "    </tr>\n",
       "    <tr>\n",
       "      <th>10</th>\n",
       "      <td>I got a deep splinter in my finger, and it's s...</td>\n",
       "      <td>severe</td>\n",
       "    </tr>\n",
       "    <tr>\n",
       "      <th>11</th>\n",
       "      <td>I have had a high fever for several days, and ...</td>\n",
       "      <td>severe</td>\n",
       "    </tr>\n",
       "    <tr>\n",
       "      <th>12</th>\n",
       "      <td>I was bitten by an unknown insect, and the are...</td>\n",
       "      <td>severe</td>\n",
       "    </tr>\n",
       "    <tr>\n",
       "      <th>13</th>\n",
       "      <td>I am experiencing blurred vision and eye pain,...</td>\n",
       "      <td>severe</td>\n",
       "    </tr>\n",
       "    <tr>\n",
       "      <th>14</th>\n",
       "      <td>I was in a car accident, and I'm experiencing ...</td>\n",
       "      <td>severe</td>\n",
       "    </tr>\n",
       "    <tr>\n",
       "      <th>15</th>\n",
       "      <td>I cut my finger while cooking, and the bleedin...</td>\n",
       "      <td>severe</td>\n",
       "    </tr>\n",
       "    <tr>\n",
       "      <th>16</th>\n",
       "      <td>I have a painful toothache that's been keeping...</td>\n",
       "      <td>severe</td>\n",
       "    </tr>\n",
       "    <tr>\n",
       "      <th>17</th>\n",
       "      <td>I slipped and hit my head, and now I have a se...</td>\n",
       "      <td>severe</td>\n",
       "    </tr>\n",
       "    <tr>\n",
       "      <th>18</th>\n",
       "      <td>I have a deep bruise on my leg from a fall, an...</td>\n",
       "      <td>severe</td>\n",
       "    </tr>\n",
       "    <tr>\n",
       "      <th>19</th>\n",
       "      <td>I accidentally stepped on a rusty nail, and I'...</td>\n",
       "      <td>severe</td>\n",
       "    </tr>\n",
       "  </tbody>\n",
       "</table>\n",
       "</div>"
      ],
      "text/plain": [
       "                                             sentence output_model_1\n",
       "0   I have been feeling extremely anxious and pani...           mild\n",
       "1          I accidentally ingested a toxic substance.         severe\n",
       "2   I have been experiencing severe headaches and ...         severe\n",
       "3   I have a deep cut on my hand that won't stop b...         severe\n",
       "4   I have a persistent cough with blood in my phl...         severe\n",
       "5   I woke up with severe chest pain and difficult...         severe\n",
       "6   I have a severe allergic reaction with hives a...         severe\n",
       "7        I fell down the stairs and twisted my ankle.         severe\n",
       "8   I accidentally touched a hot stove and burned ...         severe\n",
       "9   I have been having intense stomach pains and v...           mild\n",
       "10  I got a deep splinter in my finger, and it's s...         severe\n",
       "11  I have had a high fever for several days, and ...         severe\n",
       "12  I was bitten by an unknown insect, and the are...         severe\n",
       "13  I am experiencing blurred vision and eye pain,...         severe\n",
       "14  I was in a car accident, and I'm experiencing ...         severe\n",
       "15  I cut my finger while cooking, and the bleedin...         severe\n",
       "16  I have a painful toothache that's been keeping...         severe\n",
       "17  I slipped and hit my head, and now I have a se...         severe\n",
       "18  I have a deep bruise on my leg from a fall, an...         severe\n",
       "19  I accidentally stepped on a rusty nail, and I'...         severe"
      ]
     },
     "execution_count": 56,
     "metadata": {},
     "output_type": "execute_result"
    }
   ],
   "source": [
    "df[\"output_model_1\"] = df[\"output_model_1\"].map({0:\"mild\", 1:\"severe\"})\n",
    "df"
   ]
  },
  {
   "cell_type": "code",
   "execution_count": null,
   "id": "1b158405",
   "metadata": {},
   "outputs": [],
   "source": [
    "\n"
   ]
  },
  {
   "cell_type": "code",
   "execution_count": null,
   "id": "d83fa9b4",
   "metadata": {},
   "outputs": [],
   "source": []
  },
  {
   "cell_type": "markdown",
   "id": "50169a4c",
   "metadata": {},
   "source": [
    "## Fitting model_2 to unseen data"
   ]
  },
  {
   "cell_type": "code",
   "execution_count": 15,
   "id": "26041d51",
   "metadata": {},
   "outputs": [],
   "source": [
    "# import model\n",
    "with open('model_2', 'rb') as tm:\n",
    "    new_pipe = pickle.load(tm)"
   ]
  },
  {
   "cell_type": "code",
   "execution_count": 16,
   "id": "55fc1448",
   "metadata": {},
   "outputs": [],
   "source": [
    "output_model_2 = new_pipe.predict(X.sentence)"
   ]
  },
  {
   "cell_type": "code",
   "execution_count": 17,
   "id": "30f73c18",
   "metadata": {},
   "outputs": [
    {
     "data": {
      "text/html": [
       "<div>\n",
       "<style scoped>\n",
       "    .dataframe tbody tr th:only-of-type {\n",
       "        vertical-align: middle;\n",
       "    }\n",
       "\n",
       "    .dataframe tbody tr th {\n",
       "        vertical-align: top;\n",
       "    }\n",
       "\n",
       "    .dataframe thead th {\n",
       "        text-align: right;\n",
       "    }\n",
       "</style>\n",
       "<table border=\"1\" class=\"dataframe\">\n",
       "  <thead>\n",
       "    <tr style=\"text-align: right;\">\n",
       "      <th></th>\n",
       "      <th>sentence</th>\n",
       "      <th>output_model_1</th>\n",
       "      <th>output_model_2</th>\n",
       "    </tr>\n",
       "  </thead>\n",
       "  <tbody>\n",
       "    <tr>\n",
       "      <th>0</th>\n",
       "      <td>I have been feeling extremely anxious and pani...</td>\n",
       "      <td>mild</td>\n",
       "      <td>psychology</td>\n",
       "    </tr>\n",
       "    <tr>\n",
       "      <th>1</th>\n",
       "      <td>I accidentally ingested a toxic substance.</td>\n",
       "      <td>severe</td>\n",
       "      <td>er</td>\n",
       "    </tr>\n",
       "    <tr>\n",
       "      <th>2</th>\n",
       "      <td>I have been experiencing severe headaches and ...</td>\n",
       "      <td>severe</td>\n",
       "      <td>general</td>\n",
       "    </tr>\n",
       "    <tr>\n",
       "      <th>3</th>\n",
       "      <td>I have a deep cut on my hand that won't stop b...</td>\n",
       "      <td>severe</td>\n",
       "      <td>wound care</td>\n",
       "    </tr>\n",
       "    <tr>\n",
       "      <th>4</th>\n",
       "      <td>I have a persistent cough with blood in my phl...</td>\n",
       "      <td>severe</td>\n",
       "      <td>general</td>\n",
       "    </tr>\n",
       "    <tr>\n",
       "      <th>5</th>\n",
       "      <td>I woke up with severe chest pain and difficult...</td>\n",
       "      <td>severe</td>\n",
       "      <td>cardiology</td>\n",
       "    </tr>\n",
       "    <tr>\n",
       "      <th>6</th>\n",
       "      <td>I have a severe allergic reaction with hives a...</td>\n",
       "      <td>severe</td>\n",
       "      <td>dermatology</td>\n",
       "    </tr>\n",
       "    <tr>\n",
       "      <th>7</th>\n",
       "      <td>I fell down the stairs and twisted my ankle.</td>\n",
       "      <td>severe</td>\n",
       "      <td>orthopedy</td>\n",
       "    </tr>\n",
       "    <tr>\n",
       "      <th>8</th>\n",
       "      <td>I accidentally touched a hot stove and burned ...</td>\n",
       "      <td>severe</td>\n",
       "      <td>wound care</td>\n",
       "    </tr>\n",
       "    <tr>\n",
       "      <th>9</th>\n",
       "      <td>I have been having intense stomach pains and v...</td>\n",
       "      <td>mild</td>\n",
       "      <td>gastroenterology</td>\n",
       "    </tr>\n",
       "    <tr>\n",
       "      <th>10</th>\n",
       "      <td>I got a deep splinter in my finger, and it's s...</td>\n",
       "      <td>severe</td>\n",
       "      <td>wound care</td>\n",
       "    </tr>\n",
       "    <tr>\n",
       "      <th>11</th>\n",
       "      <td>I have had a high fever for several days, and ...</td>\n",
       "      <td>severe</td>\n",
       "      <td>general</td>\n",
       "    </tr>\n",
       "    <tr>\n",
       "      <th>12</th>\n",
       "      <td>I was bitten by an unknown insect, and the are...</td>\n",
       "      <td>severe</td>\n",
       "      <td>orthopedy</td>\n",
       "    </tr>\n",
       "    <tr>\n",
       "      <th>13</th>\n",
       "      <td>I am experiencing blurred vision and eye pain,...</td>\n",
       "      <td>severe</td>\n",
       "      <td>ophthalmology</td>\n",
       "    </tr>\n",
       "    <tr>\n",
       "      <th>14</th>\n",
       "      <td>I was in a car accident, and I'm experiencing ...</td>\n",
       "      <td>severe</td>\n",
       "      <td>orthopedy</td>\n",
       "    </tr>\n",
       "    <tr>\n",
       "      <th>15</th>\n",
       "      <td>I cut my finger while cooking, and the bleedin...</td>\n",
       "      <td>severe</td>\n",
       "      <td>wound care</td>\n",
       "    </tr>\n",
       "    <tr>\n",
       "      <th>16</th>\n",
       "      <td>I have a painful toothache that's been keeping...</td>\n",
       "      <td>severe</td>\n",
       "      <td>general</td>\n",
       "    </tr>\n",
       "    <tr>\n",
       "      <th>17</th>\n",
       "      <td>I slipped and hit my head, and now I have a se...</td>\n",
       "      <td>severe</td>\n",
       "      <td>er</td>\n",
       "    </tr>\n",
       "    <tr>\n",
       "      <th>18</th>\n",
       "      <td>I have a deep bruise on my leg from a fall, an...</td>\n",
       "      <td>severe</td>\n",
       "      <td>wound care</td>\n",
       "    </tr>\n",
       "    <tr>\n",
       "      <th>19</th>\n",
       "      <td>I accidentally stepped on a rusty nail, and I'...</td>\n",
       "      <td>severe</td>\n",
       "      <td>wound care</td>\n",
       "    </tr>\n",
       "  </tbody>\n",
       "</table>\n",
       "</div>"
      ],
      "text/plain": [
       "                                             sentence output_model_1   \n",
       "0   I have been feeling extremely anxious and pani...           mild  \\\n",
       "1          I accidentally ingested a toxic substance.         severe   \n",
       "2   I have been experiencing severe headaches and ...         severe   \n",
       "3   I have a deep cut on my hand that won't stop b...         severe   \n",
       "4   I have a persistent cough with blood in my phl...         severe   \n",
       "5   I woke up with severe chest pain and difficult...         severe   \n",
       "6   I have a severe allergic reaction with hives a...         severe   \n",
       "7        I fell down the stairs and twisted my ankle.         severe   \n",
       "8   I accidentally touched a hot stove and burned ...         severe   \n",
       "9   I have been having intense stomach pains and v...           mild   \n",
       "10  I got a deep splinter in my finger, and it's s...         severe   \n",
       "11  I have had a high fever for several days, and ...         severe   \n",
       "12  I was bitten by an unknown insect, and the are...         severe   \n",
       "13  I am experiencing blurred vision and eye pain,...         severe   \n",
       "14  I was in a car accident, and I'm experiencing ...         severe   \n",
       "15  I cut my finger while cooking, and the bleedin...         severe   \n",
       "16  I have a painful toothache that's been keeping...         severe   \n",
       "17  I slipped and hit my head, and now I have a se...         severe   \n",
       "18  I have a deep bruise on my leg from a fall, an...         severe   \n",
       "19  I accidentally stepped on a rusty nail, and I'...         severe   \n",
       "\n",
       "      output_model_2  \n",
       "0         psychology  \n",
       "1                 er  \n",
       "2            general  \n",
       "3         wound care  \n",
       "4            general  \n",
       "5         cardiology  \n",
       "6        dermatology  \n",
       "7          orthopedy  \n",
       "8         wound care  \n",
       "9   gastroenterology  \n",
       "10        wound care  \n",
       "11           general  \n",
       "12         orthopedy  \n",
       "13     ophthalmology  \n",
       "14         orthopedy  \n",
       "15        wound care  \n",
       "16           general  \n",
       "17                er  \n",
       "18        wound care  \n",
       "19        wound care  "
      ]
     },
     "execution_count": 17,
     "metadata": {},
     "output_type": "execute_result"
    }
   ],
   "source": [
    "df[\"output_model_2\"] = output_model_2\n",
    "df"
   ]
  },
  {
   "cell_type": "code",
   "execution_count": null,
   "id": "813282f8",
   "metadata": {},
   "outputs": [],
   "source": []
  },
  {
   "cell_type": "code",
   "execution_count": null,
   "id": "d005469d",
   "metadata": {},
   "outputs": [],
   "source": []
  },
  {
   "cell_type": "code",
   "execution_count": 25,
   "id": "005ad43f",
   "metadata": {},
   "outputs": [],
   "source": [
    "text_input = \"I fell down the stairs and twisted my ankle.\"\n",
    "text_clean = do_clean(text_input)\n",
    "text_processed  = text_process(text_clean)\n",
    "text_stemmed = stemmer(text_processed)"
   ]
  },
  {
   "cell_type": "code",
   "execution_count": 57,
   "id": "03a46436",
   "metadata": {},
   "outputs": [
    {
     "data": {
      "text/plain": [
       "array([1])"
      ]
     },
     "execution_count": 57,
     "metadata": {},
     "output_type": "execute_result"
    }
   ],
   "source": [
    "new_pipe_1.predict(pd.array([text_stemmed]))"
   ]
  },
  {
   "cell_type": "code",
   "execution_count": 61,
   "id": "068024ac",
   "metadata": {},
   "outputs": [
    {
     "ename": "AttributeError",
     "evalue": "'numpy.ndarray' object has no attribute 'toString'",
     "output_type": "error",
     "traceback": [
      "\u001b[0;31m---------------------------------------------------------------------------\u001b[0m",
      "\u001b[0;31mAttributeError\u001b[0m                            Traceback (most recent call last)",
      "\u001b[0;32m/var/folders/gk/mp0xvl413dq_cb2pj579h7h00000gn/T/ipykernel_5570/2362434694.py\u001b[0m in \u001b[0;36m<module>\u001b[0;34m\u001b[0m\n\u001b[0;32m----> 1\u001b[0;31m \u001b[0mnew_pipe\u001b[0m\u001b[0;34m.\u001b[0m\u001b[0mpredict\u001b[0m\u001b[0;34m(\u001b[0m\u001b[0mpd\u001b[0m\u001b[0;34m.\u001b[0m\u001b[0marray\u001b[0m\u001b[0;34m(\u001b[0m\u001b[0;34m[\u001b[0m\u001b[0mtext_stemmed\u001b[0m\u001b[0;34m]\u001b[0m\u001b[0;34m)\u001b[0m\u001b[0;34m)\u001b[0m\u001b[0;34m.\u001b[0m\u001b[0mtoString\u001b[0m\u001b[0;34m(\u001b[0m\u001b[0;34m)\u001b[0m\u001b[0;34m\u001b[0m\u001b[0;34m\u001b[0m\u001b[0m\n\u001b[0m",
      "\u001b[0;31mAttributeError\u001b[0m: 'numpy.ndarray' object has no attribute 'toString'"
     ]
    }
   ],
   "source": [
    "new_pipe.predict(pd.array([text_stemmed])).toString()"
   ]
  },
  {
   "cell_type": "code",
   "execution_count": null,
   "id": "62fc9cc4",
   "metadata": {},
   "outputs": [],
   "source": []
  },
  {
   "cell_type": "code",
   "execution_count": 35,
   "id": "8f4fc6ad",
   "metadata": {},
   "outputs": [
    {
     "ename": "ValueError",
     "evalue": "Cannot pass scalar ' fell stair twist ankl' to 'pandas.array'.",
     "output_type": "error",
     "traceback": [
      "\u001b[0;31m---------------------------------------------------------------------------\u001b[0m",
      "\u001b[0;31mValueError\u001b[0m                                Traceback (most recent call last)",
      "\u001b[0;32m/var/folders/gk/mp0xvl413dq_cb2pj579h7h00000gn/T/ipykernel_5570/1451714421.py\u001b[0m in \u001b[0;36m<module>\u001b[0;34m\u001b[0m\n\u001b[0;32m----> 1\u001b[0;31m \u001b[0mnew_pipe\u001b[0m\u001b[0;34m.\u001b[0m\u001b[0mpredict\u001b[0m\u001b[0;34m(\u001b[0m\u001b[0mpd\u001b[0m\u001b[0;34m.\u001b[0m\u001b[0marray\u001b[0m\u001b[0;34m(\u001b[0m\u001b[0mtext_stemmed\u001b[0m\u001b[0;34m)\u001b[0m\u001b[0;34m,\u001b[0m \u001b[0mdtype\u001b[0m \u001b[0;34m=\u001b[0m \u001b[0mstr\u001b[0m\u001b[0;34m)\u001b[0m\u001b[0;34m\u001b[0m\u001b[0;34m\u001b[0m\u001b[0m\n\u001b[0m",
      "\u001b[0;32m~/opt/anaconda3/lib/python3.9/site-packages/pandas/core/construction.py\u001b[0m in \u001b[0;36marray\u001b[0;34m(data, dtype, copy)\u001b[0m\n\u001b[1;32m    303\u001b[0m     \u001b[0;32mif\u001b[0m \u001b[0mlib\u001b[0m\u001b[0;34m.\u001b[0m\u001b[0mis_scalar\u001b[0m\u001b[0;34m(\u001b[0m\u001b[0mdata\u001b[0m\u001b[0;34m)\u001b[0m\u001b[0;34m:\u001b[0m\u001b[0;34m\u001b[0m\u001b[0;34m\u001b[0m\u001b[0m\n\u001b[1;32m    304\u001b[0m         \u001b[0mmsg\u001b[0m \u001b[0;34m=\u001b[0m \u001b[0;34mf\"Cannot pass scalar '{data}' to 'pandas.array'.\"\u001b[0m\u001b[0;34m\u001b[0m\u001b[0;34m\u001b[0m\u001b[0m\n\u001b[0;32m--> 305\u001b[0;31m         \u001b[0;32mraise\u001b[0m \u001b[0mValueError\u001b[0m\u001b[0;34m(\u001b[0m\u001b[0mmsg\u001b[0m\u001b[0;34m)\u001b[0m\u001b[0;34m\u001b[0m\u001b[0;34m\u001b[0m\u001b[0m\n\u001b[0m\u001b[1;32m    306\u001b[0m     \u001b[0;32melif\u001b[0m \u001b[0misinstance\u001b[0m\u001b[0;34m(\u001b[0m\u001b[0mdata\u001b[0m\u001b[0;34m,\u001b[0m \u001b[0mABCDataFrame\u001b[0m\u001b[0;34m)\u001b[0m\u001b[0;34m:\u001b[0m\u001b[0;34m\u001b[0m\u001b[0;34m\u001b[0m\u001b[0m\n\u001b[1;32m    307\u001b[0m         \u001b[0;32mraise\u001b[0m \u001b[0mTypeError\u001b[0m\u001b[0;34m(\u001b[0m\u001b[0;34m\"Cannot pass DataFrame to 'pandas.array'\"\u001b[0m\u001b[0;34m)\u001b[0m\u001b[0;34m\u001b[0m\u001b[0;34m\u001b[0m\u001b[0m\n",
      "\u001b[0;31mValueError\u001b[0m: Cannot pass scalar ' fell stair twist ankl' to 'pandas.array'."
     ]
    }
   ],
   "source": [
    "new_pipe.predict(pd.array(text_stemmed), dtype = str)"
   ]
  }
 ],
 "metadata": {
  "kernelspec": {
   "display_name": "Python 3 (ipykernel)",
   "language": "python",
   "name": "python3"
  },
  "language_info": {
   "codemirror_mode": {
    "name": "ipython",
    "version": 3
   },
   "file_extension": ".py",
   "mimetype": "text/x-python",
   "name": "python",
   "nbconvert_exporter": "python",
   "pygments_lexer": "ipython3",
   "version": "3.9.13"
  }
 },
 "nbformat": 4,
 "nbformat_minor": 5
}
