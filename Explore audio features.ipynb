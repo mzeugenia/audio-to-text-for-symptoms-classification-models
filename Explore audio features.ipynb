{
 "cells": [
  {
   "cell_type": "code",
   "execution_count": 1,
   "id": "5b97ec3d",
   "metadata": {},
   "outputs": [],
   "source": [
    "import os\n",
    "import pandas as pd\n",
    "import numpy as np"
   ]
  },
  {
   "cell_type": "code",
   "execution_count": null,
   "id": "8b838b82",
   "metadata": {},
   "outputs": [],
   "source": [
    "#Audio features\n",
    "- length\n",
    "- Length (ms)"
   ]
  },
  {
   "cell_type": "code",
   "execution_count": 2,
   "id": "8ae523b9",
   "metadata": {},
   "outputs": [
    {
     "name": "stdout",
     "output_type": "stream",
     "text": [
      "Channels: 2\n",
      "Sample width: 2\n",
      "Frame rate (sample rate): 44100\n",
      "Frame width: 4\n",
      "Length (ms): 3344\n",
      "Frame count: 147456.0\n",
      "Intensity: -33.93129040731416\n"
     ]
    },
    {
     "name": "stderr",
     "output_type": "stream",
     "text": [
      "/Users/admin/opt/anaconda3/lib/python3.9/site-packages/pydub/utils.py:170: RuntimeWarning: Couldn't find ffmpeg or avconv - defaulting to ffmpeg, but may not work\n",
      "  warn(\"Couldn't find ffmpeg or avconv - defaulting to ffmpeg, but may not work\", RuntimeWarning)\n"
     ]
    }
   ],
   "source": [
    "# Print attributes\n",
    "from pydub import AudioSegment\n",
    "\n",
    "# Load files\n",
    "audio_segment = AudioSegment.from_file(\"/Users/admin/Documents/BC#2/Labs/Week10/speech-recognition/1249120_44246595_76562955.wav\")\n",
    "\n",
    "\n",
    "print(f\"Channels: {audio_segment.channels}\")\n",
    "print(f\"Sample width: {audio_segment.sample_width}\")\n",
    "print(f\"Frame rate (sample rate): {audio_segment.frame_rate}\")\n",
    "print(f\"Frame width: {audio_segment.frame_width}\")\n",
    "print(f\"Length (ms): {len(audio_segment)}\")\n",
    "print(f\"Frame count: {audio_segment.frame_count()}\")\n",
    "print(f\"Intensity: {audio_segment.dBFS}\")"
   ]
  },
  {
   "cell_type": "code",
   "execution_count": 5,
   "id": "5ef57f90",
   "metadata": {},
   "outputs": [
    {
     "name": "stdout",
     "output_type": "stream",
     "text": [
      "Average Noise Level: 0.01438724\n"
     ]
    }
   ],
   "source": [
    "import librosa\n",
    "\n",
    "# Path to the .wav audio file\n",
    "audio_file = \"/Users/admin/Documents/BC#2/Labs/Week10/speech-recognition/1249120_44246595_76562955.wav\"\n",
    "# Load the audio file\n",
    "audio, _ = librosa.load(audio_file, sr=None)\n",
    "\n",
    "# Reshape audio array\n",
    "audio = audio.reshape(1, -1)\n",
    "\n",
    "# Compute noise levels\n",
    "rms = librosa.feature.rms(y=audio)\n",
    "\n",
    "# Get the average noise level across the audio file\n",
    "average_noise_level = np.mean(rms)\n",
    "\n",
    "# Print the average noise level\n",
    "print(\"Average Noise Level:\", average_noise_level)\n"
   ]
  },
  {
   "cell_type": "code",
   "execution_count": 8,
   "id": "338a4e3c",
   "metadata": {},
   "outputs": [
    {
     "data": {
      "text/html": [
       "<div>\n",
       "<style scoped>\n",
       "    .dataframe tbody tr th:only-of-type {\n",
       "        vertical-align: middle;\n",
       "    }\n",
       "\n",
       "    .dataframe tbody tr th {\n",
       "        vertical-align: top;\n",
       "    }\n",
       "\n",
       "    .dataframe thead th {\n",
       "        text-align: right;\n",
       "    }\n",
       "</style>\n",
       "<table border=\"1\" class=\"dataframe\">\n",
       "  <thead>\n",
       "    <tr style=\"text-align: right;\">\n",
       "      <th></th>\n",
       "      <th>audio_clipping</th>\n",
       "      <th>audio_clipping:confidence</th>\n",
       "      <th>background_noise_audible</th>\n",
       "      <th>background_noise_audible:confidence</th>\n",
       "      <th>overall_quality_of_the_audio</th>\n",
       "      <th>quiet_speaker</th>\n",
       "      <th>quiet_speaker:confidence</th>\n",
       "      <th>speaker_id</th>\n",
       "      <th>file_download</th>\n",
       "      <th>file_name</th>\n",
       "      <th>phrase</th>\n",
       "      <th>prompt</th>\n",
       "      <th>writer_id</th>\n",
       "    </tr>\n",
       "  </thead>\n",
       "  <tbody>\n",
       "    <tr>\n",
       "      <th>0</th>\n",
       "      <td>no_clipping</td>\n",
       "      <td>1.0000</td>\n",
       "      <td>light_noise</td>\n",
       "      <td>1.0000</td>\n",
       "      <td>3.33</td>\n",
       "      <td>audible_speaker</td>\n",
       "      <td>1.0</td>\n",
       "      <td>43453425</td>\n",
       "      <td>https://ml.sandbox.cf3.us/cgi-bin/index.cgi?do...</td>\n",
       "      <td>1249120_43453425_58166571.wav</td>\n",
       "      <td>When I remember her I feel down</td>\n",
       "      <td>Emotional pain</td>\n",
       "      <td>21665495</td>\n",
       "    </tr>\n",
       "    <tr>\n",
       "      <th>1</th>\n",
       "      <td>light_clipping</td>\n",
       "      <td>0.6803</td>\n",
       "      <td>no_noise</td>\n",
       "      <td>0.6803</td>\n",
       "      <td>3.33</td>\n",
       "      <td>audible_speaker</td>\n",
       "      <td>1.0</td>\n",
       "      <td>43719934</td>\n",
       "      <td>https://ml.sandbox.cf3.us/cgi-bin/index.cgi?do...</td>\n",
       "      <td>1249120_43719934_43347848.wav</td>\n",
       "      <td>When I carry heavy things I feel like breaking...</td>\n",
       "      <td>Hair falling out</td>\n",
       "      <td>44088126</td>\n",
       "    </tr>\n",
       "    <tr>\n",
       "      <th>2</th>\n",
       "      <td>no_clipping</td>\n",
       "      <td>1.0000</td>\n",
       "      <td>no_noise</td>\n",
       "      <td>0.6655</td>\n",
       "      <td>3.33</td>\n",
       "      <td>audible_speaker</td>\n",
       "      <td>1.0</td>\n",
       "      <td>43719934</td>\n",
       "      <td>https://ml.sandbox.cf3.us/cgi-bin/index.cgi?do...</td>\n",
       "      <td>1249120_43719934_53187202.wav</td>\n",
       "      <td>there is too much pain when i move my arm</td>\n",
       "      <td>Heart hurts</td>\n",
       "      <td>44292353</td>\n",
       "    </tr>\n",
       "    <tr>\n",
       "      <th>3</th>\n",
       "      <td>no_clipping</td>\n",
       "      <td>1.0000</td>\n",
       "      <td>light_noise</td>\n",
       "      <td>1.0000</td>\n",
       "      <td>3.33</td>\n",
       "      <td>audible_speaker</td>\n",
       "      <td>1.0</td>\n",
       "      <td>31349958</td>\n",
       "      <td>https://ml.sandbox.cf3.us/cgi-bin/index.cgi?do...</td>\n",
       "      <td>1249120_31349958_55816195.wav</td>\n",
       "      <td>My son had his lip pierced and it is swollen a...</td>\n",
       "      <td>Infected wound</td>\n",
       "      <td>43755034</td>\n",
       "    </tr>\n",
       "    <tr>\n",
       "      <th>4</th>\n",
       "      <td>no_clipping</td>\n",
       "      <td>1.0000</td>\n",
       "      <td>no_noise</td>\n",
       "      <td>1.0000</td>\n",
       "      <td>4.67</td>\n",
       "      <td>audible_speaker</td>\n",
       "      <td>1.0</td>\n",
       "      <td>43719934</td>\n",
       "      <td>https://ml.sandbox.cf3.us/cgi-bin/index.cgi?do...</td>\n",
       "      <td>1249120_43719934_82524191.wav</td>\n",
       "      <td>My muscles in my lower back are aching</td>\n",
       "      <td>Infected wound</td>\n",
       "      <td>21665495</td>\n",
       "    </tr>\n",
       "  </tbody>\n",
       "</table>\n",
       "</div>"
      ],
      "text/plain": [
       "   audio_clipping  audio_clipping:confidence background_noise_audible   \n",
       "0     no_clipping                     1.0000              light_noise  \\\n",
       "1  light_clipping                     0.6803                 no_noise   \n",
       "2     no_clipping                     1.0000                 no_noise   \n",
       "3     no_clipping                     1.0000              light_noise   \n",
       "4     no_clipping                     1.0000                 no_noise   \n",
       "\n",
       "   background_noise_audible:confidence  overall_quality_of_the_audio   \n",
       "0                               1.0000                          3.33  \\\n",
       "1                               0.6803                          3.33   \n",
       "2                               0.6655                          3.33   \n",
       "3                               1.0000                          3.33   \n",
       "4                               1.0000                          4.67   \n",
       "\n",
       "     quiet_speaker  quiet_speaker:confidence  speaker_id   \n",
       "0  audible_speaker                       1.0    43453425  \\\n",
       "1  audible_speaker                       1.0    43719934   \n",
       "2  audible_speaker                       1.0    43719934   \n",
       "3  audible_speaker                       1.0    31349958   \n",
       "4  audible_speaker                       1.0    43719934   \n",
       "\n",
       "                                       file_download   \n",
       "0  https://ml.sandbox.cf3.us/cgi-bin/index.cgi?do...  \\\n",
       "1  https://ml.sandbox.cf3.us/cgi-bin/index.cgi?do...   \n",
       "2  https://ml.sandbox.cf3.us/cgi-bin/index.cgi?do...   \n",
       "3  https://ml.sandbox.cf3.us/cgi-bin/index.cgi?do...   \n",
       "4  https://ml.sandbox.cf3.us/cgi-bin/index.cgi?do...   \n",
       "\n",
       "                       file_name   \n",
       "0  1249120_43453425_58166571.wav  \\\n",
       "1  1249120_43719934_43347848.wav   \n",
       "2  1249120_43719934_53187202.wav   \n",
       "3  1249120_31349958_55816195.wav   \n",
       "4  1249120_43719934_82524191.wav   \n",
       "\n",
       "                                              phrase            prompt   \n",
       "0                    When I remember her I feel down    Emotional pain  \\\n",
       "1  When I carry heavy things I feel like breaking...  Hair falling out   \n",
       "2          there is too much pain when i move my arm       Heart hurts   \n",
       "3  My son had his lip pierced and it is swollen a...    Infected wound   \n",
       "4             My muscles in my lower back are aching    Infected wound   \n",
       "\n",
       "   writer_id  \n",
       "0   21665495  \n",
       "1   44088126  \n",
       "2   44292353  \n",
       "3   43755034  \n",
       "4   21665495  "
      ]
     },
     "execution_count": 8,
     "metadata": {},
     "output_type": "execute_result"
    }
   ],
   "source": [
    "overview = pd.read_csv(\"overview-of-recordings.csv\")\n",
    "overview.head()"
   ]
  },
  {
   "cell_type": "code",
   "execution_count": 9,
   "id": "d0ebb170",
   "metadata": {},
   "outputs": [
    {
     "data": {
      "text/plain": [
       "Index([5037], dtype='int64')"
      ]
     },
     "execution_count": 9,
     "metadata": {},
     "output_type": "execute_result"
    }
   ],
   "source": [
    "overview.index[overview['file_name']==\"1249120_44246595_76562955.wav\"]"
   ]
  },
  {
   "cell_type": "code",
   "execution_count": 10,
   "id": "1c94857d",
   "metadata": {},
   "outputs": [
    {
     "data": {
      "text/plain": [
       "audio_clipping                                                               no_clipping\n",
       "audio_clipping:confidence                                                            1.0\n",
       "background_noise_audible                                                        no_noise\n",
       "background_noise_audible:confidence                                                  1.0\n",
       "overall_quality_of_the_audio                                                        3.67\n",
       "quiet_speaker                                                            audible_speaker\n",
       "quiet_speaker:confidence                                                             1.0\n",
       "speaker_id                                                                      44246595\n",
       "file_download                          https://ml.sandbox.cf3.us/cgi-bin/index.cgi?do...\n",
       "file_name                                                  1249120_44246595_76562955.wav\n",
       "phrase                                       When I go to stand, my head starts swirling\n",
       "prompt                                                                     Feeling dizzy\n",
       "writer_id                                                                       44164300\n",
       "Name: 5037, dtype: object"
      ]
     },
     "execution_count": 10,
     "metadata": {},
     "output_type": "execute_result"
    }
   ],
   "source": [
    "overview.iloc[5037]"
   ]
  }
 ],
 "metadata": {
  "kernelspec": {
   "display_name": "Python 3 (ipykernel)",
   "language": "python",
   "name": "python3"
  },
  "language_info": {
   "codemirror_mode": {
    "name": "ipython",
    "version": 3
   },
   "file_extension": ".py",
   "mimetype": "text/x-python",
   "name": "python",
   "nbconvert_exporter": "python",
   "pygments_lexer": "ipython3",
   "version": "3.9.13"
  }
 },
 "nbformat": 4,
 "nbformat_minor": 5
}
